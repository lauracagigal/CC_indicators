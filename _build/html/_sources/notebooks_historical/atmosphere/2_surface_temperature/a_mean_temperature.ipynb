{
 "cells": [
  {
   "cell_type": "markdown",
   "metadata": {},
   "source": [
    "# Surface Temperature  \n",
    " \n",
    "```{glue:figure} trend_fig_max_min\n",
    ":scale: 50%\n",
    ":align: right\n",
    "```\n",
    "\n",
    "Highlights  \n",
    "\n",
    "- The Pacific Islands mean temperature over land increased by 1.1°C (2°F) since {glue:text}`start_year:.0f`, whereas in Palau, the records show an increase of {glue:text}`change_mean:.2f` °C from {glue:text}`start_year:.0f` to {glue:text}`end_year:.0f`.\n",
    "\n",
    "- On the other hand, the minimum temperatures show an increasing trend of {glue:text}`trend_min:.3f` °C/year and the maximum temperatures a non signiticative trend of {glue:text}`trend_max:.3f`, making the variability of temperatures within each day to be decreasing at {glue:text}`trend_diff:.2f` °C/year. \n",
    "\n",
    "\n",
    "- The top 10 years on record have occurred since {glue:text}`top_10_year:.0f`. "
   ]
  },
  {
   "cell_type": "code",
   "execution_count": 1,
   "metadata": {
    "tags": [
     "hide-input"
    ]
   },
   "outputs": [],
   "source": [
    "import warnings\n",
    "warnings.filterwarnings(\"ignore\")"
   ]
  },
  {
   "cell_type": "code",
   "execution_count": 2,
   "metadata": {
    "tags": [
     "hide-input"
    ]
   },
   "outputs": [],
   "source": [
    "import os.path as op\n",
    "import sys\n",
    "import contextlib\n",
    "\n",
    "import numpy as np\n",
    "import pandas as pd\n",
    "import matplotlib.pyplot as plt\n",
    "\n",
    "from myst_nb import glue \n",
    "\n",
    "sys.path.append(\"../../../../indicators_setup\")\n",
    "from ind_setup.plotting_int import plot_timeseries_interactive, fig_int_to_glue\n",
    "from ind_setup.plotting import plot_bar_probs, fontsize\n",
    "from ind_setup.tables import get_data_metrics, plot_df_table\n",
    "\n",
    "sys.path.append(\"../../../functions\")\n",
    "from data_downloaders import GHCN"
   ]
  },
  {
   "cell_type": "markdown",
   "metadata": {},
   "source": [
    "## Define location and variables of interest"
   ]
  },
  {
   "cell_type": "code",
   "execution_count": 3,
   "metadata": {},
   "outputs": [],
   "source": [
    "country = 'Palau'\n",
    "vars_interest = ['TMIN', 'TMAX']"
   ]
  },
  {
   "cell_type": "markdown",
   "metadata": {},
   "source": [
    "## Get Data"
   ]
  },
  {
   "cell_type": "code",
   "execution_count": 4,
   "metadata": {},
   "outputs": [],
   "source": [
    "update_data = False\n",
    "path_data = \"../../../data\""
   ]
  },
  {
   "cell_type": "markdown",
   "metadata": {},
   "source": [
    "## Using Koror Station"
   ]
  },
  {
   "cell_type": "markdown",
   "metadata": {},
   "source": [
    "Analysis of how much the maximum and minimum temperatures over time are changing. <br>\n",
    "The analysis of the difference between these 2 variables will allow us to know how the daily variability is being modified"
   ]
  },
  {
   "cell_type": "markdown",
   "metadata": {},
   "source": [
    "https://www.ncei.noaa.gov/data/global-historical-climatology-network-daily/doc/GHCND_documentation.pdf"
   ]
  },
  {
   "cell_type": "code",
   "execution_count": 5,
   "metadata": {
    "tags": [
     "hide",
     "hide-input"
    ]
   },
   "outputs": [],
   "source": [
    "if update_data:\n",
    "    df_country = GHCN.get_country_code(country)\n",
    "    print(f'The GHCN code for {country} is {df_country[\"Code\"].values[0]}')\n",
    "\n",
    "    df_stations = GHCN.download_stations_info()\n",
    "    df_country_stations = df_stations[df_stations['ID'].str.startswith(df_country.Code.values[0])]\n",
    "    print(f'There are {df_country_stations.shape[0]} stations in {country}')"
   ]
  },
  {
   "cell_type": "code",
   "execution_count": 6,
   "metadata": {
    "tags": [
     "hide",
     "hide-input"
    ]
   },
   "outputs": [],
   "source": [
    "if update_data:\n",
    "    GHCND_dir = 'https://www.ncei.noaa.gov/data/global-historical-climatology-network-daily/access/'\n",
    "    id = 'PSW00040309' # Koror Station\n",
    "    dict_min = GHCN.extract_dict_data_var(GHCND_dir, 'TMIN', df_country_stations.loc[df_country_stations['ID'] == id])[0][0]\n",
    "    dict_max = GHCN.extract_dict_data_var(GHCND_dir, 'TMAX', df_country_stations.loc[df_country_stations['ID'] == id])[0][0]\n",
    "    st_data = pd.concat([dict_min['data'], (dict_max['data'])], axis=1).dropna()\n",
    "    st_data['diff'] = st_data['TMAX'] - st_data['TMIN']\n",
    "    st_data['TMEAN'] = (st_data['TMAX'] + st_data['TMIN'])/2\n",
    "    st_data.to_pickle(op.join(path_data, 'GHCN_surface_temperature.pkl'))\n",
    "else:\n",
    "    st_data = pd.read_pickle(op.join(path_data, 'GHCN_surface_temperature.pkl'))"
   ]
  },
  {
   "cell_type": "code",
   "execution_count": 7,
   "metadata": {},
   "outputs": [
    {
     "data": {
      "application/papermill.record/text/plain": "75"
     },
     "metadata": {
      "scrapbook": {
       "mime_prefix": "application/papermill.record/",
       "name": "n_years"
      }
     },
     "output_type": "display_data"
    },
    {
     "data": {
      "application/papermill.record/text/plain": "1951"
     },
     "metadata": {
      "scrapbook": {
       "mime_prefix": "application/papermill.record/",
       "name": "start_year"
      }
     },
     "output_type": "display_data"
    },
    {
     "data": {
      "application/papermill.record/text/plain": "2025"
     },
     "metadata": {
      "scrapbook": {
       "mime_prefix": "application/papermill.record/",
       "name": "end_year"
      }
     },
     "output_type": "display_data"
    }
   ],
   "source": [
    "st_data = st_data.resample('Y').mean()\n",
    "glue(\"n_years\", len(np.unique(st_data.index.year)), display=False)\n",
    "glue(\"start_year\", st_data.dropna().index[0].year, display=False)\n",
    "glue(\"end_year\", st_data.dropna().index[-1].year, display=False)"
   ]
  },
  {
   "cell_type": "markdown",
   "metadata": {},
   "source": [
    "### Mean temperature"
   ]
  },
  {
   "cell_type": "code",
   "execution_count": 8,
   "metadata": {},
   "outputs": [],
   "source": [
    "dict_plot = [{'data' : st_data, 'var' : 'TMEAN', 'ax' : 1, 'label' : 'TMEAN'},\n",
    "        ]"
   ]
  },
  {
   "cell_type": "code",
   "execution_count": 9,
   "metadata": {},
   "outputs": [
    {
     "data": {
      "application/vnd.plotly.v1+json": {
       "config": {
        "plotlyServerURL": "https://plot.ly"
       },
       "data": [
        {
         "line": {
          "color": "#636EFA"
         },
         "name": "TMEAN",
         "type": "scatter",
         "x": [
          "1951-12-31T00:00:00",
          "1952-12-31T00:00:00",
          "1953-12-31T00:00:00",
          "1954-12-31T00:00:00",
          "1955-12-31T00:00:00",
          "1956-12-31T00:00:00",
          "1957-12-31T00:00:00",
          "1958-12-31T00:00:00",
          "1959-12-31T00:00:00",
          "1960-12-31T00:00:00",
          "1961-12-31T00:00:00",
          "1962-12-31T00:00:00",
          "1963-12-31T00:00:00",
          "1964-12-31T00:00:00",
          "1965-12-31T00:00:00",
          "1966-12-31T00:00:00",
          "1967-12-31T00:00:00",
          "1968-12-31T00:00:00",
          "1969-12-31T00:00:00",
          "1970-12-31T00:00:00",
          "1971-12-31T00:00:00",
          "1972-12-31T00:00:00",
          "1973-12-31T00:00:00",
          "1974-12-31T00:00:00",
          "1975-12-31T00:00:00",
          "1976-12-31T00:00:00",
          "1977-12-31T00:00:00",
          "1978-12-31T00:00:00",
          "1979-12-31T00:00:00",
          "1980-12-31T00:00:00",
          "1981-12-31T00:00:00",
          "1982-12-31T00:00:00",
          "1983-12-31T00:00:00",
          "1984-12-31T00:00:00",
          "1985-12-31T00:00:00",
          "1986-12-31T00:00:00",
          "1987-12-31T00:00:00",
          "1988-12-31T00:00:00",
          "1989-12-31T00:00:00",
          "1990-12-31T00:00:00",
          "1991-12-31T00:00:00",
          "1992-12-31T00:00:00",
          "1993-12-31T00:00:00",
          "1994-12-31T00:00:00",
          "1995-12-31T00:00:00",
          "1996-12-31T00:00:00",
          "1997-12-31T00:00:00",
          "1998-12-31T00:00:00",
          "1999-12-31T00:00:00",
          "2000-12-31T00:00:00",
          "2001-12-31T00:00:00",
          "2002-12-31T00:00:00",
          "2003-12-31T00:00:00",
          "2004-12-31T00:00:00",
          "2005-12-31T00:00:00",
          "2006-12-31T00:00:00",
          "2007-12-31T00:00:00",
          "2008-12-31T00:00:00",
          "2009-12-31T00:00:00",
          "2010-12-31T00:00:00",
          "2011-12-31T00:00:00",
          "2012-12-31T00:00:00",
          "2013-12-31T00:00:00",
          "2014-12-31T00:00:00",
          "2015-12-31T00:00:00",
          "2016-12-31T00:00:00",
          "2017-12-31T00:00:00",
          "2018-12-31T00:00:00",
          "2019-12-31T00:00:00",
          "2020-12-31T00:00:00",
          "2021-12-31T00:00:00",
          "2022-12-31T00:00:00",
          "2023-12-31T00:00:00",
          "2024-12-31T00:00:00",
          "2025-12-31T00:00:00"
         ],
         "xaxis": "x",
         "y": [
          27.537499999999998,
          27.371311475409836,
          27.56424657534247,
          28.042465753424658,
          27.249452054794517,
          27.201775956284155,
          27.541780821917808,
          27.736986301369864,
          27.34315068493151,
          27.576092896174863,
          27.270684931506846,
          27.394657534246573,
          27.504794520547946,
          27.3603825136612,
          27.133150684931508,
          27.455890410958904,
          27.51150684931507,
          27.70437158469945,
          27.6327397260274,
          27.82904109589041,
          27.583698630136983,
          27.612704918032787,
          27.82082191780822,
          27.641643835616442,
          27.49890410958904,
          27.650683060109287,
          27.82150684931507,
          27.533835616438356,
          27.54054794520548,
          27.566803278688525,
          27.512602739726027,
          27.57643835616438,
          27.674931506849315,
          27.588387978142077,
          27.423424657534245,
          27.800273972602742,
          27.84767123287671,
          27.914754098360653,
          27.87876712328767,
          27.92986301369863,
          27.588630136986303,
          27.49754098360656,
          27.555068493150685,
          27.684931506849313,
          27.757808219178084,
          27.803551912568306,
          27.83671232876712,
          28.09904109589041,
          27.83917808219178,
          27.806420765027323,
          28.226712328767125,
          28.406438356164383,
          28.139589041095892,
          28.42158469945355,
          28.123561643835618,
          28.25027397260274,
          28.330958904109586,
          27.740163934426228,
          27.668082191780822,
          27.739315068493152,
          27.663561643835617,
          27.86571038251366,
          28.004246575342464,
          28.034657534246573,
          28.29232876712329,
          28.348497267759562,
          28.18931506849315,
          28.352866242038214,
          27.686666666666667,
          27.508394160583943,
          26.681728045325777,
          27.229623287671235,
          27.799113475177307,
          28.00077881619938,
          27.905882352941177
         ],
         "yaxis": "y"
        },
        {
         "line": {
          "color": "black"
         },
         "mode": "lines",
         "name": "Trend (rate = 0.007/year) - Significant (p < 0.05)",
         "showlegend": true,
         "type": "scatter",
         "x": [
          "1951-12-31T00:00:00",
          "1952-12-31T00:00:00",
          "1953-12-31T00:00:00",
          "1954-12-31T00:00:00",
          "1955-12-31T00:00:00",
          "1956-12-31T00:00:00",
          "1957-12-31T00:00:00",
          "1958-12-31T00:00:00",
          "1959-12-31T00:00:00",
          "1960-12-31T00:00:00",
          "1961-12-31T00:00:00",
          "1962-12-31T00:00:00",
          "1963-12-31T00:00:00",
          "1964-12-31T00:00:00",
          "1965-12-31T00:00:00",
          "1966-12-31T00:00:00",
          "1967-12-31T00:00:00",
          "1968-12-31T00:00:00",
          "1969-12-31T00:00:00",
          "1970-12-31T00:00:00",
          "1971-12-31T00:00:00",
          "1972-12-31T00:00:00",
          "1973-12-31T00:00:00",
          "1974-12-31T00:00:00",
          "1975-12-31T00:00:00",
          "1976-12-31T00:00:00",
          "1977-12-31T00:00:00",
          "1978-12-31T00:00:00",
          "1979-12-31T00:00:00",
          "1980-12-31T00:00:00",
          "1981-12-31T00:00:00",
          "1982-12-31T00:00:00",
          "1983-12-31T00:00:00",
          "1984-12-31T00:00:00",
          "1985-12-31T00:00:00",
          "1986-12-31T00:00:00",
          "1987-12-31T00:00:00",
          "1988-12-31T00:00:00",
          "1989-12-31T00:00:00",
          "1990-12-31T00:00:00",
          "1991-12-31T00:00:00",
          "1992-12-31T00:00:00",
          "1993-12-31T00:00:00",
          "1994-12-31T00:00:00",
          "1995-12-31T00:00:00",
          "1996-12-31T00:00:00",
          "1997-12-31T00:00:00",
          "1998-12-31T00:00:00",
          "1999-12-31T00:00:00",
          "2000-12-31T00:00:00",
          "2001-12-31T00:00:00",
          "2002-12-31T00:00:00",
          "2003-12-31T00:00:00",
          "2004-12-31T00:00:00",
          "2005-12-31T00:00:00",
          "2006-12-31T00:00:00",
          "2007-12-31T00:00:00",
          "2008-12-31T00:00:00",
          "2009-12-31T00:00:00",
          "2010-12-31T00:00:00",
          "2011-12-31T00:00:00",
          "2012-12-31T00:00:00",
          "2013-12-31T00:00:00",
          "2014-12-31T00:00:00",
          "2015-12-31T00:00:00",
          "2016-12-31T00:00:00",
          "2017-12-31T00:00:00",
          "2018-12-31T00:00:00",
          "2019-12-31T00:00:00",
          "2020-12-31T00:00:00",
          "2021-12-31T00:00:00",
          "2022-12-31T00:00:00",
          "2023-12-31T00:00:00",
          "2024-12-31T00:00:00",
          "2025-12-31T00:00:00"
         ],
         "xaxis": "x",
         "y": [
          27.462172703042956,
          27.469320928231998,
          27.476449622751126,
          27.483578317270254,
          27.490707011789382,
          27.497855236978424,
          27.504983931497552,
          27.51211262601668,
          27.51924132053581,
          27.52638954572485,
          27.53351824024398,
          27.540646934763107,
          27.547775629282235,
          27.554923854471276,
          27.562052548990405,
          27.569181243509533,
          27.57630993802866,
          27.583458163217706,
          27.59058685773683,
          27.59771555225596,
          27.604844246775087,
          27.611992471964133,
          27.61912116648326,
          27.626249861002385,
          27.633378555521514,
          27.64052678071056,
          27.647655475229687,
          27.654784169748815,
          27.66191286426794,
          27.669061089456985,
          27.676189783976113,
          27.68331847849524,
          27.69044717301437,
          27.69759539820341,
          27.70472409272254,
          27.711852787241668,
          27.718981481760796,
          27.726129706949838,
          27.733258401468966,
          27.740387095988094,
          27.747515790507222,
          27.754664015696264,
          27.761792710215392,
          27.76892140473452,
          27.77605009925365,
          27.78319832444269,
          27.79032701896182,
          27.797455713480947,
          27.804584408000075,
          27.81173263318912,
          27.818861327708245,
          27.825990022227373,
          27.8331187167465,
          27.840266941935546,
          27.847395636454674,
          27.8545243309738,
          27.861653025492927,
          27.868801250681972,
          27.8759299452011,
          27.88305863972023,
          27.890187334239354,
          27.8973355594284,
          27.904464253947527,
          27.911592948466655,
          27.918721642985783,
          27.925869868174825,
          27.932998562693953,
          27.94012725721308,
          27.94725595173221,
          27.95440417692125,
          27.96153287144038,
          27.968661565959508,
          27.975790260478636,
          27.982938485667677,
          27.990067180186806
         ],
         "yaxis": "y"
        }
       ],
       "layout": {
        "height": 480,
        "legend": {
         "font": {
          "size": 12
         },
         "orientation": "h",
         "x": 0.5,
         "xanchor": "center",
         "y": 1.1,
         "yanchor": "bottom"
        },
        "template": {
         "data": {
          "bar": [
           {
            "error_x": {
             "color": "#2a3f5f"
            },
            "error_y": {
             "color": "#2a3f5f"
            },
            "marker": {
             "line": {
              "color": "white",
              "width": 0.5
             },
             "pattern": {
              "fillmode": "overlay",
              "size": 10,
              "solidity": 0.2
             }
            },
            "type": "bar"
           }
          ],
          "barpolar": [
           {
            "marker": {
             "line": {
              "color": "white",
              "width": 0.5
             },
             "pattern": {
              "fillmode": "overlay",
              "size": 10,
              "solidity": 0.2
             }
            },
            "type": "barpolar"
           }
          ],
          "carpet": [
           {
            "aaxis": {
             "endlinecolor": "#2a3f5f",
             "gridcolor": "#C8D4E3",
             "linecolor": "#C8D4E3",
             "minorgridcolor": "#C8D4E3",
             "startlinecolor": "#2a3f5f"
            },
            "baxis": {
             "endlinecolor": "#2a3f5f",
             "gridcolor": "#C8D4E3",
             "linecolor": "#C8D4E3",
             "minorgridcolor": "#C8D4E3",
             "startlinecolor": "#2a3f5f"
            },
            "type": "carpet"
           }
          ],
          "choropleth": [
           {
            "colorbar": {
             "outlinewidth": 0,
             "ticks": ""
            },
            "type": "choropleth"
           }
          ],
          "contour": [
           {
            "colorbar": {
             "outlinewidth": 0,
             "ticks": ""
            },
            "colorscale": [
             [
              0,
              "#0d0887"
             ],
             [
              0.1111111111111111,
              "#46039f"
             ],
             [
              0.2222222222222222,
              "#7201a8"
             ],
             [
              0.3333333333333333,
              "#9c179e"
             ],
             [
              0.4444444444444444,
              "#bd3786"
             ],
             [
              0.5555555555555556,
              "#d8576b"
             ],
             [
              0.6666666666666666,
              "#ed7953"
             ],
             [
              0.7777777777777778,
              "#fb9f3a"
             ],
             [
              0.8888888888888888,
              "#fdca26"
             ],
             [
              1,
              "#f0f921"
             ]
            ],
            "type": "contour"
           }
          ],
          "contourcarpet": [
           {
            "colorbar": {
             "outlinewidth": 0,
             "ticks": ""
            },
            "type": "contourcarpet"
           }
          ],
          "heatmap": [
           {
            "colorbar": {
             "outlinewidth": 0,
             "ticks": ""
            },
            "colorscale": [
             [
              0,
              "#0d0887"
             ],
             [
              0.1111111111111111,
              "#46039f"
             ],
             [
              0.2222222222222222,
              "#7201a8"
             ],
             [
              0.3333333333333333,
              "#9c179e"
             ],
             [
              0.4444444444444444,
              "#bd3786"
             ],
             [
              0.5555555555555556,
              "#d8576b"
             ],
             [
              0.6666666666666666,
              "#ed7953"
             ],
             [
              0.7777777777777778,
              "#fb9f3a"
             ],
             [
              0.8888888888888888,
              "#fdca26"
             ],
             [
              1,
              "#f0f921"
             ]
            ],
            "type": "heatmap"
           }
          ],
          "heatmapgl": [
           {
            "colorbar": {
             "outlinewidth": 0,
             "ticks": ""
            },
            "colorscale": [
             [
              0,
              "#0d0887"
             ],
             [
              0.1111111111111111,
              "#46039f"
             ],
             [
              0.2222222222222222,
              "#7201a8"
             ],
             [
              0.3333333333333333,
              "#9c179e"
             ],
             [
              0.4444444444444444,
              "#bd3786"
             ],
             [
              0.5555555555555556,
              "#d8576b"
             ],
             [
              0.6666666666666666,
              "#ed7953"
             ],
             [
              0.7777777777777778,
              "#fb9f3a"
             ],
             [
              0.8888888888888888,
              "#fdca26"
             ],
             [
              1,
              "#f0f921"
             ]
            ],
            "type": "heatmapgl"
           }
          ],
          "histogram": [
           {
            "marker": {
             "pattern": {
              "fillmode": "overlay",
              "size": 10,
              "solidity": 0.2
             }
            },
            "type": "histogram"
           }
          ],
          "histogram2d": [
           {
            "colorbar": {
             "outlinewidth": 0,
             "ticks": ""
            },
            "colorscale": [
             [
              0,
              "#0d0887"
             ],
             [
              0.1111111111111111,
              "#46039f"
             ],
             [
              0.2222222222222222,
              "#7201a8"
             ],
             [
              0.3333333333333333,
              "#9c179e"
             ],
             [
              0.4444444444444444,
              "#bd3786"
             ],
             [
              0.5555555555555556,
              "#d8576b"
             ],
             [
              0.6666666666666666,
              "#ed7953"
             ],
             [
              0.7777777777777778,
              "#fb9f3a"
             ],
             [
              0.8888888888888888,
              "#fdca26"
             ],
             [
              1,
              "#f0f921"
             ]
            ],
            "type": "histogram2d"
           }
          ],
          "histogram2dcontour": [
           {
            "colorbar": {
             "outlinewidth": 0,
             "ticks": ""
            },
            "colorscale": [
             [
              0,
              "#0d0887"
             ],
             [
              0.1111111111111111,
              "#46039f"
             ],
             [
              0.2222222222222222,
              "#7201a8"
             ],
             [
              0.3333333333333333,
              "#9c179e"
             ],
             [
              0.4444444444444444,
              "#bd3786"
             ],
             [
              0.5555555555555556,
              "#d8576b"
             ],
             [
              0.6666666666666666,
              "#ed7953"
             ],
             [
              0.7777777777777778,
              "#fb9f3a"
             ],
             [
              0.8888888888888888,
              "#fdca26"
             ],
             [
              1,
              "#f0f921"
             ]
            ],
            "type": "histogram2dcontour"
           }
          ],
          "mesh3d": [
           {
            "colorbar": {
             "outlinewidth": 0,
             "ticks": ""
            },
            "type": "mesh3d"
           }
          ],
          "parcoords": [
           {
            "line": {
             "colorbar": {
              "outlinewidth": 0,
              "ticks": ""
             }
            },
            "type": "parcoords"
           }
          ],
          "pie": [
           {
            "automargin": true,
            "type": "pie"
           }
          ],
          "scatter": [
           {
            "fillpattern": {
             "fillmode": "overlay",
             "size": 10,
             "solidity": 0.2
            },
            "type": "scatter"
           }
          ],
          "scatter3d": [
           {
            "line": {
             "colorbar": {
              "outlinewidth": 0,
              "ticks": ""
             }
            },
            "marker": {
             "colorbar": {
              "outlinewidth": 0,
              "ticks": ""
             }
            },
            "type": "scatter3d"
           }
          ],
          "scattercarpet": [
           {
            "marker": {
             "colorbar": {
              "outlinewidth": 0,
              "ticks": ""
             }
            },
            "type": "scattercarpet"
           }
          ],
          "scattergeo": [
           {
            "marker": {
             "colorbar": {
              "outlinewidth": 0,
              "ticks": ""
             }
            },
            "type": "scattergeo"
           }
          ],
          "scattergl": [
           {
            "marker": {
             "colorbar": {
              "outlinewidth": 0,
              "ticks": ""
             }
            },
            "type": "scattergl"
           }
          ],
          "scattermapbox": [
           {
            "marker": {
             "colorbar": {
              "outlinewidth": 0,
              "ticks": ""
             }
            },
            "type": "scattermapbox"
           }
          ],
          "scatterpolar": [
           {
            "marker": {
             "colorbar": {
              "outlinewidth": 0,
              "ticks": ""
             }
            },
            "type": "scatterpolar"
           }
          ],
          "scatterpolargl": [
           {
            "marker": {
             "colorbar": {
              "outlinewidth": 0,
              "ticks": ""
             }
            },
            "type": "scatterpolargl"
           }
          ],
          "scatterternary": [
           {
            "marker": {
             "colorbar": {
              "outlinewidth": 0,
              "ticks": ""
             }
            },
            "type": "scatterternary"
           }
          ],
          "surface": [
           {
            "colorbar": {
             "outlinewidth": 0,
             "ticks": ""
            },
            "colorscale": [
             [
              0,
              "#0d0887"
             ],
             [
              0.1111111111111111,
              "#46039f"
             ],
             [
              0.2222222222222222,
              "#7201a8"
             ],
             [
              0.3333333333333333,
              "#9c179e"
             ],
             [
              0.4444444444444444,
              "#bd3786"
             ],
             [
              0.5555555555555556,
              "#d8576b"
             ],
             [
              0.6666666666666666,
              "#ed7953"
             ],
             [
              0.7777777777777778,
              "#fb9f3a"
             ],
             [
              0.8888888888888888,
              "#fdca26"
             ],
             [
              1,
              "#f0f921"
             ]
            ],
            "type": "surface"
           }
          ],
          "table": [
           {
            "cells": {
             "fill": {
              "color": "#EBF0F8"
             },
             "line": {
              "color": "white"
             }
            },
            "header": {
             "fill": {
              "color": "#C8D4E3"
             },
             "line": {
              "color": "white"
             }
            },
            "type": "table"
           }
          ]
         },
         "layout": {
          "annotationdefaults": {
           "arrowcolor": "#2a3f5f",
           "arrowhead": 0,
           "arrowwidth": 1
          },
          "autotypenumbers": "strict",
          "coloraxis": {
           "colorbar": {
            "outlinewidth": 0,
            "ticks": ""
           }
          },
          "colorscale": {
           "diverging": [
            [
             0,
             "#8e0152"
            ],
            [
             0.1,
             "#c51b7d"
            ],
            [
             0.2,
             "#de77ae"
            ],
            [
             0.3,
             "#f1b6da"
            ],
            [
             0.4,
             "#fde0ef"
            ],
            [
             0.5,
             "#f7f7f7"
            ],
            [
             0.6,
             "#e6f5d0"
            ],
            [
             0.7,
             "#b8e186"
            ],
            [
             0.8,
             "#7fbc41"
            ],
            [
             0.9,
             "#4d9221"
            ],
            [
             1,
             "#276419"
            ]
           ],
           "sequential": [
            [
             0,
             "#0d0887"
            ],
            [
             0.1111111111111111,
             "#46039f"
            ],
            [
             0.2222222222222222,
             "#7201a8"
            ],
            [
             0.3333333333333333,
             "#9c179e"
            ],
            [
             0.4444444444444444,
             "#bd3786"
            ],
            [
             0.5555555555555556,
             "#d8576b"
            ],
            [
             0.6666666666666666,
             "#ed7953"
            ],
            [
             0.7777777777777778,
             "#fb9f3a"
            ],
            [
             0.8888888888888888,
             "#fdca26"
            ],
            [
             1,
             "#f0f921"
            ]
           ],
           "sequentialminus": [
            [
             0,
             "#0d0887"
            ],
            [
             0.1111111111111111,
             "#46039f"
            ],
            [
             0.2222222222222222,
             "#7201a8"
            ],
            [
             0.3333333333333333,
             "#9c179e"
            ],
            [
             0.4444444444444444,
             "#bd3786"
            ],
            [
             0.5555555555555556,
             "#d8576b"
            ],
            [
             0.6666666666666666,
             "#ed7953"
            ],
            [
             0.7777777777777778,
             "#fb9f3a"
            ],
            [
             0.8888888888888888,
             "#fdca26"
            ],
            [
             1,
             "#f0f921"
            ]
           ]
          },
          "colorway": [
           "#636efa",
           "#EF553B",
           "#00cc96",
           "#ab63fa",
           "#FFA15A",
           "#19d3f3",
           "#FF6692",
           "#B6E880",
           "#FF97FF",
           "#FECB52"
          ],
          "font": {
           "color": "#2a3f5f"
          },
          "geo": {
           "bgcolor": "white",
           "lakecolor": "white",
           "landcolor": "white",
           "showlakes": true,
           "showland": true,
           "subunitcolor": "#C8D4E3"
          },
          "hoverlabel": {
           "align": "left"
          },
          "hovermode": "closest",
          "mapbox": {
           "style": "light"
          },
          "paper_bgcolor": "white",
          "plot_bgcolor": "white",
          "polar": {
           "angularaxis": {
            "gridcolor": "#EBF0F8",
            "linecolor": "#EBF0F8",
            "ticks": ""
           },
           "bgcolor": "white",
           "radialaxis": {
            "gridcolor": "#EBF0F8",
            "linecolor": "#EBF0F8",
            "ticks": ""
           }
          },
          "scene": {
           "xaxis": {
            "backgroundcolor": "white",
            "gridcolor": "#DFE8F3",
            "gridwidth": 2,
            "linecolor": "#EBF0F8",
            "showbackground": true,
            "ticks": "",
            "zerolinecolor": "#EBF0F8"
           },
           "yaxis": {
            "backgroundcolor": "white",
            "gridcolor": "#DFE8F3",
            "gridwidth": 2,
            "linecolor": "#EBF0F8",
            "showbackground": true,
            "ticks": "",
            "zerolinecolor": "#EBF0F8"
           },
           "zaxis": {
            "backgroundcolor": "white",
            "gridcolor": "#DFE8F3",
            "gridwidth": 2,
            "linecolor": "#EBF0F8",
            "showbackground": true,
            "ticks": "",
            "zerolinecolor": "#EBF0F8"
           }
          },
          "shapedefaults": {
           "line": {
            "color": "#2a3f5f"
           }
          },
          "ternary": {
           "aaxis": {
            "gridcolor": "#DFE8F3",
            "linecolor": "#A2B1C6",
            "ticks": ""
           },
           "baxis": {
            "gridcolor": "#DFE8F3",
            "linecolor": "#A2B1C6",
            "ticks": ""
           },
           "bgcolor": "white",
           "caxis": {
            "gridcolor": "#DFE8F3",
            "linecolor": "#A2B1C6",
            "ticks": ""
           }
          },
          "title": {
           "x": 0.05
          },
          "xaxis": {
           "automargin": true,
           "gridcolor": "#EBF0F8",
           "linecolor": "#EBF0F8",
           "ticks": "",
           "title": {
            "standoff": 15
           },
           "zerolinecolor": "#EBF0F8",
           "zerolinewidth": 2
          },
          "yaxis": {
           "automargin": true,
           "gridcolor": "#EBF0F8",
           "linecolor": "#EBF0F8",
           "ticks": "",
           "title": {
            "standoff": 15
           },
           "zerolinecolor": "#EBF0F8",
           "zerolinewidth": 2
          }
         }
        },
        "title": {
         "text": " "
        },
        "width": 1000,
        "xaxis": {
         "anchor": "y",
         "domain": [
          0,
          0.94
         ],
         "title": {
          "text": "Time"
         }
        },
        "yaxis": {
         "anchor": "x",
         "domain": [
          0,
          1
         ],
         "title": {
          "text": "TMEAN"
         }
        },
        "yaxis2": {
         "anchor": "x",
         "overlaying": "y",
         "side": "right"
        }
       }
      }
     },
     "metadata": {},
     "output_type": "display_data"
    },
    {
     "data": {
      "application/papermill.record/image/png": "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",
      "application/papermill.record/text/plain": "<PIL.PngImagePlugin.PngImageFile image mode=RGBA size=1000x480>"
     },
     "metadata": {
      "scrapbook": {
       "mime_prefix": "application/papermill.record/",
       "name": "trend_fig_mean"
      }
     },
     "output_type": "display_data"
    }
   ],
   "source": [
    "dict_plot = [{'data' : st_data, 'var' : 'TMEAN', 'ax' : 1, 'label' : 'TMEAN'}]\n",
    "fig = plot_timeseries_interactive(dict_plot, trendline=True, figsize = (25, 12))\n",
    "\n",
    "glue(\"trend_fig_mean\", fig_int_to_glue(fig), display=False)\n"
   ]
  },
  {
   "cell_type": "markdown",
   "metadata": {},
   "source": [
    "**Fig.** Annual maxima corresponding to the mean temperature."
   ]
  },
  {
   "cell_type": "code",
   "execution_count": 10,
   "metadata": {},
   "outputs": [],
   "source": [
    "st_data['TMEAN_ref'] = st_data['TMEAN'] - st_data.loc['1961':'1990'].TMEAN.mean()"
   ]
  },
  {
   "cell_type": "code",
   "execution_count": 11,
   "metadata": {},
   "outputs": [],
   "source": [
    "# import matplotlib.pyplot as plt\n",
    "# plot_bar_probs(x = st_data.index.year, y = st_data.TMEAN_ref, trendline = True, figsize = [15, 4])\n",
    "# plt.title('Temperature anomalies (Over and above 1961 - 1990 reference period)', fontsize = 15);"
   ]
  },
  {
   "cell_type": "code",
   "execution_count": 12,
   "metadata": {},
   "outputs": [],
   "source": [
    "nevents = 10\n",
    "top_10 = st_data.sort_values(by='TMEAN_ref', ascending=False).head(nevents)"
   ]
  },
  {
   "cell_type": "code",
   "execution_count": 13,
   "metadata": {},
   "outputs": [
    {
     "data": {
      "image/png": "[encoded data removed]"
     },
     "metadata": {},
     "output_type": "display_data"
    }
   ],
   "source": [
    "from ind_setup.tables import plot_df_table\n",
    "\n",
    "var = 'TMEAN'\n",
    "df = get_data_metrics(st_data, var, )\n",
    "fig = plot_df_table(df.T, figsize = (300, 400))"
   ]
  },
  {
   "cell_type": "code",
   "execution_count": 14,
   "metadata": {},
   "outputs": [
    {
     "data": {
      "text/html": [
       "<div>\n",
       "<style scoped>\n",
       "    .dataframe tbody tr th:only-of-type {\n",
       "        vertical-align: middle;\n",
       "    }\n",
       "\n",
       "    .dataframe tbody tr th {\n",
       "        vertical-align: top;\n",
       "    }\n",
       "\n",
       "    .dataframe thead th {\n",
       "        text-align: right;\n",
       "    }\n",
       "</style>\n",
       "<table border=\"1\" class=\"dataframe\">\n",
       "  <thead>\n",
       "    <tr style=\"text-align: right;\">\n",
       "      <th></th>\n",
       "      <th>TMIN</th>\n",
       "      <th>TMAX</th>\n",
       "      <th>diff</th>\n",
       "      <th>TMEAN</th>\n",
       "      <th>TMEAN_ref</th>\n",
       "    </tr>\n",
       "    <tr>\n",
       "      <th>DATE</th>\n",
       "      <th></th>\n",
       "      <th></th>\n",
       "      <th></th>\n",
       "      <th></th>\n",
       "      <th></th>\n",
       "    </tr>\n",
       "  </thead>\n",
       "  <tbody>\n",
       "    <tr>\n",
       "      <th>1951-12-31</th>\n",
       "      <td>24.150543</td>\n",
       "      <td>30.924457</td>\n",
       "      <td>6.773913</td>\n",
       "      <td>27.537500</td>\n",
       "      <td>-0.069683</td>\n",
       "    </tr>\n",
       "    <tr>\n",
       "      <th>1952-12-31</th>\n",
       "      <td>23.837978</td>\n",
       "      <td>30.904645</td>\n",
       "      <td>7.066667</td>\n",
       "      <td>27.371311</td>\n",
       "      <td>-0.235871</td>\n",
       "    </tr>\n",
       "    <tr>\n",
       "      <th>1953-12-31</th>\n",
       "      <td>24.088767</td>\n",
       "      <td>31.039726</td>\n",
       "      <td>6.950959</td>\n",
       "      <td>27.564247</td>\n",
       "      <td>-0.042936</td>\n",
       "    </tr>\n",
       "    <tr>\n",
       "      <th>1954-12-31</th>\n",
       "      <td>25.000548</td>\n",
       "      <td>31.084384</td>\n",
       "      <td>6.083836</td>\n",
       "      <td>28.042466</td>\n",
       "      <td>0.435283</td>\n",
       "    </tr>\n",
       "    <tr>\n",
       "      <th>1955-12-31</th>\n",
       "      <td>23.756986</td>\n",
       "      <td>30.741918</td>\n",
       "      <td>6.984932</td>\n",
       "      <td>27.249452</td>\n",
       "      <td>-0.357731</td>\n",
       "    </tr>\n",
       "    <tr>\n",
       "      <th>...</th>\n",
       "      <td>...</td>\n",
       "      <td>...</td>\n",
       "      <td>...</td>\n",
       "      <td>...</td>\n",
       "      <td>...</td>\n",
       "    </tr>\n",
       "    <tr>\n",
       "      <th>2021-12-31</th>\n",
       "      <td>24.745042</td>\n",
       "      <td>28.618414</td>\n",
       "      <td>3.873371</td>\n",
       "      <td>26.681728</td>\n",
       "      <td>-0.925455</td>\n",
       "    </tr>\n",
       "    <tr>\n",
       "      <th>2022-12-31</th>\n",
       "      <td>24.541781</td>\n",
       "      <td>29.917466</td>\n",
       "      <td>5.375685</td>\n",
       "      <td>27.229623</td>\n",
       "      <td>-0.377560</td>\n",
       "    </tr>\n",
       "    <tr>\n",
       "      <th>2023-12-31</th>\n",
       "      <td>25.518440</td>\n",
       "      <td>30.079787</td>\n",
       "      <td>4.561348</td>\n",
       "      <td>27.799113</td>\n",
       "      <td>0.191931</td>\n",
       "    </tr>\n",
       "    <tr>\n",
       "      <th>2024-12-31</th>\n",
       "      <td>25.843614</td>\n",
       "      <td>30.157944</td>\n",
       "      <td>4.314330</td>\n",
       "      <td>28.000779</td>\n",
       "      <td>0.393596</td>\n",
       "    </tr>\n",
       "    <tr>\n",
       "      <th>2025-12-31</th>\n",
       "      <td>25.641176</td>\n",
       "      <td>30.170588</td>\n",
       "      <td>4.529412</td>\n",
       "      <td>27.905882</td>\n",
       "      <td>0.298700</td>\n",
       "    </tr>\n",
       "  </tbody>\n",
       "</table>\n",
       "<p>75 rows × 5 columns</p>\n",
       "</div>"
      ],
      "text/plain": [
       "                 TMIN       TMAX      diff      TMEAN  TMEAN_ref\n",
       "DATE                                                            \n",
       "1951-12-31  24.150543  30.924457  6.773913  27.537500  -0.069683\n",
       "1952-12-31  23.837978  30.904645  7.066667  27.371311  -0.235871\n",
       "1953-12-31  24.088767  31.039726  6.950959  27.564247  -0.042936\n",
       "1954-12-31  25.000548  31.084384  6.083836  28.042466   0.435283\n",
       "1955-12-31  23.756986  30.741918  6.984932  27.249452  -0.357731\n",
       "...               ...        ...       ...        ...        ...\n",
       "2021-12-31  24.745042  28.618414  3.873371  26.681728  -0.925455\n",
       "2022-12-31  24.541781  29.917466  5.375685  27.229623  -0.377560\n",
       "2023-12-31  25.518440  30.079787  4.561348  27.799113   0.191931\n",
       "2024-12-31  25.843614  30.157944  4.314330  28.000779   0.393596\n",
       "2025-12-31  25.641176  30.170588  4.529412  27.905882   0.298700\n",
       "\n",
       "[75 rows x 5 columns]"
      ]
     },
     "execution_count": 14,
     "metadata": {},
     "output_type": "execute_result"
    }
   ],
   "source": [
    "st_data"
   ]
  },
  {
   "cell_type": "code",
   "execution_count": 15,
   "metadata": {
    "tags": [
     "hide",
     "remove-output"
    ]
   },
   "outputs": [
    {
     "data": {
      "application/papermill.record/text/plain": "0.007"
     },
     "metadata": {
      "scrapbook": {
       "mime_prefix": "application/papermill.record/",
       "name": "trend_mean"
      }
     },
     "output_type": "display_data"
    },
    {
     "data": {
      "application/papermill.record/text/plain": "0.525"
     },
     "metadata": {
      "scrapbook": {
       "mime_prefix": "application/papermill.record/",
       "name": "change_mean"
      }
     },
     "output_type": "display_data"
    },
    {
     "data": {
      "application/papermill.record/text/plain": "2001.0"
     },
     "metadata": {
      "scrapbook": {
       "mime_prefix": "application/papermill.record/",
       "name": "top_10_year"
      }
     },
     "output_type": "display_data"
    },
    {
     "data": {
      "application/papermill.record/image/png": "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",
      "application/papermill.record/text/plain": "<Figure size 1500x400 with 2 Axes>"
     },
     "metadata": {
      "scrapbook": {
       "mime_prefix": "application/papermill.record/",
       "name": "trend_fig"
      }
     },
     "output_type": "display_data"
    },
    {
     "data": {
      "image/png": "[encoded data removed]",
      "text/plain": [
       "<Figure size 1500x400 with 2 Axes>"
      ]
     },
     "metadata": {},
     "output_type": "display_data"
    }
   ],
   "source": [
    "fig, ax, trend = plot_bar_probs(x=st_data.index.year, y=st_data.TMEAN_ref, trendline=True,\n",
    "                                y_label='Mean Temperature [°C]', figsize=[15, 4], return_trend=True)\n",
    "\n",
    "glue(\"trend_mean\", float(trend), display=False)\n",
    "glue(\"change_mean\", float(trend * len(np.unique(st_data.index.year))), display=False)\n",
    "glue(\"top_10_year\", float(top_10.sort_index().index.year[0]), display=False)\n",
    "\n",
    "im = ax.scatter(top_10.index.year, top_10.TMEAN_ref, \n",
    "                c=top_10.TMEAN_ref.values, s=100, cmap='rainbow', label='Top 10 warmest years')\n",
    "plt.title('Temperature anomalies (Over and above 1961 - 1990 reference period)', fontsize=15)\n",
    "plt.colorbar(im).set_label('Mean Temperature [°C]', fontsize=fontsize)\n",
    "glue(\"trend_fig\", fig, display=False)\n"
   ]
  },
  {
   "cell_type": "markdown",
   "metadata": {},
   "source": [
    "```{glue:figure} trend_fig\n",
    ":name: \"trend_fig_ST_10\"\n",
    "\n",
    "Annomaly of the mean temperature over and above the 1961-1990 reference period. Overlapping points correspond to the top 10 warmer years.\n",
    "\n",
    "```"
   ]
  },
  {
   "cell_type": "markdown",
   "metadata": {},
   "source": [
    "## Minimum and Maximum Temperatures"
   ]
  },
  {
   "cell_type": "code",
   "execution_count": 16,
   "metadata": {},
   "outputs": [],
   "source": [
    "dict_plot = [{'data' : st_data, 'var' : 'TMIN', 'ax' : 1, 'label' : 'TMIN'},\n",
    "        {'data' : st_data, 'var' : 'TMAX', 'ax' : 2, 'label' : 'TMAX'},\n",
    "        # {'data' : st_data, 'var' : 'diff', 'ax' : 1, 'label' : 'Difference TMAX - TMIN'}\n",
    "        ]"
   ]
  },
  {
   "cell_type": "code",
   "execution_count": 18,
   "metadata": {},
   "outputs": [
    {
     "data": {
      "application/vnd.plotly.v1+json": {
       "config": {
        "plotlyServerURL": "https://plot.ly"
       },
       "data": [
        {
         "line": {
          "color": "#636EFA"
         },
         "name": "TMIN",
         "type": "scatter",
         "x": [
          "1951-12-31T00:00:00",
          "1952-12-31T00:00:00",
          "1953-12-31T00:00:00",
          "1954-12-31T00:00:00",
          "1955-12-31T00:00:00",
          "1956-12-31T00:00:00",
          "1957-12-31T00:00:00",
          "1958-12-31T00:00:00",
          "1959-12-31T00:00:00",
          "1960-12-31T00:00:00",
          "1961-12-31T00:00:00",
          "1962-12-31T00:00:00",
          "1963-12-31T00:00:00",
          "1964-12-31T00:00:00",
          "1965-12-31T00:00:00",
          "1966-12-31T00:00:00",
          "1967-12-31T00:00:00",
          "1968-12-31T00:00:00",
          "1969-12-31T00:00:00",
          "1970-12-31T00:00:00",
          "1971-12-31T00:00:00",
          "1972-12-31T00:00:00",
          "1973-12-31T00:00:00",
          "1974-12-31T00:00:00",
          "1975-12-31T00:00:00",
          "1976-12-31T00:00:00",
          "1977-12-31T00:00:00",
          "1978-12-31T00:00:00",
          "1979-12-31T00:00:00",
          "1980-12-31T00:00:00",
          "1981-12-31T00:00:00",
          "1982-12-31T00:00:00",
          "1983-12-31T00:00:00",
          "1984-12-31T00:00:00",
          "1985-12-31T00:00:00",
          "1986-12-31T00:00:00",
          "1987-12-31T00:00:00",
          "1988-12-31T00:00:00",
          "1989-12-31T00:00:00",
          "1990-12-31T00:00:00",
          "1991-12-31T00:00:00",
          "1992-12-31T00:00:00",
          "1993-12-31T00:00:00",
          "1994-12-31T00:00:00",
          "1995-12-31T00:00:00",
          "1996-12-31T00:00:00",
          "1997-12-31T00:00:00",
          "1998-12-31T00:00:00",
          "1999-12-31T00:00:00",
          "2000-12-31T00:00:00",
          "2001-12-31T00:00:00",
          "2002-12-31T00:00:00",
          "2003-12-31T00:00:00",
          "2004-12-31T00:00:00",
          "2005-12-31T00:00:00",
          "2006-12-31T00:00:00",
          "2007-12-31T00:00:00",
          "2008-12-31T00:00:00",
          "2009-12-31T00:00:00",
          "2010-12-31T00:00:00",
          "2011-12-31T00:00:00",
          "2012-12-31T00:00:00",
          "2013-12-31T00:00:00",
          "2014-12-31T00:00:00",
          "2015-12-31T00:00:00",
          "2016-12-31T00:00:00",
          "2017-12-31T00:00:00",
          "2018-12-31T00:00:00",
          "2019-12-31T00:00:00",
          "2020-12-31T00:00:00",
          "2021-12-31T00:00:00",
          "2022-12-31T00:00:00",
          "2023-12-31T00:00:00",
          "2024-12-31T00:00:00",
          "2025-12-31T00:00:00"
         ],
         "xaxis": "x",
         "y": [
          24.150543478260868,
          23.837978142076505,
          24.08876712328767,
          25.000547945205476,
          23.75698630136986,
          23.867486338797814,
          24.234246575342464,
          24.435616438356163,
          24.11698630136986,
          24.275683060109287,
          24.148219178082194,
          24.225205479452057,
          24.275342465753425,
          24.13606557377049,
          24.07780821917808,
          24.222465753424654,
          24.27972602739726,
          24.329234972677597,
          24.39945205479452,
          24.522465753424658,
          24.212876712328768,
          24.241256830601092,
          24.312328767123287,
          24.18712328767123,
          24.021369863013696,
          24.355464480874318,
          24.521643835616437,
          24.128493150684932,
          24.038904109589044,
          24.04207650273224,
          23.999452054794517,
          24.378082191780823,
          24.25041095890411,
          24.0775956284153,
          23.903013698630136,
          24.33479452054795,
          24.33808219178082,
          24.387704918032785,
          24.36794520547945,
          24.541917808219175,
          24.25095890410959,
          24.01775956284153,
          24.072328767123288,
          24.224657534246575,
          24.051232876712326,
          24.156830601092896,
          24.195068493150686,
          24.094246575342464,
          24.03917808219178,
          23.87295081967213,
          24.736164383561647,
          24.945479452054794,
          24.75260273972603,
          25.112021857923498,
          24.638904109589042,
          24.84109589041096,
          24.81287671232877,
          24.537431693989074,
          24.51945205479452,
          24.277260273972605,
          24.64876712328767,
          24.840710382513663,
          24.726301369863016,
          24.997260273972604,
          25.00986301369863,
          25.08415300546448,
          25,
          25.222292993630575,
          24.5,
          25.13175182481752,
          24.745042492917847,
          24.541780821917808,
          25.518439716312056,
          25.84361370716511,
          25.64117647058824
         ],
         "yaxis": "y"
        },
        {
         "line": {
          "color": "black"
         },
         "mode": "lines",
         "name": "Trend (rate = 0.013/year) - Significant (p < 0.05)",
         "showlegend": true,
         "type": "scatter",
         "x": [
          "1951-12-31T00:00:00",
          "1952-12-31T00:00:00",
          "1953-12-31T00:00:00",
          "1954-12-31T00:00:00",
          "1955-12-31T00:00:00",
          "1956-12-31T00:00:00",
          "1957-12-31T00:00:00",
          "1958-12-31T00:00:00",
          "1959-12-31T00:00:00",
          "1960-12-31T00:00:00",
          "1961-12-31T00:00:00",
          "1962-12-31T00:00:00",
          "1963-12-31T00:00:00",
          "1964-12-31T00:00:00",
          "1965-12-31T00:00:00",
          "1966-12-31T00:00:00",
          "1967-12-31T00:00:00",
          "1968-12-31T00:00:00",
          "1969-12-31T00:00:00",
          "1970-12-31T00:00:00",
          "1971-12-31T00:00:00",
          "1972-12-31T00:00:00",
          "1973-12-31T00:00:00",
          "1974-12-31T00:00:00",
          "1975-12-31T00:00:00",
          "1976-12-31T00:00:00",
          "1977-12-31T00:00:00",
          "1978-12-31T00:00:00",
          "1979-12-31T00:00:00",
          "1980-12-31T00:00:00",
          "1981-12-31T00:00:00",
          "1982-12-31T00:00:00",
          "1983-12-31T00:00:00",
          "1984-12-31T00:00:00",
          "1985-12-31T00:00:00",
          "1986-12-31T00:00:00",
          "1987-12-31T00:00:00",
          "1988-12-31T00:00:00",
          "1989-12-31T00:00:00",
          "1990-12-31T00:00:00",
          "1991-12-31T00:00:00",
          "1992-12-31T00:00:00",
          "1993-12-31T00:00:00",
          "1994-12-31T00:00:00",
          "1995-12-31T00:00:00",
          "1996-12-31T00:00:00",
          "1997-12-31T00:00:00",
          "1998-12-31T00:00:00",
          "1999-12-31T00:00:00",
          "2000-12-31T00:00:00",
          "2001-12-31T00:00:00",
          "2002-12-31T00:00:00",
          "2003-12-31T00:00:00",
          "2004-12-31T00:00:00",
          "2005-12-31T00:00:00",
          "2006-12-31T00:00:00",
          "2007-12-31T00:00:00",
          "2008-12-31T00:00:00",
          "2009-12-31T00:00:00",
          "2010-12-31T00:00:00",
          "2011-12-31T00:00:00",
          "2012-12-31T00:00:00",
          "2013-12-31T00:00:00",
          "2014-12-31T00:00:00",
          "2015-12-31T00:00:00",
          "2016-12-31T00:00:00",
          "2017-12-31T00:00:00",
          "2018-12-31T00:00:00",
          "2019-12-31T00:00:00",
          "2020-12-31T00:00:00",
          "2021-12-31T00:00:00",
          "2022-12-31T00:00:00",
          "2023-12-31T00:00:00",
          "2024-12-31T00:00:00",
          "2025-12-31T00:00:00"
         ],
         "xaxis": "x",
         "y": [
          23.948655731913668,
          23.961825357438038,
          23.97495900037901,
          23.98809264331998,
          24.001226286260952,
          24.01439591178532,
          24.027529554726293,
          24.040663197667264,
          24.053796840608232,
          24.066966466132605,
          24.080100109073577,
          24.093233752014548,
          24.106367394955516,
          24.11953702047989,
          24.13267066342086,
          24.14580430636183,
          24.1589379493028,
          24.172107574827173,
          24.185241217768144,
          24.198374860709112,
          24.211508503650084,
          24.224678129174457,
          24.237811772115425,
          24.250945415056396,
          24.264079057997368,
          24.27724868352174,
          24.29038232646271,
          24.30351596940368,
          24.31664961234465,
          24.32981923786902,
          24.342952880809992,
          24.356086523750964,
          24.369220166691935,
          24.382389792216305,
          24.395523435157276,
          24.408657078098248,
          24.42179072103922,
          24.43496034656359,
          24.44809398950456,
          24.46122763244553,
          24.474361275386503,
          24.487530900910873,
          24.500664543851844,
          24.513798186792815,
          24.526931829733787,
          24.540101455258156,
          24.553235098199128,
          24.5663687411401,
          24.57950238408107,
          24.59267200960544,
          24.60580565254641,
          24.618939295487383,
          24.632072938428355,
          24.645242563952724,
          24.658376206893696,
          24.671509849834667,
          24.68464349277564,
          24.697813118300008,
          24.71094676124098,
          24.72408040418195,
          24.737214047122922,
          24.750383672647292,
          24.763517315588263,
          24.776650958529235,
          24.789784601470206,
          24.802954226994576,
          24.816087869935547,
          24.82922151287652,
          24.842355155817486,
          24.85552478134186,
          24.86865842428283,
          24.881792067223802,
          24.89492571016477,
          24.908095335689143,
          24.921228978630115
         ],
         "yaxis": "y"
        },
        {
         "line": {
          "color": "#EF553B"
         },
         "name": "TMAX",
         "type": "scatter",
         "x": [
          "1951-12-31T00:00:00",
          "1952-12-31T00:00:00",
          "1953-12-31T00:00:00",
          "1954-12-31T00:00:00",
          "1955-12-31T00:00:00",
          "1956-12-31T00:00:00",
          "1957-12-31T00:00:00",
          "1958-12-31T00:00:00",
          "1959-12-31T00:00:00",
          "1960-12-31T00:00:00",
          "1961-12-31T00:00:00",
          "1962-12-31T00:00:00",
          "1963-12-31T00:00:00",
          "1964-12-31T00:00:00",
          "1965-12-31T00:00:00",
          "1966-12-31T00:00:00",
          "1967-12-31T00:00:00",
          "1968-12-31T00:00:00",
          "1969-12-31T00:00:00",
          "1970-12-31T00:00:00",
          "1971-12-31T00:00:00",
          "1972-12-31T00:00:00",
          "1973-12-31T00:00:00",
          "1974-12-31T00:00:00",
          "1975-12-31T00:00:00",
          "1976-12-31T00:00:00",
          "1977-12-31T00:00:00",
          "1978-12-31T00:00:00",
          "1979-12-31T00:00:00",
          "1980-12-31T00:00:00",
          "1981-12-31T00:00:00",
          "1982-12-31T00:00:00",
          "1983-12-31T00:00:00",
          "1984-12-31T00:00:00",
          "1985-12-31T00:00:00",
          "1986-12-31T00:00:00",
          "1987-12-31T00:00:00",
          "1988-12-31T00:00:00",
          "1989-12-31T00:00:00",
          "1990-12-31T00:00:00",
          "1991-12-31T00:00:00",
          "1992-12-31T00:00:00",
          "1993-12-31T00:00:00",
          "1994-12-31T00:00:00",
          "1995-12-31T00:00:00",
          "1996-12-31T00:00:00",
          "1997-12-31T00:00:00",
          "1998-12-31T00:00:00",
          "1999-12-31T00:00:00",
          "2000-12-31T00:00:00",
          "2001-12-31T00:00:00",
          "2002-12-31T00:00:00",
          "2003-12-31T00:00:00",
          "2004-12-31T00:00:00",
          "2005-12-31T00:00:00",
          "2006-12-31T00:00:00",
          "2007-12-31T00:00:00",
          "2008-12-31T00:00:00",
          "2009-12-31T00:00:00",
          "2010-12-31T00:00:00",
          "2011-12-31T00:00:00",
          "2012-12-31T00:00:00",
          "2013-12-31T00:00:00",
          "2014-12-31T00:00:00",
          "2015-12-31T00:00:00",
          "2016-12-31T00:00:00",
          "2017-12-31T00:00:00",
          "2018-12-31T00:00:00",
          "2019-12-31T00:00:00",
          "2020-12-31T00:00:00",
          "2021-12-31T00:00:00",
          "2022-12-31T00:00:00",
          "2023-12-31T00:00:00",
          "2024-12-31T00:00:00",
          "2025-12-31T00:00:00"
         ],
         "xaxis": "x",
         "y": [
          30.92445652173913,
          30.90464480874317,
          31.03972602739726,
          31.08438356164384,
          30.74191780821918,
          30.536065573770493,
          30.84931506849315,
          31.03835616438356,
          30.56931506849315,
          30.87650273224044,
          30.393150684931506,
          30.564109589041095,
          30.734246575342464,
          30.584699453551913,
          30.18849315068493,
          30.68931506849315,
          30.74328767123288,
          31.079508196721314,
          30.866027397260275,
          31.135616438356163,
          30.954520547945204,
          30.98415300546448,
          31.329315068493152,
          31.096164383561646,
          30.976438356164383,
          30.945901639344264,
          31.1213698630137,
          30.939178082191784,
          31.042191780821916,
          31.09153005464481,
          31.025753424657534,
          30.774794520547943,
          31.099452054794522,
          31.099180327868854,
          30.943835616438356,
          31.265753424657536,
          31.357260273972603,
          31.441803278688525,
          31.389589041095892,
          31.317808219178083,
          30.926301369863015,
          30.977322404371588,
          31.037808219178086,
          31.145205479452056,
          31.464383561643835,
          31.450273224043713,
          31.478356164383563,
          32.10383561643835,
          31.63917808219178,
          31.73989071038251,
          31.717260273972602,
          31.867397260273975,
          31.526575342465755,
          31.731147540983606,
          31.60821917808219,
          31.65945205479452,
          31.84904109589041,
          30.94289617486339,
          30.816712328767125,
          31.2013698630137,
          30.678356164383562,
          30.89071038251366,
          31.28219178082192,
          31.072054794520547,
          31.574794520547943,
          31.61284153005464,
          31.378630136986303,
          31.483439490445857,
          30.873333333333335,
          29.885036496350367,
          28.61841359773371,
          29.917465753424658,
          30.079787234042552,
          30.157943925233646,
          30.170588235294115
         ],
         "yaxis": "y2"
        },
        {
         "line": {
          "color": "black",
          "dash": "dot"
         },
         "mode": "lines",
         "name": "Trend (rate = 0.001/year) - Not Significant (p > 0.05)",
         "showlegend": true,
         "type": "scatter",
         "x": [
          "1951-12-31T00:00:00",
          "1952-12-31T00:00:00",
          "1953-12-31T00:00:00",
          "1954-12-31T00:00:00",
          "1955-12-31T00:00:00",
          "1956-12-31T00:00:00",
          "1957-12-31T00:00:00",
          "1958-12-31T00:00:00",
          "1959-12-31T00:00:00",
          "1960-12-31T00:00:00",
          "1961-12-31T00:00:00",
          "1962-12-31T00:00:00",
          "1963-12-31T00:00:00",
          "1964-12-31T00:00:00",
          "1965-12-31T00:00:00",
          "1966-12-31T00:00:00",
          "1967-12-31T00:00:00",
          "1968-12-31T00:00:00",
          "1969-12-31T00:00:00",
          "1970-12-31T00:00:00",
          "1971-12-31T00:00:00",
          "1972-12-31T00:00:00",
          "1973-12-31T00:00:00",
          "1974-12-31T00:00:00",
          "1975-12-31T00:00:00",
          "1976-12-31T00:00:00",
          "1977-12-31T00:00:00",
          "1978-12-31T00:00:00",
          "1979-12-31T00:00:00",
          "1980-12-31T00:00:00",
          "1981-12-31T00:00:00",
          "1982-12-31T00:00:00",
          "1983-12-31T00:00:00",
          "1984-12-31T00:00:00",
          "1985-12-31T00:00:00",
          "1986-12-31T00:00:00",
          "1987-12-31T00:00:00",
          "1988-12-31T00:00:00",
          "1989-12-31T00:00:00",
          "1990-12-31T00:00:00",
          "1991-12-31T00:00:00",
          "1992-12-31T00:00:00",
          "1993-12-31T00:00:00",
          "1994-12-31T00:00:00",
          "1995-12-31T00:00:00",
          "1996-12-31T00:00:00",
          "1997-12-31T00:00:00",
          "1998-12-31T00:00:00",
          "1999-12-31T00:00:00",
          "2000-12-31T00:00:00",
          "2001-12-31T00:00:00",
          "2002-12-31T00:00:00",
          "2003-12-31T00:00:00",
          "2004-12-31T00:00:00",
          "2005-12-31T00:00:00",
          "2006-12-31T00:00:00",
          "2007-12-31T00:00:00",
          "2008-12-31T00:00:00",
          "2009-12-31T00:00:00",
          "2010-12-31T00:00:00",
          "2011-12-31T00:00:00",
          "2012-12-31T00:00:00",
          "2013-12-31T00:00:00",
          "2014-12-31T00:00:00",
          "2015-12-31T00:00:00",
          "2016-12-31T00:00:00",
          "2017-12-31T00:00:00",
          "2018-12-31T00:00:00",
          "2019-12-31T00:00:00",
          "2020-12-31T00:00:00",
          "2021-12-31T00:00:00",
          "2022-12-31T00:00:00",
          "2023-12-31T00:00:00",
          "2024-12-31T00:00:00",
          "2025-12-31T00:00:00"
         ],
         "xaxis": "x",
         "y": [
          30.975689674172234,
          30.976816499025947,
          30.977940245123232,
          30.979063991220517,
          30.980187737317802,
          30.98131456217152,
          30.982438308268804,
          30.98356205436609,
          30.984685800463375,
          30.985812625317088,
          30.986936371414373,
          30.988060117511658,
          30.989183863608943,
          30.99031068846266,
          30.991434434559945,
          30.99255818065723,
          30.993681926754515,
          30.99480875160823,
          30.995932497705514,
          30.9970562438028,
          30.998179989900084,
          30.9993068147538,
          31.000430560851086,
          31.00155430694837,
          31.002678053045656,
          31.00380487789937,
          31.004928623996655,
          31.00605237009394,
          31.007176116191225,
          31.008302941044942,
          31.009426687142227,
          31.010550433239512,
          31.011674179336797,
          31.01280100419051,
          31.013924750287796,
          31.01504849638508,
          31.016172242482366,
          31.017299067336083,
          31.018422813433368,
          31.019546559530653,
          31.020670305627938,
          31.02179713048165,
          31.022920876578937,
          31.02404462267622,
          31.025168368773507,
          31.026295193627224,
          31.02741893972451,
          31.028542685821794,
          31.02966643191908,
          31.030793256772792,
          31.031917002870077,
          31.033040748967363,
          31.034164495064648,
          31.035291319918365,
          31.03641506601565,
          31.037538812112935,
          31.03866255821022,
          31.039789383063933,
          31.04091312916122,
          31.042036875258503,
          31.04316062135579,
          31.044287446209506,
          31.04541119230679,
          31.046534938404076,
          31.04765868450136,
          31.048785509355074,
          31.04990925545236,
          31.051033001549644,
          31.05215674764693,
          31.053283572500646,
          31.05440731859793,
          31.055531064695217,
          31.0566548107925,
          31.057781635646215,
          31.0589053817435
         ],
         "yaxis": "y2"
        }
       ],
       "layout": {
        "height": 440,
        "legend": {
         "font": {
          "size": 12
         },
         "orientation": "h",
         "x": 0.5,
         "xanchor": "center",
         "y": 1.1,
         "yanchor": "bottom"
        },
        "template": {
         "data": {
          "bar": [
           {
            "error_x": {
             "color": "#2a3f5f"
            },
            "error_y": {
             "color": "#2a3f5f"
            },
            "marker": {
             "line": {
              "color": "white",
              "width": 0.5
             },
             "pattern": {
              "fillmode": "overlay",
              "size": 10,
              "solidity": 0.2
             }
            },
            "type": "bar"
           }
          ],
          "barpolar": [
           {
            "marker": {
             "line": {
              "color": "white",
              "width": 0.5
             },
             "pattern": {
              "fillmode": "overlay",
              "size": 10,
              "solidity": 0.2
             }
            },
            "type": "barpolar"
           }
          ],
          "carpet": [
           {
            "aaxis": {
             "endlinecolor": "#2a3f5f",
             "gridcolor": "#C8D4E3",
             "linecolor": "#C8D4E3",
             "minorgridcolor": "#C8D4E3",
             "startlinecolor": "#2a3f5f"
            },
            "baxis": {
             "endlinecolor": "#2a3f5f",
             "gridcolor": "#C8D4E3",
             "linecolor": "#C8D4E3",
             "minorgridcolor": "#C8D4E3",
             "startlinecolor": "#2a3f5f"
            },
            "type": "carpet"
           }
          ],
          "choropleth": [
           {
            "colorbar": {
             "outlinewidth": 0,
             "ticks": ""
            },
            "type": "choropleth"
           }
          ],
          "contour": [
           {
            "colorbar": {
             "outlinewidth": 0,
             "ticks": ""
            },
            "colorscale": [
             [
              0,
              "#0d0887"
             ],
             [
              0.1111111111111111,
              "#46039f"
             ],
             [
              0.2222222222222222,
              "#7201a8"
             ],
             [
              0.3333333333333333,
              "#9c179e"
             ],
             [
              0.4444444444444444,
              "#bd3786"
             ],
             [
              0.5555555555555556,
              "#d8576b"
             ],
             [
              0.6666666666666666,
              "#ed7953"
             ],
             [
              0.7777777777777778,
              "#fb9f3a"
             ],
             [
              0.8888888888888888,
              "#fdca26"
             ],
             [
              1,
              "#f0f921"
             ]
            ],
            "type": "contour"
           }
          ],
          "contourcarpet": [
           {
            "colorbar": {
             "outlinewidth": 0,
             "ticks": ""
            },
            "type": "contourcarpet"
           }
          ],
          "heatmap": [
           {
            "colorbar": {
             "outlinewidth": 0,
             "ticks": ""
            },
            "colorscale": [
             [
              0,
              "#0d0887"
             ],
             [
              0.1111111111111111,
              "#46039f"
             ],
             [
              0.2222222222222222,
              "#7201a8"
             ],
             [
              0.3333333333333333,
              "#9c179e"
             ],
             [
              0.4444444444444444,
              "#bd3786"
             ],
             [
              0.5555555555555556,
              "#d8576b"
             ],
             [
              0.6666666666666666,
              "#ed7953"
             ],
             [
              0.7777777777777778,
              "#fb9f3a"
             ],
             [
              0.8888888888888888,
              "#fdca26"
             ],
             [
              1,
              "#f0f921"
             ]
            ],
            "type": "heatmap"
           }
          ],
          "heatmapgl": [
           {
            "colorbar": {
             "outlinewidth": 0,
             "ticks": ""
            },
            "colorscale": [
             [
              0,
              "#0d0887"
             ],
             [
              0.1111111111111111,
              "#46039f"
             ],
             [
              0.2222222222222222,
              "#7201a8"
             ],
             [
              0.3333333333333333,
              "#9c179e"
             ],
             [
              0.4444444444444444,
              "#bd3786"
             ],
             [
              0.5555555555555556,
              "#d8576b"
             ],
             [
              0.6666666666666666,
              "#ed7953"
             ],
             [
              0.7777777777777778,
              "#fb9f3a"
             ],
             [
              0.8888888888888888,
              "#fdca26"
             ],
             [
              1,
              "#f0f921"
             ]
            ],
            "type": "heatmapgl"
           }
          ],
          "histogram": [
           {
            "marker": {
             "pattern": {
              "fillmode": "overlay",
              "size": 10,
              "solidity": 0.2
             }
            },
            "type": "histogram"
           }
          ],
          "histogram2d": [
           {
            "colorbar": {
             "outlinewidth": 0,
             "ticks": ""
            },
            "colorscale": [
             [
              0,
              "#0d0887"
             ],
             [
              0.1111111111111111,
              "#46039f"
             ],
             [
              0.2222222222222222,
              "#7201a8"
             ],
             [
              0.3333333333333333,
              "#9c179e"
             ],
             [
              0.4444444444444444,
              "#bd3786"
             ],
             [
              0.5555555555555556,
              "#d8576b"
             ],
             [
              0.6666666666666666,
              "#ed7953"
             ],
             [
              0.7777777777777778,
              "#fb9f3a"
             ],
             [
              0.8888888888888888,
              "#fdca26"
             ],
             [
              1,
              "#f0f921"
             ]
            ],
            "type": "histogram2d"
           }
          ],
          "histogram2dcontour": [
           {
            "colorbar": {
             "outlinewidth": 0,
             "ticks": ""
            },
            "colorscale": [
             [
              0,
              "#0d0887"
             ],
             [
              0.1111111111111111,
              "#46039f"
             ],
             [
              0.2222222222222222,
              "#7201a8"
             ],
             [
              0.3333333333333333,
              "#9c179e"
             ],
             [
              0.4444444444444444,
              "#bd3786"
             ],
             [
              0.5555555555555556,
              "#d8576b"
             ],
             [
              0.6666666666666666,
              "#ed7953"
             ],
             [
              0.7777777777777778,
              "#fb9f3a"
             ],
             [
              0.8888888888888888,
              "#fdca26"
             ],
             [
              1,
              "#f0f921"
             ]
            ],
            "type": "histogram2dcontour"
           }
          ],
          "mesh3d": [
           {
            "colorbar": {
             "outlinewidth": 0,
             "ticks": ""
            },
            "type": "mesh3d"
           }
          ],
          "parcoords": [
           {
            "line": {
             "colorbar": {
              "outlinewidth": 0,
              "ticks": ""
             }
            },
            "type": "parcoords"
           }
          ],
          "pie": [
           {
            "automargin": true,
            "type": "pie"
           }
          ],
          "scatter": [
           {
            "fillpattern": {
             "fillmode": "overlay",
             "size": 10,
             "solidity": 0.2
            },
            "type": "scatter"
           }
          ],
          "scatter3d": [
           {
            "line": {
             "colorbar": {
              "outlinewidth": 0,
              "ticks": ""
             }
            },
            "marker": {
             "colorbar": {
              "outlinewidth": 0,
              "ticks": ""
             }
            },
            "type": "scatter3d"
           }
          ],
          "scattercarpet": [
           {
            "marker": {
             "colorbar": {
              "outlinewidth": 0,
              "ticks": ""
             }
            },
            "type": "scattercarpet"
           }
          ],
          "scattergeo": [
           {
            "marker": {
             "colorbar": {
              "outlinewidth": 0,
              "ticks": ""
             }
            },
            "type": "scattergeo"
           }
          ],
          "scattergl": [
           {
            "marker": {
             "colorbar": {
              "outlinewidth": 0,
              "ticks": ""
             }
            },
            "type": "scattergl"
           }
          ],
          "scattermapbox": [
           {
            "marker": {
             "colorbar": {
              "outlinewidth": 0,
              "ticks": ""
             }
            },
            "type": "scattermapbox"
           }
          ],
          "scatterpolar": [
           {
            "marker": {
             "colorbar": {
              "outlinewidth": 0,
              "ticks": ""
             }
            },
            "type": "scatterpolar"
           }
          ],
          "scatterpolargl": [
           {
            "marker": {
             "colorbar": {
              "outlinewidth": 0,
              "ticks": ""
             }
            },
            "type": "scatterpolargl"
           }
          ],
          "scatterternary": [
           {
            "marker": {
             "colorbar": {
              "outlinewidth": 0,
              "ticks": ""
             }
            },
            "type": "scatterternary"
           }
          ],
          "surface": [
           {
            "colorbar": {
             "outlinewidth": 0,
             "ticks": ""
            },
            "colorscale": [
             [
              0,
              "#0d0887"
             ],
             [
              0.1111111111111111,
              "#46039f"
             ],
             [
              0.2222222222222222,
              "#7201a8"
             ],
             [
              0.3333333333333333,
              "#9c179e"
             ],
             [
              0.4444444444444444,
              "#bd3786"
             ],
             [
              0.5555555555555556,
              "#d8576b"
             ],
             [
              0.6666666666666666,
              "#ed7953"
             ],
             [
              0.7777777777777778,
              "#fb9f3a"
             ],
             [
              0.8888888888888888,
              "#fdca26"
             ],
             [
              1,
              "#f0f921"
             ]
            ],
            "type": "surface"
           }
          ],
          "table": [
           {
            "cells": {
             "fill": {
              "color": "#EBF0F8"
             },
             "line": {
              "color": "white"
             }
            },
            "header": {
             "fill": {
              "color": "#C8D4E3"
             },
             "line": {
              "color": "white"
             }
            },
            "type": "table"
           }
          ]
         },
         "layout": {
          "annotationdefaults": {
           "arrowcolor": "#2a3f5f",
           "arrowhead": 0,
           "arrowwidth": 1
          },
          "autotypenumbers": "strict",
          "coloraxis": {
           "colorbar": {
            "outlinewidth": 0,
            "ticks": ""
           }
          },
          "colorscale": {
           "diverging": [
            [
             0,
             "#8e0152"
            ],
            [
             0.1,
             "#c51b7d"
            ],
            [
             0.2,
             "#de77ae"
            ],
            [
             0.3,
             "#f1b6da"
            ],
            [
             0.4,
             "#fde0ef"
            ],
            [
             0.5,
             "#f7f7f7"
            ],
            [
             0.6,
             "#e6f5d0"
            ],
            [
             0.7,
             "#b8e186"
            ],
            [
             0.8,
             "#7fbc41"
            ],
            [
             0.9,
             "#4d9221"
            ],
            [
             1,
             "#276419"
            ]
           ],
           "sequential": [
            [
             0,
             "#0d0887"
            ],
            [
             0.1111111111111111,
             "#46039f"
            ],
            [
             0.2222222222222222,
             "#7201a8"
            ],
            [
             0.3333333333333333,
             "#9c179e"
            ],
            [
             0.4444444444444444,
             "#bd3786"
            ],
            [
             0.5555555555555556,
             "#d8576b"
            ],
            [
             0.6666666666666666,
             "#ed7953"
            ],
            [
             0.7777777777777778,
             "#fb9f3a"
            ],
            [
             0.8888888888888888,
             "#fdca26"
            ],
            [
             1,
             "#f0f921"
            ]
           ],
           "sequentialminus": [
            [
             0,
             "#0d0887"
            ],
            [
             0.1111111111111111,
             "#46039f"
            ],
            [
             0.2222222222222222,
             "#7201a8"
            ],
            [
             0.3333333333333333,
             "#9c179e"
            ],
            [
             0.4444444444444444,
             "#bd3786"
            ],
            [
             0.5555555555555556,
             "#d8576b"
            ],
            [
             0.6666666666666666,
             "#ed7953"
            ],
            [
             0.7777777777777778,
             "#fb9f3a"
            ],
            [
             0.8888888888888888,
             "#fdca26"
            ],
            [
             1,
             "#f0f921"
            ]
           ]
          },
          "colorway": [
           "#636efa",
           "#EF553B",
           "#00cc96",
           "#ab63fa",
           "#FFA15A",
           "#19d3f3",
           "#FF6692",
           "#B6E880",
           "#FF97FF",
           "#FECB52"
          ],
          "font": {
           "color": "#2a3f5f"
          },
          "geo": {
           "bgcolor": "white",
           "lakecolor": "white",
           "landcolor": "white",
           "showlakes": true,
           "showland": true,
           "subunitcolor": "#C8D4E3"
          },
          "hoverlabel": {
           "align": "left"
          },
          "hovermode": "closest",
          "mapbox": {
           "style": "light"
          },
          "paper_bgcolor": "white",
          "plot_bgcolor": "white",
          "polar": {
           "angularaxis": {
            "gridcolor": "#EBF0F8",
            "linecolor": "#EBF0F8",
            "ticks": ""
           },
           "bgcolor": "white",
           "radialaxis": {
            "gridcolor": "#EBF0F8",
            "linecolor": "#EBF0F8",
            "ticks": ""
           }
          },
          "scene": {
           "xaxis": {
            "backgroundcolor": "white",
            "gridcolor": "#DFE8F3",
            "gridwidth": 2,
            "linecolor": "#EBF0F8",
            "showbackground": true,
            "ticks": "",
            "zerolinecolor": "#EBF0F8"
           },
           "yaxis": {
            "backgroundcolor": "white",
            "gridcolor": "#DFE8F3",
            "gridwidth": 2,
            "linecolor": "#EBF0F8",
            "showbackground": true,
            "ticks": "",
            "zerolinecolor": "#EBF0F8"
           },
           "zaxis": {
            "backgroundcolor": "white",
            "gridcolor": "#DFE8F3",
            "gridwidth": 2,
            "linecolor": "#EBF0F8",
            "showbackground": true,
            "ticks": "",
            "zerolinecolor": "#EBF0F8"
           }
          },
          "shapedefaults": {
           "line": {
            "color": "#2a3f5f"
           }
          },
          "ternary": {
           "aaxis": {
            "gridcolor": "#DFE8F3",
            "linecolor": "#A2B1C6",
            "ticks": ""
           },
           "baxis": {
            "gridcolor": "#DFE8F3",
            "linecolor": "#A2B1C6",
            "ticks": ""
           },
           "bgcolor": "white",
           "caxis": {
            "gridcolor": "#DFE8F3",
            "linecolor": "#A2B1C6",
            "ticks": ""
           }
          },
          "title": {
           "x": 0.05
          },
          "xaxis": {
           "automargin": true,
           "gridcolor": "#EBF0F8",
           "linecolor": "#EBF0F8",
           "ticks": "",
           "title": {
            "standoff": 15
           },
           "zerolinecolor": "#EBF0F8",
           "zerolinewidth": 2
          },
          "yaxis": {
           "automargin": true,
           "gridcolor": "#EBF0F8",
           "linecolor": "#EBF0F8",
           "ticks": "",
           "title": {
            "standoff": 15
           },
           "zerolinecolor": "#EBF0F8",
           "zerolinewidth": 2
          }
         }
        },
        "title": {
         "text": " "
        },
        "width": 960,
        "xaxis": {
         "anchor": "y",
         "domain": [
          0,
          0.94
         ],
         "title": {
          "text": "Time"
         }
        },
        "yaxis": {
         "anchor": "x",
         "domain": [
          0,
          1
         ],
         "title": {
          "text": "TMIN"
         }
        },
        "yaxis2": {
         "anchor": "x",
         "overlaying": "y",
         "side": "right",
         "title": {
          "text": "TMAX"
         }
        }
       }
      }
     },
     "metadata": {},
     "output_type": "display_data"
    },
    {
     "data": {
      "application/papermill.record/text/plain": "0.013"
     },
     "metadata": {
      "scrapbook": {
       "mime_prefix": "application/papermill.record/",
       "name": "trend_min"
      }
     },
     "output_type": "display_data"
    },
    {
     "data": {
      "application/papermill.record/text/plain": "0.001"
     },
     "metadata": {
      "scrapbook": {
       "mime_prefix": "application/papermill.record/",
       "name": "trend_max"
      }
     },
     "output_type": "display_data"
    },
    {
     "data": {
      "application/papermill.record/text/plain": "0.975"
     },
     "metadata": {
      "scrapbook": {
       "mime_prefix": "application/papermill.record/",
       "name": "change_min"
      }
     },
     "output_type": "display_data"
    },
    {
     "data": {
      "application/papermill.record/text/plain": "0.075"
     },
     "metadata": {
      "scrapbook": {
       "mime_prefix": "application/papermill.record/",
       "name": "change_max"
      }
     },
     "output_type": "display_data"
    },
    {
     "data": {
      "application/papermill.record/image/png": "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",
      "application/papermill.record/text/plain": "<PIL.PngImagePlugin.PngImageFile image mode=RGBA size=960x440>"
     },
     "metadata": {
      "scrapbook": {
       "mime_prefix": "application/papermill.record/",
       "name": "trend_fig_max_min"
      }
     },
     "output_type": "display_data"
    }
   ],
   "source": [
    "fig, TRENDS = plot_timeseries_interactive(dict_plot, trendline=True, figsize = (24, 11), return_trend = True)\n",
    "fig.write_html(op.join(path_data, 'figures', 'F3_ST_min_max.html'), include_plotlyjs=\"cdn\")\n",
    "\n",
    "glue(\"trend_min\", float(TRENDS[0]), display=False)\n",
    "glue(\"trend_max\", float(TRENDS[1]), display=False)\n",
    "\n",
    "glue(\"change_min\", float(TRENDS[0]*len(np.unique(st_data.index.year))), display=False)\n",
    "glue(\"change_max\", float(TRENDS[1]*len(np.unique(st_data.index.year))), display=False)\n",
    "\n",
    "glue(\"trend_fig_max_min\", fig_int_to_glue(fig), display=False)"
   ]
  },
  {
   "cell_type": "markdown",
   "metadata": {},
   "source": [
    "**Fig.** Annual maximum (red) and minimum (blue) temperature at Koror. The solid black line represents the trend, which is  statistically significant (p < 0.05).  The dashed black line represents a trend that is not statistically significant.  "
   ]
  },
  {
   "cell_type": "raw",
   "metadata": {},
   "source": [
    "```{glue:figure} trend_fig_max_min\n",
    ":name: \"trend_fig_ST\"\n",
    "\n",
    "Annual maximum (red) and minimum (blue) temperature at Koror. The solid black line represents the trend, which is  statistically significant (p < 0.05).  The dashed black line represents a trend that is not statistically significant.  \n",
    "\n",
    "```"
   ]
  },
  {
   "cell_type": "code",
   "execution_count": 18,
   "metadata": {},
   "outputs": [
    {
     "data": {
      "image/png": "[encoded data removed]"
     },
     "metadata": {},
     "output_type": "display_data"
    }
   ],
   "source": [
    "var = 'TMIN'\n",
    "df = get_data_metrics(st_data, var, )\n",
    "fig = plot_df_table(df.T, figsize = (300, 400))"
   ]
  },
  {
   "cell_type": "code",
   "execution_count": 19,
   "metadata": {},
   "outputs": [
    {
     "data": {
      "image/png": "[encoded data removed]"
     },
     "metadata": {},
     "output_type": "display_data"
    }
   ],
   "source": [
    "var = 'TMAX'\n",
    "df = get_data_metrics(st_data, var, )\n",
    "fig = plot_df_table(df.T, figsize = (300, 400))"
   ]
  },
  {
   "cell_type": "markdown",
   "metadata": {},
   "source": [
    "## Difference temperature"
   ]
  },
  {
   "cell_type": "code",
   "execution_count": 20,
   "metadata": {},
   "outputs": [
    {
     "data": {
      "application/vnd.plotly.v1+json": {
       "config": {
        "plotlyServerURL": "https://plot.ly"
       },
       "data": [
        {
         "line": {
          "color": "#636EFA"
         },
         "name": "Difference TMAX - TMIN",
         "type": "scatter",
         "x": [
          "1951-12-31T00:00:00",
          "1952-12-31T00:00:00",
          "1953-12-31T00:00:00",
          "1954-12-31T00:00:00",
          "1955-12-31T00:00:00",
          "1956-12-31T00:00:00",
          "1957-12-31T00:00:00",
          "1958-12-31T00:00:00",
          "1959-12-31T00:00:00",
          "1960-12-31T00:00:00",
          "1961-12-31T00:00:00",
          "1962-12-31T00:00:00",
          "1963-12-31T00:00:00",
          "1964-12-31T00:00:00",
          "1965-12-31T00:00:00",
          "1966-12-31T00:00:00",
          "1967-12-31T00:00:00",
          "1968-12-31T00:00:00",
          "1969-12-31T00:00:00",
          "1970-12-31T00:00:00",
          "1971-12-31T00:00:00",
          "1972-12-31T00:00:00",
          "1973-12-31T00:00:00",
          "1974-12-31T00:00:00",
          "1975-12-31T00:00:00",
          "1976-12-31T00:00:00",
          "1977-12-31T00:00:00",
          "1978-12-31T00:00:00",
          "1979-12-31T00:00:00",
          "1980-12-31T00:00:00",
          "1981-12-31T00:00:00",
          "1982-12-31T00:00:00",
          "1983-12-31T00:00:00",
          "1984-12-31T00:00:00",
          "1985-12-31T00:00:00",
          "1986-12-31T00:00:00",
          "1987-12-31T00:00:00",
          "1988-12-31T00:00:00",
          "1989-12-31T00:00:00",
          "1990-12-31T00:00:00",
          "1991-12-31T00:00:00",
          "1992-12-31T00:00:00",
          "1993-12-31T00:00:00",
          "1994-12-31T00:00:00",
          "1995-12-31T00:00:00",
          "1996-12-31T00:00:00",
          "1997-12-31T00:00:00",
          "1998-12-31T00:00:00",
          "1999-12-31T00:00:00",
          "2000-12-31T00:00:00",
          "2001-12-31T00:00:00",
          "2002-12-31T00:00:00",
          "2003-12-31T00:00:00",
          "2004-12-31T00:00:00",
          "2005-12-31T00:00:00",
          "2006-12-31T00:00:00",
          "2007-12-31T00:00:00",
          "2008-12-31T00:00:00",
          "2009-12-31T00:00:00",
          "2010-12-31T00:00:00",
          "2011-12-31T00:00:00",
          "2012-12-31T00:00:00",
          "2013-12-31T00:00:00",
          "2014-12-31T00:00:00",
          "2015-12-31T00:00:00",
          "2016-12-31T00:00:00",
          "2017-12-31T00:00:00",
          "2018-12-31T00:00:00",
          "2019-12-31T00:00:00",
          "2020-12-31T00:00:00",
          "2021-12-31T00:00:00",
          "2022-12-31T00:00:00",
          "2023-12-31T00:00:00",
          "2024-12-31T00:00:00",
          "2025-12-31T00:00:00"
         ],
         "xaxis": "x",
         "y": [
          6.773913043478262,
          7.066666666666668,
          6.95095890410959,
          6.083835616438357,
          6.984931506849317,
          6.668579234972678,
          6.6150684931506865,
          6.602739726027399,
          6.452328767123289,
          6.600819672131149,
          6.2449315068493165,
          6.338904109589042,
          6.458904109589042,
          6.448633879781421,
          6.110684931506849,
          6.466849315068495,
          6.463561643835617,
          6.750273224043717,
          6.466575342465754,
          6.613150684931509,
          6.741643835616439,
          6.7428961748633895,
          7.0169863013698635,
          6.909041095890411,
          6.955068493150686,
          6.590437158469946,
          6.599726027397262,
          6.8106849315068505,
          7.0032876712328775,
          7.04945355191257,
          7.026301369863015,
          6.396712328767124,
          6.849041095890413,
          7.021584699453554,
          7.040821917808221,
          6.930958904109591,
          7.019178082191782,
          7.054098360655738,
          7.02164383561644,
          6.775890410958905,
          6.675342465753426,
          6.959562841530055,
          6.965479452054796,
          6.920547945205481,
          7.413150684931507,
          7.29344262295082,
          7.283287671232877,
          8.009589041095891,
          7.6,
          7.866939890710383,
          6.981095890410959,
          6.921917808219178,
          6.773972602739726,
          6.619125683060109,
          6.9693150684931515,
          6.8183561643835615,
          7.036164383561643,
          6.405464480874318,
          6.297260273972604,
          6.924109589041096,
          6.029589041095891,
          6.050000000000001,
          6.555890410958904,
          6.074794520547946,
          6.564931506849316,
          6.528688524590164,
          6.3786301369863025,
          6.261146496815287,
          6.373333333333334,
          4.753284671532846,
          3.873371104815864,
          5.375684931506849,
          4.561347517730496,
          4.314330218068536,
          4.529411764705882
         ],
         "yaxis": "y"
        },
        {
         "line": {
          "color": "black"
         },
         "mode": "lines",
         "name": "Trend (rate = -0.012/year) - Significant (p < 0.05)",
         "showlegend": true,
         "type": "scatter",
         "x": [
          "1951-12-31T00:00:00",
          "1952-12-31T00:00:00",
          "1953-12-31T00:00:00",
          "1954-12-31T00:00:00",
          "1955-12-31T00:00:00",
          "1956-12-31T00:00:00",
          "1957-12-31T00:00:00",
          "1958-12-31T00:00:00",
          "1959-12-31T00:00:00",
          "1960-12-31T00:00:00",
          "1961-12-31T00:00:00",
          "1962-12-31T00:00:00",
          "1963-12-31T00:00:00",
          "1964-12-31T00:00:00",
          "1965-12-31T00:00:00",
          "1966-12-31T00:00:00",
          "1967-12-31T00:00:00",
          "1968-12-31T00:00:00",
          "1969-12-31T00:00:00",
          "1970-12-31T00:00:00",
          "1971-12-31T00:00:00",
          "1972-12-31T00:00:00",
          "1973-12-31T00:00:00",
          "1974-12-31T00:00:00",
          "1975-12-31T00:00:00",
          "1976-12-31T00:00:00",
          "1977-12-31T00:00:00",
          "1978-12-31T00:00:00",
          "1979-12-31T00:00:00",
          "1980-12-31T00:00:00",
          "1981-12-31T00:00:00",
          "1982-12-31T00:00:00",
          "1983-12-31T00:00:00",
          "1984-12-31T00:00:00",
          "1985-12-31T00:00:00",
          "1986-12-31T00:00:00",
          "1987-12-31T00:00:00",
          "1988-12-31T00:00:00",
          "1989-12-31T00:00:00",
          "1990-12-31T00:00:00",
          "1991-12-31T00:00:00",
          "1992-12-31T00:00:00",
          "1993-12-31T00:00:00",
          "1994-12-31T00:00:00",
          "1995-12-31T00:00:00",
          "1996-12-31T00:00:00",
          "1997-12-31T00:00:00",
          "1998-12-31T00:00:00",
          "1999-12-31T00:00:00",
          "2000-12-31T00:00:00",
          "2001-12-31T00:00:00",
          "2002-12-31T00:00:00",
          "2003-12-31T00:00:00",
          "2004-12-31T00:00:00",
          "2005-12-31T00:00:00",
          "2006-12-31T00:00:00",
          "2007-12-31T00:00:00",
          "2008-12-31T00:00:00",
          "2009-12-31T00:00:00",
          "2010-12-31T00:00:00",
          "2011-12-31T00:00:00",
          "2012-12-31T00:00:00",
          "2013-12-31T00:00:00",
          "2014-12-31T00:00:00",
          "2015-12-31T00:00:00",
          "2016-12-31T00:00:00",
          "2017-12-31T00:00:00",
          "2018-12-31T00:00:00",
          "2019-12-31T00:00:00",
          "2020-12-31T00:00:00",
          "2021-12-31T00:00:00",
          "2022-12-31T00:00:00",
          "2023-12-31T00:00:00",
          "2024-12-31T00:00:00",
          "2025-12-31T00:00:00"
         ],
         "xaxis": "x",
         "y": [
          7.027033942258568,
          7.014991141587913,
          7.002981244744228,
          6.990971347900541,
          6.978961451056856,
          6.966918650386201,
          6.954908753542514,
          6.942898856698829,
          6.930888959855142,
          6.918846159184487,
          6.906836262340802,
          6.894826365497115,
          6.88281646865343,
          6.870773667982775,
          6.858763771139089,
          6.846753874295403,
          6.8347439774517165,
          6.822701176781062,
          6.810691279937376,
          6.79868138309369,
          6.786671486250004,
          6.774628685579349,
          6.762618788735663,
          6.750608891891977,
          6.738598995048291,
          6.726556194377636,
          6.71454629753395,
          6.702536400690264,
          6.690526503846578,
          6.678483703175924,
          6.666473806332237,
          6.654463909488551,
          6.6424540126448655,
          6.63041121197421,
          6.618401315130525,
          6.606391418286838,
          6.594381521443153,
          6.582338720772498,
          6.570328823928811,
          6.558318927085126,
          6.5463090302414395,
          6.534266229570784,
          6.522256332727099,
          6.5102464358834125,
          6.498236539039727,
          6.486193738369072,
          6.474183841525386,
          6.4621739446817,
          6.450164047838014,
          6.438121247167359,
          6.426111350323673,
          6.414101453479987,
          6.402091556636301,
          6.390048755965646,
          6.37803885912196,
          6.366028962278274,
          6.3540190654345885,
          6.341976264763933,
          6.329966367920247,
          6.317956471076561,
          6.305946574232875,
          6.293903773562221,
          6.281893876718534,
          6.269883979874848,
          6.2578740830311625,
          6.245831282360507,
          6.233821385516821,
          6.2218114886731355,
          6.20980159182945,
          6.197758791158795,
          6.185748894315108,
          6.173738997471423,
          6.161729100627737,
          6.149686299957081,
          6.137676403113396
         ],
         "yaxis": "y"
        }
       ],
       "layout": {
        "height": 480,
        "legend": {
         "font": {
          "size": 12
         },
         "orientation": "h",
         "x": 0.5,
         "xanchor": "center",
         "y": 1.1,
         "yanchor": "bottom"
        },
        "template": {
         "data": {
          "bar": [
           {
            "error_x": {
             "color": "#2a3f5f"
            },
            "error_y": {
             "color": "#2a3f5f"
            },
            "marker": {
             "line": {
              "color": "white",
              "width": 0.5
             },
             "pattern": {
              "fillmode": "overlay",
              "size": 10,
              "solidity": 0.2
             }
            },
            "type": "bar"
           }
          ],
          "barpolar": [
           {
            "marker": {
             "line": {
              "color": "white",
              "width": 0.5
             },
             "pattern": {
              "fillmode": "overlay",
              "size": 10,
              "solidity": 0.2
             }
            },
            "type": "barpolar"
           }
          ],
          "carpet": [
           {
            "aaxis": {
             "endlinecolor": "#2a3f5f",
             "gridcolor": "#C8D4E3",
             "linecolor": "#C8D4E3",
             "minorgridcolor": "#C8D4E3",
             "startlinecolor": "#2a3f5f"
            },
            "baxis": {
             "endlinecolor": "#2a3f5f",
             "gridcolor": "#C8D4E3",
             "linecolor": "#C8D4E3",
             "minorgridcolor": "#C8D4E3",
             "startlinecolor": "#2a3f5f"
            },
            "type": "carpet"
           }
          ],
          "choropleth": [
           {
            "colorbar": {
             "outlinewidth": 0,
             "ticks": ""
            },
            "type": "choropleth"
           }
          ],
          "contour": [
           {
            "colorbar": {
             "outlinewidth": 0,
             "ticks": ""
            },
            "colorscale": [
             [
              0,
              "#0d0887"
             ],
             [
              0.1111111111111111,
              "#46039f"
             ],
             [
              0.2222222222222222,
              "#7201a8"
             ],
             [
              0.3333333333333333,
              "#9c179e"
             ],
             [
              0.4444444444444444,
              "#bd3786"
             ],
             [
              0.5555555555555556,
              "#d8576b"
             ],
             [
              0.6666666666666666,
              "#ed7953"
             ],
             [
              0.7777777777777778,
              "#fb9f3a"
             ],
             [
              0.8888888888888888,
              "#fdca26"
             ],
             [
              1,
              "#f0f921"
             ]
            ],
            "type": "contour"
           }
          ],
          "contourcarpet": [
           {
            "colorbar": {
             "outlinewidth": 0,
             "ticks": ""
            },
            "type": "contourcarpet"
           }
          ],
          "heatmap": [
           {
            "colorbar": {
             "outlinewidth": 0,
             "ticks": ""
            },
            "colorscale": [
             [
              0,
              "#0d0887"
             ],
             [
              0.1111111111111111,
              "#46039f"
             ],
             [
              0.2222222222222222,
              "#7201a8"
             ],
             [
              0.3333333333333333,
              "#9c179e"
             ],
             [
              0.4444444444444444,
              "#bd3786"
             ],
             [
              0.5555555555555556,
              "#d8576b"
             ],
             [
              0.6666666666666666,
              "#ed7953"
             ],
             [
              0.7777777777777778,
              "#fb9f3a"
             ],
             [
              0.8888888888888888,
              "#fdca26"
             ],
             [
              1,
              "#f0f921"
             ]
            ],
            "type": "heatmap"
           }
          ],
          "heatmapgl": [
           {
            "colorbar": {
             "outlinewidth": 0,
             "ticks": ""
            },
            "colorscale": [
             [
              0,
              "#0d0887"
             ],
             [
              0.1111111111111111,
              "#46039f"
             ],
             [
              0.2222222222222222,
              "#7201a8"
             ],
             [
              0.3333333333333333,
              "#9c179e"
             ],
             [
              0.4444444444444444,
              "#bd3786"
             ],
             [
              0.5555555555555556,
              "#d8576b"
             ],
             [
              0.6666666666666666,
              "#ed7953"
             ],
             [
              0.7777777777777778,
              "#fb9f3a"
             ],
             [
              0.8888888888888888,
              "#fdca26"
             ],
             [
              1,
              "#f0f921"
             ]
            ],
            "type": "heatmapgl"
           }
          ],
          "histogram": [
           {
            "marker": {
             "pattern": {
              "fillmode": "overlay",
              "size": 10,
              "solidity": 0.2
             }
            },
            "type": "histogram"
           }
          ],
          "histogram2d": [
           {
            "colorbar": {
             "outlinewidth": 0,
             "ticks": ""
            },
            "colorscale": [
             [
              0,
              "#0d0887"
             ],
             [
              0.1111111111111111,
              "#46039f"
             ],
             [
              0.2222222222222222,
              "#7201a8"
             ],
             [
              0.3333333333333333,
              "#9c179e"
             ],
             [
              0.4444444444444444,
              "#bd3786"
             ],
             [
              0.5555555555555556,
              "#d8576b"
             ],
             [
              0.6666666666666666,
              "#ed7953"
             ],
             [
              0.7777777777777778,
              "#fb9f3a"
             ],
             [
              0.8888888888888888,
              "#fdca26"
             ],
             [
              1,
              "#f0f921"
             ]
            ],
            "type": "histogram2d"
           }
          ],
          "histogram2dcontour": [
           {
            "colorbar": {
             "outlinewidth": 0,
             "ticks": ""
            },
            "colorscale": [
             [
              0,
              "#0d0887"
             ],
             [
              0.1111111111111111,
              "#46039f"
             ],
             [
              0.2222222222222222,
              "#7201a8"
             ],
             [
              0.3333333333333333,
              "#9c179e"
             ],
             [
              0.4444444444444444,
              "#bd3786"
             ],
             [
              0.5555555555555556,
              "#d8576b"
             ],
             [
              0.6666666666666666,
              "#ed7953"
             ],
             [
              0.7777777777777778,
              "#fb9f3a"
             ],
             [
              0.8888888888888888,
              "#fdca26"
             ],
             [
              1,
              "#f0f921"
             ]
            ],
            "type": "histogram2dcontour"
           }
          ],
          "mesh3d": [
           {
            "colorbar": {
             "outlinewidth": 0,
             "ticks": ""
            },
            "type": "mesh3d"
           }
          ],
          "parcoords": [
           {
            "line": {
             "colorbar": {
              "outlinewidth": 0,
              "ticks": ""
             }
            },
            "type": "parcoords"
           }
          ],
          "pie": [
           {
            "automargin": true,
            "type": "pie"
           }
          ],
          "scatter": [
           {
            "fillpattern": {
             "fillmode": "overlay",
             "size": 10,
             "solidity": 0.2
            },
            "type": "scatter"
           }
          ],
          "scatter3d": [
           {
            "line": {
             "colorbar": {
              "outlinewidth": 0,
              "ticks": ""
             }
            },
            "marker": {
             "colorbar": {
              "outlinewidth": 0,
              "ticks": ""
             }
            },
            "type": "scatter3d"
           }
          ],
          "scattercarpet": [
           {
            "marker": {
             "colorbar": {
              "outlinewidth": 0,
              "ticks": ""
             }
            },
            "type": "scattercarpet"
           }
          ],
          "scattergeo": [
           {
            "marker": {
             "colorbar": {
              "outlinewidth": 0,
              "ticks": ""
             }
            },
            "type": "scattergeo"
           }
          ],
          "scattergl": [
           {
            "marker": {
             "colorbar": {
              "outlinewidth": 0,
              "ticks": ""
             }
            },
            "type": "scattergl"
           }
          ],
          "scattermapbox": [
           {
            "marker": {
             "colorbar": {
              "outlinewidth": 0,
              "ticks": ""
             }
            },
            "type": "scattermapbox"
           }
          ],
          "scatterpolar": [
           {
            "marker": {
             "colorbar": {
              "outlinewidth": 0,
              "ticks": ""
             }
            },
            "type": "scatterpolar"
           }
          ],
          "scatterpolargl": [
           {
            "marker": {
             "colorbar": {
              "outlinewidth": 0,
              "ticks": ""
             }
            },
            "type": "scatterpolargl"
           }
          ],
          "scatterternary": [
           {
            "marker": {
             "colorbar": {
              "outlinewidth": 0,
              "ticks": ""
             }
            },
            "type": "scatterternary"
           }
          ],
          "surface": [
           {
            "colorbar": {
             "outlinewidth": 0,
             "ticks": ""
            },
            "colorscale": [
             [
              0,
              "#0d0887"
             ],
             [
              0.1111111111111111,
              "#46039f"
             ],
             [
              0.2222222222222222,
              "#7201a8"
             ],
             [
              0.3333333333333333,
              "#9c179e"
             ],
             [
              0.4444444444444444,
              "#bd3786"
             ],
             [
              0.5555555555555556,
              "#d8576b"
             ],
             [
              0.6666666666666666,
              "#ed7953"
             ],
             [
              0.7777777777777778,
              "#fb9f3a"
             ],
             [
              0.8888888888888888,
              "#fdca26"
             ],
             [
              1,
              "#f0f921"
             ]
            ],
            "type": "surface"
           }
          ],
          "table": [
           {
            "cells": {
             "fill": {
              "color": "#EBF0F8"
             },
             "line": {
              "color": "white"
             }
            },
            "header": {
             "fill": {
              "color": "#C8D4E3"
             },
             "line": {
              "color": "white"
             }
            },
            "type": "table"
           }
          ]
         },
         "layout": {
          "annotationdefaults": {
           "arrowcolor": "#2a3f5f",
           "arrowhead": 0,
           "arrowwidth": 1
          },
          "autotypenumbers": "strict",
          "coloraxis": {
           "colorbar": {
            "outlinewidth": 0,
            "ticks": ""
           }
          },
          "colorscale": {
           "diverging": [
            [
             0,
             "#8e0152"
            ],
            [
             0.1,
             "#c51b7d"
            ],
            [
             0.2,
             "#de77ae"
            ],
            [
             0.3,
             "#f1b6da"
            ],
            [
             0.4,
             "#fde0ef"
            ],
            [
             0.5,
             "#f7f7f7"
            ],
            [
             0.6,
             "#e6f5d0"
            ],
            [
             0.7,
             "#b8e186"
            ],
            [
             0.8,
             "#7fbc41"
            ],
            [
             0.9,
             "#4d9221"
            ],
            [
             1,
             "#276419"
            ]
           ],
           "sequential": [
            [
             0,
             "#0d0887"
            ],
            [
             0.1111111111111111,
             "#46039f"
            ],
            [
             0.2222222222222222,
             "#7201a8"
            ],
            [
             0.3333333333333333,
             "#9c179e"
            ],
            [
             0.4444444444444444,
             "#bd3786"
            ],
            [
             0.5555555555555556,
             "#d8576b"
            ],
            [
             0.6666666666666666,
             "#ed7953"
            ],
            [
             0.7777777777777778,
             "#fb9f3a"
            ],
            [
             0.8888888888888888,
             "#fdca26"
            ],
            [
             1,
             "#f0f921"
            ]
           ],
           "sequentialminus": [
            [
             0,
             "#0d0887"
            ],
            [
             0.1111111111111111,
             "#46039f"
            ],
            [
             0.2222222222222222,
             "#7201a8"
            ],
            [
             0.3333333333333333,
             "#9c179e"
            ],
            [
             0.4444444444444444,
             "#bd3786"
            ],
            [
             0.5555555555555556,
             "#d8576b"
            ],
            [
             0.6666666666666666,
             "#ed7953"
            ],
            [
             0.7777777777777778,
             "#fb9f3a"
            ],
            [
             0.8888888888888888,
             "#fdca26"
            ],
            [
             1,
             "#f0f921"
            ]
           ]
          },
          "colorway": [
           "#636efa",
           "#EF553B",
           "#00cc96",
           "#ab63fa",
           "#FFA15A",
           "#19d3f3",
           "#FF6692",
           "#B6E880",
           "#FF97FF",
           "#FECB52"
          ],
          "font": {
           "color": "#2a3f5f"
          },
          "geo": {
           "bgcolor": "white",
           "lakecolor": "white",
           "landcolor": "white",
           "showlakes": true,
           "showland": true,
           "subunitcolor": "#C8D4E3"
          },
          "hoverlabel": {
           "align": "left"
          },
          "hovermode": "closest",
          "mapbox": {
           "style": "light"
          },
          "paper_bgcolor": "white",
          "plot_bgcolor": "white",
          "polar": {
           "angularaxis": {
            "gridcolor": "#EBF0F8",
            "linecolor": "#EBF0F8",
            "ticks": ""
           },
           "bgcolor": "white",
           "radialaxis": {
            "gridcolor": "#EBF0F8",
            "linecolor": "#EBF0F8",
            "ticks": ""
           }
          },
          "scene": {
           "xaxis": {
            "backgroundcolor": "white",
            "gridcolor": "#DFE8F3",
            "gridwidth": 2,
            "linecolor": "#EBF0F8",
            "showbackground": true,
            "ticks": "",
            "zerolinecolor": "#EBF0F8"
           },
           "yaxis": {
            "backgroundcolor": "white",
            "gridcolor": "#DFE8F3",
            "gridwidth": 2,
            "linecolor": "#EBF0F8",
            "showbackground": true,
            "ticks": "",
            "zerolinecolor": "#EBF0F8"
           },
           "zaxis": {
            "backgroundcolor": "white",
            "gridcolor": "#DFE8F3",
            "gridwidth": 2,
            "linecolor": "#EBF0F8",
            "showbackground": true,
            "ticks": "",
            "zerolinecolor": "#EBF0F8"
           }
          },
          "shapedefaults": {
           "line": {
            "color": "#2a3f5f"
           }
          },
          "ternary": {
           "aaxis": {
            "gridcolor": "#DFE8F3",
            "linecolor": "#A2B1C6",
            "ticks": ""
           },
           "baxis": {
            "gridcolor": "#DFE8F3",
            "linecolor": "#A2B1C6",
            "ticks": ""
           },
           "bgcolor": "white",
           "caxis": {
            "gridcolor": "#DFE8F3",
            "linecolor": "#A2B1C6",
            "ticks": ""
           }
          },
          "title": {
           "x": 0.05
          },
          "xaxis": {
           "automargin": true,
           "gridcolor": "#EBF0F8",
           "linecolor": "#EBF0F8",
           "ticks": "",
           "title": {
            "standoff": 15
           },
           "zerolinecolor": "#EBF0F8",
           "zerolinewidth": 2
          },
          "yaxis": {
           "automargin": true,
           "gridcolor": "#EBF0F8",
           "linecolor": "#EBF0F8",
           "ticks": "",
           "title": {
            "standoff": 15
           },
           "zerolinecolor": "#EBF0F8",
           "zerolinewidth": 2
          }
         }
        },
        "title": {
         "text": " "
        },
        "width": 1000,
        "xaxis": {
         "anchor": "y",
         "domain": [
          0,
          0.94
         ],
         "title": {
          "text": "Time"
         }
        },
        "yaxis": {
         "anchor": "x",
         "domain": [
          0,
          1
         ],
         "title": {
          "text": "diff"
         }
        },
        "yaxis2": {
         "anchor": "x",
         "overlaying": "y",
         "side": "right"
        }
       }
      }
     },
     "metadata": {},
     "output_type": "display_data"
    },
    {
     "data": {
      "application/papermill.record/text/plain": "-0.012"
     },
     "metadata": {
      "scrapbook": {
       "mime_prefix": "application/papermill.record/",
       "name": "trend_diff"
      }
     },
     "output_type": "display_data"
    }
   ],
   "source": [
    "dict_plot = [{'data' : st_data, 'var' : 'diff', 'ax' : 1, 'label' : 'Difference TMAX - TMIN'}]\n",
    "fig, trend = plot_timeseries_interactive(dict_plot, trendline=True, figsize = (25, 12), return_trend = True)\n",
    "glue(\"trend_diff\", float(trend[0]), display=False)\n"
   ]
  },
  {
   "cell_type": "markdown",
   "metadata": {},
   "source": [
    "**Fig.** Annual maximum of the difference of the maximum and minimum temperature within each day"
   ]
  },
  {
   "cell_type": "code",
   "execution_count": 21,
   "metadata": {},
   "outputs": [
    {
     "data": {
      "image/png": "[encoded data removed]"
     },
     "metadata": {},
     "output_type": "display_data"
    }
   ],
   "source": [
    "\n",
    "var = 'diff'\n",
    "df = get_data_metrics(st_data, var, )\n",
    "fig = plot_df_table(df.T, figsize = (300, 400))"
   ]
  },
  {
   "cell_type": "code",
   "execution_count": null,
   "metadata": {},
   "outputs": [],
   "source": []
  },
  {
   "cell_type": "code",
   "execution_count": null,
   "metadata": {},
   "outputs": [],
   "source": []
  }
 ],
 "metadata": {
  "kernelspec": {
   "display_name": "cc_indicators",
   "language": "python",
   "name": "python3"
  },
  "language_info": {
   "codemirror_mode": {
    "name": "ipython",
    "version": 3
   },
   "file_extension": ".py",
   "mimetype": "text/x-python",
   "name": "python",
   "nbconvert_exporter": "python",
   "pygments_lexer": "ipython3",
   "version": "3.12.0"
  }
 },
 "nbformat": 4,
 "nbformat_minor": 2
}
