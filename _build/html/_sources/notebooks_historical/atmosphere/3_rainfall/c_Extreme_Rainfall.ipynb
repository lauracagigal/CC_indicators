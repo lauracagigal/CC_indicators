{
 "cells": [
  {
   "cell_type": "markdown",
   "metadata": {},
   "source": [
    "# Extreme Rainfall"
   ]
  },
  {
   "cell_type": "code",
   "execution_count": 11,
   "metadata": {},
   "outputs": [],
   "source": [
    "import sys\n",
    "\n",
    "import numpy as np\n",
    "import pandas as pd\n",
    "\n",
    "sys.path.append(\"../../../../indicators_setup\")\n",
    "from ind_setup.plotting_int import plot_timeseries_interactive\n",
    "from ind_setup.plotting import plot_bar_probs\n",
    "from ind_setup.colors import get_df_col, plotting_style\n",
    "\n",
    "sys.path.append(\"../../../functions\")\n",
    "from data_downloaders import GHCN\n",
    "plotting_style()"
   ]
  },
  {
   "cell_type": "code",
   "execution_count": 2,
   "metadata": {},
   "outputs": [],
   "source": [
    "country = 'Palau'\n",
    "vars_interest = ['PRCP']"
   ]
  },
  {
   "cell_type": "markdown",
   "metadata": {},
   "source": [
    "## Get Data"
   ]
  },
  {
   "cell_type": "code",
   "execution_count": 3,
   "metadata": {},
   "outputs": [
    {
     "name": "stdout",
     "output_type": "stream",
     "text": [
      "The GHCN code for Palau is PS\n"
     ]
    }
   ],
   "source": [
    "df_country = GHCN.get_country_code(country)\n",
    "print(f'The GHCN code for {country} is {df_country[\"Code\"].values[0]}')"
   ]
  },
  {
   "cell_type": "code",
   "execution_count": 4,
   "metadata": {},
   "outputs": [
    {
     "name": "stdout",
     "output_type": "stream",
     "text": [
      "There are 13 stations in Palau\n"
     ]
    }
   ],
   "source": [
    "df_stations = GHCN.download_stations_info()\n",
    "df_country_stations = df_stations[df_stations['ID'].str.startswith(df_country.Code.values[0])]\n",
    "print(f'There are {df_country_stations.shape[0]} stations in {country}')"
   ]
  },
  {
   "cell_type": "code",
   "execution_count": 5,
   "metadata": {},
   "outputs": [],
   "source": [
    "GHCND_dir = 'https://www.ncei.noaa.gov/data/global-historical-climatology-network-daily/access/'"
   ]
  },
  {
   "cell_type": "code",
   "execution_count": 6,
   "metadata": {},
   "outputs": [
    {
     "name": "stderr",
     "output_type": "stream",
     "text": [
      "/Users/laurac/Documents/HAWAII/repository_GItHub/CC_indicators/notebooks_historical/atmosphere/3_rainfall/../../../functions/data_downloaders.py:178: DtypeWarning: Columns (17,19,21,23,25,27,29,31,33,35,37,39,41,43,45,47,49,51,53,55,57,59,61,63,65,67,69,71,73,75,77,79,81,83,85,87) have mixed types. Specify dtype option on import or set low_memory=False.\n",
      "  df = pd.read_csv(url_download, na_values=['-9999'])\n"
     ]
    }
   ],
   "source": [
    "id = 'PSW00040309' # Koror Station\n",
    "dict_prcp = GHCN.extract_dict_data_var(GHCND_dir, 'PRCP', df_country_stations.loc[df_country_stations['ID'] == id])[0]"
   ]
  },
  {
   "cell_type": "code",
   "execution_count": 7,
   "metadata": {},
   "outputs": [],
   "source": [
    "data = dict_prcp[0]['data']\n",
    "data = data.groupby(data.index.year).filter(lambda x: len(x) >= 300).dropna()"
   ]
  },
  {
   "cell_type": "code",
   "execution_count": 8,
   "metadata": {},
   "outputs": [],
   "source": [
    "datag = data.groupby(data.index.year).max()\n",
    "datag.index = pd.to_datetime(datag.index, format = '%Y')\n"
   ]
  },
  {
   "cell_type": "code",
   "execution_count": 9,
   "metadata": {},
   "outputs": [],
   "source": [
    "dict_plot = [{'data' : datag, 'var' : 'PRCP', 'ax' : 1, 'label':f'Annual Maxima'},]"
   ]
  },
  {
   "cell_type": "code",
   "execution_count": 10,
   "metadata": {},
   "outputs": [
    {
     "data": {
      "application/vnd.plotly.v1+json": {
       "config": {
        "plotlyServerURL": "https://plot.ly"
       },
       "data": [
        {
         "line": {
          "color": "#636EFA"
         },
         "name": "Annual Maxima",
         "type": "scatter",
         "x": [
          "1952-01-01T00:00:00",
          "1953-01-01T00:00:00",
          "1954-01-01T00:00:00",
          "1955-01-01T00:00:00",
          "1956-01-01T00:00:00",
          "1957-01-01T00:00:00",
          "1958-01-01T00:00:00",
          "1959-01-01T00:00:00",
          "1960-01-01T00:00:00",
          "1961-01-01T00:00:00",
          "1962-01-01T00:00:00",
          "1963-01-01T00:00:00",
          "1964-01-01T00:00:00",
          "1965-01-01T00:00:00",
          "1966-01-01T00:00:00",
          "1967-01-01T00:00:00",
          "1968-01-01T00:00:00",
          "1969-01-01T00:00:00",
          "1970-01-01T00:00:00",
          "1971-01-01T00:00:00",
          "1972-01-01T00:00:00",
          "1973-01-01T00:00:00",
          "1974-01-01T00:00:00",
          "1975-01-01T00:00:00",
          "1976-01-01T00:00:00",
          "1977-01-01T00:00:00",
          "1978-01-01T00:00:00",
          "1979-01-01T00:00:00",
          "1980-01-01T00:00:00",
          "1981-01-01T00:00:00",
          "1982-01-01T00:00:00",
          "1983-01-01T00:00:00",
          "1984-01-01T00:00:00",
          "1985-01-01T00:00:00",
          "1986-01-01T00:00:00",
          "1987-01-01T00:00:00",
          "1988-01-01T00:00:00",
          "1989-01-01T00:00:00",
          "1990-01-01T00:00:00",
          "1991-01-01T00:00:00",
          "1992-01-01T00:00:00",
          "1993-01-01T00:00:00",
          "1994-01-01T00:00:00",
          "1995-01-01T00:00:00",
          "1996-01-01T00:00:00",
          "1997-01-01T00:00:00",
          "1998-01-01T00:00:00",
          "1999-01-01T00:00:00",
          "2000-01-01T00:00:00",
          "2001-01-01T00:00:00",
          "2002-01-01T00:00:00",
          "2003-01-01T00:00:00",
          "2004-01-01T00:00:00",
          "2005-01-01T00:00:00",
          "2006-01-01T00:00:00",
          "2007-01-01T00:00:00",
          "2008-01-01T00:00:00",
          "2009-01-01T00:00:00",
          "2010-01-01T00:00:00",
          "2011-01-01T00:00:00",
          "2012-01-01T00:00:00",
          "2013-01-01T00:00:00",
          "2014-01-01T00:00:00",
          "2015-01-01T00:00:00",
          "2016-01-01T00:00:00",
          "2017-01-01T00:00:00",
          "2018-01-01T00:00:00",
          "2020-01-01T00:00:00",
          "2021-01-01T00:00:00",
          "2022-01-01T00:00:00",
          "2023-01-01T00:00:00",
          "2024-01-01T00:00:00"
         ],
         "xaxis": "x",
         "y": [
          126,
          156.7,
          127.8,
          194.3,
          137.9,
          157,
          208.3,
          175.5,
          124.7,
          107.7,
          208.5,
          114.6,
          121.4,
          121.9,
          135.4,
          131.1,
          99.8,
          105.4,
          100.6,
          201.2,
          147.8,
          114.8,
          348.5,
          173.5,
          305.8,
          105.4,
          157.5,
          296.4,
          200.7,
          192,
          195.6,
          79.8,
          81.5,
          136.9,
          136.4,
          146.6,
          156.5,
          134.4,
          203.5,
          350,
          84.3,
          76.2,
          119.1,
          168.7,
          101.3,
          135.6,
          114.8,
          179.3,
          143.3,
          180.6,
          145.8,
          124.7,
          202.9,
          191.8,
          186.2,
          101.6,
          97.3,
          115.1,
          80.8,
          254.3,
          72.9,
          88.1,
          159,
          117.6,
          85.6,
          126.7,
          176.8,
          115.6,
          168.4,
          207.3,
          186.4,
          162.1
         ],
         "yaxis": "y"
        },
        {
         "line": {
          "color": "black",
          "dash": "dot"
         },
         "mode": "lines",
         "name": "Trendline - Not Significant (p > 0.05)",
         "showlegend": true,
         "type": "scatter",
         "x": [
          "1952-01-01T00:00:00",
          "1953-01-01T00:00:00",
          "1954-01-01T00:00:00",
          "1955-01-01T00:00:00",
          "1956-01-01T00:00:00",
          "1957-01-01T00:00:00",
          "1958-01-01T00:00:00",
          "1959-01-01T00:00:00",
          "1960-01-01T00:00:00",
          "1961-01-01T00:00:00",
          "1962-01-01T00:00:00",
          "1963-01-01T00:00:00",
          "1964-01-01T00:00:00",
          "1965-01-01T00:00:00",
          "1966-01-01T00:00:00",
          "1967-01-01T00:00:00",
          "1968-01-01T00:00:00",
          "1969-01-01T00:00:00",
          "1970-01-01T00:00:00",
          "1971-01-01T00:00:00",
          "1972-01-01T00:00:00",
          "1973-01-01T00:00:00",
          "1974-01-01T00:00:00",
          "1975-01-01T00:00:00",
          "1976-01-01T00:00:00",
          "1977-01-01T00:00:00",
          "1978-01-01T00:00:00",
          "1979-01-01T00:00:00",
          "1980-01-01T00:00:00",
          "1981-01-01T00:00:00",
          "1982-01-01T00:00:00",
          "1983-01-01T00:00:00",
          "1984-01-01T00:00:00",
          "1985-01-01T00:00:00",
          "1986-01-01T00:00:00",
          "1987-01-01T00:00:00",
          "1988-01-01T00:00:00",
          "1989-01-01T00:00:00",
          "1990-01-01T00:00:00",
          "1991-01-01T00:00:00",
          "1992-01-01T00:00:00",
          "1993-01-01T00:00:00",
          "1994-01-01T00:00:00",
          "1995-01-01T00:00:00",
          "1996-01-01T00:00:00",
          "1997-01-01T00:00:00",
          "1998-01-01T00:00:00",
          "1999-01-01T00:00:00",
          "2000-01-01T00:00:00",
          "2001-01-01T00:00:00",
          "2002-01-01T00:00:00",
          "2003-01-01T00:00:00",
          "2004-01-01T00:00:00",
          "2005-01-01T00:00:00",
          "2006-01-01T00:00:00",
          "2007-01-01T00:00:00",
          "2008-01-01T00:00:00",
          "2009-01-01T00:00:00",
          "2010-01-01T00:00:00",
          "2011-01-01T00:00:00",
          "2012-01-01T00:00:00",
          "2013-01-01T00:00:00",
          "2014-01-01T00:00:00",
          "2015-01-01T00:00:00",
          "2016-01-01T00:00:00",
          "2017-01-01T00:00:00",
          "2018-01-01T00:00:00",
          "2020-01-01T00:00:00",
          "2021-01-01T00:00:00",
          "2022-01-01T00:00:00",
          "2023-01-01T00:00:00",
          "2024-01-01T00:00:00"
         ],
         "xaxis": "x",
         "y": [
          158.95312673641772,
          158.77509220717553,
          158.59754411107335,
          158.41999601497116,
          158.24244791886898,
          158.0644133896268,
          157.8868652935246,
          157.70931719742242,
          157.53176910132024,
          157.35373457207805,
          157.17618647597587,
          156.99863837987368,
          156.8210902837715,
          156.64305575452929,
          156.4655076584271,
          156.28795956232491,
          156.11041146622273,
          155.93237693698055,
          155.75482884087836,
          155.57728074477617,
          155.399732648674,
          155.2216981194318,
          155.04415002332962,
          154.86660192722744,
          154.68905383112525,
          154.51101930188304,
          154.33347120578085,
          154.15592310967867,
          153.97837501357648,
          153.8003404843343,
          153.6227923882321,
          153.44524429212993,
          153.26769619602774,
          153.08966166678556,
          152.91211357068337,
          152.7345654745812,
          152.557017378479,
          152.37898284923682,
          152.20143475313463,
          152.02388665703245,
          151.84633856093026,
          151.66830403168805,
          151.49075593558587,
          151.31320783948368,
          151.1356597433815,
          150.9576252141393,
          150.78007711803713,
          150.60252902193494,
          150.42498092583276,
          150.24694639659057,
          150.0693983004884,
          149.8918502043862,
          149.71430210828402,
          149.53626757904183,
          149.35871948293965,
          149.18117138683746,
          149.00362329073528,
          148.82558876149307,
          148.64804066539088,
          148.4704925692887,
          148.2929444731865,
          148.11490994394433,
          147.93736184784214,
          147.75981375173996,
          147.58226565563777,
          147.4042311263956,
          147.2266830302934,
          146.87158683808903,
          146.69355230884682,
          146.51600421274463,
          146.33845611664248,
          146.16090802054026
         ],
         "yaxis": "y"
        }
       ],
       "layout": {
        "height": 480,
        "legend": {
         "font": {
          "size": 12
         },
         "orientation": "h",
         "x": 0.5,
         "xanchor": "center",
         "y": 1.1,
         "yanchor": "bottom"
        },
        "template": {
         "data": {
          "bar": [
           {
            "error_x": {
             "color": "#2a3f5f"
            },
            "error_y": {
             "color": "#2a3f5f"
            },
            "marker": {
             "line": {
              "color": "white",
              "width": 0.5
             },
             "pattern": {
              "fillmode": "overlay",
              "size": 10,
              "solidity": 0.2
             }
            },
            "type": "bar"
           }
          ],
          "barpolar": [
           {
            "marker": {
             "line": {
              "color": "white",
              "width": 0.5
             },
             "pattern": {
              "fillmode": "overlay",
              "size": 10,
              "solidity": 0.2
             }
            },
            "type": "barpolar"
           }
          ],
          "carpet": [
           {
            "aaxis": {
             "endlinecolor": "#2a3f5f",
             "gridcolor": "#C8D4E3",
             "linecolor": "#C8D4E3",
             "minorgridcolor": "#C8D4E3",
             "startlinecolor": "#2a3f5f"
            },
            "baxis": {
             "endlinecolor": "#2a3f5f",
             "gridcolor": "#C8D4E3",
             "linecolor": "#C8D4E3",
             "minorgridcolor": "#C8D4E3",
             "startlinecolor": "#2a3f5f"
            },
            "type": "carpet"
           }
          ],
          "choropleth": [
           {
            "colorbar": {
             "outlinewidth": 0,
             "ticks": ""
            },
            "type": "choropleth"
           }
          ],
          "contour": [
           {
            "colorbar": {
             "outlinewidth": 0,
             "ticks": ""
            },
            "colorscale": [
             [
              0,
              "#0d0887"
             ],
             [
              0.1111111111111111,
              "#46039f"
             ],
             [
              0.2222222222222222,
              "#7201a8"
             ],
             [
              0.3333333333333333,
              "#9c179e"
             ],
             [
              0.4444444444444444,
              "#bd3786"
             ],
             [
              0.5555555555555556,
              "#d8576b"
             ],
             [
              0.6666666666666666,
              "#ed7953"
             ],
             [
              0.7777777777777778,
              "#fb9f3a"
             ],
             [
              0.8888888888888888,
              "#fdca26"
             ],
             [
              1,
              "#f0f921"
             ]
            ],
            "type": "contour"
           }
          ],
          "contourcarpet": [
           {
            "colorbar": {
             "outlinewidth": 0,
             "ticks": ""
            },
            "type": "contourcarpet"
           }
          ],
          "heatmap": [
           {
            "colorbar": {
             "outlinewidth": 0,
             "ticks": ""
            },
            "colorscale": [
             [
              0,
              "#0d0887"
             ],
             [
              0.1111111111111111,
              "#46039f"
             ],
             [
              0.2222222222222222,
              "#7201a8"
             ],
             [
              0.3333333333333333,
              "#9c179e"
             ],
             [
              0.4444444444444444,
              "#bd3786"
             ],
             [
              0.5555555555555556,
              "#d8576b"
             ],
             [
              0.6666666666666666,
              "#ed7953"
             ],
             [
              0.7777777777777778,
              "#fb9f3a"
             ],
             [
              0.8888888888888888,
              "#fdca26"
             ],
             [
              1,
              "#f0f921"
             ]
            ],
            "type": "heatmap"
           }
          ],
          "heatmapgl": [
           {
            "colorbar": {
             "outlinewidth": 0,
             "ticks": ""
            },
            "colorscale": [
             [
              0,
              "#0d0887"
             ],
             [
              0.1111111111111111,
              "#46039f"
             ],
             [
              0.2222222222222222,
              "#7201a8"
             ],
             [
              0.3333333333333333,
              "#9c179e"
             ],
             [
              0.4444444444444444,
              "#bd3786"
             ],
             [
              0.5555555555555556,
              "#d8576b"
             ],
             [
              0.6666666666666666,
              "#ed7953"
             ],
             [
              0.7777777777777778,
              "#fb9f3a"
             ],
             [
              0.8888888888888888,
              "#fdca26"
             ],
             [
              1,
              "#f0f921"
             ]
            ],
            "type": "heatmapgl"
           }
          ],
          "histogram": [
           {
            "marker": {
             "pattern": {
              "fillmode": "overlay",
              "size": 10,
              "solidity": 0.2
             }
            },
            "type": "histogram"
           }
          ],
          "histogram2d": [
           {
            "colorbar": {
             "outlinewidth": 0,
             "ticks": ""
            },
            "colorscale": [
             [
              0,
              "#0d0887"
             ],
             [
              0.1111111111111111,
              "#46039f"
             ],
             [
              0.2222222222222222,
              "#7201a8"
             ],
             [
              0.3333333333333333,
              "#9c179e"
             ],
             [
              0.4444444444444444,
              "#bd3786"
             ],
             [
              0.5555555555555556,
              "#d8576b"
             ],
             [
              0.6666666666666666,
              "#ed7953"
             ],
             [
              0.7777777777777778,
              "#fb9f3a"
             ],
             [
              0.8888888888888888,
              "#fdca26"
             ],
             [
              1,
              "#f0f921"
             ]
            ],
            "type": "histogram2d"
           }
          ],
          "histogram2dcontour": [
           {
            "colorbar": {
             "outlinewidth": 0,
             "ticks": ""
            },
            "colorscale": [
             [
              0,
              "#0d0887"
             ],
             [
              0.1111111111111111,
              "#46039f"
             ],
             [
              0.2222222222222222,
              "#7201a8"
             ],
             [
              0.3333333333333333,
              "#9c179e"
             ],
             [
              0.4444444444444444,
              "#bd3786"
             ],
             [
              0.5555555555555556,
              "#d8576b"
             ],
             [
              0.6666666666666666,
              "#ed7953"
             ],
             [
              0.7777777777777778,
              "#fb9f3a"
             ],
             [
              0.8888888888888888,
              "#fdca26"
             ],
             [
              1,
              "#f0f921"
             ]
            ],
            "type": "histogram2dcontour"
           }
          ],
          "mesh3d": [
           {
            "colorbar": {
             "outlinewidth": 0,
             "ticks": ""
            },
            "type": "mesh3d"
           }
          ],
          "parcoords": [
           {
            "line": {
             "colorbar": {
              "outlinewidth": 0,
              "ticks": ""
             }
            },
            "type": "parcoords"
           }
          ],
          "pie": [
           {
            "automargin": true,
            "type": "pie"
           }
          ],
          "scatter": [
           {
            "fillpattern": {
             "fillmode": "overlay",
             "size": 10,
             "solidity": 0.2
            },
            "type": "scatter"
           }
          ],
          "scatter3d": [
           {
            "line": {
             "colorbar": {
              "outlinewidth": 0,
              "ticks": ""
             }
            },
            "marker": {
             "colorbar": {
              "outlinewidth": 0,
              "ticks": ""
             }
            },
            "type": "scatter3d"
           }
          ],
          "scattercarpet": [
           {
            "marker": {
             "colorbar": {
              "outlinewidth": 0,
              "ticks": ""
             }
            },
            "type": "scattercarpet"
           }
          ],
          "scattergeo": [
           {
            "marker": {
             "colorbar": {
              "outlinewidth": 0,
              "ticks": ""
             }
            },
            "type": "scattergeo"
           }
          ],
          "scattergl": [
           {
            "marker": {
             "colorbar": {
              "outlinewidth": 0,
              "ticks": ""
             }
            },
            "type": "scattergl"
           }
          ],
          "scattermapbox": [
           {
            "marker": {
             "colorbar": {
              "outlinewidth": 0,
              "ticks": ""
             }
            },
            "type": "scattermapbox"
           }
          ],
          "scatterpolar": [
           {
            "marker": {
             "colorbar": {
              "outlinewidth": 0,
              "ticks": ""
             }
            },
            "type": "scatterpolar"
           }
          ],
          "scatterpolargl": [
           {
            "marker": {
             "colorbar": {
              "outlinewidth": 0,
              "ticks": ""
             }
            },
            "type": "scatterpolargl"
           }
          ],
          "scatterternary": [
           {
            "marker": {
             "colorbar": {
              "outlinewidth": 0,
              "ticks": ""
             }
            },
            "type": "scatterternary"
           }
          ],
          "surface": [
           {
            "colorbar": {
             "outlinewidth": 0,
             "ticks": ""
            },
            "colorscale": [
             [
              0,
              "#0d0887"
             ],
             [
              0.1111111111111111,
              "#46039f"
             ],
             [
              0.2222222222222222,
              "#7201a8"
             ],
             [
              0.3333333333333333,
              "#9c179e"
             ],
             [
              0.4444444444444444,
              "#bd3786"
             ],
             [
              0.5555555555555556,
              "#d8576b"
             ],
             [
              0.6666666666666666,
              "#ed7953"
             ],
             [
              0.7777777777777778,
              "#fb9f3a"
             ],
             [
              0.8888888888888888,
              "#fdca26"
             ],
             [
              1,
              "#f0f921"
             ]
            ],
            "type": "surface"
           }
          ],
          "table": [
           {
            "cells": {
             "fill": {
              "color": "#EBF0F8"
             },
             "line": {
              "color": "white"
             }
            },
            "header": {
             "fill": {
              "color": "#C8D4E3"
             },
             "line": {
              "color": "white"
             }
            },
            "type": "table"
           }
          ]
         },
         "layout": {
          "annotationdefaults": {
           "arrowcolor": "#2a3f5f",
           "arrowhead": 0,
           "arrowwidth": 1
          },
          "autotypenumbers": "strict",
          "coloraxis": {
           "colorbar": {
            "outlinewidth": 0,
            "ticks": ""
           }
          },
          "colorscale": {
           "diverging": [
            [
             0,
             "#8e0152"
            ],
            [
             0.1,
             "#c51b7d"
            ],
            [
             0.2,
             "#de77ae"
            ],
            [
             0.3,
             "#f1b6da"
            ],
            [
             0.4,
             "#fde0ef"
            ],
            [
             0.5,
             "#f7f7f7"
            ],
            [
             0.6,
             "#e6f5d0"
            ],
            [
             0.7,
             "#b8e186"
            ],
            [
             0.8,
             "#7fbc41"
            ],
            [
             0.9,
             "#4d9221"
            ],
            [
             1,
             "#276419"
            ]
           ],
           "sequential": [
            [
             0,
             "#0d0887"
            ],
            [
             0.1111111111111111,
             "#46039f"
            ],
            [
             0.2222222222222222,
             "#7201a8"
            ],
            [
             0.3333333333333333,
             "#9c179e"
            ],
            [
             0.4444444444444444,
             "#bd3786"
            ],
            [
             0.5555555555555556,
             "#d8576b"
            ],
            [
             0.6666666666666666,
             "#ed7953"
            ],
            [
             0.7777777777777778,
             "#fb9f3a"
            ],
            [
             0.8888888888888888,
             "#fdca26"
            ],
            [
             1,
             "#f0f921"
            ]
           ],
           "sequentialminus": [
            [
             0,
             "#0d0887"
            ],
            [
             0.1111111111111111,
             "#46039f"
            ],
            [
             0.2222222222222222,
             "#7201a8"
            ],
            [
             0.3333333333333333,
             "#9c179e"
            ],
            [
             0.4444444444444444,
             "#bd3786"
            ],
            [
             0.5555555555555556,
             "#d8576b"
            ],
            [
             0.6666666666666666,
             "#ed7953"
            ],
            [
             0.7777777777777778,
             "#fb9f3a"
            ],
            [
             0.8888888888888888,
             "#fdca26"
            ],
            [
             1,
             "#f0f921"
            ]
           ]
          },
          "colorway": [
           "#636efa",
           "#EF553B",
           "#00cc96",
           "#ab63fa",
           "#FFA15A",
           "#19d3f3",
           "#FF6692",
           "#B6E880",
           "#FF97FF",
           "#FECB52"
          ],
          "font": {
           "color": "#2a3f5f"
          },
          "geo": {
           "bgcolor": "white",
           "lakecolor": "white",
           "landcolor": "white",
           "showlakes": true,
           "showland": true,
           "subunitcolor": "#C8D4E3"
          },
          "hoverlabel": {
           "align": "left"
          },
          "hovermode": "closest",
          "mapbox": {
           "style": "light"
          },
          "paper_bgcolor": "white",
          "plot_bgcolor": "white",
          "polar": {
           "angularaxis": {
            "gridcolor": "#EBF0F8",
            "linecolor": "#EBF0F8",
            "ticks": ""
           },
           "bgcolor": "white",
           "radialaxis": {
            "gridcolor": "#EBF0F8",
            "linecolor": "#EBF0F8",
            "ticks": ""
           }
          },
          "scene": {
           "xaxis": {
            "backgroundcolor": "white",
            "gridcolor": "#DFE8F3",
            "gridwidth": 2,
            "linecolor": "#EBF0F8",
            "showbackground": true,
            "ticks": "",
            "zerolinecolor": "#EBF0F8"
           },
           "yaxis": {
            "backgroundcolor": "white",
            "gridcolor": "#DFE8F3",
            "gridwidth": 2,
            "linecolor": "#EBF0F8",
            "showbackground": true,
            "ticks": "",
            "zerolinecolor": "#EBF0F8"
           },
           "zaxis": {
            "backgroundcolor": "white",
            "gridcolor": "#DFE8F3",
            "gridwidth": 2,
            "linecolor": "#EBF0F8",
            "showbackground": true,
            "ticks": "",
            "zerolinecolor": "#EBF0F8"
           }
          },
          "shapedefaults": {
           "line": {
            "color": "#2a3f5f"
           }
          },
          "ternary": {
           "aaxis": {
            "gridcolor": "#DFE8F3",
            "linecolor": "#A2B1C6",
            "ticks": ""
           },
           "baxis": {
            "gridcolor": "#DFE8F3",
            "linecolor": "#A2B1C6",
            "ticks": ""
           },
           "bgcolor": "white",
           "caxis": {
            "gridcolor": "#DFE8F3",
            "linecolor": "#A2B1C6",
            "ticks": ""
           }
          },
          "title": {
           "x": 0.05
          },
          "xaxis": {
           "automargin": true,
           "gridcolor": "#EBF0F8",
           "linecolor": "#EBF0F8",
           "ticks": "",
           "title": {
            "standoff": 15
           },
           "zerolinecolor": "#EBF0F8",
           "zerolinewidth": 2
          },
          "yaxis": {
           "automargin": true,
           "gridcolor": "#EBF0F8",
           "linecolor": "#EBF0F8",
           "ticks": "",
           "title": {
            "standoff": 15
           },
           "zerolinecolor": "#EBF0F8",
           "zerolinewidth": 2
          }
         }
        },
        "title": {
         "text": " "
        },
        "width": 1000,
        "xaxis": {
         "anchor": "y",
         "domain": [
          0,
          0.94
         ],
         "title": {
          "text": "Time"
         }
        },
        "yaxis": {
         "anchor": "x",
         "domain": [
          0,
          1
         ],
         "title": {
          "text": "PRCP"
         }
        },
        "yaxis2": {
         "anchor": "x",
         "overlaying": "y",
         "side": "right"
        }
       }
      }
     },
     "metadata": {},
     "output_type": "display_data"
    }
   ],
   "source": [
    "plot_timeseries_interactive(dict_plot, trendline = True, figsize = (25, 12));"
   ]
  },
  {
   "cell_type": "code",
   "execution_count": 12,
   "metadata": {},
   "outputs": [
    {
     "data": {
      "text/html": [
       "<div>\n",
       "<style scoped>\n",
       "    .dataframe tbody tr th:only-of-type {\n",
       "        vertical-align: middle;\n",
       "    }\n",
       "\n",
       "    .dataframe tbody tr th {\n",
       "        vertical-align: top;\n",
       "    }\n",
       "\n",
       "    .dataframe thead th {\n",
       "        text-align: right;\n",
       "    }\n",
       "</style>\n",
       "<table border=\"1\" class=\"dataframe\">\n",
       "  <thead>\n",
       "    <tr style=\"text-align: right;\">\n",
       "      <th></th>\n",
       "      <th>PRCP</th>\n",
       "    </tr>\n",
       "    <tr>\n",
       "      <th>DATE</th>\n",
       "      <th></th>\n",
       "    </tr>\n",
       "  </thead>\n",
       "  <tbody>\n",
       "    <tr>\n",
       "      <th>1952-01-01</th>\n",
       "      <td>126.0</td>\n",
       "    </tr>\n",
       "    <tr>\n",
       "      <th>1953-01-01</th>\n",
       "      <td>156.7</td>\n",
       "    </tr>\n",
       "    <tr>\n",
       "      <th>1954-01-01</th>\n",
       "      <td>127.8</td>\n",
       "    </tr>\n",
       "    <tr>\n",
       "      <th>1955-01-01</th>\n",
       "      <td>194.3</td>\n",
       "    </tr>\n",
       "    <tr>\n",
       "      <th>1956-01-01</th>\n",
       "      <td>137.9</td>\n",
       "    </tr>\n",
       "    <tr>\n",
       "      <th>...</th>\n",
       "      <td>...</td>\n",
       "    </tr>\n",
       "    <tr>\n",
       "      <th>2020-01-01</th>\n",
       "      <td>115.6</td>\n",
       "    </tr>\n",
       "    <tr>\n",
       "      <th>2021-01-01</th>\n",
       "      <td>168.4</td>\n",
       "    </tr>\n",
       "    <tr>\n",
       "      <th>2022-01-01</th>\n",
       "      <td>207.3</td>\n",
       "    </tr>\n",
       "    <tr>\n",
       "      <th>2023-01-01</th>\n",
       "      <td>186.4</td>\n",
       "    </tr>\n",
       "    <tr>\n",
       "      <th>2024-01-01</th>\n",
       "      <td>162.1</td>\n",
       "    </tr>\n",
       "  </tbody>\n",
       "</table>\n",
       "<p>72 rows × 1 columns</p>\n",
       "</div>"
      ],
      "text/plain": [
       "             PRCP\n",
       "DATE             \n",
       "1952-01-01  126.0\n",
       "1953-01-01  156.7\n",
       "1954-01-01  127.8\n",
       "1955-01-01  194.3\n",
       "1956-01-01  137.9\n",
       "...           ...\n",
       "2020-01-01  115.6\n",
       "2021-01-01  168.4\n",
       "2022-01-01  207.3\n",
       "2023-01-01  186.4\n",
       "2024-01-01  162.1\n",
       "\n",
       "[72 rows x 1 columns]"
      ]
     },
     "execution_count": 12,
     "metadata": {},
     "output_type": "execute_result"
    }
   ],
   "source": [
    "datag"
   ]
  },
  {
   "cell_type": "code",
   "execution_count": 17,
   "metadata": {},
   "outputs": [
    {
     "data": {
      "text/plain": [
       "<Axes: ylabel='Maximum precipitation'>"
      ]
     },
     "execution_count": 17,
     "metadata": {},
     "output_type": "execute_result"
    },
    {
     "data": {
      "image/png": "[encoded data removed]",
      "text/plain": [
       "<Figure size 1500x600 with 1 Axes>"
      ]
     },
     "metadata": {},
     "output_type": "display_data"
    }
   ],
   "source": [
    "plot_bar_probs(x = datag.index.year, y = datag.PRCP.values, trendline=True, figsize = (15, 6),\n",
    "                y_label = 'Maximum precipitation')"
   ]
  },
  {
   "cell_type": "code",
   "execution_count": 18,
   "metadata": {},
   "outputs": [
    {
     "data": {
      "image/png": "[encoded data removed]",
      "text/plain": [
       "<Figure size 640x480 with 1 Axes>"
      ]
     },
     "metadata": {},
     "output_type": "display_data"
    }
   ],
   "source": [
    "from scipy.stats import genextreme\n",
    "import matplotlib.pyplot as plt\n",
    "# Fit the data to GEV distribution\n",
    "params = genextreme.fit(datag)\n",
    "\n",
    "# Plot the histogram\n",
    "plt.hist(datag, bins=10, density=True, alpha=0.5, label='Data', color = get_df_col()[1])\n",
    "\n",
    "# Generate the GEV distribution using the fitted parameters\n",
    "gev_dist = genextreme(*params)\n",
    "\n",
    "# Plot the GEV distribution\n",
    "x = np.linspace(datag.min(), datag.max(), 100)\n",
    "plt.plot(x, gev_dist.pdf(x), '-', color = get_df_col()[0], label='GEV Distribution')\n",
    "\n",
    "plt.xlabel('Annual Maximum Precipitation (mm)')\n",
    "plt.ylabel('Probability Density')\n",
    "plt.legend()\n",
    "plt.show()\n"
   ]
  },
  {
   "cell_type": "code",
   "execution_count": 19,
   "metadata": {},
   "outputs": [],
   "source": [
    "nsims = 1000\n",
    "years_sim = 100  # years of precipitation to simulate\n",
    "\n",
    "# use simulated GEVs\n",
    "var_sim = np.zeros([years_sim, nsims])*np.nan  # initialize output numpy array\n",
    "for sim in range(nsims):\n",
    "    \n",
    "    var_sim[:, sim] = gev_dist.rvs(size=years_sim)\n",
    "\n",
    "var_sim = var_sim.T \n",
    "time_sim = np.arange('1970-10-01', '{0}-10-01'.format(1970+years_sim), dtype='datetime64[Y]')\n",
    " "
   ]
  },
  {
   "cell_type": "code",
   "execution_count": 20,
   "metadata": {},
   "outputs": [],
   "source": [
    "# aux func for calculating rp time\n",
    "def t_rp(time_y):\n",
    "    ny = len(time_y)\n",
    "    return np.array([1/(1-(n/(ny+1))) for n in np.arange(1,ny+1)])\n",
    "\n",
    "# historical rp time and sorted annual maxima\n",
    "trp_hist = t_rp(np.unique(data.index.year))\n",
    "trp_hist_val = np.sort(data['PRCP'].groupby(data.index.year).max().values)\n",
    "\n",
    "# simulation rp time and sorted annual maxima\n",
    "trp_sim = t_rp(time_sim)\n",
    "trp_sim_val = np.sort(var_sim)\n",
    "\n",
    "# calculate simulation maxima percentiles\n",
    "p95 = np.percentile(trp_sim_val, 100-5/2.0, axis=0,)\n",
    "p50 = np.percentile(trp_sim_val, 50, axis=0,)\n",
    "p05 = np.percentile(trp_sim_val, 5/2.0, axis=0,)"
   ]
  },
  {
   "cell_type": "code",
   "execution_count": 21,
   "metadata": {},
   "outputs": [],
   "source": [
    "import plotly.graph_objects as go"
   ]
  },
  {
   "cell_type": "code",
   "execution_count": 22,
   "metadata": {},
   "outputs": [
    {
     "data": {
      "application/vnd.plotly.v1+json": {
       "config": {
        "plotlyServerURL": "https://plot.ly"
       },
       "data": [
        {
         "marker": {
          "color": "mediumturquoise"
         },
         "mode": "lines",
         "name": "P95",
         "type": "scatter",
         "x": [
          1.01,
          1.02020202020202,
          1.030612244897959,
          1.041237113402062,
          1.0520833333333335,
          1.063157894736842,
          1.074468085106383,
          1.086021505376344,
          1.0978260869565217,
          1.10989010989011,
          1.1222222222222222,
          1.1348314606741572,
          1.1477272727272727,
          1.160919540229885,
          1.1744186046511629,
          1.188235294117647,
          1.2023809523809523,
          1.2168674698795179,
          1.2317073170731707,
          1.2469135802469136,
          1.2625,
          1.2784810126582278,
          1.294871794871795,
          1.3116883116883116,
          1.3289473684210527,
          1.3466666666666667,
          1.364864864864865,
          1.3835616438356164,
          1.402777777777778,
          1.4225352112676057,
          1.442857142857143,
          1.463768115942029,
          1.4852941176470589,
          1.5074626865671643,
          1.5303030303030303,
          1.5538461538461539,
          1.578125,
          1.6031746031746033,
          1.6290322580645162,
          1.6557377049180328,
          1.6833333333333333,
          1.711864406779661,
          1.7413793103448274,
          1.7719298245614032,
          1.8035714285714284,
          1.8363636363636362,
          1.8703703703703702,
          1.9056603773584906,
          1.9423076923076923,
          1.9803921568627452,
          2.02,
          2.061224489795918,
          2.104166666666667,
          2.148936170212766,
          2.1956521739130435,
          2.244444444444445,
          2.295454545454545,
          2.3488372093023253,
          2.4047619047619047,
          2.4634146341463414,
          2.525,
          2.58974358974359,
          2.6578947368421053,
          2.72972972972973,
          2.805555555555556,
          2.885714285714286,
          2.9705882352941178,
          3.060606060606061,
          3.1562500000000004,
          3.2580645161290316,
          3.3666666666666663,
          3.482758620689655,
          3.6071428571428568,
          3.7407407407407405,
          3.8846153846153846,
          4.04,
          4.208333333333334,
          4.391304347826087,
          4.590909090909092,
          4.80952380952381,
          5.050000000000002,
          5.315789473684212,
          5.61111111111111,
          5.941176470588234,
          6.312499999999999,
          6.7333333333333325,
          7.2142857142857135,
          7.769230769230769,
          8.416666666666668,
          9.181818181818183,
          10.100000000000003,
          11.222222222222227,
          12.625000000000007,
          14.42857142857144,
          16.833333333333318,
          20.19999999999998,
          25.24999999999998,
          33.666666666666636,
          50.49999999999996,
          100.99999999999991
         ],
         "y": [
          81.52818820904238,
          85.06382006508451,
          88.23012177777714,
          90.3976753128691,
          92.95523180004706,
          95.30495842517361,
          96.56972932698244,
          98.76579839707229,
          100.06075832863093,
          101.52495018002641,
          103.21853489098316,
          104.94873912790938,
          106.86677676677017,
          108.07710930488994,
          109.59954516548852,
          110.69380896100029,
          111.80139971033802,
          113.13576447597521,
          114.51447725943612,
          115.78637758456938,
          116.74930034066904,
          117.54712338185891,
          118.64323989599886,
          119.82862190825283,
          120.89185999154141,
          122.01679854783112,
          123.35840704174531,
          124.53661753697979,
          126.23226961301056,
          127.10794363350819,
          128.5470637380364,
          129.30803807712715,
          130.80535801921388,
          131.8848445732647,
          132.8683757425076,
          134.25100511669805,
          135.2270278865756,
          136.035466424611,
          137.0555690358262,
          138.54722962246376,
          139.74384377161348,
          141.63450544739752,
          142.22366239512564,
          144.03574926105276,
          145.26650649240855,
          146.50721526073997,
          147.84873668936993,
          148.7576233316401,
          150.22986347469293,
          151.51921353723864,
          153.03552357068125,
          153.94150388101127,
          155.75413505606065,
          157.18200570353687,
          158.0513347212677,
          159.4466565366156,
          160.83878050199345,
          163.02884334774518,
          164.34894930182003,
          165.89723739798896,
          167.2081196565148,
          168.75241370918022,
          170.95215972743736,
          172.57903229912836,
          174.3266441969289,
          176.0363860223655,
          177.60238833322666,
          179.30032428636372,
          181.86356190027863,
          183.27586746913644,
          185.69026555205693,
          188.68730604264448,
          191.3648656414122,
          194.96888111920708,
          197.62571145923852,
          199.93830768410444,
          203.00130065690675,
          205.28261512674163,
          208.6870086996389,
          211.09981015753388,
          214.22866260746284,
          217.01280614244752,
          221.07490080464737,
          224.42695459001087,
          229.5519478602932,
          234.7120790840646,
          240.4539299493869,
          247.0342108648849,
          252.7744163160886,
          260.19153886984213,
          269.25386895147966,
          276.0348445315364,
          286.50234543643063,
          300.82058404483706,
          317.0881477642891,
          338.1824091156905,
          360.7847075749984,
          395.35545847488345,
          456.5455909445851,
          667.7034551329784
         ]
        },
        {
         "fill": "tonexty",
         "fillcolor": "rgba(0, 181, 204, 0.10)",
         "marker": {
          "color": "mediumturquoise"
         },
         "mode": "lines",
         "name": "P05",
         "type": "scatter",
         "x": [
          1.01,
          1.02020202020202,
          1.030612244897959,
          1.041237113402062,
          1.0520833333333335,
          1.063157894736842,
          1.074468085106383,
          1.086021505376344,
          1.0978260869565217,
          1.10989010989011,
          1.1222222222222222,
          1.1348314606741572,
          1.1477272727272727,
          1.160919540229885,
          1.1744186046511629,
          1.188235294117647,
          1.2023809523809523,
          1.2168674698795179,
          1.2317073170731707,
          1.2469135802469136,
          1.2625,
          1.2784810126582278,
          1.294871794871795,
          1.3116883116883116,
          1.3289473684210527,
          1.3466666666666667,
          1.364864864864865,
          1.3835616438356164,
          1.402777777777778,
          1.4225352112676057,
          1.442857142857143,
          1.463768115942029,
          1.4852941176470589,
          1.5074626865671643,
          1.5303030303030303,
          1.5538461538461539,
          1.578125,
          1.6031746031746033,
          1.6290322580645162,
          1.6557377049180328,
          1.6833333333333333,
          1.711864406779661,
          1.7413793103448274,
          1.7719298245614032,
          1.8035714285714284,
          1.8363636363636362,
          1.8703703703703702,
          1.9056603773584906,
          1.9423076923076923,
          1.9803921568627452,
          2.02,
          2.061224489795918,
          2.104166666666667,
          2.148936170212766,
          2.1956521739130435,
          2.244444444444445,
          2.295454545454545,
          2.3488372093023253,
          2.4047619047619047,
          2.4634146341463414,
          2.525,
          2.58974358974359,
          2.6578947368421053,
          2.72972972972973,
          2.805555555555556,
          2.885714285714286,
          2.9705882352941178,
          3.060606060606061,
          3.1562500000000004,
          3.2580645161290316,
          3.3666666666666663,
          3.482758620689655,
          3.6071428571428568,
          3.7407407407407405,
          3.8846153846153846,
          4.04,
          4.208333333333334,
          4.391304347826087,
          4.590909090909092,
          4.80952380952381,
          5.050000000000002,
          5.315789473684212,
          5.61111111111111,
          5.941176470588234,
          6.312499999999999,
          6.7333333333333325,
          7.2142857142857135,
          7.769230769230769,
          8.416666666666668,
          9.181818181818183,
          10.100000000000003,
          11.222222222222227,
          12.625000000000007,
          14.42857142857144,
          16.833333333333318,
          20.19999999999998,
          25.24999999999998,
          33.666666666666636,
          50.49999999999996,
          100.99999999999991
         ],
         "y": [
          49.755593911366276,
          59.588500264103395,
          66.29238814015466,
          69.60805256560278,
          73.13895964095401,
          75.66194284787214,
          77.94292903904062,
          80.01832184508886,
          81.76479643402587,
          83.54421045121475,
          85.41883144226576,
          86.51573542902199,
          88.46511075492593,
          89.89270383093276,
          91.11423250132766,
          92.2908094464526,
          93.60676943494694,
          94.76992251127719,
          95.68118280995816,
          96.92149512964019,
          98.18873372762236,
          99.32035989300599,
          100.60467853400493,
          101.39693149335743,
          102.29284936247808,
          103.60938744229794,
          104.10498506943301,
          105.84786527813954,
          106.71532975459553,
          108.1545216203736,
          108.96178441428613,
          109.73494173197105,
          110.79497891276822,
          111.69116628376749,
          112.68101713803348,
          113.52529947347901,
          114.32544254539933,
          115.84310577394464,
          116.79632117102867,
          117.79801374454162,
          118.4293691582207,
          119.248325841765,
          120.73190236307718,
          121.73298910571447,
          122.71258912972439,
          123.57052236590782,
          124.5958118503628,
          125.64923704721504,
          127.13552134204383,
          128.45955885536912,
          129.49886537090237,
          130.49726383386096,
          132.13868530569,
          133.09665890878242,
          133.7332414134601,
          134.6275496269764,
          135.9066118081666,
          137.15320331843688,
          138.38379004972404,
          139.84507040970402,
          140.46846865339964,
          141.96308445489942,
          143.11114151123,
          144.41793270348083,
          145.50619487458127,
          147.08104956269545,
          148.75393979683284,
          150.31304058800058,
          151.85596159053225,
          153.14644857539014,
          154.7663551997953,
          156.18236228296354,
          157.7154885848468,
          158.45934274538243,
          160.5041867694865,
          162.40475245304623,
          164.19780480240075,
          165.73418254053237,
          168.0640793376339,
          170.55415026717588,
          172.1809475387042,
          175.22418842244443,
          176.88532269046956,
          179.76811771072408,
          182.38322653640307,
          184.0410510358461,
          187.6076596161933,
          190.5016516648839,
          193.95733677267955,
          197.85853943320868,
          201.39247272650434,
          205.03299374301835,
          209.76939774853008,
          215.11723373424365,
          218.1183485327328,
          227.18506727172667,
          235.52577018303015,
          245.09455413527152,
          258.1553384789515,
          283.2881952977288
         ]
        },
        {
         "marker": {
          "color": "black"
         },
         "mode": "lines",
         "name": "P50",
         "type": "scatter",
         "x": [
          1.01,
          1.02020202020202,
          1.030612244897959,
          1.041237113402062,
          1.0520833333333335,
          1.063157894736842,
          1.074468085106383,
          1.086021505376344,
          1.0978260869565217,
          1.10989010989011,
          1.1222222222222222,
          1.1348314606741572,
          1.1477272727272727,
          1.160919540229885,
          1.1744186046511629,
          1.188235294117647,
          1.2023809523809523,
          1.2168674698795179,
          1.2317073170731707,
          1.2469135802469136,
          1.2625,
          1.2784810126582278,
          1.294871794871795,
          1.3116883116883116,
          1.3289473684210527,
          1.3466666666666667,
          1.364864864864865,
          1.3835616438356164,
          1.402777777777778,
          1.4225352112676057,
          1.442857142857143,
          1.463768115942029,
          1.4852941176470589,
          1.5074626865671643,
          1.5303030303030303,
          1.5538461538461539,
          1.578125,
          1.6031746031746033,
          1.6290322580645162,
          1.6557377049180328,
          1.6833333333333333,
          1.711864406779661,
          1.7413793103448274,
          1.7719298245614032,
          1.8035714285714284,
          1.8363636363636362,
          1.8703703703703702,
          1.9056603773584906,
          1.9423076923076923,
          1.9803921568627452,
          2.02,
          2.061224489795918,
          2.104166666666667,
          2.148936170212766,
          2.1956521739130435,
          2.244444444444445,
          2.295454545454545,
          2.3488372093023253,
          2.4047619047619047,
          2.4634146341463414,
          2.525,
          2.58974358974359,
          2.6578947368421053,
          2.72972972972973,
          2.805555555555556,
          2.885714285714286,
          2.9705882352941178,
          3.060606060606061,
          3.1562500000000004,
          3.2580645161290316,
          3.3666666666666663,
          3.482758620689655,
          3.6071428571428568,
          3.7407407407407405,
          3.8846153846153846,
          4.04,
          4.208333333333334,
          4.391304347826087,
          4.590909090909092,
          4.80952380952381,
          5.050000000000002,
          5.315789473684212,
          5.61111111111111,
          5.941176470588234,
          6.312499999999999,
          6.7333333333333325,
          7.2142857142857135,
          7.769230769230769,
          8.416666666666668,
          9.181818181818183,
          10.100000000000003,
          11.222222222222227,
          12.625000000000007,
          14.42857142857144,
          16.833333333333318,
          20.19999999999998,
          25.24999999999998,
          33.666666666666636,
          50.49999999999996,
          100.99999999999991
         ],
         "y": [
          65.93658921164689,
          73.32202753138803,
          77.26667362178864,
          80.24545162757101,
          82.87607693357886,
          85.40827974123984,
          87.58305663509051,
          89.44207957808082,
          91.0119035283677,
          92.79464583379763,
          94.32325883628931,
          95.7691865694482,
          97.23101643297603,
          98.66688359047681,
          100.12243393947415,
          101.34276661496475,
          102.55859294378507,
          103.79104516252195,
          105.0532740875778,
          106.25682496031617,
          107.33112346996775,
          108.46779293603815,
          109.57253341674365,
          110.8404536706286,
          111.83882250657061,
          112.87696168433898,
          113.90298650405342,
          114.99740748839439,
          115.96710467601002,
          117.09451095576577,
          118.14068116037745,
          119.18633167406887,
          120.23187652809622,
          121.38913503502883,
          122.38786602219218,
          123.71761829010771,
          124.73475283780206,
          125.73643522921937,
          126.6681068116475,
          127.93331158835332,
          129.18194058275674,
          130.3319001890759,
          131.45939678895917,
          132.67095195611554,
          133.6369172442224,
          134.60758858891163,
          136.01861613634128,
          137.18404083759458,
          138.2170471156723,
          139.53937633480172,
          140.65609675232108,
          141.85992766883146,
          143.0566638046102,
          144.25372091270282,
          145.53657715757504,
          146.80167561045238,
          148.04720746744476,
          149.335698816751,
          150.48203505946864,
          151.84061677828322,
          153.31893139436644,
          154.94163545614782,
          156.30223489764865,
          158.06453881031877,
          159.47235228357061,
          161.08086816454949,
          162.8362375911258,
          164.24016947140723,
          165.95071210557737,
          167.65484971072465,
          169.7057846706918,
          171.41448763000795,
          173.21807072917107,
          175.1886313179656,
          177.04616430702728,
          179.09777291042712,
          181.35969446285702,
          183.68088619715408,
          185.95835733684868,
          188.45044048552296,
          190.98595261589213,
          193.5198382208058,
          196.3257053041308,
          199.14533079713323,
          202.37591624618096,
          206.2954836992934,
          209.7412765579677,
          213.52711899130168,
          218.24337852032215,
          222.74276237862745,
          227.731762973693,
          233.65381639003198,
          240.58420262895712,
          247.52130458577955,
          256.5693936688195,
          267.1337394231002,
          281.9155447827273,
          299.78461450973026,
          330.42440697190443,
          387.05422393430564
         ]
        },
        {
         "marker": {
          "color": "red"
         },
         "mode": "markers",
         "name": "Hist",
         "type": "scatter",
         "x": [
          1.0138888888888888,
          1.028169014084507,
          1.0428571428571427,
          1.0579710144927537,
          1.0735294117647058,
          1.0895522388059702,
          1.106060606060606,
          1.123076923076923,
          1.140625,
          1.1587301587301586,
          1.1774193548387095,
          1.1967213114754098,
          1.2166666666666668,
          1.2372881355932204,
          1.2586206896551724,
          1.280701754385965,
          1.3035714285714286,
          1.3272727272727272,
          1.3518518518518516,
          1.3773584905660377,
          1.403846153846154,
          1.4313725490196079,
          1.4599999999999997,
          1.4897959183673468,
          1.5208333333333335,
          1.553191489361702,
          1.5869565217391302,
          1.6222222222222222,
          1.6590909090909092,
          1.697674418604651,
          1.738095238095238,
          1.7804878048780488,
          1.8250000000000002,
          1.8717948717948718,
          1.9210526315789471,
          1.9729729729729728,
          2.0277777777777777,
          2.0857142857142854,
          2.1470588235294117,
          2.212121212121212,
          2.28125,
          2.354838709677419,
          2.4333333333333336,
          2.5172413793103448,
          2.607142857142857,
          2.7037037037037033,
          2.807692307692308,
          2.9199999999999995,
          3.041666666666667,
          3.1739130434782603,
          3.3181818181818183,
          3.476190476190476,
          3.6500000000000004,
          3.8421052631578942,
          4.055555555555555,
          4.2941176470588225,
          4.5625,
          4.866666666666665,
          5.214285714285714,
          5.615384615384614,
          6.083333333333334,
          6.636363636363634,
          7.300000000000001,
          8.111111111111107,
          9.125,
          10.428571428571423,
          12.166666666666668,
          14.599999999999989,
          18.25,
          24.3333333333333,
          36.5,
          72.9999999999997
         ],
         "y": [
          72.9,
          76.2,
          79.8,
          80.8,
          81.5,
          84.3,
          85.6,
          88.1,
          97.3,
          99.8,
          100.6,
          101.3,
          101.6,
          105.4,
          105.4,
          107.7,
          114.6,
          114.8,
          114.8,
          115.1,
          115.6,
          117.6,
          119.1,
          121.4,
          121.9,
          124.7,
          124.7,
          126,
          126.7,
          127.8,
          131.1,
          134.4,
          135.4,
          135.6,
          136.4,
          136.9,
          137.9,
          143.3,
          145.8,
          146.6,
          147.8,
          156.5,
          156.7,
          157,
          157.5,
          159,
          162.1,
          168.4,
          168.7,
          173.5,
          175.5,
          176.8,
          179.3,
          180.6,
          186.2,
          186.4,
          191.8,
          192,
          194.3,
          195.6,
          200.7,
          201.2,
          202.9,
          203.5,
          207.3,
          208.3,
          208.5,
          254.3,
          296.4,
          305.8,
          348.5,
          350
         ]
        }
       ],
       "layout": {
        "height": 500,
        "template": {
         "data": {
          "bar": [
           {
            "error_x": {
             "color": "#2a3f5f"
            },
            "error_y": {
             "color": "#2a3f5f"
            },
            "marker": {
             "line": {
              "color": "#E5ECF6",
              "width": 0.5
             },
             "pattern": {
              "fillmode": "overlay",
              "size": 10,
              "solidity": 0.2
             }
            },
            "type": "bar"
           }
          ],
          "barpolar": [
           {
            "marker": {
             "line": {
              "color": "#E5ECF6",
              "width": 0.5
             },
             "pattern": {
              "fillmode": "overlay",
              "size": 10,
              "solidity": 0.2
             }
            },
            "type": "barpolar"
           }
          ],
          "carpet": [
           {
            "aaxis": {
             "endlinecolor": "#2a3f5f",
             "gridcolor": "white",
             "linecolor": "white",
             "minorgridcolor": "white",
             "startlinecolor": "#2a3f5f"
            },
            "baxis": {
             "endlinecolor": "#2a3f5f",
             "gridcolor": "white",
             "linecolor": "white",
             "minorgridcolor": "white",
             "startlinecolor": "#2a3f5f"
            },
            "type": "carpet"
           }
          ],
          "choropleth": [
           {
            "colorbar": {
             "outlinewidth": 0,
             "ticks": ""
            },
            "type": "choropleth"
           }
          ],
          "contour": [
           {
            "colorbar": {
             "outlinewidth": 0,
             "ticks": ""
            },
            "colorscale": [
             [
              0,
              "#0d0887"
             ],
             [
              0.1111111111111111,
              "#46039f"
             ],
             [
              0.2222222222222222,
              "#7201a8"
             ],
             [
              0.3333333333333333,
              "#9c179e"
             ],
             [
              0.4444444444444444,
              "#bd3786"
             ],
             [
              0.5555555555555556,
              "#d8576b"
             ],
             [
              0.6666666666666666,
              "#ed7953"
             ],
             [
              0.7777777777777778,
              "#fb9f3a"
             ],
             [
              0.8888888888888888,
              "#fdca26"
             ],
             [
              1,
              "#f0f921"
             ]
            ],
            "type": "contour"
           }
          ],
          "contourcarpet": [
           {
            "colorbar": {
             "outlinewidth": 0,
             "ticks": ""
            },
            "type": "contourcarpet"
           }
          ],
          "heatmap": [
           {
            "colorbar": {
             "outlinewidth": 0,
             "ticks": ""
            },
            "colorscale": [
             [
              0,
              "#0d0887"
             ],
             [
              0.1111111111111111,
              "#46039f"
             ],
             [
              0.2222222222222222,
              "#7201a8"
             ],
             [
              0.3333333333333333,
              "#9c179e"
             ],
             [
              0.4444444444444444,
              "#bd3786"
             ],
             [
              0.5555555555555556,
              "#d8576b"
             ],
             [
              0.6666666666666666,
              "#ed7953"
             ],
             [
              0.7777777777777778,
              "#fb9f3a"
             ],
             [
              0.8888888888888888,
              "#fdca26"
             ],
             [
              1,
              "#f0f921"
             ]
            ],
            "type": "heatmap"
           }
          ],
          "heatmapgl": [
           {
            "colorbar": {
             "outlinewidth": 0,
             "ticks": ""
            },
            "colorscale": [
             [
              0,
              "#0d0887"
             ],
             [
              0.1111111111111111,
              "#46039f"
             ],
             [
              0.2222222222222222,
              "#7201a8"
             ],
             [
              0.3333333333333333,
              "#9c179e"
             ],
             [
              0.4444444444444444,
              "#bd3786"
             ],
             [
              0.5555555555555556,
              "#d8576b"
             ],
             [
              0.6666666666666666,
              "#ed7953"
             ],
             [
              0.7777777777777778,
              "#fb9f3a"
             ],
             [
              0.8888888888888888,
              "#fdca26"
             ],
             [
              1,
              "#f0f921"
             ]
            ],
            "type": "heatmapgl"
           }
          ],
          "histogram": [
           {
            "marker": {
             "pattern": {
              "fillmode": "overlay",
              "size": 10,
              "solidity": 0.2
             }
            },
            "type": "histogram"
           }
          ],
          "histogram2d": [
           {
            "colorbar": {
             "outlinewidth": 0,
             "ticks": ""
            },
            "colorscale": [
             [
              0,
              "#0d0887"
             ],
             [
              0.1111111111111111,
              "#46039f"
             ],
             [
              0.2222222222222222,
              "#7201a8"
             ],
             [
              0.3333333333333333,
              "#9c179e"
             ],
             [
              0.4444444444444444,
              "#bd3786"
             ],
             [
              0.5555555555555556,
              "#d8576b"
             ],
             [
              0.6666666666666666,
              "#ed7953"
             ],
             [
              0.7777777777777778,
              "#fb9f3a"
             ],
             [
              0.8888888888888888,
              "#fdca26"
             ],
             [
              1,
              "#f0f921"
             ]
            ],
            "type": "histogram2d"
           }
          ],
          "histogram2dcontour": [
           {
            "colorbar": {
             "outlinewidth": 0,
             "ticks": ""
            },
            "colorscale": [
             [
              0,
              "#0d0887"
             ],
             [
              0.1111111111111111,
              "#46039f"
             ],
             [
              0.2222222222222222,
              "#7201a8"
             ],
             [
              0.3333333333333333,
              "#9c179e"
             ],
             [
              0.4444444444444444,
              "#bd3786"
             ],
             [
              0.5555555555555556,
              "#d8576b"
             ],
             [
              0.6666666666666666,
              "#ed7953"
             ],
             [
              0.7777777777777778,
              "#fb9f3a"
             ],
             [
              0.8888888888888888,
              "#fdca26"
             ],
             [
              1,
              "#f0f921"
             ]
            ],
            "type": "histogram2dcontour"
           }
          ],
          "mesh3d": [
           {
            "colorbar": {
             "outlinewidth": 0,
             "ticks": ""
            },
            "type": "mesh3d"
           }
          ],
          "parcoords": [
           {
            "line": {
             "colorbar": {
              "outlinewidth": 0,
              "ticks": ""
             }
            },
            "type": "parcoords"
           }
          ],
          "pie": [
           {
            "automargin": true,
            "type": "pie"
           }
          ],
          "scatter": [
           {
            "fillpattern": {
             "fillmode": "overlay",
             "size": 10,
             "solidity": 0.2
            },
            "type": "scatter"
           }
          ],
          "scatter3d": [
           {
            "line": {
             "colorbar": {
              "outlinewidth": 0,
              "ticks": ""
             }
            },
            "marker": {
             "colorbar": {
              "outlinewidth": 0,
              "ticks": ""
             }
            },
            "type": "scatter3d"
           }
          ],
          "scattercarpet": [
           {
            "marker": {
             "colorbar": {
              "outlinewidth": 0,
              "ticks": ""
             }
            },
            "type": "scattercarpet"
           }
          ],
          "scattergeo": [
           {
            "marker": {
             "colorbar": {
              "outlinewidth": 0,
              "ticks": ""
             }
            },
            "type": "scattergeo"
           }
          ],
          "scattergl": [
           {
            "marker": {
             "colorbar": {
              "outlinewidth": 0,
              "ticks": ""
             }
            },
            "type": "scattergl"
           }
          ],
          "scattermapbox": [
           {
            "marker": {
             "colorbar": {
              "outlinewidth": 0,
              "ticks": ""
             }
            },
            "type": "scattermapbox"
           }
          ],
          "scatterpolar": [
           {
            "marker": {
             "colorbar": {
              "outlinewidth": 0,
              "ticks": ""
             }
            },
            "type": "scatterpolar"
           }
          ],
          "scatterpolargl": [
           {
            "marker": {
             "colorbar": {
              "outlinewidth": 0,
              "ticks": ""
             }
            },
            "type": "scatterpolargl"
           }
          ],
          "scatterternary": [
           {
            "marker": {
             "colorbar": {
              "outlinewidth": 0,
              "ticks": ""
             }
            },
            "type": "scatterternary"
           }
          ],
          "surface": [
           {
            "colorbar": {
             "outlinewidth": 0,
             "ticks": ""
            },
            "colorscale": [
             [
              0,
              "#0d0887"
             ],
             [
              0.1111111111111111,
              "#46039f"
             ],
             [
              0.2222222222222222,
              "#7201a8"
             ],
             [
              0.3333333333333333,
              "#9c179e"
             ],
             [
              0.4444444444444444,
              "#bd3786"
             ],
             [
              0.5555555555555556,
              "#d8576b"
             ],
             [
              0.6666666666666666,
              "#ed7953"
             ],
             [
              0.7777777777777778,
              "#fb9f3a"
             ],
             [
              0.8888888888888888,
              "#fdca26"
             ],
             [
              1,
              "#f0f921"
             ]
            ],
            "type": "surface"
           }
          ],
          "table": [
           {
            "cells": {
             "fill": {
              "color": "#EBF0F8"
             },
             "line": {
              "color": "white"
             }
            },
            "header": {
             "fill": {
              "color": "#C8D4E3"
             },
             "line": {
              "color": "white"
             }
            },
            "type": "table"
           }
          ]
         },
         "layout": {
          "annotationdefaults": {
           "arrowcolor": "#2a3f5f",
           "arrowhead": 0,
           "arrowwidth": 1
          },
          "autotypenumbers": "strict",
          "coloraxis": {
           "colorbar": {
            "outlinewidth": 0,
            "ticks": ""
           }
          },
          "colorscale": {
           "diverging": [
            [
             0,
             "#8e0152"
            ],
            [
             0.1,
             "#c51b7d"
            ],
            [
             0.2,
             "#de77ae"
            ],
            [
             0.3,
             "#f1b6da"
            ],
            [
             0.4,
             "#fde0ef"
            ],
            [
             0.5,
             "#f7f7f7"
            ],
            [
             0.6,
             "#e6f5d0"
            ],
            [
             0.7,
             "#b8e186"
            ],
            [
             0.8,
             "#7fbc41"
            ],
            [
             0.9,
             "#4d9221"
            ],
            [
             1,
             "#276419"
            ]
           ],
           "sequential": [
            [
             0,
             "#0d0887"
            ],
            [
             0.1111111111111111,
             "#46039f"
            ],
            [
             0.2222222222222222,
             "#7201a8"
            ],
            [
             0.3333333333333333,
             "#9c179e"
            ],
            [
             0.4444444444444444,
             "#bd3786"
            ],
            [
             0.5555555555555556,
             "#d8576b"
            ],
            [
             0.6666666666666666,
             "#ed7953"
            ],
            [
             0.7777777777777778,
             "#fb9f3a"
            ],
            [
             0.8888888888888888,
             "#fdca26"
            ],
            [
             1,
             "#f0f921"
            ]
           ],
           "sequentialminus": [
            [
             0,
             "#0d0887"
            ],
            [
             0.1111111111111111,
             "#46039f"
            ],
            [
             0.2222222222222222,
             "#7201a8"
            ],
            [
             0.3333333333333333,
             "#9c179e"
            ],
            [
             0.4444444444444444,
             "#bd3786"
            ],
            [
             0.5555555555555556,
             "#d8576b"
            ],
            [
             0.6666666666666666,
             "#ed7953"
            ],
            [
             0.7777777777777778,
             "#fb9f3a"
            ],
            [
             0.8888888888888888,
             "#fdca26"
            ],
            [
             1,
             "#f0f921"
            ]
           ]
          },
          "colorway": [
           "#636efa",
           "#EF553B",
           "#00cc96",
           "#ab63fa",
           "#FFA15A",
           "#19d3f3",
           "#FF6692",
           "#B6E880",
           "#FF97FF",
           "#FECB52"
          ],
          "font": {
           "color": "#2a3f5f"
          },
          "geo": {
           "bgcolor": "white",
           "lakecolor": "white",
           "landcolor": "#E5ECF6",
           "showlakes": true,
           "showland": true,
           "subunitcolor": "white"
          },
          "hoverlabel": {
           "align": "left"
          },
          "hovermode": "closest",
          "mapbox": {
           "style": "light"
          },
          "paper_bgcolor": "white",
          "plot_bgcolor": "#E5ECF6",
          "polar": {
           "angularaxis": {
            "gridcolor": "white",
            "linecolor": "white",
            "ticks": ""
           },
           "bgcolor": "#E5ECF6",
           "radialaxis": {
            "gridcolor": "white",
            "linecolor": "white",
            "ticks": ""
           }
          },
          "scene": {
           "xaxis": {
            "backgroundcolor": "#E5ECF6",
            "gridcolor": "white",
            "gridwidth": 2,
            "linecolor": "white",
            "showbackground": true,
            "ticks": "",
            "zerolinecolor": "white"
           },
           "yaxis": {
            "backgroundcolor": "#E5ECF6",
            "gridcolor": "white",
            "gridwidth": 2,
            "linecolor": "white",
            "showbackground": true,
            "ticks": "",
            "zerolinecolor": "white"
           },
           "zaxis": {
            "backgroundcolor": "#E5ECF6",
            "gridcolor": "white",
            "gridwidth": 2,
            "linecolor": "white",
            "showbackground": true,
            "ticks": "",
            "zerolinecolor": "white"
           }
          },
          "shapedefaults": {
           "line": {
            "color": "#2a3f5f"
           }
          },
          "ternary": {
           "aaxis": {
            "gridcolor": "white",
            "linecolor": "white",
            "ticks": ""
           },
           "baxis": {
            "gridcolor": "white",
            "linecolor": "white",
            "ticks": ""
           },
           "bgcolor": "#E5ECF6",
           "caxis": {
            "gridcolor": "white",
            "linecolor": "white",
            "ticks": ""
           }
          },
          "title": {
           "x": 0.05
          },
          "xaxis": {
           "automargin": true,
           "gridcolor": "white",
           "linecolor": "white",
           "ticks": "",
           "title": {
            "standoff": 15
           },
           "zerolinecolor": "white",
           "zerolinewidth": 2
          },
          "yaxis": {
           "automargin": true,
           "gridcolor": "white",
           "linecolor": "white",
           "ticks": "",
           "title": {
            "standoff": 15
           },
           "zerolinecolor": "white",
           "zerolinewidth": 2
          }
         }
        },
        "title": {
         "text": "Annual Maxima"
        },
        "width": 800,
        "xaxis": {
         "title": {
          "text": "Return Period (years)"
         },
         "type": "log"
        },
        "yaxis": {
         "title": {
          "text": "Precipitation (mm/d)"
         }
        }
       }
      }
     },
     "metadata": {},
     "output_type": "display_data"
    }
   ],
   "source": [
    "fig = go.Figure()\n",
    "fig.add_trace(go.Scatter(x=trp_sim, y=p95, mode='lines', name='P95', marker_color='mediumturquoise'))\n",
    "fig.add_trace(go.Scatter(x=trp_sim, y=p05, mode='lines', name='P05', marker_color='mediumturquoise',  fill='tonexty', fillcolor='rgba(0, 181, 204, 0.10)'))\n",
    "fig.add_trace(go.Scatter(x=trp_sim, y=p50, mode='lines', name='P50', marker_color='black'))\n",
    "fig.add_trace(go.Scatter(x=trp_hist, y=trp_hist_val, mode='markers', name='Hist', marker_color='red'))\n",
    "\n",
    "\n",
    "fig.update_xaxes(type=\"log\")\n",
    "fig.update_layout(    \n",
    "    xaxis_title = \"Return Period (years)\",\n",
    "    yaxis_title = \"Precipitation (mm/d)\",\n",
    "    title = 'Annual Maxima',\n",
    "    width=800, height=500\n",
    ")\n",
    "fig.show()"
   ]
  },
  {
   "cell_type": "code",
   "execution_count": null,
   "metadata": {},
   "outputs": [],
   "source": []
  }
 ],
 "metadata": {
  "kernelspec": {
   "display_name": "cc_indicators",
   "language": "python",
   "name": "python3"
  },
  "language_info": {
   "codemirror_mode": {
    "name": "ipython",
    "version": 3
   },
   "file_extension": ".py",
   "mimetype": "text/x-python",
   "name": "python",
   "nbconvert_exporter": "python",
   "pygments_lexer": "ipython3",
   "version": "3.1.0"
  }
 },
 "nbformat": 4,
 "nbformat_minor": 2
}
