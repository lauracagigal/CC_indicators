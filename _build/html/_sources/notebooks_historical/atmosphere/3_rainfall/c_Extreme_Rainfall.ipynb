{
 "cells": [
  {
   "cell_type": "markdown",
   "metadata": {},
   "source": [
    "# Extreme Rainfall"
   ]
  },
  {
   "cell_type": "code",
   "execution_count": 2,
   "metadata": {},
   "outputs": [],
   "source": [
    "import sys\n",
    "\n",
    "import numpy as np\n",
    "import pandas as pd\n",
    "\n",
    "sys.path.append(\"../../../../indicators_setup\")\n",
    "from ind_setup.plotting_int import plot_timeseries_interactive\n",
    "from ind_setup.colors import get_df_col, plotting_style\n",
    "\n",
    "sys.path.append(\"../../../functions\")\n",
    "from data_downloaders import GHCN\n",
    "plotting_style()"
   ]
  },
  {
   "cell_type": "code",
   "execution_count": 2,
   "metadata": {},
   "outputs": [],
   "source": [
    "country = 'Palau'\n",
    "vars_interest = ['PRCP']"
   ]
  },
  {
   "cell_type": "markdown",
   "metadata": {},
   "source": [
    "## Get Data"
   ]
  },
  {
   "cell_type": "code",
   "execution_count": 3,
   "metadata": {},
   "outputs": [
    {
     "name": "stdout",
     "output_type": "stream",
     "text": [
      "The GHCN code for Palau is PS\n"
     ]
    }
   ],
   "source": [
    "df_country = GHCN.get_country_code(country)\n",
    "print(f'The GHCN code for {country} is {df_country[\"Code\"].values[0]}')"
   ]
  },
  {
   "cell_type": "code",
   "execution_count": 4,
   "metadata": {},
   "outputs": [
    {
     "name": "stdout",
     "output_type": "stream",
     "text": [
      "There are 13 stations in Palau\n"
     ]
    }
   ],
   "source": [
    "df_stations = GHCN.download_stations_info()\n",
    "df_country_stations = df_stations[df_stations['ID'].str.startswith(df_country.Code.values[0])]\n",
    "print(f'There are {df_country_stations.shape[0]} stations in {country}')"
   ]
  },
  {
   "cell_type": "code",
   "execution_count": 5,
   "metadata": {},
   "outputs": [],
   "source": [
    "GHCND_dir = 'https://www.ncei.noaa.gov/data/global-historical-climatology-network-daily/access/'"
   ]
  },
  {
   "cell_type": "code",
   "execution_count": 6,
   "metadata": {},
   "outputs": [
    {
     "name": "stderr",
     "output_type": "stream",
     "text": [
      "/Users/laurac/Documents/HAWAII/repository_GItHub/CC_indicators/notebooks_historical/atmosphere/3_rainfall/../../../functions/data_downloaders.py:169: DtypeWarning: Columns (17,19,21,23,25,27,29,31,33,35,37,39,41,43,45,47,49,51,53,55,57,59,61,63,65,67,69,71,73,75,77,79,81,83,85,87) have mixed types. Specify dtype option on import or set low_memory=False.\n",
      "  df = pd.read_csv(url_download, na_values=['-9999'])\n"
     ]
    }
   ],
   "source": [
    "id = 'PSW00040309' # Koror Station\n",
    "dict_prcp = GHCN.extract_dict_data_var(GHCND_dir, 'PRCP', df_country_stations.loc[df_country_stations['ID'] == id])[0]"
   ]
  },
  {
   "cell_type": "code",
   "execution_count": 7,
   "metadata": {},
   "outputs": [],
   "source": [
    "data = dict_prcp[0]['data']\n",
    "data = data.groupby(data.index.year).filter(lambda x: len(x) >= 300).dropna()"
   ]
  },
  {
   "cell_type": "code",
   "execution_count": 8,
   "metadata": {},
   "outputs": [],
   "source": [
    "datag = data.groupby(data.index.year).max()\n",
    "datag.index = pd.to_datetime(datag.index, format = '%Y')\n"
   ]
  },
  {
   "cell_type": "code",
   "execution_count": 9,
   "metadata": {},
   "outputs": [],
   "source": [
    "dict_plot = [{'data' : datag, 'var' : 'PRCP', 'ax' : 1, 'label':f'Annual Maxima'},]"
   ]
  },
  {
   "cell_type": "code",
   "execution_count": 10,
   "metadata": {},
   "outputs": [
    {
     "data": {
      "application/vnd.plotly.v1+json": {
       "config": {
        "plotlyServerURL": "https://plot.ly"
       },
       "data": [
        {
         "line": {
          "color": "#636EFA"
         },
         "name": "Annual Maxima",
         "type": "scatter",
         "x": [
          "1952-01-01T00:00:00",
          "1953-01-01T00:00:00",
          "1954-01-01T00:00:00",
          "1955-01-01T00:00:00",
          "1956-01-01T00:00:00",
          "1957-01-01T00:00:00",
          "1958-01-01T00:00:00",
          "1959-01-01T00:00:00",
          "1960-01-01T00:00:00",
          "1961-01-01T00:00:00",
          "1962-01-01T00:00:00",
          "1963-01-01T00:00:00",
          "1964-01-01T00:00:00",
          "1965-01-01T00:00:00",
          "1966-01-01T00:00:00",
          "1967-01-01T00:00:00",
          "1968-01-01T00:00:00",
          "1969-01-01T00:00:00",
          "1970-01-01T00:00:00",
          "1971-01-01T00:00:00",
          "1972-01-01T00:00:00",
          "1973-01-01T00:00:00",
          "1974-01-01T00:00:00",
          "1975-01-01T00:00:00",
          "1976-01-01T00:00:00",
          "1977-01-01T00:00:00",
          "1978-01-01T00:00:00",
          "1979-01-01T00:00:00",
          "1980-01-01T00:00:00",
          "1981-01-01T00:00:00",
          "1982-01-01T00:00:00",
          "1983-01-01T00:00:00",
          "1984-01-01T00:00:00",
          "1985-01-01T00:00:00",
          "1986-01-01T00:00:00",
          "1987-01-01T00:00:00",
          "1988-01-01T00:00:00",
          "1989-01-01T00:00:00",
          "1990-01-01T00:00:00",
          "1991-01-01T00:00:00",
          "1992-01-01T00:00:00",
          "1993-01-01T00:00:00",
          "1994-01-01T00:00:00",
          "1995-01-01T00:00:00",
          "1996-01-01T00:00:00",
          "1997-01-01T00:00:00",
          "1998-01-01T00:00:00",
          "1999-01-01T00:00:00",
          "2000-01-01T00:00:00",
          "2001-01-01T00:00:00",
          "2002-01-01T00:00:00",
          "2003-01-01T00:00:00",
          "2004-01-01T00:00:00",
          "2005-01-01T00:00:00",
          "2006-01-01T00:00:00",
          "2007-01-01T00:00:00",
          "2008-01-01T00:00:00",
          "2009-01-01T00:00:00",
          "2010-01-01T00:00:00",
          "2011-01-01T00:00:00",
          "2012-01-01T00:00:00",
          "2013-01-01T00:00:00",
          "2014-01-01T00:00:00",
          "2015-01-01T00:00:00",
          "2016-01-01T00:00:00",
          "2017-01-01T00:00:00",
          "2018-01-01T00:00:00",
          "2020-01-01T00:00:00",
          "2021-01-01T00:00:00",
          "2022-01-01T00:00:00",
          "2023-01-01T00:00:00",
          "2024-01-01T00:00:00"
         ],
         "xaxis": "x",
         "y": [
          126,
          156.7,
          127.8,
          194.3,
          137.9,
          157,
          208.3,
          175.5,
          124.7,
          107.7,
          208.5,
          114.6,
          121.4,
          121.9,
          135.4,
          131.1,
          99.8,
          105.4,
          100.6,
          201.2,
          147.8,
          114.8,
          348.5,
          173.5,
          305.8,
          105.4,
          157.5,
          296.4,
          200.7,
          192,
          195.6,
          79.8,
          81.5,
          136.9,
          136.4,
          146.6,
          156.5,
          134.4,
          203.5,
          350,
          84.3,
          76.2,
          119.1,
          168.7,
          101.3,
          135.6,
          114.8,
          179.3,
          143.3,
          180.6,
          145.8,
          124.7,
          202.9,
          191.8,
          186.2,
          101.6,
          97.3,
          115.1,
          80.8,
          254.3,
          72.9,
          88.1,
          159,
          117.6,
          85.6,
          126.7,
          176.8,
          115.6,
          168.4,
          207.3,
          186.4,
          162.1
         ],
         "yaxis": "y"
        },
        {
         "line": {
          "color": "#636EFA",
          "dash": "dash"
         },
         "mode": "lines",
         "name": "Annual Maxima (Trend)",
         "showlegend": false,
         "type": "scatter",
         "x": [
          "1952-01-01T00:00:00",
          "1953-01-01T00:00:00",
          "1954-01-01T00:00:00",
          "1955-01-01T00:00:00",
          "1956-01-01T00:00:00",
          "1957-01-01T00:00:00",
          "1958-01-01T00:00:00",
          "1959-01-01T00:00:00",
          "1960-01-01T00:00:00",
          "1961-01-01T00:00:00",
          "1962-01-01T00:00:00",
          "1963-01-01T00:00:00",
          "1964-01-01T00:00:00",
          "1965-01-01T00:00:00",
          "1966-01-01T00:00:00",
          "1967-01-01T00:00:00",
          "1968-01-01T00:00:00",
          "1969-01-01T00:00:00",
          "1970-01-01T00:00:00",
          "1971-01-01T00:00:00",
          "1972-01-01T00:00:00",
          "1973-01-01T00:00:00",
          "1974-01-01T00:00:00",
          "1975-01-01T00:00:00",
          "1976-01-01T00:00:00",
          "1977-01-01T00:00:00",
          "1978-01-01T00:00:00",
          "1979-01-01T00:00:00",
          "1980-01-01T00:00:00",
          "1981-01-01T00:00:00",
          "1982-01-01T00:00:00",
          "1983-01-01T00:00:00",
          "1984-01-01T00:00:00",
          "1985-01-01T00:00:00",
          "1986-01-01T00:00:00",
          "1987-01-01T00:00:00",
          "1988-01-01T00:00:00",
          "1989-01-01T00:00:00",
          "1990-01-01T00:00:00",
          "1991-01-01T00:00:00",
          "1992-01-01T00:00:00",
          "1993-01-01T00:00:00",
          "1994-01-01T00:00:00",
          "1995-01-01T00:00:00",
          "1996-01-01T00:00:00",
          "1997-01-01T00:00:00",
          "1998-01-01T00:00:00",
          "1999-01-01T00:00:00",
          "2000-01-01T00:00:00",
          "2001-01-01T00:00:00",
          "2002-01-01T00:00:00",
          "2003-01-01T00:00:00",
          "2004-01-01T00:00:00",
          "2005-01-01T00:00:00",
          "2006-01-01T00:00:00",
          "2007-01-01T00:00:00",
          "2008-01-01T00:00:00",
          "2009-01-01T00:00:00",
          "2010-01-01T00:00:00",
          "2011-01-01T00:00:00",
          "2012-01-01T00:00:00",
          "2013-01-01T00:00:00",
          "2014-01-01T00:00:00",
          "2015-01-01T00:00:00",
          "2016-01-01T00:00:00",
          "2017-01-01T00:00:00",
          "2018-01-01T00:00:00",
          "2020-01-01T00:00:00",
          "2021-01-01T00:00:00",
          "2022-01-01T00:00:00",
          "2023-01-01T00:00:00",
          "2024-01-01T00:00:00"
         ],
         "xaxis": "x",
         "y": [
          158.95312673641772,
          158.77509220717553,
          158.59754411107335,
          158.41999601497116,
          158.24244791886898,
          158.0644133896268,
          157.8868652935246,
          157.70931719742242,
          157.53176910132024,
          157.35373457207805,
          157.17618647597587,
          156.99863837987368,
          156.8210902837715,
          156.64305575452929,
          156.4655076584271,
          156.28795956232491,
          156.11041146622273,
          155.93237693698055,
          155.75482884087836,
          155.57728074477617,
          155.399732648674,
          155.2216981194318,
          155.04415002332962,
          154.86660192722744,
          154.68905383112525,
          154.51101930188304,
          154.33347120578085,
          154.15592310967867,
          153.97837501357648,
          153.8003404843343,
          153.6227923882321,
          153.44524429212993,
          153.26769619602774,
          153.08966166678556,
          152.91211357068337,
          152.7345654745812,
          152.557017378479,
          152.37898284923682,
          152.20143475313463,
          152.02388665703245,
          151.84633856093026,
          151.66830403168805,
          151.49075593558587,
          151.31320783948368,
          151.1356597433815,
          150.9576252141393,
          150.78007711803713,
          150.60252902193494,
          150.42498092583276,
          150.24694639659057,
          150.0693983004884,
          149.8918502043862,
          149.71430210828402,
          149.53626757904183,
          149.35871948293965,
          149.18117138683746,
          149.00362329073528,
          148.82558876149307,
          148.64804066539088,
          148.4704925692887,
          148.2929444731865,
          148.11490994394433,
          147.93736184784214,
          147.75981375173996,
          147.58226565563777,
          147.4042311263956,
          147.2266830302934,
          146.87158683808903,
          146.69355230884682,
          146.51600421274463,
          146.33845611664248,
          146.16090802054026
         ],
         "yaxis": "y"
        }
       ],
       "layout": {
        "height": 500,
        "legend": {
         "font": {
          "size": 12
         },
         "orientation": "h",
         "x": 0.5,
         "xanchor": "center",
         "y": 1.1,
         "yanchor": "bottom"
        },
        "template": {
         "data": {
          "bar": [
           {
            "error_x": {
             "color": "#2a3f5f"
            },
            "error_y": {
             "color": "#2a3f5f"
            },
            "marker": {
             "line": {
              "color": "white",
              "width": 0.5
             },
             "pattern": {
              "fillmode": "overlay",
              "size": 10,
              "solidity": 0.2
             }
            },
            "type": "bar"
           }
          ],
          "barpolar": [
           {
            "marker": {
             "line": {
              "color": "white",
              "width": 0.5
             },
             "pattern": {
              "fillmode": "overlay",
              "size": 10,
              "solidity": 0.2
             }
            },
            "type": "barpolar"
           }
          ],
          "carpet": [
           {
            "aaxis": {
             "endlinecolor": "#2a3f5f",
             "gridcolor": "#C8D4E3",
             "linecolor": "#C8D4E3",
             "minorgridcolor": "#C8D4E3",
             "startlinecolor": "#2a3f5f"
            },
            "baxis": {
             "endlinecolor": "#2a3f5f",
             "gridcolor": "#C8D4E3",
             "linecolor": "#C8D4E3",
             "minorgridcolor": "#C8D4E3",
             "startlinecolor": "#2a3f5f"
            },
            "type": "carpet"
           }
          ],
          "choropleth": [
           {
            "colorbar": {
             "outlinewidth": 0,
             "ticks": ""
            },
            "type": "choropleth"
           }
          ],
          "contour": [
           {
            "colorbar": {
             "outlinewidth": 0,
             "ticks": ""
            },
            "colorscale": [
             [
              0,
              "#0d0887"
             ],
             [
              0.1111111111111111,
              "#46039f"
             ],
             [
              0.2222222222222222,
              "#7201a8"
             ],
             [
              0.3333333333333333,
              "#9c179e"
             ],
             [
              0.4444444444444444,
              "#bd3786"
             ],
             [
              0.5555555555555556,
              "#d8576b"
             ],
             [
              0.6666666666666666,
              "#ed7953"
             ],
             [
              0.7777777777777778,
              "#fb9f3a"
             ],
             [
              0.8888888888888888,
              "#fdca26"
             ],
             [
              1,
              "#f0f921"
             ]
            ],
            "type": "contour"
           }
          ],
          "contourcarpet": [
           {
            "colorbar": {
             "outlinewidth": 0,
             "ticks": ""
            },
            "type": "contourcarpet"
           }
          ],
          "heatmap": [
           {
            "colorbar": {
             "outlinewidth": 0,
             "ticks": ""
            },
            "colorscale": [
             [
              0,
              "#0d0887"
             ],
             [
              0.1111111111111111,
              "#46039f"
             ],
             [
              0.2222222222222222,
              "#7201a8"
             ],
             [
              0.3333333333333333,
              "#9c179e"
             ],
             [
              0.4444444444444444,
              "#bd3786"
             ],
             [
              0.5555555555555556,
              "#d8576b"
             ],
             [
              0.6666666666666666,
              "#ed7953"
             ],
             [
              0.7777777777777778,
              "#fb9f3a"
             ],
             [
              0.8888888888888888,
              "#fdca26"
             ],
             [
              1,
              "#f0f921"
             ]
            ],
            "type": "heatmap"
           }
          ],
          "heatmapgl": [
           {
            "colorbar": {
             "outlinewidth": 0,
             "ticks": ""
            },
            "colorscale": [
             [
              0,
              "#0d0887"
             ],
             [
              0.1111111111111111,
              "#46039f"
             ],
             [
              0.2222222222222222,
              "#7201a8"
             ],
             [
              0.3333333333333333,
              "#9c179e"
             ],
             [
              0.4444444444444444,
              "#bd3786"
             ],
             [
              0.5555555555555556,
              "#d8576b"
             ],
             [
              0.6666666666666666,
              "#ed7953"
             ],
             [
              0.7777777777777778,
              "#fb9f3a"
             ],
             [
              0.8888888888888888,
              "#fdca26"
             ],
             [
              1,
              "#f0f921"
             ]
            ],
            "type": "heatmapgl"
           }
          ],
          "histogram": [
           {
            "marker": {
             "pattern": {
              "fillmode": "overlay",
              "size": 10,
              "solidity": 0.2
             }
            },
            "type": "histogram"
           }
          ],
          "histogram2d": [
           {
            "colorbar": {
             "outlinewidth": 0,
             "ticks": ""
            },
            "colorscale": [
             [
              0,
              "#0d0887"
             ],
             [
              0.1111111111111111,
              "#46039f"
             ],
             [
              0.2222222222222222,
              "#7201a8"
             ],
             [
              0.3333333333333333,
              "#9c179e"
             ],
             [
              0.4444444444444444,
              "#bd3786"
             ],
             [
              0.5555555555555556,
              "#d8576b"
             ],
             [
              0.6666666666666666,
              "#ed7953"
             ],
             [
              0.7777777777777778,
              "#fb9f3a"
             ],
             [
              0.8888888888888888,
              "#fdca26"
             ],
             [
              1,
              "#f0f921"
             ]
            ],
            "type": "histogram2d"
           }
          ],
          "histogram2dcontour": [
           {
            "colorbar": {
             "outlinewidth": 0,
             "ticks": ""
            },
            "colorscale": [
             [
              0,
              "#0d0887"
             ],
             [
              0.1111111111111111,
              "#46039f"
             ],
             [
              0.2222222222222222,
              "#7201a8"
             ],
             [
              0.3333333333333333,
              "#9c179e"
             ],
             [
              0.4444444444444444,
              "#bd3786"
             ],
             [
              0.5555555555555556,
              "#d8576b"
             ],
             [
              0.6666666666666666,
              "#ed7953"
             ],
             [
              0.7777777777777778,
              "#fb9f3a"
             ],
             [
              0.8888888888888888,
              "#fdca26"
             ],
             [
              1,
              "#f0f921"
             ]
            ],
            "type": "histogram2dcontour"
           }
          ],
          "mesh3d": [
           {
            "colorbar": {
             "outlinewidth": 0,
             "ticks": ""
            },
            "type": "mesh3d"
           }
          ],
          "parcoords": [
           {
            "line": {
             "colorbar": {
              "outlinewidth": 0,
              "ticks": ""
             }
            },
            "type": "parcoords"
           }
          ],
          "pie": [
           {
            "automargin": true,
            "type": "pie"
           }
          ],
          "scatter": [
           {
            "fillpattern": {
             "fillmode": "overlay",
             "size": 10,
             "solidity": 0.2
            },
            "type": "scatter"
           }
          ],
          "scatter3d": [
           {
            "line": {
             "colorbar": {
              "outlinewidth": 0,
              "ticks": ""
             }
            },
            "marker": {
             "colorbar": {
              "outlinewidth": 0,
              "ticks": ""
             }
            },
            "type": "scatter3d"
           }
          ],
          "scattercarpet": [
           {
            "marker": {
             "colorbar": {
              "outlinewidth": 0,
              "ticks": ""
             }
            },
            "type": "scattercarpet"
           }
          ],
          "scattergeo": [
           {
            "marker": {
             "colorbar": {
              "outlinewidth": 0,
              "ticks": ""
             }
            },
            "type": "scattergeo"
           }
          ],
          "scattergl": [
           {
            "marker": {
             "colorbar": {
              "outlinewidth": 0,
              "ticks": ""
             }
            },
            "type": "scattergl"
           }
          ],
          "scattermapbox": [
           {
            "marker": {
             "colorbar": {
              "outlinewidth": 0,
              "ticks": ""
             }
            },
            "type": "scattermapbox"
           }
          ],
          "scatterpolar": [
           {
            "marker": {
             "colorbar": {
              "outlinewidth": 0,
              "ticks": ""
             }
            },
            "type": "scatterpolar"
           }
          ],
          "scatterpolargl": [
           {
            "marker": {
             "colorbar": {
              "outlinewidth": 0,
              "ticks": ""
             }
            },
            "type": "scatterpolargl"
           }
          ],
          "scatterternary": [
           {
            "marker": {
             "colorbar": {
              "outlinewidth": 0,
              "ticks": ""
             }
            },
            "type": "scatterternary"
           }
          ],
          "surface": [
           {
            "colorbar": {
             "outlinewidth": 0,
             "ticks": ""
            },
            "colorscale": [
             [
              0,
              "#0d0887"
             ],
             [
              0.1111111111111111,
              "#46039f"
             ],
             [
              0.2222222222222222,
              "#7201a8"
             ],
             [
              0.3333333333333333,
              "#9c179e"
             ],
             [
              0.4444444444444444,
              "#bd3786"
             ],
             [
              0.5555555555555556,
              "#d8576b"
             ],
             [
              0.6666666666666666,
              "#ed7953"
             ],
             [
              0.7777777777777778,
              "#fb9f3a"
             ],
             [
              0.8888888888888888,
              "#fdca26"
             ],
             [
              1,
              "#f0f921"
             ]
            ],
            "type": "surface"
           }
          ],
          "table": [
           {
            "cells": {
             "fill": {
              "color": "#EBF0F8"
             },
             "line": {
              "color": "white"
             }
            },
            "header": {
             "fill": {
              "color": "#C8D4E3"
             },
             "line": {
              "color": "white"
             }
            },
            "type": "table"
           }
          ]
         },
         "layout": {
          "annotationdefaults": {
           "arrowcolor": "#2a3f5f",
           "arrowhead": 0,
           "arrowwidth": 1
          },
          "autotypenumbers": "strict",
          "coloraxis": {
           "colorbar": {
            "outlinewidth": 0,
            "ticks": ""
           }
          },
          "colorscale": {
           "diverging": [
            [
             0,
             "#8e0152"
            ],
            [
             0.1,
             "#c51b7d"
            ],
            [
             0.2,
             "#de77ae"
            ],
            [
             0.3,
             "#f1b6da"
            ],
            [
             0.4,
             "#fde0ef"
            ],
            [
             0.5,
             "#f7f7f7"
            ],
            [
             0.6,
             "#e6f5d0"
            ],
            [
             0.7,
             "#b8e186"
            ],
            [
             0.8,
             "#7fbc41"
            ],
            [
             0.9,
             "#4d9221"
            ],
            [
             1,
             "#276419"
            ]
           ],
           "sequential": [
            [
             0,
             "#0d0887"
            ],
            [
             0.1111111111111111,
             "#46039f"
            ],
            [
             0.2222222222222222,
             "#7201a8"
            ],
            [
             0.3333333333333333,
             "#9c179e"
            ],
            [
             0.4444444444444444,
             "#bd3786"
            ],
            [
             0.5555555555555556,
             "#d8576b"
            ],
            [
             0.6666666666666666,
             "#ed7953"
            ],
            [
             0.7777777777777778,
             "#fb9f3a"
            ],
            [
             0.8888888888888888,
             "#fdca26"
            ],
            [
             1,
             "#f0f921"
            ]
           ],
           "sequentialminus": [
            [
             0,
             "#0d0887"
            ],
            [
             0.1111111111111111,
             "#46039f"
            ],
            [
             0.2222222222222222,
             "#7201a8"
            ],
            [
             0.3333333333333333,
             "#9c179e"
            ],
            [
             0.4444444444444444,
             "#bd3786"
            ],
            [
             0.5555555555555556,
             "#d8576b"
            ],
            [
             0.6666666666666666,
             "#ed7953"
            ],
            [
             0.7777777777777778,
             "#fb9f3a"
            ],
            [
             0.8888888888888888,
             "#fdca26"
            ],
            [
             1,
             "#f0f921"
            ]
           ]
          },
          "colorway": [
           "#636efa",
           "#EF553B",
           "#00cc96",
           "#ab63fa",
           "#FFA15A",
           "#19d3f3",
           "#FF6692",
           "#B6E880",
           "#FF97FF",
           "#FECB52"
          ],
          "font": {
           "color": "#2a3f5f"
          },
          "geo": {
           "bgcolor": "white",
           "lakecolor": "white",
           "landcolor": "white",
           "showlakes": true,
           "showland": true,
           "subunitcolor": "#C8D4E3"
          },
          "hoverlabel": {
           "align": "left"
          },
          "hovermode": "closest",
          "mapbox": {
           "style": "light"
          },
          "paper_bgcolor": "white",
          "plot_bgcolor": "white",
          "polar": {
           "angularaxis": {
            "gridcolor": "#EBF0F8",
            "linecolor": "#EBF0F8",
            "ticks": ""
           },
           "bgcolor": "white",
           "radialaxis": {
            "gridcolor": "#EBF0F8",
            "linecolor": "#EBF0F8",
            "ticks": ""
           }
          },
          "scene": {
           "xaxis": {
            "backgroundcolor": "white",
            "gridcolor": "#DFE8F3",
            "gridwidth": 2,
            "linecolor": "#EBF0F8",
            "showbackground": true,
            "ticks": "",
            "zerolinecolor": "#EBF0F8"
           },
           "yaxis": {
            "backgroundcolor": "white",
            "gridcolor": "#DFE8F3",
            "gridwidth": 2,
            "linecolor": "#EBF0F8",
            "showbackground": true,
            "ticks": "",
            "zerolinecolor": "#EBF0F8"
           },
           "zaxis": {
            "backgroundcolor": "white",
            "gridcolor": "#DFE8F3",
            "gridwidth": 2,
            "linecolor": "#EBF0F8",
            "showbackground": true,
            "ticks": "",
            "zerolinecolor": "#EBF0F8"
           }
          },
          "shapedefaults": {
           "line": {
            "color": "#2a3f5f"
           }
          },
          "ternary": {
           "aaxis": {
            "gridcolor": "#DFE8F3",
            "linecolor": "#A2B1C6",
            "ticks": ""
           },
           "baxis": {
            "gridcolor": "#DFE8F3",
            "linecolor": "#A2B1C6",
            "ticks": ""
           },
           "bgcolor": "white",
           "caxis": {
            "gridcolor": "#DFE8F3",
            "linecolor": "#A2B1C6",
            "ticks": ""
           }
          },
          "title": {
           "x": 0.05
          },
          "xaxis": {
           "automargin": true,
           "gridcolor": "#EBF0F8",
           "linecolor": "#EBF0F8",
           "ticks": "",
           "title": {
            "standoff": 15
           },
           "zerolinecolor": "#EBF0F8",
           "zerolinewidth": 2
          },
          "yaxis": {
           "automargin": true,
           "gridcolor": "#EBF0F8",
           "linecolor": "#EBF0F8",
           "ticks": "",
           "title": {
            "standoff": 15
           },
           "zerolinecolor": "#EBF0F8",
           "zerolinewidth": 2
          }
         }
        },
        "title": {
         "text": " "
        },
        "width": 800,
        "xaxis": {
         "anchor": "y",
         "domain": [
          0,
          0.94
         ],
         "title": {
          "text": "Time"
         }
        },
        "yaxis": {
         "anchor": "x",
         "domain": [
          0,
          1
         ],
         "title": {
          "text": "PRCP"
         }
        },
        "yaxis2": {
         "anchor": "x",
         "overlaying": "y",
         "side": "right"
        }
       }
      }
     },
     "metadata": {},
     "output_type": "display_data"
    }
   ],
   "source": [
    "plot_timeseries_interactive(dict_plot, trendline = True);"
   ]
  },
  {
   "cell_type": "code",
   "execution_count": 11,
   "metadata": {},
   "outputs": [
    {
     "data": {
      "image/png": "[encoded data removed]",
      "text/plain": [
       "<Figure size 640x480 with 1 Axes>"
      ]
     },
     "metadata": {},
     "output_type": "display_data"
    }
   ],
   "source": [
    "from scipy.stats import genextreme\n",
    "import matplotlib.pyplot as plt\n",
    "# Fit the data to GEV distribution\n",
    "params = genextreme.fit(datag)\n",
    "\n",
    "# Plot the histogram\n",
    "plt.hist(datag, bins=10, density=True, alpha=0.5, label='Data', color = get_df_col()[1])\n",
    "\n",
    "# Generate the GEV distribution using the fitted parameters\n",
    "gev_dist = genextreme(*params)\n",
    "\n",
    "# Plot the GEV distribution\n",
    "x = np.linspace(datag.min(), datag.max(), 100)\n",
    "plt.plot(x, gev_dist.pdf(x), '-', color = get_df_col()[0], label='GEV Distribution')\n",
    "\n",
    "plt.xlabel('Annual Maximum Precipitation (mm)')\n",
    "plt.ylabel('Probability Density')\n",
    "plt.legend()\n",
    "plt.show()\n"
   ]
  },
  {
   "cell_type": "code",
   "execution_count": 12,
   "metadata": {},
   "outputs": [],
   "source": [
    "nsims = 1000\n",
    "years_sim = 100  # years of precipitation to simulate\n",
    "\n",
    "# use simulated GEVs\n",
    "var_sim = np.zeros([years_sim, nsims])*np.nan  # initialize output numpy array\n",
    "for sim in range(nsims):\n",
    "    \n",
    "    var_sim[:, sim] = gev_dist.rvs(size=years_sim)\n",
    "\n",
    "var_sim = var_sim.T \n",
    "time_sim = np.arange('1970-10-01', '{0}-10-01'.format(1970+years_sim), dtype='datetime64[Y]')\n",
    " "
   ]
  },
  {
   "cell_type": "code",
   "execution_count": 13,
   "metadata": {},
   "outputs": [],
   "source": [
    "# aux func for calculating rp time\n",
    "def t_rp(time_y):\n",
    "    ny = len(time_y)\n",
    "    return np.array([1/(1-(n/(ny+1))) for n in np.arange(1,ny+1)])\n",
    "\n",
    "# historical rp time and sorted annual maxima\n",
    "trp_hist = t_rp(np.unique(data.index.year))\n",
    "trp_hist_val = np.sort(data['PRCP'].groupby(data.index.year).max().values)\n",
    "\n",
    "# simulation rp time and sorted annual maxima\n",
    "trp_sim = t_rp(time_sim)\n",
    "trp_sim_val = np.sort(var_sim)\n",
    "\n",
    "# calculate simulation maxima percentiles\n",
    "p95 = np.percentile(trp_sim_val, 100-5/2.0, axis=0,)\n",
    "p50 = np.percentile(trp_sim_val, 50, axis=0,)\n",
    "p05 = np.percentile(trp_sim_val, 5/2.0, axis=0,)"
   ]
  },
  {
   "cell_type": "code",
   "execution_count": 14,
   "metadata": {},
   "outputs": [],
   "source": [
    "import plotly.graph_objects as go"
   ]
  },
  {
   "cell_type": "code",
   "execution_count": 15,
   "metadata": {},
   "outputs": [
    {
     "data": {
      "application/vnd.plotly.v1+json": {
       "config": {
        "plotlyServerURL": "https://plot.ly"
       },
       "data": [
        {
         "marker": {
          "color": "mediumturquoise"
         },
         "mode": "lines",
         "name": "P95",
         "type": "scatter",
         "x": [
          1.01,
          1.02020202020202,
          1.030612244897959,
          1.041237113402062,
          1.0520833333333335,
          1.063157894736842,
          1.074468085106383,
          1.086021505376344,
          1.0978260869565217,
          1.10989010989011,
          1.1222222222222222,
          1.1348314606741572,
          1.1477272727272727,
          1.160919540229885,
          1.1744186046511629,
          1.188235294117647,
          1.2023809523809523,
          1.2168674698795179,
          1.2317073170731707,
          1.2469135802469136,
          1.2625,
          1.2784810126582278,
          1.294871794871795,
          1.3116883116883116,
          1.3289473684210527,
          1.3466666666666667,
          1.364864864864865,
          1.3835616438356164,
          1.402777777777778,
          1.4225352112676057,
          1.442857142857143,
          1.463768115942029,
          1.4852941176470589,
          1.5074626865671643,
          1.5303030303030303,
          1.5538461538461539,
          1.578125,
          1.6031746031746033,
          1.6290322580645162,
          1.6557377049180328,
          1.6833333333333333,
          1.711864406779661,
          1.7413793103448274,
          1.7719298245614032,
          1.8035714285714284,
          1.8363636363636362,
          1.8703703703703702,
          1.9056603773584906,
          1.9423076923076923,
          1.9803921568627452,
          2.02,
          2.061224489795918,
          2.104166666666667,
          2.148936170212766,
          2.1956521739130435,
          2.244444444444445,
          2.295454545454545,
          2.3488372093023253,
          2.4047619047619047,
          2.4634146341463414,
          2.525,
          2.58974358974359,
          2.6578947368421053,
          2.72972972972973,
          2.805555555555556,
          2.885714285714286,
          2.9705882352941178,
          3.060606060606061,
          3.1562500000000004,
          3.2580645161290316,
          3.3666666666666663,
          3.482758620689655,
          3.6071428571428568,
          3.7407407407407405,
          3.8846153846153846,
          4.04,
          4.208333333333334,
          4.391304347826087,
          4.590909090909092,
          4.80952380952381,
          5.050000000000002,
          5.315789473684212,
          5.61111111111111,
          5.941176470588234,
          6.312499999999999,
          6.7333333333333325,
          7.2142857142857135,
          7.769230769230769,
          8.416666666666668,
          9.181818181818183,
          10.100000000000003,
          11.222222222222227,
          12.625000000000007,
          14.42857142857144,
          16.833333333333318,
          20.19999999999998,
          25.24999999999998,
          33.666666666666636,
          50.49999999999996,
          100.99999999999991
         ],
         "y": [
          80.46417333545112,
          84.52018591132945,
          88.5401029488121,
          90.53048902612808,
          92.59824723698885,
          94.81883118792874,
          96.61790635296501,
          98.4532576735122,
          100.19357766846598,
          101.93422242052111,
          103.6879053210684,
          105.06688960565546,
          106.52788603750665,
          107.77264245017575,
          109.14086171448989,
          110.55675504896091,
          112.03122734918225,
          112.91018746881403,
          114.17339094079897,
          115.36186055577353,
          116.56679335910107,
          118.08495972620035,
          119.73927966552544,
          120.80971873066082,
          121.90893846561907,
          122.80226082301873,
          124.10351938840144,
          125.06020900769975,
          126.03596474403928,
          127.78049729057106,
          128.6027168817833,
          129.96112601096218,
          131.13201559761632,
          132.33008413488903,
          133.37482036480012,
          134.5681870332171,
          135.6822130819111,
          137.19660320568724,
          138.10553910895854,
          139.12604020345222,
          140.61219929905496,
          141.35479114168876,
          142.72505817225658,
          143.76055480134937,
          144.8072969386497,
          146.42515394929353,
          147.73757894595417,
          149.17100245737325,
          150.53480888394225,
          151.75836526076463,
          153.45060621201557,
          154.4296021515927,
          156.60193718081325,
          158.2877508909281,
          159.32198022602168,
          160.6256061054584,
          161.8440810793523,
          163.2316215567026,
          165.21184347359377,
          166.3380758261833,
          168.6127719353158,
          169.97641012878452,
          171.45616357921963,
          173.80467871364482,
          174.83844854335632,
          176.5874107403619,
          178.48643137234268,
          180.91950576586217,
          182.55598307624322,
          184.6815962933898,
          187.00098081423343,
          188.7226984393771,
          191.72205112015234,
          193.9081348249293,
          196.96605493364325,
          199.62618673632662,
          202.88849510031795,
          205.73198644678828,
          209.147640100828,
          211.30165413453113,
          215.99917605758256,
          217.43835441057996,
          221.948924416371,
          225.91108306193195,
          229.37837852413114,
          233.75906120778694,
          238.62895879387997,
          241.93305966659062,
          247.8776096981088,
          254.95478328594444,
          262.3743914252629,
          270.03641400902234,
          279.40062582822054,
          291.99582110836224,
          306.87771055855785,
          329.0838737008144,
          353.66236023788593,
          391.0654670934846,
          455.4145365134308,
          642.0851491331838
         ]
        },
        {
         "fill": "tonexty",
         "fillcolor": "rgba(0, 181, 204, 0.10)",
         "marker": {
          "color": "mediumturquoise"
         },
         "mode": "lines",
         "name": "P05",
         "type": "scatter",
         "x": [
          1.01,
          1.02020202020202,
          1.030612244897959,
          1.041237113402062,
          1.0520833333333335,
          1.063157894736842,
          1.074468085106383,
          1.086021505376344,
          1.0978260869565217,
          1.10989010989011,
          1.1222222222222222,
          1.1348314606741572,
          1.1477272727272727,
          1.160919540229885,
          1.1744186046511629,
          1.188235294117647,
          1.2023809523809523,
          1.2168674698795179,
          1.2317073170731707,
          1.2469135802469136,
          1.2625,
          1.2784810126582278,
          1.294871794871795,
          1.3116883116883116,
          1.3289473684210527,
          1.3466666666666667,
          1.364864864864865,
          1.3835616438356164,
          1.402777777777778,
          1.4225352112676057,
          1.442857142857143,
          1.463768115942029,
          1.4852941176470589,
          1.5074626865671643,
          1.5303030303030303,
          1.5538461538461539,
          1.578125,
          1.6031746031746033,
          1.6290322580645162,
          1.6557377049180328,
          1.6833333333333333,
          1.711864406779661,
          1.7413793103448274,
          1.7719298245614032,
          1.8035714285714284,
          1.8363636363636362,
          1.8703703703703702,
          1.9056603773584906,
          1.9423076923076923,
          1.9803921568627452,
          2.02,
          2.061224489795918,
          2.104166666666667,
          2.148936170212766,
          2.1956521739130435,
          2.244444444444445,
          2.295454545454545,
          2.3488372093023253,
          2.4047619047619047,
          2.4634146341463414,
          2.525,
          2.58974358974359,
          2.6578947368421053,
          2.72972972972973,
          2.805555555555556,
          2.885714285714286,
          2.9705882352941178,
          3.060606060606061,
          3.1562500000000004,
          3.2580645161290316,
          3.3666666666666663,
          3.482758620689655,
          3.6071428571428568,
          3.7407407407407405,
          3.8846153846153846,
          4.04,
          4.208333333333334,
          4.391304347826087,
          4.590909090909092,
          4.80952380952381,
          5.050000000000002,
          5.315789473684212,
          5.61111111111111,
          5.941176470588234,
          6.312499999999999,
          6.7333333333333325,
          7.2142857142857135,
          7.769230769230769,
          8.416666666666668,
          9.181818181818183,
          10.100000000000003,
          11.222222222222227,
          12.625000000000007,
          14.42857142857144,
          16.833333333333318,
          20.19999999999998,
          25.24999999999998,
          33.666666666666636,
          50.49999999999996,
          100.99999999999991
         ],
         "y": [
          49.68455380197468,
          60.40003819787208,
          66.0180316141777,
          69.44634522996714,
          72.68624931719172,
          76.23409698184663,
          78.66067377405251,
          80.35818722919109,
          82.12827053963606,
          83.83363353148287,
          85.45720003600935,
          87.10614962740534,
          88.2369929465204,
          89.46328667427048,
          91.12608110281123,
          92.0839243628216,
          92.95676823533628,
          94.4950666640474,
          95.94272834201338,
          97.22984221543122,
          98.04634336390649,
          99.70663737231953,
          100.2957331485252,
          101.33786279656582,
          102.37954848660151,
          103.21941407907262,
          104.1282868176952,
          105.00254586253466,
          106.00619164148542,
          107.6075034102958,
          108.79831861893237,
          109.38421320250247,
          110.37139094800376,
          111.56441472526996,
          112.80648989742562,
          113.70955463064175,
          114.89165691850977,
          115.5280241058079,
          116.97622070778313,
          118.03081637169105,
          119.57136606847871,
          120.40480793016128,
          121.69923590851793,
          122.27291579455483,
          123.47301067832147,
          124.31031436845134,
          125.25285129454286,
          126.04426328453685,
          127.36770639572565,
          128.18660502557762,
          129.3723114425164,
          130.71989739395468,
          132.11402190097982,
          133.04237770913997,
          134.06219209518193,
          135.78133146209444,
          136.92913974901577,
          137.8613719793895,
          139.1082475963774,
          140.22894316224864,
          141.00842927980702,
          142.27436855810572,
          143.53531254291767,
          145.03869165460534,
          146.50654282565839,
          147.55785664519874,
          149.11000357703864,
          150.31851047398968,
          151.67232284710676,
          152.81825023286967,
          154.19813712547185,
          156.31163448432707,
          157.87956255083597,
          159.32220474098725,
          160.86898713719643,
          162.2662718527521,
          163.88476813195552,
          166.59282805735074,
          168.51908822600544,
          170.50740295884302,
          172.34711760344464,
          174.36891748918396,
          177.60310364362073,
          179.74196833487,
          182.73305365095212,
          185.39234388088244,
          187.34367911938776,
          190.91258204608974,
          194.15717434893915,
          197.6446762753272,
          200.90863147792794,
          205.47637092113595,
          210.0074678421446,
          215.70123619876173,
          221.97544793239047,
          227.30882529130363,
          235.3886930134164,
          243.96727447575364,
          259.14393144427737,
          281.4837622011448
         ]
        },
        {
         "marker": {
          "color": "black"
         },
         "mode": "lines",
         "name": "P50",
         "type": "scatter",
         "x": [
          1.01,
          1.02020202020202,
          1.030612244897959,
          1.041237113402062,
          1.0520833333333335,
          1.063157894736842,
          1.074468085106383,
          1.086021505376344,
          1.0978260869565217,
          1.10989010989011,
          1.1222222222222222,
          1.1348314606741572,
          1.1477272727272727,
          1.160919540229885,
          1.1744186046511629,
          1.188235294117647,
          1.2023809523809523,
          1.2168674698795179,
          1.2317073170731707,
          1.2469135802469136,
          1.2625,
          1.2784810126582278,
          1.294871794871795,
          1.3116883116883116,
          1.3289473684210527,
          1.3466666666666667,
          1.364864864864865,
          1.3835616438356164,
          1.402777777777778,
          1.4225352112676057,
          1.442857142857143,
          1.463768115942029,
          1.4852941176470589,
          1.5074626865671643,
          1.5303030303030303,
          1.5538461538461539,
          1.578125,
          1.6031746031746033,
          1.6290322580645162,
          1.6557377049180328,
          1.6833333333333333,
          1.711864406779661,
          1.7413793103448274,
          1.7719298245614032,
          1.8035714285714284,
          1.8363636363636362,
          1.8703703703703702,
          1.9056603773584906,
          1.9423076923076923,
          1.9803921568627452,
          2.02,
          2.061224489795918,
          2.104166666666667,
          2.148936170212766,
          2.1956521739130435,
          2.244444444444445,
          2.295454545454545,
          2.3488372093023253,
          2.4047619047619047,
          2.4634146341463414,
          2.525,
          2.58974358974359,
          2.6578947368421053,
          2.72972972972973,
          2.805555555555556,
          2.885714285714286,
          2.9705882352941178,
          3.060606060606061,
          3.1562500000000004,
          3.2580645161290316,
          3.3666666666666663,
          3.482758620689655,
          3.6071428571428568,
          3.7407407407407405,
          3.8846153846153846,
          4.04,
          4.208333333333334,
          4.391304347826087,
          4.590909090909092,
          4.80952380952381,
          5.050000000000002,
          5.315789473684212,
          5.61111111111111,
          5.941176470588234,
          6.312499999999999,
          6.7333333333333325,
          7.2142857142857135,
          7.769230769230769,
          8.416666666666668,
          9.181818181818183,
          10.100000000000003,
          11.222222222222227,
          12.625000000000007,
          14.42857142857144,
          16.833333333333318,
          20.19999999999998,
          25.24999999999998,
          33.666666666666636,
          50.49999999999996,
          100.99999999999991
         ],
         "y": [
          66.56541703683588,
          73.33353636694788,
          77.31575603737997,
          80.66291269977712,
          83.54925284513524,
          85.82940569117578,
          87.86974623808646,
          89.64306727458018,
          91.37962362454715,
          93.24359185451648,
          94.7506608679,
          96.19547712773132,
          97.5149412387773,
          98.92759532233806,
          100.30143611838687,
          101.39128616766205,
          102.68127186431708,
          103.90340767187645,
          104.95535450532486,
          106.29515516289568,
          107.42165245214031,
          108.61964738929552,
          109.8652899431146,
          110.87263889599645,
          112.09802485593735,
          113.14147149690433,
          114.1292356128862,
          115.26490578520118,
          116.27207218554022,
          117.46934993294937,
          118.56093345700256,
          119.62251566003181,
          120.86899863844476,
          121.92186553262229,
          122.84123198418959,
          123.98841348323221,
          125.14824525937946,
          126.24709380901947,
          127.24546649267941,
          128.31849552142054,
          129.3432921435678,
          130.4788047915402,
          131.38333317640382,
          132.39959011987258,
          133.64172535718657,
          134.8289782284677,
          136.003685537087,
          137.1432463511025,
          138.28613845339197,
          139.5744964329139,
          140.94014955687595,
          142.08169596193682,
          143.3183566596108,
          144.49017744995166,
          145.77950293859135,
          146.906851146168,
          148.21018880333867,
          149.61945986248782,
          150.72287732990324,
          151.9584781949555,
          153.4589129299814,
          154.8280712992725,
          156.37994012702424,
          158.03642300501565,
          159.40165816922092,
          160.9900009627122,
          162.59354104348674,
          164.37025883500286,
          165.9398449037517,
          167.86269274090012,
          169.70240256682308,
          171.2286718520291,
          173.22148909945884,
          175.02620142118946,
          176.83524087715801,
          179.0912477369561,
          181.3168266719574,
          183.98224188958505,
          186.25901473731307,
          188.70616879862428,
          191.2711168720218,
          193.9748807369666,
          196.58656999177444,
          199.82274826158365,
          202.40054597086612,
          206.29577062479882,
          209.80476382417578,
          213.3914458362986,
          217.3515149198233,
          222.06578052431706,
          228.01083498267604,
          233.62367453801323,
          240.20373653487147,
          247.62812285205064,
          257.2991616149333,
          266.9511609163543,
          281.4351569709735,
          299.06149376335884,
          326.9333520488491,
          380.899966581489
         ]
        },
        {
         "marker": {
          "color": "red"
         },
         "mode": "markers",
         "name": "Hist",
         "type": "scatter",
         "x": [
          1.0138888888888888,
          1.028169014084507,
          1.0428571428571427,
          1.0579710144927537,
          1.0735294117647058,
          1.0895522388059702,
          1.106060606060606,
          1.123076923076923,
          1.140625,
          1.1587301587301586,
          1.1774193548387095,
          1.1967213114754098,
          1.2166666666666668,
          1.2372881355932204,
          1.2586206896551724,
          1.280701754385965,
          1.3035714285714286,
          1.3272727272727272,
          1.3518518518518516,
          1.3773584905660377,
          1.403846153846154,
          1.4313725490196079,
          1.4599999999999997,
          1.4897959183673468,
          1.5208333333333335,
          1.553191489361702,
          1.5869565217391302,
          1.6222222222222222,
          1.6590909090909092,
          1.697674418604651,
          1.738095238095238,
          1.7804878048780488,
          1.8250000000000002,
          1.8717948717948718,
          1.9210526315789471,
          1.9729729729729728,
          2.0277777777777777,
          2.0857142857142854,
          2.1470588235294117,
          2.212121212121212,
          2.28125,
          2.354838709677419,
          2.4333333333333336,
          2.5172413793103448,
          2.607142857142857,
          2.7037037037037033,
          2.807692307692308,
          2.9199999999999995,
          3.041666666666667,
          3.1739130434782603,
          3.3181818181818183,
          3.476190476190476,
          3.6500000000000004,
          3.8421052631578942,
          4.055555555555555,
          4.2941176470588225,
          4.5625,
          4.866666666666665,
          5.214285714285714,
          5.615384615384614,
          6.083333333333334,
          6.636363636363634,
          7.300000000000001,
          8.111111111111107,
          9.125,
          10.428571428571423,
          12.166666666666668,
          14.599999999999989,
          18.25,
          24.3333333333333,
          36.5,
          72.9999999999997
         ],
         "y": [
          72.9,
          76.2,
          79.8,
          80.8,
          81.5,
          84.3,
          85.6,
          88.1,
          97.3,
          99.8,
          100.6,
          101.3,
          101.6,
          105.4,
          105.4,
          107.7,
          114.6,
          114.8,
          114.8,
          115.1,
          115.6,
          117.6,
          119.1,
          121.4,
          121.9,
          124.7,
          124.7,
          126,
          126.7,
          127.8,
          131.1,
          134.4,
          135.4,
          135.6,
          136.4,
          136.9,
          137.9,
          143.3,
          145.8,
          146.6,
          147.8,
          156.5,
          156.7,
          157,
          157.5,
          159,
          162.1,
          168.4,
          168.7,
          173.5,
          175.5,
          176.8,
          179.3,
          180.6,
          186.2,
          186.4,
          191.8,
          192,
          194.3,
          195.6,
          200.7,
          201.2,
          202.9,
          203.5,
          207.3,
          208.3,
          208.5,
          254.3,
          296.4,
          305.8,
          348.5,
          350
         ]
        }
       ],
       "layout": {
        "height": 500,
        "template": {
         "data": {
          "bar": [
           {
            "error_x": {
             "color": "#2a3f5f"
            },
            "error_y": {
             "color": "#2a3f5f"
            },
            "marker": {
             "line": {
              "color": "#E5ECF6",
              "width": 0.5
             },
             "pattern": {
              "fillmode": "overlay",
              "size": 10,
              "solidity": 0.2
             }
            },
            "type": "bar"
           }
          ],
          "barpolar": [
           {
            "marker": {
             "line": {
              "color": "#E5ECF6",
              "width": 0.5
             },
             "pattern": {
              "fillmode": "overlay",
              "size": 10,
              "solidity": 0.2
             }
            },
            "type": "barpolar"
           }
          ],
          "carpet": [
           {
            "aaxis": {
             "endlinecolor": "#2a3f5f",
             "gridcolor": "white",
             "linecolor": "white",
             "minorgridcolor": "white",
             "startlinecolor": "#2a3f5f"
            },
            "baxis": {
             "endlinecolor": "#2a3f5f",
             "gridcolor": "white",
             "linecolor": "white",
             "minorgridcolor": "white",
             "startlinecolor": "#2a3f5f"
            },
            "type": "carpet"
           }
          ],
          "choropleth": [
           {
            "colorbar": {
             "outlinewidth": 0,
             "ticks": ""
            },
            "type": "choropleth"
           }
          ],
          "contour": [
           {
            "colorbar": {
             "outlinewidth": 0,
             "ticks": ""
            },
            "colorscale": [
             [
              0,
              "#0d0887"
             ],
             [
              0.1111111111111111,
              "#46039f"
             ],
             [
              0.2222222222222222,
              "#7201a8"
             ],
             [
              0.3333333333333333,
              "#9c179e"
             ],
             [
              0.4444444444444444,
              "#bd3786"
             ],
             [
              0.5555555555555556,
              "#d8576b"
             ],
             [
              0.6666666666666666,
              "#ed7953"
             ],
             [
              0.7777777777777778,
              "#fb9f3a"
             ],
             [
              0.8888888888888888,
              "#fdca26"
             ],
             [
              1,
              "#f0f921"
             ]
            ],
            "type": "contour"
           }
          ],
          "contourcarpet": [
           {
            "colorbar": {
             "outlinewidth": 0,
             "ticks": ""
            },
            "type": "contourcarpet"
           }
          ],
          "heatmap": [
           {
            "colorbar": {
             "outlinewidth": 0,
             "ticks": ""
            },
            "colorscale": [
             [
              0,
              "#0d0887"
             ],
             [
              0.1111111111111111,
              "#46039f"
             ],
             [
              0.2222222222222222,
              "#7201a8"
             ],
             [
              0.3333333333333333,
              "#9c179e"
             ],
             [
              0.4444444444444444,
              "#bd3786"
             ],
             [
              0.5555555555555556,
              "#d8576b"
             ],
             [
              0.6666666666666666,
              "#ed7953"
             ],
             [
              0.7777777777777778,
              "#fb9f3a"
             ],
             [
              0.8888888888888888,
              "#fdca26"
             ],
             [
              1,
              "#f0f921"
             ]
            ],
            "type": "heatmap"
           }
          ],
          "heatmapgl": [
           {
            "colorbar": {
             "outlinewidth": 0,
             "ticks": ""
            },
            "colorscale": [
             [
              0,
              "#0d0887"
             ],
             [
              0.1111111111111111,
              "#46039f"
             ],
             [
              0.2222222222222222,
              "#7201a8"
             ],
             [
              0.3333333333333333,
              "#9c179e"
             ],
             [
              0.4444444444444444,
              "#bd3786"
             ],
             [
              0.5555555555555556,
              "#d8576b"
             ],
             [
              0.6666666666666666,
              "#ed7953"
             ],
             [
              0.7777777777777778,
              "#fb9f3a"
             ],
             [
              0.8888888888888888,
              "#fdca26"
             ],
             [
              1,
              "#f0f921"
             ]
            ],
            "type": "heatmapgl"
           }
          ],
          "histogram": [
           {
            "marker": {
             "pattern": {
              "fillmode": "overlay",
              "size": 10,
              "solidity": 0.2
             }
            },
            "type": "histogram"
           }
          ],
          "histogram2d": [
           {
            "colorbar": {
             "outlinewidth": 0,
             "ticks": ""
            },
            "colorscale": [
             [
              0,
              "#0d0887"
             ],
             [
              0.1111111111111111,
              "#46039f"
             ],
             [
              0.2222222222222222,
              "#7201a8"
             ],
             [
              0.3333333333333333,
              "#9c179e"
             ],
             [
              0.4444444444444444,
              "#bd3786"
             ],
             [
              0.5555555555555556,
              "#d8576b"
             ],
             [
              0.6666666666666666,
              "#ed7953"
             ],
             [
              0.7777777777777778,
              "#fb9f3a"
             ],
             [
              0.8888888888888888,
              "#fdca26"
             ],
             [
              1,
              "#f0f921"
             ]
            ],
            "type": "histogram2d"
           }
          ],
          "histogram2dcontour": [
           {
            "colorbar": {
             "outlinewidth": 0,
             "ticks": ""
            },
            "colorscale": [
             [
              0,
              "#0d0887"
             ],
             [
              0.1111111111111111,
              "#46039f"
             ],
             [
              0.2222222222222222,
              "#7201a8"
             ],
             [
              0.3333333333333333,
              "#9c179e"
             ],
             [
              0.4444444444444444,
              "#bd3786"
             ],
             [
              0.5555555555555556,
              "#d8576b"
             ],
             [
              0.6666666666666666,
              "#ed7953"
             ],
             [
              0.7777777777777778,
              "#fb9f3a"
             ],
             [
              0.8888888888888888,
              "#fdca26"
             ],
             [
              1,
              "#f0f921"
             ]
            ],
            "type": "histogram2dcontour"
           }
          ],
          "mesh3d": [
           {
            "colorbar": {
             "outlinewidth": 0,
             "ticks": ""
            },
            "type": "mesh3d"
           }
          ],
          "parcoords": [
           {
            "line": {
             "colorbar": {
              "outlinewidth": 0,
              "ticks": ""
             }
            },
            "type": "parcoords"
           }
          ],
          "pie": [
           {
            "automargin": true,
            "type": "pie"
           }
          ],
          "scatter": [
           {
            "fillpattern": {
             "fillmode": "overlay",
             "size": 10,
             "solidity": 0.2
            },
            "type": "scatter"
           }
          ],
          "scatter3d": [
           {
            "line": {
             "colorbar": {
              "outlinewidth": 0,
              "ticks": ""
             }
            },
            "marker": {
             "colorbar": {
              "outlinewidth": 0,
              "ticks": ""
             }
            },
            "type": "scatter3d"
           }
          ],
          "scattercarpet": [
           {
            "marker": {
             "colorbar": {
              "outlinewidth": 0,
              "ticks": ""
             }
            },
            "type": "scattercarpet"
           }
          ],
          "scattergeo": [
           {
            "marker": {
             "colorbar": {
              "outlinewidth": 0,
              "ticks": ""
             }
            },
            "type": "scattergeo"
           }
          ],
          "scattergl": [
           {
            "marker": {
             "colorbar": {
              "outlinewidth": 0,
              "ticks": ""
             }
            },
            "type": "scattergl"
           }
          ],
          "scattermapbox": [
           {
            "marker": {
             "colorbar": {
              "outlinewidth": 0,
              "ticks": ""
             }
            },
            "type": "scattermapbox"
           }
          ],
          "scatterpolar": [
           {
            "marker": {
             "colorbar": {
              "outlinewidth": 0,
              "ticks": ""
             }
            },
            "type": "scatterpolar"
           }
          ],
          "scatterpolargl": [
           {
            "marker": {
             "colorbar": {
              "outlinewidth": 0,
              "ticks": ""
             }
            },
            "type": "scatterpolargl"
           }
          ],
          "scatterternary": [
           {
            "marker": {
             "colorbar": {
              "outlinewidth": 0,
              "ticks": ""
             }
            },
            "type": "scatterternary"
           }
          ],
          "surface": [
           {
            "colorbar": {
             "outlinewidth": 0,
             "ticks": ""
            },
            "colorscale": [
             [
              0,
              "#0d0887"
             ],
             [
              0.1111111111111111,
              "#46039f"
             ],
             [
              0.2222222222222222,
              "#7201a8"
             ],
             [
              0.3333333333333333,
              "#9c179e"
             ],
             [
              0.4444444444444444,
              "#bd3786"
             ],
             [
              0.5555555555555556,
              "#d8576b"
             ],
             [
              0.6666666666666666,
              "#ed7953"
             ],
             [
              0.7777777777777778,
              "#fb9f3a"
             ],
             [
              0.8888888888888888,
              "#fdca26"
             ],
             [
              1,
              "#f0f921"
             ]
            ],
            "type": "surface"
           }
          ],
          "table": [
           {
            "cells": {
             "fill": {
              "color": "#EBF0F8"
             },
             "line": {
              "color": "white"
             }
            },
            "header": {
             "fill": {
              "color": "#C8D4E3"
             },
             "line": {
              "color": "white"
             }
            },
            "type": "table"
           }
          ]
         },
         "layout": {
          "annotationdefaults": {
           "arrowcolor": "#2a3f5f",
           "arrowhead": 0,
           "arrowwidth": 1
          },
          "autotypenumbers": "strict",
          "coloraxis": {
           "colorbar": {
            "outlinewidth": 0,
            "ticks": ""
           }
          },
          "colorscale": {
           "diverging": [
            [
             0,
             "#8e0152"
            ],
            [
             0.1,
             "#c51b7d"
            ],
            [
             0.2,
             "#de77ae"
            ],
            [
             0.3,
             "#f1b6da"
            ],
            [
             0.4,
             "#fde0ef"
            ],
            [
             0.5,
             "#f7f7f7"
            ],
            [
             0.6,
             "#e6f5d0"
            ],
            [
             0.7,
             "#b8e186"
            ],
            [
             0.8,
             "#7fbc41"
            ],
            [
             0.9,
             "#4d9221"
            ],
            [
             1,
             "#276419"
            ]
           ],
           "sequential": [
            [
             0,
             "#0d0887"
            ],
            [
             0.1111111111111111,
             "#46039f"
            ],
            [
             0.2222222222222222,
             "#7201a8"
            ],
            [
             0.3333333333333333,
             "#9c179e"
            ],
            [
             0.4444444444444444,
             "#bd3786"
            ],
            [
             0.5555555555555556,
             "#d8576b"
            ],
            [
             0.6666666666666666,
             "#ed7953"
            ],
            [
             0.7777777777777778,
             "#fb9f3a"
            ],
            [
             0.8888888888888888,
             "#fdca26"
            ],
            [
             1,
             "#f0f921"
            ]
           ],
           "sequentialminus": [
            [
             0,
             "#0d0887"
            ],
            [
             0.1111111111111111,
             "#46039f"
            ],
            [
             0.2222222222222222,
             "#7201a8"
            ],
            [
             0.3333333333333333,
             "#9c179e"
            ],
            [
             0.4444444444444444,
             "#bd3786"
            ],
            [
             0.5555555555555556,
             "#d8576b"
            ],
            [
             0.6666666666666666,
             "#ed7953"
            ],
            [
             0.7777777777777778,
             "#fb9f3a"
            ],
            [
             0.8888888888888888,
             "#fdca26"
            ],
            [
             1,
             "#f0f921"
            ]
           ]
          },
          "colorway": [
           "#636efa",
           "#EF553B",
           "#00cc96",
           "#ab63fa",
           "#FFA15A",
           "#19d3f3",
           "#FF6692",
           "#B6E880",
           "#FF97FF",
           "#FECB52"
          ],
          "font": {
           "color": "#2a3f5f"
          },
          "geo": {
           "bgcolor": "white",
           "lakecolor": "white",
           "landcolor": "#E5ECF6",
           "showlakes": true,
           "showland": true,
           "subunitcolor": "white"
          },
          "hoverlabel": {
           "align": "left"
          },
          "hovermode": "closest",
          "mapbox": {
           "style": "light"
          },
          "paper_bgcolor": "white",
          "plot_bgcolor": "#E5ECF6",
          "polar": {
           "angularaxis": {
            "gridcolor": "white",
            "linecolor": "white",
            "ticks": ""
           },
           "bgcolor": "#E5ECF6",
           "radialaxis": {
            "gridcolor": "white",
            "linecolor": "white",
            "ticks": ""
           }
          },
          "scene": {
           "xaxis": {
            "backgroundcolor": "#E5ECF6",
            "gridcolor": "white",
            "gridwidth": 2,
            "linecolor": "white",
            "showbackground": true,
            "ticks": "",
            "zerolinecolor": "white"
           },
           "yaxis": {
            "backgroundcolor": "#E5ECF6",
            "gridcolor": "white",
            "gridwidth": 2,
            "linecolor": "white",
            "showbackground": true,
            "ticks": "",
            "zerolinecolor": "white"
           },
           "zaxis": {
            "backgroundcolor": "#E5ECF6",
            "gridcolor": "white",
            "gridwidth": 2,
            "linecolor": "white",
            "showbackground": true,
            "ticks": "",
            "zerolinecolor": "white"
           }
          },
          "shapedefaults": {
           "line": {
            "color": "#2a3f5f"
           }
          },
          "ternary": {
           "aaxis": {
            "gridcolor": "white",
            "linecolor": "white",
            "ticks": ""
           },
           "baxis": {
            "gridcolor": "white",
            "linecolor": "white",
            "ticks": ""
           },
           "bgcolor": "#E5ECF6",
           "caxis": {
            "gridcolor": "white",
            "linecolor": "white",
            "ticks": ""
           }
          },
          "title": {
           "x": 0.05
          },
          "xaxis": {
           "automargin": true,
           "gridcolor": "white",
           "linecolor": "white",
           "ticks": "",
           "title": {
            "standoff": 15
           },
           "zerolinecolor": "white",
           "zerolinewidth": 2
          },
          "yaxis": {
           "automargin": true,
           "gridcolor": "white",
           "linecolor": "white",
           "ticks": "",
           "title": {
            "standoff": 15
           },
           "zerolinecolor": "white",
           "zerolinewidth": 2
          }
         }
        },
        "title": {
         "text": "Annual Maxima"
        },
        "width": 800,
        "xaxis": {
         "title": {
          "text": "Return Period (years)"
         },
         "type": "log"
        },
        "yaxis": {
         "title": {
          "text": "Precipitation (mm/d)"
         }
        }
       }
      }
     },
     "metadata": {},
     "output_type": "display_data"
    }
   ],
   "source": [
    "fig = go.Figure()\n",
    "fig.add_trace(go.Scatter(x=trp_sim, y=p95, mode='lines', name='P95', marker_color='mediumturquoise'))\n",
    "fig.add_trace(go.Scatter(x=trp_sim, y=p05, mode='lines', name='P05', marker_color='mediumturquoise',  fill='tonexty', fillcolor='rgba(0, 181, 204, 0.10)'))\n",
    "fig.add_trace(go.Scatter(x=trp_sim, y=p50, mode='lines', name='P50', marker_color='black'))\n",
    "fig.add_trace(go.Scatter(x=trp_hist, y=trp_hist_val, mode='markers', name='Hist', marker_color='red'))\n",
    "\n",
    "\n",
    "fig.update_xaxes(type=\"log\")\n",
    "fig.update_layout(    \n",
    "    xaxis_title = \"Return Period (years)\",\n",
    "    yaxis_title = \"Precipitation (mm/d)\",\n",
    "    title = 'Annual Maxima',\n",
    "    width=800, height=500\n",
    ")\n",
    "fig.show()"
   ]
  },
  {
   "cell_type": "code",
   "execution_count": null,
   "metadata": {},
   "outputs": [],
   "source": []
  }
 ],
 "metadata": {
  "kernelspec": {
   "display_name": "cc_indicators",
   "language": "python",
   "name": "python3"
  },
  "language_info": {
   "codemirror_mode": {
    "name": "ipython",
    "version": 3
   },
   "file_extension": ".py",
   "mimetype": "text/x-python",
   "name": "python",
   "nbconvert_exporter": "python",
   "pygments_lexer": "ipython3",
   "version": "3.12.0"
  }
 },
 "nbformat": 4,
 "nbformat_minor": 2
}
