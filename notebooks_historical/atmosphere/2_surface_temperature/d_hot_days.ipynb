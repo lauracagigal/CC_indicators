{
 "cells": [
  {
   "cell_type": "markdown",
   "metadata": {},
   "source": [
    "# Hot and cold days"
   ]
  },
  {
   "cell_type": "markdown",
   "metadata": {},
   "source": [
    "https://www.ncei.noaa.gov/data/global-historical-climatology-network-daily/doc/GHCND_documentation.pdf"
   ]
  },
  {
   "cell_type": "code",
   "execution_count": 1,
   "metadata": {},
   "outputs": [],
   "source": [
    "import warnings\n",
    "warnings.filterwarnings(\"ignore\")"
   ]
  },
  {
   "cell_type": "code",
   "execution_count": 17,
   "metadata": {},
   "outputs": [],
   "source": [
    "import os\n",
    "import sys\n",
    "\n",
    "import numpy as np\n",
    "import pandas as pd\n",
    "from datetime import datetime\n",
    "\n",
    "sys.path.append(\"../../../../indicators_setup\")\n",
    "from ind_setup.plotting_int import plot_timeseries_interactive\n",
    "from ind_setup.colors import get_df_col\n",
    "\n",
    "sys.path.append(\"../../../functions\")\n",
    "from data_downloaders import GHCN\n",
    "from temp_func import exceedance_rate_for_base_period, exceedance_rate_for_outbase_period"
   ]
  },
  {
   "cell_type": "markdown",
   "metadata": {},
   "source": [
    "## Define location and variables of interest"
   ]
  },
  {
   "cell_type": "code",
   "execution_count": 2,
   "metadata": {},
   "outputs": [],
   "source": [
    "country = 'Palau'\n",
    "vars_interest = ['TMIN', 'TMAX']"
   ]
  },
  {
   "cell_type": "markdown",
   "metadata": {},
   "source": [
    "## Get Data"
   ]
  },
  {
   "cell_type": "code",
   "execution_count": 3,
   "metadata": {},
   "outputs": [
    {
     "name": "stdout",
     "output_type": "stream",
     "text": [
      "The GHCN code for Palau is PS\n"
     ]
    }
   ],
   "source": [
    "df_country = GHCN.get_country_code(country)\n",
    "print(f'The GHCN code for {country} is {df_country[\"Code\"].values[0]}')"
   ]
  },
  {
   "cell_type": "code",
   "execution_count": 4,
   "metadata": {},
   "outputs": [
    {
     "name": "stdout",
     "output_type": "stream",
     "text": [
      "There are 13 stations in Palau\n"
     ]
    }
   ],
   "source": [
    "df_stations = GHCN.download_stations_info()\n",
    "df_country_stations = df_stations[df_stations['ID'].str.startswith(df_country.Code.values[0])]\n",
    "print(f'There are {df_country_stations.shape[0]} stations in {country}')"
   ]
  },
  {
   "cell_type": "code",
   "execution_count": 5,
   "metadata": {},
   "outputs": [],
   "source": [
    "GHCND_dir = 'https://www.ncei.noaa.gov/data/global-historical-climatology-network-daily/access/'"
   ]
  },
  {
   "cell_type": "markdown",
   "metadata": {},
   "source": [
    "## Using Koror Station"
   ]
  },
  {
   "cell_type": "code",
   "execution_count": 6,
   "metadata": {},
   "outputs": [
    {
     "name": "stderr",
     "output_type": "stream",
     "text": [
      "/Users/laurac/Documents/HAWAII/repository_GItHub/CC_indicators/notebooks_historical/atmosphere/2_surface_temperature/../../../functions/data_downloaders.py:168: DtypeWarning: Columns (17,19,21,23,25,27,29,31,33,35,37,39,41,43,45,47,49,51,53,55,57,59,61,63,65,67,69,71,73,75,77,79,81,83,85,87) have mixed types. Specify dtype option on import or set low_memory=False.\n",
      "  df = pd.read_csv(url_download, na_values=['-9999'])\n",
      "/Users/laurac/Documents/HAWAII/repository_GItHub/CC_indicators/notebooks_historical/atmosphere/2_surface_temperature/../../../functions/data_downloaders.py:168: DtypeWarning: Columns (17,19,21,23,25,27,29,31,33,35,37,39,41,43,45,47,49,51,53,55,57,59,61,63,65,67,69,71,73,75,77,79,81,83,85,87) have mixed types. Specify dtype option on import or set low_memory=False.\n",
      "  df = pd.read_csv(url_download, na_values=['-9999'])\n"
     ]
    }
   ],
   "source": [
    "id = 'PSW00040309' # Koror Station\n",
    "dict_min = GHCN.extract_dict_data_var(GHCND_dir, 'TMIN', df_country_stations.loc[df_country_stations['ID'] == id])[0][0]\n",
    "dict_max = GHCN.extract_dict_data_var(GHCND_dir, 'TMAX', df_country_stations.loc[df_country_stations['ID'] == id])[0][0]"
   ]
  },
  {
   "cell_type": "code",
   "execution_count": 57,
   "metadata": {},
   "outputs": [],
   "source": [
    "from datetime import datetime\n",
    "import pandas as pd\n",
    "import numpy as np\n",
    "\n",
    "from datetime import datetime\n",
    "import pandas as pd\n",
    "import numpy as np\n",
    "\n",
    "def exceedance_rate_for_base_period(climate_data, variable_name):\n",
    "    exceedance_rates = {}\n",
    "    all_exceedance_data = {}\n",
    "\n",
    "    base_period_years = range(1961, 1991)\n",
    "    base_period_data = climate_data[climate_data['DATE'].dt.year.isin(base_period_years)]\n",
    "\n",
    "    # Precompute thresholds for all days in the base period\n",
    "    thresholds = {}\n",
    "    for day in base_period_data['DAY'].unique():\n",
    "        thresholds[day] = centered_percentile(day, base_period_data, variable_name)\n",
    "\n",
    "    for out_of_base_year in base_period_years:\n",
    "        out_of_base_data = climate_data[climate_data['DATE'].dt.year == out_of_base_year].copy()\n",
    "        out_of_base_data['THRESHOLD'] = out_of_base_data['DAY'].map(thresholds)\n",
    "\n",
    "        if variable_name == \"TMAX\":\n",
    "            exceedance_rate = (out_of_base_data[variable_name] > out_of_base_data['THRESHOLD']).mean()\n",
    "        elif variable_name == \"TMIN\":\n",
    "            exceedance_rate = (out_of_base_data[variable_name] < out_of_base_data['THRESHOLD']).mean()\n",
    "\n",
    "        exceedance_rates[out_of_base_year] = exceedance_rate\n",
    "        all_exceedance_data[out_of_base_year] = {out_of_base_year: exceedance_rate}\n",
    "\n",
    "    return exceedance_rates, all_exceedance_data\n",
    "\n",
    "def centered_percentile(date, base_df, variable_name):\n",
    "    filtered_df = base_df[(base_df[\"DATE\"] >= datetime(1960, 12, 29)) & (base_df[\"DATE\"] <= datetime(1991, 1, 2))]\n",
    "    window_values = []\n",
    "\n",
    "    for x in filtered_df[filtered_df['DAY'] == date]['DATE']:\n",
    "        window_values.extend(filtered_df[(filtered_df['DATE'] >= x - pd.Timedelta(days=2)) &\n",
    "                                         (filtered_df['DATE'] <= x + pd.Timedelta(days=2))][variable_name].tolist())\n",
    "\n",
    "    if variable_name == \"TMAX\":\n",
    "        return np.percentile(window_values, 90)\n",
    "    elif variable_name == \"TMIN\":\n",
    "        return np.percentile(window_values, 10)\n",
    "\n",
    "def exceedance_rate_for_outbase_period(climate_data, variable_name):\n",
    "    date_range = pd.date_range('2024-01-01', '2024-12-31', freq='D')\n",
    "    df_exceedance = pd.DataFrame({'DAY': date_range})\n",
    "\n",
    "    df_exceedance['THRESHOLD'] = df_exceedance['DAY'].apply(lambda day_value: centered_percentile(day_value, climate_data, variable_name))\n",
    "\n",
    "    return df_exceedance\n",
    "\n",
    "def centered_percentile(date, base_df, variable_name):\n",
    "    filtered_df = base_df[(base_df[\"DATE\"] >= datetime(1960, 12, 29)) & (base_df[\"DATE\"] <= datetime(1991, 1, 2))]\n",
    "    window_values = []\n",
    "\n",
    "    for x in filtered_df[filtered_df['DAY'] == date]['DATE']:\n",
    "        window_values.extend(filtered_df[(filtered_df['DATE'] >= x - pd.Timedelta(days=2)) &\n",
    "                                         (filtered_df['DATE'] <= x + pd.Timedelta(days=2))][variable_name].tolist())\n",
    "\n",
    "    if variable_name == \"TMAX\":\n",
    "        return np.percentile(window_values, 90)\n",
    "    elif variable_name == \"TMIN\":\n",
    "        return np.percentile(window_values, 10)"
   ]
  },
  {
   "cell_type": "code",
   "execution_count": 9,
   "metadata": {},
   "outputs": [
    {
     "data": {
      "text/html": [
       "<div>\n",
       "<style scoped>\n",
       "    .dataframe tbody tr th:only-of-type {\n",
       "        vertical-align: middle;\n",
       "    }\n",
       "\n",
       "    .dataframe tbody tr th {\n",
       "        vertical-align: top;\n",
       "    }\n",
       "\n",
       "    .dataframe thead th {\n",
       "        text-align: right;\n",
       "    }\n",
       "</style>\n",
       "<table border=\"1\" class=\"dataframe\">\n",
       "  <thead>\n",
       "    <tr style=\"text-align: right;\">\n",
       "      <th></th>\n",
       "      <th>TMIN</th>\n",
       "      <th>TMAX</th>\n",
       "      <th>DATE</th>\n",
       "      <th>DAY</th>\n",
       "    </tr>\n",
       "  </thead>\n",
       "  <tbody>\n",
       "    <tr>\n",
       "      <th>0</th>\n",
       "      <td>23.9</td>\n",
       "      <td>32.2</td>\n",
       "      <td>1951-07-01</td>\n",
       "      <td>2024-07-01</td>\n",
       "    </tr>\n",
       "    <tr>\n",
       "      <th>1</th>\n",
       "      <td>24.4</td>\n",
       "      <td>31.7</td>\n",
       "      <td>1951-07-02</td>\n",
       "      <td>2024-07-02</td>\n",
       "    </tr>\n",
       "    <tr>\n",
       "      <th>2</th>\n",
       "      <td>23.9</td>\n",
       "      <td>30.6</td>\n",
       "      <td>1951-07-03</td>\n",
       "      <td>2024-07-03</td>\n",
       "    </tr>\n",
       "    <tr>\n",
       "      <th>3</th>\n",
       "      <td>23.3</td>\n",
       "      <td>28.9</td>\n",
       "      <td>1951-07-04</td>\n",
       "      <td>2024-07-04</td>\n",
       "    </tr>\n",
       "    <tr>\n",
       "      <th>4</th>\n",
       "      <td>23.9</td>\n",
       "      <td>31.1</td>\n",
       "      <td>1951-07-05</td>\n",
       "      <td>2024-07-05</td>\n",
       "    </tr>\n",
       "    <tr>\n",
       "      <th>...</th>\n",
       "      <td>...</td>\n",
       "      <td>...</td>\n",
       "      <td>...</td>\n",
       "      <td>...</td>\n",
       "    </tr>\n",
       "    <tr>\n",
       "      <th>26126</th>\n",
       "      <td>25.6</td>\n",
       "      <td>30.6</td>\n",
       "      <td>2024-12-10</td>\n",
       "      <td>2024-12-10</td>\n",
       "    </tr>\n",
       "    <tr>\n",
       "      <th>26127</th>\n",
       "      <td>26.1</td>\n",
       "      <td>30.0</td>\n",
       "      <td>2024-12-11</td>\n",
       "      <td>2024-12-11</td>\n",
       "    </tr>\n",
       "    <tr>\n",
       "      <th>26128</th>\n",
       "      <td>25.0</td>\n",
       "      <td>30.6</td>\n",
       "      <td>2024-12-12</td>\n",
       "      <td>2024-12-12</td>\n",
       "    </tr>\n",
       "    <tr>\n",
       "      <th>26129</th>\n",
       "      <td>25.6</td>\n",
       "      <td>30.6</td>\n",
       "      <td>2024-12-13</td>\n",
       "      <td>2024-12-13</td>\n",
       "    </tr>\n",
       "    <tr>\n",
       "      <th>26130</th>\n",
       "      <td>25.0</td>\n",
       "      <td>30.0</td>\n",
       "      <td>2024-12-16</td>\n",
       "      <td>2024-12-16</td>\n",
       "    </tr>\n",
       "  </tbody>\n",
       "</table>\n",
       "<p>26131 rows × 4 columns</p>\n",
       "</div>"
      ],
      "text/plain": [
       "       TMIN  TMAX       DATE        DAY\n",
       "0      23.9  32.2 1951-07-01 2024-07-01\n",
       "1      24.4  31.7 1951-07-02 2024-07-02\n",
       "2      23.9  30.6 1951-07-03 2024-07-03\n",
       "3      23.3  28.9 1951-07-04 2024-07-04\n",
       "4      23.9  31.1 1951-07-05 2024-07-05\n",
       "...     ...   ...        ...        ...\n",
       "26126  25.6  30.6 2024-12-10 2024-12-10\n",
       "26127  26.1  30.0 2024-12-11 2024-12-11\n",
       "26128  25.0  30.6 2024-12-12 2024-12-12\n",
       "26129  25.6  30.6 2024-12-13 2024-12-13\n",
       "26130  25.0  30.0 2024-12-16 2024-12-16\n",
       "\n",
       "[26131 rows x 4 columns]"
      ]
     },
     "execution_count": 9,
     "metadata": {},
     "output_type": "execute_result"
    }
   ],
   "source": [
    "st_data = pd.concat([dict_min['data'], (dict_max['data'])], axis=1).dropna()\n",
    "st_data['DATE'] = st_data.index\n",
    "st_data['DAY'] = \"2024-\" + st_data['DATE'].dt.strftime('%m-%d')\n",
    "st_data['DAY'] = pd.to_datetime(st_data['DAY'], format='%Y-%m-%d')\n",
    "st_data.index = range(len(st_data))\n",
    "st_data"
   ]
  },
  {
   "cell_type": "code",
   "execution_count": 10,
   "metadata": {},
   "outputs": [],
   "source": [
    "temp_table = {}"
   ]
  },
  {
   "cell_type": "code",
   "execution_count": 11,
   "metadata": {},
   "outputs": [],
   "source": [
    "exceed_rates_TMAX = exceedance_rate_for_outbase_period(st_data, \"TMAX\")\n",
    "exceed_rates_TMIN = exceedance_rate_for_outbase_period(st_data, \"TMIN\")"
   ]
  },
  {
   "cell_type": "code",
   "execution_count": 12,
   "metadata": {},
   "outputs": [],
   "source": [
    "TMAX_dict = dict(zip(exceed_rates_TMAX['DAY'], exceed_rates_TMAX['THRESHOLD']))\n",
    "TMIN_dict = dict(zip(exceed_rates_TMIN['DAY'], exceed_rates_TMIN['THRESHOLD']))"
   ]
  },
  {
   "cell_type": "code",
   "execution_count": 13,
   "metadata": {},
   "outputs": [],
   "source": [
    "df_exceed = st_data.copy()"
   ]
  },
  {
   "cell_type": "code",
   "execution_count": 14,
   "metadata": {},
   "outputs": [],
   "source": [
    "df_exceed['THRESHOLD_TMAX'] = df_exceed['DAY'].apply(lambda day_value:TMAX_dict.get(day_value))\n",
    "df_exceed['HOT_DAY'] = df_exceed[['TMAX',\"THRESHOLD_TMAX\"]].apply(lambda x: x[\"TMAX\"] > x[\"THRESHOLD_TMAX\"],axis=1)\n",
    "\n",
    "df_exceed['THRESHOLD_TMIN'] = df_exceed['DAY'].apply(lambda day_value:TMIN_dict.get(day_value))\n",
    "df_exceed['COLD_DAY'] = df_exceed[['TMIN',\"THRESHOLD_TMIN\"]].apply(lambda x: x[\"TMIN\"] < x[\"THRESHOLD_TMIN\"],axis=1)\n"
   ]
  },
  {
   "cell_type": "code",
   "execution_count": 15,
   "metadata": {},
   "outputs": [
    {
     "data": {
      "text/plain": [
       "np.float64(0.10665493092495504)"
      ]
     },
     "execution_count": 15,
     "metadata": {},
     "output_type": "execute_result"
    }
   ],
   "source": [
    "df_exceed['HOT_DAY'].mean()"
   ]
  },
  {
   "cell_type": "code",
   "execution_count": 18,
   "metadata": {},
   "outputs": [
    {
     "data": {
      "text/plain": [
       "np.float64(0.18227653392582466)"
      ]
     },
     "execution_count": 18,
     "metadata": {},
     "output_type": "execute_result"
    }
   ],
   "source": [
    "df_exceed[df_exceed[\"DATE\"] > datetime(1990, 12, 31)]['HOT_DAY'].mean()"
   ]
  },
  {
   "cell_type": "code",
   "execution_count": 19,
   "metadata": {},
   "outputs": [],
   "source": [
    "df_exceed['YEAR'] = pd.DatetimeIndex(st_data['DATE']).year"
   ]
  },
  {
   "cell_type": "code",
   "execution_count": 20,
   "metadata": {},
   "outputs": [],
   "source": [
    "out_of_base_hot = {}\n",
    "out_of_base_cold = {}\n",
    "for x in df_exceed[\"YEAR\"].unique():\n",
    "    if x > 1990:\n",
    "        out_of_base_hot[x] = df_exceed[df_exceed[\"YEAR\"] == x]['HOT_DAY'].mean()\n",
    "        out_of_base_cold[x] = df_exceed[df_exceed[\"YEAR\"] == x]['COLD_DAY'].mean()"
   ]
  },
  {
   "cell_type": "code",
   "execution_count": 21,
   "metadata": {},
   "outputs": [],
   "source": [
    "ex_cold, all_cold = exceedance_rate_for_base_period(st_data, \"TMIN\")"
   ]
  },
  {
   "cell_type": "code",
   "execution_count": 22,
   "metadata": {},
   "outputs": [],
   "source": [
    "ex_hot, all_hot = exceedance_rate_for_base_period(st_data, \"TMAX\")"
   ]
  },
  {
   "cell_type": "code",
   "execution_count": 23,
   "metadata": {},
   "outputs": [],
   "source": [
    "all_hot = ex_hot|out_of_base_hot\n",
    "all_cold = ex_cold|out_of_base_cold"
   ]
  },
  {
   "cell_type": "code",
   "execution_count": 24,
   "metadata": {},
   "outputs": [],
   "source": [
    "cold_bar = sum(ex_cold.values()) / len(ex_cold)\n",
    "hot_bar = sum(ex_hot.values()) / len(ex_hot)"
   ]
  },
  {
   "cell_type": "code",
   "execution_count": 25,
   "metadata": {},
   "outputs": [],
   "source": [
    "hot_anom = {}\n",
    "\n",
    "for x in all_hot:\n",
    "    hot_anom[x] = 100*(all_hot[x]-hot_bar)\n",
    "\n",
    "cold_anom = {}\n",
    "for x in all_cold:\n",
    "    cold_anom[x] = 100*(all_cold[x]-cold_bar)"
   ]
  },
  {
   "cell_type": "code",
   "execution_count": 26,
   "metadata": {},
   "outputs": [],
   "source": [
    "import matplotlib.pyplot as plt\n",
    "from matplotlib.ticker import MultipleLocator"
   ]
  },
  {
   "cell_type": "code",
   "execution_count": 27,
   "metadata": {},
   "outputs": [],
   "source": [
    "df_cold_anom = pd.DataFrame.from_dict(cold_anom, orient='index', columns=['Perc_Anom'])\n",
    "df_cold_anom.index = pd.to_datetime(df_cold_anom.index, format='%Y')\n",
    "\n",
    "df_hot_anom = pd.DataFrame.from_dict(hot_anom, orient='index', columns=['Perc_Anom'])\n",
    "df_hot_anom.index = pd.to_datetime(df_hot_anom.index, format='%Y')"
   ]
  },
  {
   "cell_type": "code",
   "execution_count": 28,
   "metadata": {},
   "outputs": [
    {
     "data": {
      "application/vnd.plotly.v1+json": {
       "config": {
        "plotlyServerURL": "https://plot.ly"
       },
       "data": [
        {
         "line": {
          "color": "#636EFA"
         },
         "name": "Cold Days",
         "type": "scatter",
         "x": [
          "1961-01-01T00:00:00",
          "1962-01-01T00:00:00",
          "1963-01-01T00:00:00",
          "1964-01-01T00:00:00",
          "1965-01-01T00:00:00",
          "1966-01-01T00:00:00",
          "1967-01-01T00:00:00",
          "1968-01-01T00:00:00",
          "1969-01-01T00:00:00",
          "1970-01-01T00:00:00",
          "1971-01-01T00:00:00",
          "1972-01-01T00:00:00",
          "1973-01-01T00:00:00",
          "1974-01-01T00:00:00",
          "1975-01-01T00:00:00",
          "1976-01-01T00:00:00",
          "1977-01-01T00:00:00",
          "1978-01-01T00:00:00",
          "1979-01-01T00:00:00",
          "1980-01-01T00:00:00",
          "1981-01-01T00:00:00",
          "1982-01-01T00:00:00",
          "1983-01-01T00:00:00",
          "1984-01-01T00:00:00",
          "1985-01-01T00:00:00",
          "1986-01-01T00:00:00",
          "1987-01-01T00:00:00",
          "1988-01-01T00:00:00",
          "1989-01-01T00:00:00",
          "1990-01-01T00:00:00",
          "1991-01-01T00:00:00",
          "1992-01-01T00:00:00",
          "1993-01-01T00:00:00",
          "1994-01-01T00:00:00",
          "1995-01-01T00:00:00",
          "1996-01-01T00:00:00",
          "1997-01-01T00:00:00",
          "1998-01-01T00:00:00",
          "1999-01-01T00:00:00",
          "2000-01-01T00:00:00",
          "2001-01-01T00:00:00",
          "2002-01-01T00:00:00",
          "2003-01-01T00:00:00",
          "2004-01-01T00:00:00",
          "2005-01-01T00:00:00",
          "2006-01-01T00:00:00",
          "2007-01-01T00:00:00",
          "2008-01-01T00:00:00",
          "2009-01-01T00:00:00",
          "2010-01-01T00:00:00",
          "2011-01-01T00:00:00",
          "2012-01-01T00:00:00",
          "2013-01-01T00:00:00",
          "2014-01-01T00:00:00",
          "2015-01-01T00:00:00",
          "2016-01-01T00:00:00",
          "2017-01-01T00:00:00",
          "2018-01-01T00:00:00",
          "2019-01-01T00:00:00",
          "2020-01-01T00:00:00",
          "2021-01-01T00:00:00",
          "2022-01-01T00:00:00",
          "2023-01-01T00:00:00",
          "2024-01-01T00:00:00"
         ],
         "xaxis": "x",
         "y": [
          1.6114230107043936,
          -1.9502208249120447,
          -0.03241260573396271,
          2.1384085635152332,
          1.6114230107043936,
          -0.30638520847368833,
          1.3374504079646674,
          2.6848566509469265,
          -0.5803578112134146,
          -3.5940564413504004,
          -0.30638520847368833,
          1.8651845197993857,
          -2.4981660303914968,
          1.3374504079646674,
          -0.30638520847368833,
          -3.8725203982334007,
          -3.046111235870949,
          1.3374504079646674,
          1.8853956134441199,
          4.050976869526162,
          4.899094243581106,
          -1.6762482221723183,
          -0.8543304139531402,
          1.5919604760835384,
          4.0771764353619275,
          -2.4981660303914968,
          -2.772138633131223,
          -1.9599520922224722,
          -1.4022756194325927,
          -2.772138633131223,
          1.6114230107043936,
          5.690321131821244,
          0.5155325997454898,
          1.0634778052249412,
          1.0634778052249412,
          3.231304738378621,
          5.1730668463208325,
          3.5292312298824764,
          3.25525862714275,
          11.154802006138183,
          -4.142001646829853,
          -3.8680290440901266,
          -2.772138633131223,
          -4.1457444419492475,
          -2.4981660303914968,
          -3.8680290440901266,
          -3.5940564413504004,
          -0.8670559173590837,
          1.3374504079646674,
          4.899094243581106,
          -4.4159742495695795,
          -4.1457444419492475,
          -4.142001646829853,
          -4.142001646829853,
          -3.3200838386106746,
          -4.965416573096789,
          -4.689946852309305,
          -5.193393322948865,
          -5.511864660528483,
          -5.511864660528483,
          -2.679003470726783,
          -3.4570701399805377,
          -5.511864660528483,
          -5.511864660528483
         ],
         "yaxis": "y"
        },
        {
         "line": {
          "color": "#636EFA",
          "dash": "dash"
         },
         "mode": "lines",
         "name": "Cold Days (Trend)",
         "showlegend": false,
         "type": "scatter",
         "x": [
          "1961-01-01T00:00:00",
          "1962-01-01T00:00:00",
          "1963-01-01T00:00:00",
          "1964-01-01T00:00:00",
          "1965-01-01T00:00:00",
          "1966-01-01T00:00:00",
          "1967-01-01T00:00:00",
          "1968-01-01T00:00:00",
          "1969-01-01T00:00:00",
          "1970-01-01T00:00:00",
          "1971-01-01T00:00:00",
          "1972-01-01T00:00:00",
          "1973-01-01T00:00:00",
          "1974-01-01T00:00:00",
          "1975-01-01T00:00:00",
          "1976-01-01T00:00:00",
          "1977-01-01T00:00:00",
          "1978-01-01T00:00:00",
          "1979-01-01T00:00:00",
          "1980-01-01T00:00:00",
          "1981-01-01T00:00:00",
          "1982-01-01T00:00:00",
          "1983-01-01T00:00:00",
          "1984-01-01T00:00:00",
          "1985-01-01T00:00:00",
          "1986-01-01T00:00:00",
          "1987-01-01T00:00:00",
          "1988-01-01T00:00:00",
          "1989-01-01T00:00:00",
          "1990-01-01T00:00:00",
          "1991-01-01T00:00:00",
          "1992-01-01T00:00:00",
          "1993-01-01T00:00:00",
          "1994-01-01T00:00:00",
          "1995-01-01T00:00:00",
          "1996-01-01T00:00:00",
          "1997-01-01T00:00:00",
          "1998-01-01T00:00:00",
          "1999-01-01T00:00:00",
          "2000-01-01T00:00:00",
          "2001-01-01T00:00:00",
          "2002-01-01T00:00:00",
          "2003-01-01T00:00:00",
          "2004-01-01T00:00:00",
          "2005-01-01T00:00:00",
          "2006-01-01T00:00:00",
          "2007-01-01T00:00:00",
          "2008-01-01T00:00:00",
          "2009-01-01T00:00:00",
          "2010-01-01T00:00:00",
          "2011-01-01T00:00:00",
          "2012-01-01T00:00:00",
          "2013-01-01T00:00:00",
          "2014-01-01T00:00:00",
          "2015-01-01T00:00:00",
          "2016-01-01T00:00:00",
          "2017-01-01T00:00:00",
          "2018-01-01T00:00:00",
          "2019-01-01T00:00:00",
          "2020-01-01T00:00:00",
          "2021-01-01T00:00:00",
          "2022-01-01T00:00:00",
          "2023-01-01T00:00:00",
          "2024-01-01T00:00:00"
         ],
         "xaxis": "x",
         "y": [
          1.765243595899269,
          1.6862254652169613,
          1.6072073345346531,
          1.5281892038523455,
          1.448954585140771,
          1.3699364544584633,
          1.2909183237761555,
          1.2119001930938476,
          1.1326655743822733,
          1.0536474436999654,
          0.9746293130176577,
          0.8956111823353499,
          0.8163765636237754,
          0.7373584329414675,
          0.6583403022591598,
          0.579322171576852,
          0.5000875528652776,
          0.4210694221829697,
          0.34205129150066194,
          0.26303316081835415,
          0.1837985421067797,
          0.10478041142447192,
          0.025762280742164023,
          -0.05325584994014365,
          -0.1324904686517181,
          -0.211508599334026,
          -0.29052673001633367,
          -0.36954486069864156,
          -0.448779479410216,
          -0.5277976100925237,
          -0.6068157407748316,
          -0.6858338714571395,
          -0.7650684901687137,
          -0.8440866208510216,
          -0.9231047515333295,
          -1.0021228822156374,
          -1.0813575009272118,
          -1.1603756316095195,
          -1.2393937622918272,
          -1.3184118929741349,
          -1.3976465116857093,
          -1.4766646423680174,
          -1.555682773050325,
          -1.6347009037326328,
          -1.7139355224442072,
          -1.792953653126515,
          -1.871971783808823,
          -1.9509899144911307,
          -2.030224533202705,
          -2.109242663885013,
          -2.188260794567321,
          -2.2672789252496286,
          -2.346513543961203,
          -2.4255316746435107,
          -2.5045498053258184,
          -2.5835679360081265,
          -2.662802554719701,
          -2.7418206854020086,
          -2.8208388160843163,
          -2.8998569467666244,
          -2.979091565478199,
          -3.058109696160506,
          -3.137127826842814,
          -3.2161459575251223
         ],
         "yaxis": "y"
        },
        {
         "line": {
          "color": "#EF553B"
         },
         "name": "Hot Days",
         "type": "scatter",
         "x": [
          "1961-01-01T00:00:00",
          "1962-01-01T00:00:00",
          "1963-01-01T00:00:00",
          "1964-01-01T00:00:00",
          "1965-01-01T00:00:00",
          "1966-01-01T00:00:00",
          "1967-01-01T00:00:00",
          "1968-01-01T00:00:00",
          "1969-01-01T00:00:00",
          "1970-01-01T00:00:00",
          "1971-01-01T00:00:00",
          "1972-01-01T00:00:00",
          "1973-01-01T00:00:00",
          "1974-01-01T00:00:00",
          "1975-01-01T00:00:00",
          "1976-01-01T00:00:00",
          "1977-01-01T00:00:00",
          "1978-01-01T00:00:00",
          "1979-01-01T00:00:00",
          "1980-01-01T00:00:00",
          "1981-01-01T00:00:00",
          "1982-01-01T00:00:00",
          "1983-01-01T00:00:00",
          "1984-01-01T00:00:00",
          "1985-01-01T00:00:00",
          "1986-01-01T00:00:00",
          "1987-01-01T00:00:00",
          "1988-01-01T00:00:00",
          "1989-01-01T00:00:00",
          "1990-01-01T00:00:00",
          "1991-01-01T00:00:00",
          "1992-01-01T00:00:00",
          "1993-01-01T00:00:00",
          "1994-01-01T00:00:00",
          "1995-01-01T00:00:00",
          "1996-01-01T00:00:00",
          "1997-01-01T00:00:00",
          "1998-01-01T00:00:00",
          "1999-01-01T00:00:00",
          "2000-01-01T00:00:00",
          "2001-01-01T00:00:00",
          "2002-01-01T00:00:00",
          "2003-01-01T00:00:00",
          "2004-01-01T00:00:00",
          "2005-01-01T00:00:00",
          "2006-01-01T00:00:00",
          "2007-01-01T00:00:00",
          "2008-01-01T00:00:00",
          "2009-01-01T00:00:00",
          "2010-01-01T00:00:00",
          "2011-01-01T00:00:00",
          "2012-01-01T00:00:00",
          "2013-01-01T00:00:00",
          "2014-01-01T00:00:00",
          "2015-01-01T00:00:00",
          "2016-01-01T00:00:00",
          "2017-01-01T00:00:00",
          "2018-01-01T00:00:00",
          "2019-01-01T00:00:00",
          "2020-01-01T00:00:00",
          "2021-01-01T00:00:00",
          "2022-01-01T00:00:00",
          "2023-01-01T00:00:00",
          "2024-01-01T00:00:00"
         ],
         "xaxis": "x",
         "y": [
          -4.607954687227087,
          -3.7860368790079093,
          -3.5120642762681835,
          -2.1496868528083435,
          -4.607954687227087,
          -2.964119070788731,
          -3.7860368790079093,
          0.8557776280659735,
          -3.2380916735284577,
          -1.046310851610649,
          0.5975247648277067,
          -0.23711854679741434,
          7.4468398333208565,
          0.871497367567433,
          0.04957955934825481,
          -0.23711854679741434,
          -1.3202834543503752,
          -1.046310851610649,
          -1.3202834543503752,
          1.12900167178182,
          -1.5942560570901017,
          -4.0600094817476355,
          -2.1422012625695532,
          -1.330014721660803,
          -1.3202834543503752,
          3.337250792224967,
          6.350949422361954,
          10.691843201836464,
          7.4468398333208565,
          5.5290316141427756,
          -3.2380916735284577,
          -2.1496868528083435,
          0.5975247648277067,
          4.433141203183872,
          13.474237093594828,
          16.975996207300945,
          15.939990518252364,
          44.433141203183865,
          27.44683983332086,
          32.00331861167253,
          29.912593257978394,
          30.734511066197566,
          18.953689148389348,
          28.997854130798213,
          24.707113805923598,
          29.364648052498936,
          34.84410010729346,
          1.4022257154976674,
          0.04957955934825481,
          3.337250792224967,
          -0.2243930433914708,
          0.8557776280659735,
          9.912593257978392,
          4.159168600444145,
          17.857798737430446,
          22.713701125333728,
          15.939990518252364,
          17.092595003026815,
          8.45140604336652,
          7.526831834120778,
          -4.881927289966813,
          -4.881927289966813,
          -4.881927289966813,
          -4.881927289966813
         ],
         "yaxis": "y"
        },
        {
         "line": {
          "color": "#EF553B",
          "dash": "dash"
         },
         "mode": "lines",
         "name": "Hot Days (Trend)",
         "showlegend": false,
         "type": "scatter",
         "x": [
          "1961-01-01T00:00:00",
          "1962-01-01T00:00:00",
          "1963-01-01T00:00:00",
          "1964-01-01T00:00:00",
          "1965-01-01T00:00:00",
          "1966-01-01T00:00:00",
          "1967-01-01T00:00:00",
          "1968-01-01T00:00:00",
          "1969-01-01T00:00:00",
          "1970-01-01T00:00:00",
          "1971-01-01T00:00:00",
          "1972-01-01T00:00:00",
          "1973-01-01T00:00:00",
          "1974-01-01T00:00:00",
          "1975-01-01T00:00:00",
          "1976-01-01T00:00:00",
          "1977-01-01T00:00:00",
          "1978-01-01T00:00:00",
          "1979-01-01T00:00:00",
          "1980-01-01T00:00:00",
          "1981-01-01T00:00:00",
          "1982-01-01T00:00:00",
          "1983-01-01T00:00:00",
          "1984-01-01T00:00:00",
          "1985-01-01T00:00:00",
          "1986-01-01T00:00:00",
          "1987-01-01T00:00:00",
          "1988-01-01T00:00:00",
          "1989-01-01T00:00:00",
          "1990-01-01T00:00:00",
          "1991-01-01T00:00:00",
          "1992-01-01T00:00:00",
          "1993-01-01T00:00:00",
          "1994-01-01T00:00:00",
          "1995-01-01T00:00:00",
          "1996-01-01T00:00:00",
          "1997-01-01T00:00:00",
          "1998-01-01T00:00:00",
          "1999-01-01T00:00:00",
          "2000-01-01T00:00:00",
          "2001-01-01T00:00:00",
          "2002-01-01T00:00:00",
          "2003-01-01T00:00:00",
          "2004-01-01T00:00:00",
          "2005-01-01T00:00:00",
          "2006-01-01T00:00:00",
          "2007-01-01T00:00:00",
          "2008-01-01T00:00:00",
          "2009-01-01T00:00:00",
          "2010-01-01T00:00:00",
          "2011-01-01T00:00:00",
          "2012-01-01T00:00:00",
          "2013-01-01T00:00:00",
          "2014-01-01T00:00:00",
          "2015-01-01T00:00:00",
          "2016-01-01T00:00:00",
          "2017-01-01T00:00:00",
          "2018-01-01T00:00:00",
          "2019-01-01T00:00:00",
          "2020-01-01T00:00:00",
          "2021-01-01T00:00:00",
          "2022-01-01T00:00:00",
          "2023-01-01T00:00:00",
          "2024-01-01T00:00:00"
         ],
         "xaxis": "x",
         "y": [
          -1.4795196413037615,
          -1.215967852871187,
          -0.9524160644386124,
          -0.6888642760060377,
          -0.42459042787912726,
          -0.16103863944655283,
          0.10251314898602182,
          0.36606493741859636,
          0.6303387855455067,
          0.8938905739780814,
          1.157442362410656,
          1.4209941508432307,
          1.685267998970141,
          1.9488197874027156,
          2.2123715758352898,
          2.4759233642678646,
          2.740197212394775,
          3.0037490008273497,
          3.267300789259924,
          3.5308525776924986,
          3.7951264258194093,
          4.058678214251984,
          4.322230002684558,
          4.5857817911171335,
          4.850055639244044,
          5.113607427676618,
          5.377159216109192,
          5.640711004541767,
          5.904984852668678,
          6.168536641101252,
          6.432088429533827,
          6.695640217966401,
          6.959914066093312,
          7.223465854525886,
          7.487017642958461,
          7.750569431391035,
          8.014843279517946,
          8.27839506795052,
          8.541946856383095,
          8.80549864481567,
          9.06977249294258,
          9.333324281375155,
          9.59687606980773,
          9.860427858240303,
          10.124701706367215,
          10.38825349479979,
          10.651805283232363,
          10.915357071664939,
          11.17963091979185,
          11.443182708224423,
          11.706734496656997,
          11.970286285089573,
          12.234560133216483,
          12.498111921649057,
          12.761663710081631,
          13.025215498514207,
          13.289489346641117,
          13.553041135073691,
          13.816592923506265,
          14.080144711938841,
          14.344418560065751,
          14.607970348498325,
          14.871522136930901,
          15.135073925363475
         ],
         "yaxis": "y"
        }
       ],
       "layout": {
        "height": 500,
        "legend": {
         "font": {
          "size": 12
         },
         "orientation": "h",
         "x": 0.5,
         "xanchor": "center",
         "y": 1.1,
         "yanchor": "bottom"
        },
        "template": {
         "data": {
          "bar": [
           {
            "error_x": {
             "color": "#2a3f5f"
            },
            "error_y": {
             "color": "#2a3f5f"
            },
            "marker": {
             "line": {
              "color": "white",
              "width": 0.5
             },
             "pattern": {
              "fillmode": "overlay",
              "size": 10,
              "solidity": 0.2
             }
            },
            "type": "bar"
           }
          ],
          "barpolar": [
           {
            "marker": {
             "line": {
              "color": "white",
              "width": 0.5
             },
             "pattern": {
              "fillmode": "overlay",
              "size": 10,
              "solidity": 0.2
             }
            },
            "type": "barpolar"
           }
          ],
          "carpet": [
           {
            "aaxis": {
             "endlinecolor": "#2a3f5f",
             "gridcolor": "#C8D4E3",
             "linecolor": "#C8D4E3",
             "minorgridcolor": "#C8D4E3",
             "startlinecolor": "#2a3f5f"
            },
            "baxis": {
             "endlinecolor": "#2a3f5f",
             "gridcolor": "#C8D4E3",
             "linecolor": "#C8D4E3",
             "minorgridcolor": "#C8D4E3",
             "startlinecolor": "#2a3f5f"
            },
            "type": "carpet"
           }
          ],
          "choropleth": [
           {
            "colorbar": {
             "outlinewidth": 0,
             "ticks": ""
            },
            "type": "choropleth"
           }
          ],
          "contour": [
           {
            "colorbar": {
             "outlinewidth": 0,
             "ticks": ""
            },
            "colorscale": [
             [
              0,
              "#0d0887"
             ],
             [
              0.1111111111111111,
              "#46039f"
             ],
             [
              0.2222222222222222,
              "#7201a8"
             ],
             [
              0.3333333333333333,
              "#9c179e"
             ],
             [
              0.4444444444444444,
              "#bd3786"
             ],
             [
              0.5555555555555556,
              "#d8576b"
             ],
             [
              0.6666666666666666,
              "#ed7953"
             ],
             [
              0.7777777777777778,
              "#fb9f3a"
             ],
             [
              0.8888888888888888,
              "#fdca26"
             ],
             [
              1,
              "#f0f921"
             ]
            ],
            "type": "contour"
           }
          ],
          "contourcarpet": [
           {
            "colorbar": {
             "outlinewidth": 0,
             "ticks": ""
            },
            "type": "contourcarpet"
           }
          ],
          "heatmap": [
           {
            "colorbar": {
             "outlinewidth": 0,
             "ticks": ""
            },
            "colorscale": [
             [
              0,
              "#0d0887"
             ],
             [
              0.1111111111111111,
              "#46039f"
             ],
             [
              0.2222222222222222,
              "#7201a8"
             ],
             [
              0.3333333333333333,
              "#9c179e"
             ],
             [
              0.4444444444444444,
              "#bd3786"
             ],
             [
              0.5555555555555556,
              "#d8576b"
             ],
             [
              0.6666666666666666,
              "#ed7953"
             ],
             [
              0.7777777777777778,
              "#fb9f3a"
             ],
             [
              0.8888888888888888,
              "#fdca26"
             ],
             [
              1,
              "#f0f921"
             ]
            ],
            "type": "heatmap"
           }
          ],
          "heatmapgl": [
           {
            "colorbar": {
             "outlinewidth": 0,
             "ticks": ""
            },
            "colorscale": [
             [
              0,
              "#0d0887"
             ],
             [
              0.1111111111111111,
              "#46039f"
             ],
             [
              0.2222222222222222,
              "#7201a8"
             ],
             [
              0.3333333333333333,
              "#9c179e"
             ],
             [
              0.4444444444444444,
              "#bd3786"
             ],
             [
              0.5555555555555556,
              "#d8576b"
             ],
             [
              0.6666666666666666,
              "#ed7953"
             ],
             [
              0.7777777777777778,
              "#fb9f3a"
             ],
             [
              0.8888888888888888,
              "#fdca26"
             ],
             [
              1,
              "#f0f921"
             ]
            ],
            "type": "heatmapgl"
           }
          ],
          "histogram": [
           {
            "marker": {
             "pattern": {
              "fillmode": "overlay",
              "size": 10,
              "solidity": 0.2
             }
            },
            "type": "histogram"
           }
          ],
          "histogram2d": [
           {
            "colorbar": {
             "outlinewidth": 0,
             "ticks": ""
            },
            "colorscale": [
             [
              0,
              "#0d0887"
             ],
             [
              0.1111111111111111,
              "#46039f"
             ],
             [
              0.2222222222222222,
              "#7201a8"
             ],
             [
              0.3333333333333333,
              "#9c179e"
             ],
             [
              0.4444444444444444,
              "#bd3786"
             ],
             [
              0.5555555555555556,
              "#d8576b"
             ],
             [
              0.6666666666666666,
              "#ed7953"
             ],
             [
              0.7777777777777778,
              "#fb9f3a"
             ],
             [
              0.8888888888888888,
              "#fdca26"
             ],
             [
              1,
              "#f0f921"
             ]
            ],
            "type": "histogram2d"
           }
          ],
          "histogram2dcontour": [
           {
            "colorbar": {
             "outlinewidth": 0,
             "ticks": ""
            },
            "colorscale": [
             [
              0,
              "#0d0887"
             ],
             [
              0.1111111111111111,
              "#46039f"
             ],
             [
              0.2222222222222222,
              "#7201a8"
             ],
             [
              0.3333333333333333,
              "#9c179e"
             ],
             [
              0.4444444444444444,
              "#bd3786"
             ],
             [
              0.5555555555555556,
              "#d8576b"
             ],
             [
              0.6666666666666666,
              "#ed7953"
             ],
             [
              0.7777777777777778,
              "#fb9f3a"
             ],
             [
              0.8888888888888888,
              "#fdca26"
             ],
             [
              1,
              "#f0f921"
             ]
            ],
            "type": "histogram2dcontour"
           }
          ],
          "mesh3d": [
           {
            "colorbar": {
             "outlinewidth": 0,
             "ticks": ""
            },
            "type": "mesh3d"
           }
          ],
          "parcoords": [
           {
            "line": {
             "colorbar": {
              "outlinewidth": 0,
              "ticks": ""
             }
            },
            "type": "parcoords"
           }
          ],
          "pie": [
           {
            "automargin": true,
            "type": "pie"
           }
          ],
          "scatter": [
           {
            "fillpattern": {
             "fillmode": "overlay",
             "size": 10,
             "solidity": 0.2
            },
            "type": "scatter"
           }
          ],
          "scatter3d": [
           {
            "line": {
             "colorbar": {
              "outlinewidth": 0,
              "ticks": ""
             }
            },
            "marker": {
             "colorbar": {
              "outlinewidth": 0,
              "ticks": ""
             }
            },
            "type": "scatter3d"
           }
          ],
          "scattercarpet": [
           {
            "marker": {
             "colorbar": {
              "outlinewidth": 0,
              "ticks": ""
             }
            },
            "type": "scattercarpet"
           }
          ],
          "scattergeo": [
           {
            "marker": {
             "colorbar": {
              "outlinewidth": 0,
              "ticks": ""
             }
            },
            "type": "scattergeo"
           }
          ],
          "scattergl": [
           {
            "marker": {
             "colorbar": {
              "outlinewidth": 0,
              "ticks": ""
             }
            },
            "type": "scattergl"
           }
          ],
          "scattermapbox": [
           {
            "marker": {
             "colorbar": {
              "outlinewidth": 0,
              "ticks": ""
             }
            },
            "type": "scattermapbox"
           }
          ],
          "scatterpolar": [
           {
            "marker": {
             "colorbar": {
              "outlinewidth": 0,
              "ticks": ""
             }
            },
            "type": "scatterpolar"
           }
          ],
          "scatterpolargl": [
           {
            "marker": {
             "colorbar": {
              "outlinewidth": 0,
              "ticks": ""
             }
            },
            "type": "scatterpolargl"
           }
          ],
          "scatterternary": [
           {
            "marker": {
             "colorbar": {
              "outlinewidth": 0,
              "ticks": ""
             }
            },
            "type": "scatterternary"
           }
          ],
          "surface": [
           {
            "colorbar": {
             "outlinewidth": 0,
             "ticks": ""
            },
            "colorscale": [
             [
              0,
              "#0d0887"
             ],
             [
              0.1111111111111111,
              "#46039f"
             ],
             [
              0.2222222222222222,
              "#7201a8"
             ],
             [
              0.3333333333333333,
              "#9c179e"
             ],
             [
              0.4444444444444444,
              "#bd3786"
             ],
             [
              0.5555555555555556,
              "#d8576b"
             ],
             [
              0.6666666666666666,
              "#ed7953"
             ],
             [
              0.7777777777777778,
              "#fb9f3a"
             ],
             [
              0.8888888888888888,
              "#fdca26"
             ],
             [
              1,
              "#f0f921"
             ]
            ],
            "type": "surface"
           }
          ],
          "table": [
           {
            "cells": {
             "fill": {
              "color": "#EBF0F8"
             },
             "line": {
              "color": "white"
             }
            },
            "header": {
             "fill": {
              "color": "#C8D4E3"
             },
             "line": {
              "color": "white"
             }
            },
            "type": "table"
           }
          ]
         },
         "layout": {
          "annotationdefaults": {
           "arrowcolor": "#2a3f5f",
           "arrowhead": 0,
           "arrowwidth": 1
          },
          "autotypenumbers": "strict",
          "coloraxis": {
           "colorbar": {
            "outlinewidth": 0,
            "ticks": ""
           }
          },
          "colorscale": {
           "diverging": [
            [
             0,
             "#8e0152"
            ],
            [
             0.1,
             "#c51b7d"
            ],
            [
             0.2,
             "#de77ae"
            ],
            [
             0.3,
             "#f1b6da"
            ],
            [
             0.4,
             "#fde0ef"
            ],
            [
             0.5,
             "#f7f7f7"
            ],
            [
             0.6,
             "#e6f5d0"
            ],
            [
             0.7,
             "#b8e186"
            ],
            [
             0.8,
             "#7fbc41"
            ],
            [
             0.9,
             "#4d9221"
            ],
            [
             1,
             "#276419"
            ]
           ],
           "sequential": [
            [
             0,
             "#0d0887"
            ],
            [
             0.1111111111111111,
             "#46039f"
            ],
            [
             0.2222222222222222,
             "#7201a8"
            ],
            [
             0.3333333333333333,
             "#9c179e"
            ],
            [
             0.4444444444444444,
             "#bd3786"
            ],
            [
             0.5555555555555556,
             "#d8576b"
            ],
            [
             0.6666666666666666,
             "#ed7953"
            ],
            [
             0.7777777777777778,
             "#fb9f3a"
            ],
            [
             0.8888888888888888,
             "#fdca26"
            ],
            [
             1,
             "#f0f921"
            ]
           ],
           "sequentialminus": [
            [
             0,
             "#0d0887"
            ],
            [
             0.1111111111111111,
             "#46039f"
            ],
            [
             0.2222222222222222,
             "#7201a8"
            ],
            [
             0.3333333333333333,
             "#9c179e"
            ],
            [
             0.4444444444444444,
             "#bd3786"
            ],
            [
             0.5555555555555556,
             "#d8576b"
            ],
            [
             0.6666666666666666,
             "#ed7953"
            ],
            [
             0.7777777777777778,
             "#fb9f3a"
            ],
            [
             0.8888888888888888,
             "#fdca26"
            ],
            [
             1,
             "#f0f921"
            ]
           ]
          },
          "colorway": [
           "#636efa",
           "#EF553B",
           "#00cc96",
           "#ab63fa",
           "#FFA15A",
           "#19d3f3",
           "#FF6692",
           "#B6E880",
           "#FF97FF",
           "#FECB52"
          ],
          "font": {
           "color": "#2a3f5f"
          },
          "geo": {
           "bgcolor": "white",
           "lakecolor": "white",
           "landcolor": "white",
           "showlakes": true,
           "showland": true,
           "subunitcolor": "#C8D4E3"
          },
          "hoverlabel": {
           "align": "left"
          },
          "hovermode": "closest",
          "mapbox": {
           "style": "light"
          },
          "paper_bgcolor": "white",
          "plot_bgcolor": "white",
          "polar": {
           "angularaxis": {
            "gridcolor": "#EBF0F8",
            "linecolor": "#EBF0F8",
            "ticks": ""
           },
           "bgcolor": "white",
           "radialaxis": {
            "gridcolor": "#EBF0F8",
            "linecolor": "#EBF0F8",
            "ticks": ""
           }
          },
          "scene": {
           "xaxis": {
            "backgroundcolor": "white",
            "gridcolor": "#DFE8F3",
            "gridwidth": 2,
            "linecolor": "#EBF0F8",
            "showbackground": true,
            "ticks": "",
            "zerolinecolor": "#EBF0F8"
           },
           "yaxis": {
            "backgroundcolor": "white",
            "gridcolor": "#DFE8F3",
            "gridwidth": 2,
            "linecolor": "#EBF0F8",
            "showbackground": true,
            "ticks": "",
            "zerolinecolor": "#EBF0F8"
           },
           "zaxis": {
            "backgroundcolor": "white",
            "gridcolor": "#DFE8F3",
            "gridwidth": 2,
            "linecolor": "#EBF0F8",
            "showbackground": true,
            "ticks": "",
            "zerolinecolor": "#EBF0F8"
           }
          },
          "shapedefaults": {
           "line": {
            "color": "#2a3f5f"
           }
          },
          "ternary": {
           "aaxis": {
            "gridcolor": "#DFE8F3",
            "linecolor": "#A2B1C6",
            "ticks": ""
           },
           "baxis": {
            "gridcolor": "#DFE8F3",
            "linecolor": "#A2B1C6",
            "ticks": ""
           },
           "bgcolor": "white",
           "caxis": {
            "gridcolor": "#DFE8F3",
            "linecolor": "#A2B1C6",
            "ticks": ""
           }
          },
          "title": {
           "x": 0.05
          },
          "xaxis": {
           "automargin": true,
           "gridcolor": "#EBF0F8",
           "linecolor": "#EBF0F8",
           "ticks": "",
           "title": {
            "standoff": 15
           },
           "zerolinecolor": "#EBF0F8",
           "zerolinewidth": 2
          },
          "yaxis": {
           "automargin": true,
           "gridcolor": "#EBF0F8",
           "linecolor": "#EBF0F8",
           "ticks": "",
           "title": {
            "standoff": 15
           },
           "zerolinecolor": "#EBF0F8",
           "zerolinewidth": 2
          }
         }
        },
        "title": {
         "text": " "
        },
        "width": 800,
        "xaxis": {
         "anchor": "y",
         "domain": [
          0,
          0.94
         ],
         "title": {
          "text": "Time"
         }
        },
        "yaxis": {
         "anchor": "x",
         "domain": [
          0,
          1
         ],
         "title": {
          "text": "Perc_Anom"
         }
        },
        "yaxis2": {
         "anchor": "x",
         "overlaying": "y",
         "side": "right"
        }
       }
      }
     },
     "metadata": {},
     "output_type": "display_data"
    }
   ],
   "source": [
    "dict_plot = [{'data' : df_cold_anom, 'var' : 'Perc_Anom', 'ax' : 1, 'label' : 'Cold Days'},\n",
    "             {'data' : df_hot_anom, 'var' : 'Perc_Anom', 'ax' : 1, 'label' : 'Hot Days'}]\n",
    "fig = plot_timeseries_interactive(dict_plot, trendline=True)\n"
   ]
  },
  {
   "cell_type": "code",
   "execution_count": null,
   "metadata": {},
   "outputs": [],
   "source": []
  }
 ],
 "metadata": {
  "kernelspec": {
   "display_name": "cc_indicators",
   "language": "python",
   "name": "python3"
  },
  "language_info": {
   "codemirror_mode": {
    "name": "ipython",
    "version": 3
   },
   "file_extension": ".py",
   "mimetype": "text/x-python",
   "name": "python",
   "nbconvert_exporter": "python",
   "pygments_lexer": "ipython3",
   "version": "3.12.0"
  }
 },
 "nbformat": 4,
 "nbformat_minor": 2
}
