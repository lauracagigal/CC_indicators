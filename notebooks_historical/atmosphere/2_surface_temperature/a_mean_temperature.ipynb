{
 "cells": [
  {
   "cell_type": "markdown",
   "metadata": {},
   "source": [
    "# Mean Atmospheric Temperature"
   ]
  },
  {
   "cell_type": "markdown",
   "metadata": {},
   "source": [
    "https://www.ncei.noaa.gov/data/global-historical-climatology-network-daily/doc/GHCND_documentation.pdf"
   ]
  },
  {
   "cell_type": "code",
   "execution_count": 1,
   "metadata": {},
   "outputs": [],
   "source": [
    "import warnings\n",
    "warnings.filterwarnings(\"ignore\")"
   ]
  },
  {
   "cell_type": "code",
   "execution_count": 2,
   "metadata": {},
   "outputs": [],
   "source": [
    "import os\n",
    "import os.path as op\n",
    "import sys\n",
    "import folium\n",
    "\n",
    "import numpy as np\n",
    "import pandas as pd\n",
    "\n",
    "sys.path.append(\"../../../../indicators_setup\")\n",
    "from ind_setup.plotting_int import plot_timeseries_interactive\n",
    "from ind_setup.plotting import plot_bar_probs, fontsize\n",
    "from ind_setup.colors import get_df_col\n",
    "\n",
    "sys.path.append(\"../../../functions\")\n",
    "from data_downloaders import GHCN"
   ]
  },
  {
   "cell_type": "markdown",
   "metadata": {},
   "source": [
    "## Define location and variables of interest"
   ]
  },
  {
   "cell_type": "code",
   "execution_count": 3,
   "metadata": {},
   "outputs": [],
   "source": [
    "country = 'Palau'\n",
    "vars_interest = ['TMIN', 'TMAX']"
   ]
  },
  {
   "cell_type": "markdown",
   "metadata": {},
   "source": [
    "## Get Data"
   ]
  },
  {
   "cell_type": "code",
   "execution_count": 4,
   "metadata": {},
   "outputs": [],
   "source": [
    "update_data = False\n",
    "path_data = \"../../../data\""
   ]
  },
  {
   "cell_type": "markdown",
   "metadata": {},
   "source": [
    "## Using Koror Station"
   ]
  },
  {
   "cell_type": "markdown",
   "metadata": {},
   "source": [
    "Analysis of how much the maximum and minimum temperatures over time are changing. <br>\n",
    "The analysis of the difference between these 2 variables will allow us to know how the daily variability is being modified"
   ]
  },
  {
   "cell_type": "code",
   "execution_count": 5,
   "metadata": {},
   "outputs": [],
   "source": [
    "if update_data:\n",
    "    df_country = GHCN.get_country_code(country)\n",
    "    print(f'The GHCN code for {country} is {df_country[\"Code\"].values[0]}')\n",
    "\n",
    "    df_stations = GHCN.download_stations_info()\n",
    "    df_country_stations = df_stations[df_stations['ID'].str.startswith(df_country.Code.values[0])]\n",
    "    print(f'There are {df_country_stations.shape[0]} stations in {country}')"
   ]
  },
  {
   "cell_type": "code",
   "execution_count": 6,
   "metadata": {},
   "outputs": [],
   "source": [
    "if update_data:\n",
    "    GHCND_dir = 'https://www.ncei.noaa.gov/data/global-historical-climatology-network-daily/access/'\n",
    "    id = 'PSW00040309' # Koror Station\n",
    "    dict_min = GHCN.extract_dict_data_var(GHCND_dir, 'TMIN', df_country_stations.loc[df_country_stations['ID'] == id])[0][0]\n",
    "    dict_max = GHCN.extract_dict_data_var(GHCND_dir, 'TMAX', df_country_stations.loc[df_country_stations['ID'] == id])[0][0]\n",
    "    st_data = pd.concat([dict_min['data'], (dict_max['data'])], axis=1).dropna()\n",
    "    st_data['diff'] = st_data['TMAX'] - st_data['TMIN']\n",
    "    st_data['TMEAN'] = (st_data['TMAX'] + st_data['TMIN'])/2\n",
    "    st_data.to_pickle(op.join(path_data, 'GHCN_surface_temperature.pkl'))\n",
    "else:\n",
    "    st_data = pd.read_pickle(op.join(path_data, 'GHCN_surface_temperature.pkl'))"
   ]
  },
  {
   "cell_type": "code",
   "execution_count": 7,
   "metadata": {},
   "outputs": [],
   "source": [
    "st_data = st_data.resample('Y').mean()"
   ]
  },
  {
   "cell_type": "raw",
   "metadata": {},
   "source": [
    "st_data.plot(y='diff', title='Annual difference between TMAX and TMIN', color='black', legend=False)"
   ]
  },
  {
   "cell_type": "markdown",
   "metadata": {},
   "source": [
    "### Mean temperature"
   ]
  },
  {
   "cell_type": "code",
   "execution_count": 8,
   "metadata": {},
   "outputs": [],
   "source": [
    "dict_plot = [{'data' : st_data, 'var' : 'TMEAN', 'ax' : 1, 'label' : 'TMEAN'},\n",
    "        ]"
   ]
  },
  {
   "cell_type": "code",
   "execution_count": 9,
   "metadata": {},
   "outputs": [
    {
     "data": {
      "application/vnd.plotly.v1+json": {
       "config": {
        "plotlyServerURL": "https://plot.ly"
       },
       "data": [
        {
         "line": {
          "color": "#636EFA"
         },
         "name": "TMEAN",
         "type": "scatter",
         "x": [
          "1951-12-31T00:00:00",
          "1952-12-31T00:00:00",
          "1953-12-31T00:00:00",
          "1954-12-31T00:00:00",
          "1955-12-31T00:00:00",
          "1956-12-31T00:00:00",
          "1957-12-31T00:00:00",
          "1958-12-31T00:00:00",
          "1959-12-31T00:00:00",
          "1960-12-31T00:00:00",
          "1961-12-31T00:00:00",
          "1962-12-31T00:00:00",
          "1963-12-31T00:00:00",
          "1964-12-31T00:00:00",
          "1965-12-31T00:00:00",
          "1966-12-31T00:00:00",
          "1967-12-31T00:00:00",
          "1968-12-31T00:00:00",
          "1969-12-31T00:00:00",
          "1970-12-31T00:00:00",
          "1971-12-31T00:00:00",
          "1972-12-31T00:00:00",
          "1973-12-31T00:00:00",
          "1974-12-31T00:00:00",
          "1975-12-31T00:00:00",
          "1976-12-31T00:00:00",
          "1977-12-31T00:00:00",
          "1978-12-31T00:00:00",
          "1979-12-31T00:00:00",
          "1980-12-31T00:00:00",
          "1981-12-31T00:00:00",
          "1982-12-31T00:00:00",
          "1983-12-31T00:00:00",
          "1984-12-31T00:00:00",
          "1985-12-31T00:00:00",
          "1986-12-31T00:00:00",
          "1987-12-31T00:00:00",
          "1988-12-31T00:00:00",
          "1989-12-31T00:00:00",
          "1990-12-31T00:00:00",
          "1991-12-31T00:00:00",
          "1992-12-31T00:00:00",
          "1993-12-31T00:00:00",
          "1994-12-31T00:00:00",
          "1995-12-31T00:00:00",
          "1996-12-31T00:00:00",
          "1997-12-31T00:00:00",
          "1998-12-31T00:00:00",
          "1999-12-31T00:00:00",
          "2000-12-31T00:00:00",
          "2001-12-31T00:00:00",
          "2002-12-31T00:00:00",
          "2003-12-31T00:00:00",
          "2004-12-31T00:00:00",
          "2005-12-31T00:00:00",
          "2006-12-31T00:00:00",
          "2007-12-31T00:00:00",
          "2008-12-31T00:00:00",
          "2009-12-31T00:00:00",
          "2010-12-31T00:00:00",
          "2011-12-31T00:00:00",
          "2012-12-31T00:00:00",
          "2013-12-31T00:00:00",
          "2014-12-31T00:00:00",
          "2015-12-31T00:00:00",
          "2016-12-31T00:00:00",
          "2017-12-31T00:00:00",
          "2018-12-31T00:00:00",
          "2019-12-31T00:00:00",
          "2020-12-31T00:00:00",
          "2021-12-31T00:00:00",
          "2022-12-31T00:00:00",
          "2023-12-31T00:00:00",
          "2024-12-31T00:00:00",
          "2025-12-31T00:00:00"
         ],
         "xaxis": "x",
         "y": [
          27.537499999999998,
          27.371311475409836,
          27.56424657534247,
          28.042465753424658,
          27.249452054794517,
          27.201775956284155,
          27.541780821917808,
          27.736986301369864,
          27.34315068493151,
          27.576092896174863,
          27.270684931506846,
          27.394657534246573,
          27.504794520547946,
          27.3603825136612,
          27.133150684931508,
          27.455890410958904,
          27.51150684931507,
          27.70437158469945,
          27.6327397260274,
          27.82904109589041,
          27.583698630136983,
          27.612704918032787,
          27.82082191780822,
          27.641643835616442,
          27.49890410958904,
          27.650683060109287,
          27.82150684931507,
          27.533835616438356,
          27.54054794520548,
          27.566803278688525,
          27.512602739726027,
          27.57643835616438,
          27.674931506849315,
          27.588387978142077,
          27.423424657534245,
          27.800273972602742,
          27.84767123287671,
          27.914754098360653,
          27.87876712328767,
          27.92986301369863,
          27.588630136986303,
          27.49754098360656,
          27.555068493150685,
          27.684931506849313,
          27.757808219178084,
          27.803551912568306,
          27.83671232876712,
          28.09904109589041,
          27.83917808219178,
          27.806420765027323,
          28.226712328767125,
          28.406438356164383,
          28.139589041095892,
          28.42158469945355,
          28.123561643835618,
          28.25027397260274,
          28.330958904109586,
          27.740163934426228,
          27.668082191780822,
          27.739315068493152,
          27.663561643835617,
          27.86571038251366,
          28.004246575342464,
          28.034657534246573,
          28.29232876712329,
          28.348497267759562,
          28.18931506849315,
          28.352866242038214,
          27.686666666666667,
          27.508394160583943,
          26.681728045325777,
          27.229623287671235,
          27.799113475177307,
          28.00077881619938,
          27.905882352941177
         ],
         "yaxis": "y"
        },
        {
         "line": {
          "color": "black"
         },
         "mode": "lines",
         "name": "Trend (rate = 0.007/year) - Significant (p < 0.05)",
         "showlegend": true,
         "type": "scatter",
         "x": [
          "1951-12-31T00:00:00",
          "1952-12-31T00:00:00",
          "1953-12-31T00:00:00",
          "1954-12-31T00:00:00",
          "1955-12-31T00:00:00",
          "1956-12-31T00:00:00",
          "1957-12-31T00:00:00",
          "1958-12-31T00:00:00",
          "1959-12-31T00:00:00",
          "1960-12-31T00:00:00",
          "1961-12-31T00:00:00",
          "1962-12-31T00:00:00",
          "1963-12-31T00:00:00",
          "1964-12-31T00:00:00",
          "1965-12-31T00:00:00",
          "1966-12-31T00:00:00",
          "1967-12-31T00:00:00",
          "1968-12-31T00:00:00",
          "1969-12-31T00:00:00",
          "1970-12-31T00:00:00",
          "1971-12-31T00:00:00",
          "1972-12-31T00:00:00",
          "1973-12-31T00:00:00",
          "1974-12-31T00:00:00",
          "1975-12-31T00:00:00",
          "1976-12-31T00:00:00",
          "1977-12-31T00:00:00",
          "1978-12-31T00:00:00",
          "1979-12-31T00:00:00",
          "1980-12-31T00:00:00",
          "1981-12-31T00:00:00",
          "1982-12-31T00:00:00",
          "1983-12-31T00:00:00",
          "1984-12-31T00:00:00",
          "1985-12-31T00:00:00",
          "1986-12-31T00:00:00",
          "1987-12-31T00:00:00",
          "1988-12-31T00:00:00",
          "1989-12-31T00:00:00",
          "1990-12-31T00:00:00",
          "1991-12-31T00:00:00",
          "1992-12-31T00:00:00",
          "1993-12-31T00:00:00",
          "1994-12-31T00:00:00",
          "1995-12-31T00:00:00",
          "1996-12-31T00:00:00",
          "1997-12-31T00:00:00",
          "1998-12-31T00:00:00",
          "1999-12-31T00:00:00",
          "2000-12-31T00:00:00",
          "2001-12-31T00:00:00",
          "2002-12-31T00:00:00",
          "2003-12-31T00:00:00",
          "2004-12-31T00:00:00",
          "2005-12-31T00:00:00",
          "2006-12-31T00:00:00",
          "2007-12-31T00:00:00",
          "2008-12-31T00:00:00",
          "2009-12-31T00:00:00",
          "2010-12-31T00:00:00",
          "2011-12-31T00:00:00",
          "2012-12-31T00:00:00",
          "2013-12-31T00:00:00",
          "2014-12-31T00:00:00",
          "2015-12-31T00:00:00",
          "2016-12-31T00:00:00",
          "2017-12-31T00:00:00",
          "2018-12-31T00:00:00",
          "2019-12-31T00:00:00",
          "2020-12-31T00:00:00",
          "2021-12-31T00:00:00",
          "2022-12-31T00:00:00",
          "2023-12-31T00:00:00",
          "2024-12-31T00:00:00",
          "2025-12-31T00:00:00"
         ],
         "xaxis": "x",
         "y": [
          27.462172703042956,
          27.469320928231998,
          27.476449622751126,
          27.483578317270254,
          27.490707011789382,
          27.497855236978424,
          27.504983931497552,
          27.51211262601668,
          27.51924132053581,
          27.52638954572485,
          27.53351824024398,
          27.540646934763107,
          27.547775629282235,
          27.554923854471276,
          27.562052548990405,
          27.569181243509533,
          27.57630993802866,
          27.583458163217706,
          27.59058685773683,
          27.59771555225596,
          27.604844246775087,
          27.611992471964133,
          27.61912116648326,
          27.626249861002385,
          27.633378555521514,
          27.64052678071056,
          27.647655475229687,
          27.654784169748815,
          27.66191286426794,
          27.669061089456985,
          27.676189783976113,
          27.68331847849524,
          27.69044717301437,
          27.69759539820341,
          27.70472409272254,
          27.711852787241668,
          27.718981481760796,
          27.726129706949838,
          27.733258401468966,
          27.740387095988094,
          27.747515790507222,
          27.754664015696264,
          27.761792710215392,
          27.76892140473452,
          27.77605009925365,
          27.78319832444269,
          27.79032701896182,
          27.797455713480947,
          27.804584408000075,
          27.81173263318912,
          27.818861327708245,
          27.825990022227373,
          27.8331187167465,
          27.840266941935546,
          27.847395636454674,
          27.8545243309738,
          27.861653025492927,
          27.868801250681972,
          27.8759299452011,
          27.88305863972023,
          27.890187334239354,
          27.8973355594284,
          27.904464253947527,
          27.911592948466655,
          27.918721642985783,
          27.925869868174825,
          27.932998562693953,
          27.94012725721308,
          27.94725595173221,
          27.95440417692125,
          27.96153287144038,
          27.968661565959508,
          27.975790260478636,
          27.982938485667677,
          27.990067180186806
         ],
         "yaxis": "y"
        }
       ],
       "layout": {
        "height": 480,
        "legend": {
         "font": {
          "size": 12
         },
         "orientation": "h",
         "x": 0.5,
         "xanchor": "center",
         "y": 1.1,
         "yanchor": "bottom"
        },
        "template": {
         "data": {
          "bar": [
           {
            "error_x": {
             "color": "#2a3f5f"
            },
            "error_y": {
             "color": "#2a3f5f"
            },
            "marker": {
             "line": {
              "color": "white",
              "width": 0.5
             },
             "pattern": {
              "fillmode": "overlay",
              "size": 10,
              "solidity": 0.2
             }
            },
            "type": "bar"
           }
          ],
          "barpolar": [
           {
            "marker": {
             "line": {
              "color": "white",
              "width": 0.5
             },
             "pattern": {
              "fillmode": "overlay",
              "size": 10,
              "solidity": 0.2
             }
            },
            "type": "barpolar"
           }
          ],
          "carpet": [
           {
            "aaxis": {
             "endlinecolor": "#2a3f5f",
             "gridcolor": "#C8D4E3",
             "linecolor": "#C8D4E3",
             "minorgridcolor": "#C8D4E3",
             "startlinecolor": "#2a3f5f"
            },
            "baxis": {
             "endlinecolor": "#2a3f5f",
             "gridcolor": "#C8D4E3",
             "linecolor": "#C8D4E3",
             "minorgridcolor": "#C8D4E3",
             "startlinecolor": "#2a3f5f"
            },
            "type": "carpet"
           }
          ],
          "choropleth": [
           {
            "colorbar": {
             "outlinewidth": 0,
             "ticks": ""
            },
            "type": "choropleth"
           }
          ],
          "contour": [
           {
            "colorbar": {
             "outlinewidth": 0,
             "ticks": ""
            },
            "colorscale": [
             [
              0,
              "#0d0887"
             ],
             [
              0.1111111111111111,
              "#46039f"
             ],
             [
              0.2222222222222222,
              "#7201a8"
             ],
             [
              0.3333333333333333,
              "#9c179e"
             ],
             [
              0.4444444444444444,
              "#bd3786"
             ],
             [
              0.5555555555555556,
              "#d8576b"
             ],
             [
              0.6666666666666666,
              "#ed7953"
             ],
             [
              0.7777777777777778,
              "#fb9f3a"
             ],
             [
              0.8888888888888888,
              "#fdca26"
             ],
             [
              1,
              "#f0f921"
             ]
            ],
            "type": "contour"
           }
          ],
          "contourcarpet": [
           {
            "colorbar": {
             "outlinewidth": 0,
             "ticks": ""
            },
            "type": "contourcarpet"
           }
          ],
          "heatmap": [
           {
            "colorbar": {
             "outlinewidth": 0,
             "ticks": ""
            },
            "colorscale": [
             [
              0,
              "#0d0887"
             ],
             [
              0.1111111111111111,
              "#46039f"
             ],
             [
              0.2222222222222222,
              "#7201a8"
             ],
             [
              0.3333333333333333,
              "#9c179e"
             ],
             [
              0.4444444444444444,
              "#bd3786"
             ],
             [
              0.5555555555555556,
              "#d8576b"
             ],
             [
              0.6666666666666666,
              "#ed7953"
             ],
             [
              0.7777777777777778,
              "#fb9f3a"
             ],
             [
              0.8888888888888888,
              "#fdca26"
             ],
             [
              1,
              "#f0f921"
             ]
            ],
            "type": "heatmap"
           }
          ],
          "heatmapgl": [
           {
            "colorbar": {
             "outlinewidth": 0,
             "ticks": ""
            },
            "colorscale": [
             [
              0,
              "#0d0887"
             ],
             [
              0.1111111111111111,
              "#46039f"
             ],
             [
              0.2222222222222222,
              "#7201a8"
             ],
             [
              0.3333333333333333,
              "#9c179e"
             ],
             [
              0.4444444444444444,
              "#bd3786"
             ],
             [
              0.5555555555555556,
              "#d8576b"
             ],
             [
              0.6666666666666666,
              "#ed7953"
             ],
             [
              0.7777777777777778,
              "#fb9f3a"
             ],
             [
              0.8888888888888888,
              "#fdca26"
             ],
             [
              1,
              "#f0f921"
             ]
            ],
            "type": "heatmapgl"
           }
          ],
          "histogram": [
           {
            "marker": {
             "pattern": {
              "fillmode": "overlay",
              "size": 10,
              "solidity": 0.2
             }
            },
            "type": "histogram"
           }
          ],
          "histogram2d": [
           {
            "colorbar": {
             "outlinewidth": 0,
             "ticks": ""
            },
            "colorscale": [
             [
              0,
              "#0d0887"
             ],
             [
              0.1111111111111111,
              "#46039f"
             ],
             [
              0.2222222222222222,
              "#7201a8"
             ],
             [
              0.3333333333333333,
              "#9c179e"
             ],
             [
              0.4444444444444444,
              "#bd3786"
             ],
             [
              0.5555555555555556,
              "#d8576b"
             ],
             [
              0.6666666666666666,
              "#ed7953"
             ],
             [
              0.7777777777777778,
              "#fb9f3a"
             ],
             [
              0.8888888888888888,
              "#fdca26"
             ],
             [
              1,
              "#f0f921"
             ]
            ],
            "type": "histogram2d"
           }
          ],
          "histogram2dcontour": [
           {
            "colorbar": {
             "outlinewidth": 0,
             "ticks": ""
            },
            "colorscale": [
             [
              0,
              "#0d0887"
             ],
             [
              0.1111111111111111,
              "#46039f"
             ],
             [
              0.2222222222222222,
              "#7201a8"
             ],
             [
              0.3333333333333333,
              "#9c179e"
             ],
             [
              0.4444444444444444,
              "#bd3786"
             ],
             [
              0.5555555555555556,
              "#d8576b"
             ],
             [
              0.6666666666666666,
              "#ed7953"
             ],
             [
              0.7777777777777778,
              "#fb9f3a"
             ],
             [
              0.8888888888888888,
              "#fdca26"
             ],
             [
              1,
              "#f0f921"
             ]
            ],
            "type": "histogram2dcontour"
           }
          ],
          "mesh3d": [
           {
            "colorbar": {
             "outlinewidth": 0,
             "ticks": ""
            },
            "type": "mesh3d"
           }
          ],
          "parcoords": [
           {
            "line": {
             "colorbar": {
              "outlinewidth": 0,
              "ticks": ""
             }
            },
            "type": "parcoords"
           }
          ],
          "pie": [
           {
            "automargin": true,
            "type": "pie"
           }
          ],
          "scatter": [
           {
            "fillpattern": {
             "fillmode": "overlay",
             "size": 10,
             "solidity": 0.2
            },
            "type": "scatter"
           }
          ],
          "scatter3d": [
           {
            "line": {
             "colorbar": {
              "outlinewidth": 0,
              "ticks": ""
             }
            },
            "marker": {
             "colorbar": {
              "outlinewidth": 0,
              "ticks": ""
             }
            },
            "type": "scatter3d"
           }
          ],
          "scattercarpet": [
           {
            "marker": {
             "colorbar": {
              "outlinewidth": 0,
              "ticks": ""
             }
            },
            "type": "scattercarpet"
           }
          ],
          "scattergeo": [
           {
            "marker": {
             "colorbar": {
              "outlinewidth": 0,
              "ticks": ""
             }
            },
            "type": "scattergeo"
           }
          ],
          "scattergl": [
           {
            "marker": {
             "colorbar": {
              "outlinewidth": 0,
              "ticks": ""
             }
            },
            "type": "scattergl"
           }
          ],
          "scattermapbox": [
           {
            "marker": {
             "colorbar": {
              "outlinewidth": 0,
              "ticks": ""
             }
            },
            "type": "scattermapbox"
           }
          ],
          "scatterpolar": [
           {
            "marker": {
             "colorbar": {
              "outlinewidth": 0,
              "ticks": ""
             }
            },
            "type": "scatterpolar"
           }
          ],
          "scatterpolargl": [
           {
            "marker": {
             "colorbar": {
              "outlinewidth": 0,
              "ticks": ""
             }
            },
            "type": "scatterpolargl"
           }
          ],
          "scatterternary": [
           {
            "marker": {
             "colorbar": {
              "outlinewidth": 0,
              "ticks": ""
             }
            },
            "type": "scatterternary"
           }
          ],
          "surface": [
           {
            "colorbar": {
             "outlinewidth": 0,
             "ticks": ""
            },
            "colorscale": [
             [
              0,
              "#0d0887"
             ],
             [
              0.1111111111111111,
              "#46039f"
             ],
             [
              0.2222222222222222,
              "#7201a8"
             ],
             [
              0.3333333333333333,
              "#9c179e"
             ],
             [
              0.4444444444444444,
              "#bd3786"
             ],
             [
              0.5555555555555556,
              "#d8576b"
             ],
             [
              0.6666666666666666,
              "#ed7953"
             ],
             [
              0.7777777777777778,
              "#fb9f3a"
             ],
             [
              0.8888888888888888,
              "#fdca26"
             ],
             [
              1,
              "#f0f921"
             ]
            ],
            "type": "surface"
           }
          ],
          "table": [
           {
            "cells": {
             "fill": {
              "color": "#EBF0F8"
             },
             "line": {
              "color": "white"
             }
            },
            "header": {
             "fill": {
              "color": "#C8D4E3"
             },
             "line": {
              "color": "white"
             }
            },
            "type": "table"
           }
          ]
         },
         "layout": {
          "annotationdefaults": {
           "arrowcolor": "#2a3f5f",
           "arrowhead": 0,
           "arrowwidth": 1
          },
          "autotypenumbers": "strict",
          "coloraxis": {
           "colorbar": {
            "outlinewidth": 0,
            "ticks": ""
           }
          },
          "colorscale": {
           "diverging": [
            [
             0,
             "#8e0152"
            ],
            [
             0.1,
             "#c51b7d"
            ],
            [
             0.2,
             "#de77ae"
            ],
            [
             0.3,
             "#f1b6da"
            ],
            [
             0.4,
             "#fde0ef"
            ],
            [
             0.5,
             "#f7f7f7"
            ],
            [
             0.6,
             "#e6f5d0"
            ],
            [
             0.7,
             "#b8e186"
            ],
            [
             0.8,
             "#7fbc41"
            ],
            [
             0.9,
             "#4d9221"
            ],
            [
             1,
             "#276419"
            ]
           ],
           "sequential": [
            [
             0,
             "#0d0887"
            ],
            [
             0.1111111111111111,
             "#46039f"
            ],
            [
             0.2222222222222222,
             "#7201a8"
            ],
            [
             0.3333333333333333,
             "#9c179e"
            ],
            [
             0.4444444444444444,
             "#bd3786"
            ],
            [
             0.5555555555555556,
             "#d8576b"
            ],
            [
             0.6666666666666666,
             "#ed7953"
            ],
            [
             0.7777777777777778,
             "#fb9f3a"
            ],
            [
             0.8888888888888888,
             "#fdca26"
            ],
            [
             1,
             "#f0f921"
            ]
           ],
           "sequentialminus": [
            [
             0,
             "#0d0887"
            ],
            [
             0.1111111111111111,
             "#46039f"
            ],
            [
             0.2222222222222222,
             "#7201a8"
            ],
            [
             0.3333333333333333,
             "#9c179e"
            ],
            [
             0.4444444444444444,
             "#bd3786"
            ],
            [
             0.5555555555555556,
             "#d8576b"
            ],
            [
             0.6666666666666666,
             "#ed7953"
            ],
            [
             0.7777777777777778,
             "#fb9f3a"
            ],
            [
             0.8888888888888888,
             "#fdca26"
            ],
            [
             1,
             "#f0f921"
            ]
           ]
          },
          "colorway": [
           "#636efa",
           "#EF553B",
           "#00cc96",
           "#ab63fa",
           "#FFA15A",
           "#19d3f3",
           "#FF6692",
           "#B6E880",
           "#FF97FF",
           "#FECB52"
          ],
          "font": {
           "color": "#2a3f5f"
          },
          "geo": {
           "bgcolor": "white",
           "lakecolor": "white",
           "landcolor": "white",
           "showlakes": true,
           "showland": true,
           "subunitcolor": "#C8D4E3"
          },
          "hoverlabel": {
           "align": "left"
          },
          "hovermode": "closest",
          "mapbox": {
           "style": "light"
          },
          "paper_bgcolor": "white",
          "plot_bgcolor": "white",
          "polar": {
           "angularaxis": {
            "gridcolor": "#EBF0F8",
            "linecolor": "#EBF0F8",
            "ticks": ""
           },
           "bgcolor": "white",
           "radialaxis": {
            "gridcolor": "#EBF0F8",
            "linecolor": "#EBF0F8",
            "ticks": ""
           }
          },
          "scene": {
           "xaxis": {
            "backgroundcolor": "white",
            "gridcolor": "#DFE8F3",
            "gridwidth": 2,
            "linecolor": "#EBF0F8",
            "showbackground": true,
            "ticks": "",
            "zerolinecolor": "#EBF0F8"
           },
           "yaxis": {
            "backgroundcolor": "white",
            "gridcolor": "#DFE8F3",
            "gridwidth": 2,
            "linecolor": "#EBF0F8",
            "showbackground": true,
            "ticks": "",
            "zerolinecolor": "#EBF0F8"
           },
           "zaxis": {
            "backgroundcolor": "white",
            "gridcolor": "#DFE8F3",
            "gridwidth": 2,
            "linecolor": "#EBF0F8",
            "showbackground": true,
            "ticks": "",
            "zerolinecolor": "#EBF0F8"
           }
          },
          "shapedefaults": {
           "line": {
            "color": "#2a3f5f"
           }
          },
          "ternary": {
           "aaxis": {
            "gridcolor": "#DFE8F3",
            "linecolor": "#A2B1C6",
            "ticks": ""
           },
           "baxis": {
            "gridcolor": "#DFE8F3",
            "linecolor": "#A2B1C6",
            "ticks": ""
           },
           "bgcolor": "white",
           "caxis": {
            "gridcolor": "#DFE8F3",
            "linecolor": "#A2B1C6",
            "ticks": ""
           }
          },
          "title": {
           "x": 0.05
          },
          "xaxis": {
           "automargin": true,
           "gridcolor": "#EBF0F8",
           "linecolor": "#EBF0F8",
           "ticks": "",
           "title": {
            "standoff": 15
           },
           "zerolinecolor": "#EBF0F8",
           "zerolinewidth": 2
          },
          "yaxis": {
           "automargin": true,
           "gridcolor": "#EBF0F8",
           "linecolor": "#EBF0F8",
           "ticks": "",
           "title": {
            "standoff": 15
           },
           "zerolinecolor": "#EBF0F8",
           "zerolinewidth": 2
          }
         }
        },
        "title": {
         "text": " "
        },
        "width": 1000,
        "xaxis": {
         "anchor": "y",
         "domain": [
          0,
          0.94
         ],
         "title": {
          "text": "Time"
         }
        },
        "yaxis": {
         "anchor": "x",
         "domain": [
          0,
          1
         ],
         "title": {
          "text": "TMEAN"
         }
        },
        "yaxis2": {
         "anchor": "x",
         "overlaying": "y",
         "side": "right"
        }
       }
      }
     },
     "metadata": {},
     "output_type": "display_data"
    }
   ],
   "source": [
    "dict_plot = [{'data' : st_data, 'var' : 'TMEAN', 'ax' : 1, 'label' : 'TMEAN'}]\n",
    "fig = plot_timeseries_interactive(dict_plot, trendline=True, figsize = (25, 12))\n"
   ]
  },
  {
   "cell_type": "code",
   "execution_count": 10,
   "metadata": {},
   "outputs": [],
   "source": [
    "st_data['TMEAN_ref'] = st_data['TMEAN'] - st_data.loc['1961':'1990'].TMEAN.mean()"
   ]
  },
  {
   "cell_type": "code",
   "execution_count": 11,
   "metadata": {},
   "outputs": [
    {
     "data": {
      "image/png": "[encoded data removed]",
      "text/plain": [
       "<Figure size 1500x400 with 1 Axes>"
      ]
     },
     "metadata": {},
     "output_type": "display_data"
    }
   ],
   "source": [
    "import matplotlib.pyplot as plt\n",
    "plot_bar_probs(x = st_data.index.year, y = st_data.TMEAN_ref, trendline = True, figsize = [15, 4])\n",
    "plt.title('Temperature anomalies (Over and above 1961 - 1990 reference period)', fontsize = 15);"
   ]
  },
  {
   "cell_type": "code",
   "execution_count": 12,
   "metadata": {},
   "outputs": [],
   "source": [
    "nevents = 10\n",
    "top_10 = st_data.sort_values(by='TMEAN_ref', ascending=False).head(nevents)"
   ]
  },
  {
   "cell_type": "code",
   "execution_count": 13,
   "metadata": {},
   "outputs": [],
   "source": [
    "import numpy as np\n",
    "import pandas as pd\n",
    "from statsmodels.tsa.stattools import acf\n",
    "\n",
    "def get_data_metrics(st_data, var):\n",
    "    mean = np.nanmean(st_data[var])\n",
    "    std = np.nanstd(st_data[var])\n",
    "    max_val = np.nanmax(st_data[var])\n",
    "    min_val = np.nanmin(st_data[var])\n",
    "    median = np.nanmedian(st_data[var])\n",
    "    range_val = max_val - min_val\n",
    "    trend = np.polyfit(st_data.index.year, st_data[var], 1)[0]\n",
    "    \n",
    "    # Extreme events\n",
    "    threshold = mean + 2 * std\n",
    "    extreme_days = len(st_data[var] > threshold)\n",
    "    \n",
    "    # Percentiles\n",
    "    p10 = np.nanpercentile(st_data[var], 10)\n",
    "    p90 = np.nanpercentile(st_data[var], 90)\n",
    "    \n",
    "    \n",
    "    # Compile metrics\n",
    "    df = pd.DataFrame({\n",
    "        'Mean': mean,\n",
    "        'Median': median,\n",
    "        'Standard deviation': std,\n",
    "        'Maximum': max_val,\n",
    "        'Minimum': min_val,\n",
    "        'Range': range_val,\n",
    "        '10th Percentile': p10,\n",
    "        '90th Percentile': p90,\n",
    "        'Trend': trend,\n",
    "        'Extreme Days (>2σ)': extreme_days,\n",
    "    }, index=[var])\n",
    "    \n",
    "    return np.round(df, 3)\n"
   ]
  },
  {
   "cell_type": "code",
   "execution_count": 14,
   "metadata": {},
   "outputs": [
    {
     "data": {
      "image/png": "[encoded data removed]"
     },
     "metadata": {},
     "output_type": "display_data"
    }
   ],
   "source": [
    "from ind_setup.tables import plot_df_table\n",
    "\n",
    "var = 'TMEAN'\n",
    "df = get_data_metrics(st_data, var, )\n",
    "fig = plot_df_table(df.T, figsize = (300, 400))"
   ]
  },
  {
   "cell_type": "code",
   "execution_count": 15,
   "metadata": {},
   "outputs": [
    {
     "data": {
      "image/png": "[encoded data removed]",
      "text/plain": [
       "<Figure size 1500x400 with 2 Axes>"
      ]
     },
     "metadata": {},
     "output_type": "display_data"
    }
   ],
   "source": [
    "import matplotlib.pyplot as plt\n",
    "ax = plot_bar_probs(x = st_data.index.year, y = st_data.TMEAN_ref, trendline = True,\n",
    "                    y_label = 'Mean Temperature', figsize = [15, 4])\n",
    "\n",
    "im = ax.scatter(top_10.index.year, top_10.TMEAN_ref, \n",
    "           c=top_10.TMEAN_ref.values, s=100,\n",
    "            cmap = 'rainbow', label='Top 10 warmest years')\n",
    "plt.title('Temperature anomalies (Over and above 1961 - 1990 reference period)', fontsize = 15)\n",
    "plt.colorbar(im).set_label('Mean Temperature', fontsize = fontsize)"
   ]
  },
  {
   "cell_type": "markdown",
   "metadata": {},
   "source": [
    "### Minimum temperature"
   ]
  },
  {
   "cell_type": "code",
   "execution_count": 16,
   "metadata": {},
   "outputs": [],
   "source": [
    "dict_plot = [{'data' : st_data, 'var' : 'TMIN', 'ax' : 1, 'label' : 'TMIN'},\n",
    "        # {'data' : st_data, 'var' : 'TMAX', 'ax' : 1, 'label' : 'TMAX'},\n",
    "        # {'data' : st_data, 'var' : 'diff', 'ax' : 1, 'label' : 'Difference TMAX - TMIN'}\n",
    "        ]"
   ]
  },
  {
   "cell_type": "code",
   "execution_count": 17,
   "metadata": {},
   "outputs": [
    {
     "data": {
      "application/vnd.plotly.v1+json": {
       "config": {
        "plotlyServerURL": "https://plot.ly"
       },
       "data": [
        {
         "line": {
          "color": "#636EFA"
         },
         "name": "TMIN",
         "type": "scatter",
         "x": [
          "1951-12-31T00:00:00",
          "1952-12-31T00:00:00",
          "1953-12-31T00:00:00",
          "1954-12-31T00:00:00",
          "1955-12-31T00:00:00",
          "1956-12-31T00:00:00",
          "1957-12-31T00:00:00",
          "1958-12-31T00:00:00",
          "1959-12-31T00:00:00",
          "1960-12-31T00:00:00",
          "1961-12-31T00:00:00",
          "1962-12-31T00:00:00",
          "1963-12-31T00:00:00",
          "1964-12-31T00:00:00",
          "1965-12-31T00:00:00",
          "1966-12-31T00:00:00",
          "1967-12-31T00:00:00",
          "1968-12-31T00:00:00",
          "1969-12-31T00:00:00",
          "1970-12-31T00:00:00",
          "1971-12-31T00:00:00",
          "1972-12-31T00:00:00",
          "1973-12-31T00:00:00",
          "1974-12-31T00:00:00",
          "1975-12-31T00:00:00",
          "1976-12-31T00:00:00",
          "1977-12-31T00:00:00",
          "1978-12-31T00:00:00",
          "1979-12-31T00:00:00",
          "1980-12-31T00:00:00",
          "1981-12-31T00:00:00",
          "1982-12-31T00:00:00",
          "1983-12-31T00:00:00",
          "1984-12-31T00:00:00",
          "1985-12-31T00:00:00",
          "1986-12-31T00:00:00",
          "1987-12-31T00:00:00",
          "1988-12-31T00:00:00",
          "1989-12-31T00:00:00",
          "1990-12-31T00:00:00",
          "1991-12-31T00:00:00",
          "1992-12-31T00:00:00",
          "1993-12-31T00:00:00",
          "1994-12-31T00:00:00",
          "1995-12-31T00:00:00",
          "1996-12-31T00:00:00",
          "1997-12-31T00:00:00",
          "1998-12-31T00:00:00",
          "1999-12-31T00:00:00",
          "2000-12-31T00:00:00",
          "2001-12-31T00:00:00",
          "2002-12-31T00:00:00",
          "2003-12-31T00:00:00",
          "2004-12-31T00:00:00",
          "2005-12-31T00:00:00",
          "2006-12-31T00:00:00",
          "2007-12-31T00:00:00",
          "2008-12-31T00:00:00",
          "2009-12-31T00:00:00",
          "2010-12-31T00:00:00",
          "2011-12-31T00:00:00",
          "2012-12-31T00:00:00",
          "2013-12-31T00:00:00",
          "2014-12-31T00:00:00",
          "2015-12-31T00:00:00",
          "2016-12-31T00:00:00",
          "2017-12-31T00:00:00",
          "2018-12-31T00:00:00",
          "2019-12-31T00:00:00",
          "2020-12-31T00:00:00",
          "2021-12-31T00:00:00",
          "2022-12-31T00:00:00",
          "2023-12-31T00:00:00",
          "2024-12-31T00:00:00",
          "2025-12-31T00:00:00"
         ],
         "xaxis": "x",
         "y": [
          24.150543478260868,
          23.837978142076505,
          24.08876712328767,
          25.000547945205476,
          23.75698630136986,
          23.867486338797814,
          24.234246575342464,
          24.435616438356163,
          24.11698630136986,
          24.275683060109287,
          24.148219178082194,
          24.225205479452057,
          24.275342465753425,
          24.13606557377049,
          24.07780821917808,
          24.222465753424654,
          24.27972602739726,
          24.329234972677597,
          24.39945205479452,
          24.522465753424658,
          24.212876712328768,
          24.241256830601092,
          24.312328767123287,
          24.18712328767123,
          24.021369863013696,
          24.355464480874318,
          24.521643835616437,
          24.128493150684932,
          24.038904109589044,
          24.04207650273224,
          23.999452054794517,
          24.378082191780823,
          24.25041095890411,
          24.0775956284153,
          23.903013698630136,
          24.33479452054795,
          24.33808219178082,
          24.387704918032785,
          24.36794520547945,
          24.541917808219175,
          24.25095890410959,
          24.01775956284153,
          24.072328767123288,
          24.224657534246575,
          24.051232876712326,
          24.156830601092896,
          24.195068493150686,
          24.094246575342464,
          24.03917808219178,
          23.87295081967213,
          24.736164383561647,
          24.945479452054794,
          24.75260273972603,
          25.112021857923498,
          24.638904109589042,
          24.84109589041096,
          24.81287671232877,
          24.537431693989074,
          24.51945205479452,
          24.277260273972605,
          24.64876712328767,
          24.840710382513663,
          24.726301369863016,
          24.997260273972604,
          25.00986301369863,
          25.08415300546448,
          25,
          25.222292993630575,
          24.5,
          25.13175182481752,
          24.745042492917847,
          24.541780821917808,
          25.518439716312056,
          25.84361370716511,
          25.64117647058824
         ],
         "yaxis": "y"
        },
        {
         "line": {
          "color": "black"
         },
         "mode": "lines",
         "name": "Trend (rate = 0.013/year) - Significant (p < 0.05)",
         "showlegend": true,
         "type": "scatter",
         "x": [
          "1951-12-31T00:00:00",
          "1952-12-31T00:00:00",
          "1953-12-31T00:00:00",
          "1954-12-31T00:00:00",
          "1955-12-31T00:00:00",
          "1956-12-31T00:00:00",
          "1957-12-31T00:00:00",
          "1958-12-31T00:00:00",
          "1959-12-31T00:00:00",
          "1960-12-31T00:00:00",
          "1961-12-31T00:00:00",
          "1962-12-31T00:00:00",
          "1963-12-31T00:00:00",
          "1964-12-31T00:00:00",
          "1965-12-31T00:00:00",
          "1966-12-31T00:00:00",
          "1967-12-31T00:00:00",
          "1968-12-31T00:00:00",
          "1969-12-31T00:00:00",
          "1970-12-31T00:00:00",
          "1971-12-31T00:00:00",
          "1972-12-31T00:00:00",
          "1973-12-31T00:00:00",
          "1974-12-31T00:00:00",
          "1975-12-31T00:00:00",
          "1976-12-31T00:00:00",
          "1977-12-31T00:00:00",
          "1978-12-31T00:00:00",
          "1979-12-31T00:00:00",
          "1980-12-31T00:00:00",
          "1981-12-31T00:00:00",
          "1982-12-31T00:00:00",
          "1983-12-31T00:00:00",
          "1984-12-31T00:00:00",
          "1985-12-31T00:00:00",
          "1986-12-31T00:00:00",
          "1987-12-31T00:00:00",
          "1988-12-31T00:00:00",
          "1989-12-31T00:00:00",
          "1990-12-31T00:00:00",
          "1991-12-31T00:00:00",
          "1992-12-31T00:00:00",
          "1993-12-31T00:00:00",
          "1994-12-31T00:00:00",
          "1995-12-31T00:00:00",
          "1996-12-31T00:00:00",
          "1997-12-31T00:00:00",
          "1998-12-31T00:00:00",
          "1999-12-31T00:00:00",
          "2000-12-31T00:00:00",
          "2001-12-31T00:00:00",
          "2002-12-31T00:00:00",
          "2003-12-31T00:00:00",
          "2004-12-31T00:00:00",
          "2005-12-31T00:00:00",
          "2006-12-31T00:00:00",
          "2007-12-31T00:00:00",
          "2008-12-31T00:00:00",
          "2009-12-31T00:00:00",
          "2010-12-31T00:00:00",
          "2011-12-31T00:00:00",
          "2012-12-31T00:00:00",
          "2013-12-31T00:00:00",
          "2014-12-31T00:00:00",
          "2015-12-31T00:00:00",
          "2016-12-31T00:00:00",
          "2017-12-31T00:00:00",
          "2018-12-31T00:00:00",
          "2019-12-31T00:00:00",
          "2020-12-31T00:00:00",
          "2021-12-31T00:00:00",
          "2022-12-31T00:00:00",
          "2023-12-31T00:00:00",
          "2024-12-31T00:00:00",
          "2025-12-31T00:00:00"
         ],
         "xaxis": "x",
         "y": [
          23.948655731913668,
          23.961825357438038,
          23.97495900037901,
          23.98809264331998,
          24.001226286260952,
          24.01439591178532,
          24.027529554726293,
          24.040663197667264,
          24.053796840608232,
          24.066966466132605,
          24.080100109073577,
          24.093233752014548,
          24.106367394955516,
          24.11953702047989,
          24.13267066342086,
          24.14580430636183,
          24.1589379493028,
          24.172107574827173,
          24.185241217768144,
          24.198374860709112,
          24.211508503650084,
          24.224678129174457,
          24.237811772115425,
          24.250945415056396,
          24.264079057997368,
          24.27724868352174,
          24.29038232646271,
          24.30351596940368,
          24.31664961234465,
          24.32981923786902,
          24.342952880809992,
          24.356086523750964,
          24.369220166691935,
          24.382389792216305,
          24.395523435157276,
          24.408657078098248,
          24.42179072103922,
          24.43496034656359,
          24.44809398950456,
          24.46122763244553,
          24.474361275386503,
          24.487530900910873,
          24.500664543851844,
          24.513798186792815,
          24.526931829733787,
          24.540101455258156,
          24.553235098199128,
          24.5663687411401,
          24.57950238408107,
          24.59267200960544,
          24.60580565254641,
          24.618939295487383,
          24.632072938428355,
          24.645242563952724,
          24.658376206893696,
          24.671509849834667,
          24.68464349277564,
          24.697813118300008,
          24.71094676124098,
          24.72408040418195,
          24.737214047122922,
          24.750383672647292,
          24.763517315588263,
          24.776650958529235,
          24.789784601470206,
          24.802954226994576,
          24.816087869935547,
          24.82922151287652,
          24.842355155817486,
          24.85552478134186,
          24.86865842428283,
          24.881792067223802,
          24.89492571016477,
          24.908095335689143,
          24.921228978630115
         ],
         "yaxis": "y"
        }
       ],
       "layout": {
        "height": 480,
        "legend": {
         "font": {
          "size": 12
         },
         "orientation": "h",
         "x": 0.5,
         "xanchor": "center",
         "y": 1.1,
         "yanchor": "bottom"
        },
        "template": {
         "data": {
          "bar": [
           {
            "error_x": {
             "color": "#2a3f5f"
            },
            "error_y": {
             "color": "#2a3f5f"
            },
            "marker": {
             "line": {
              "color": "white",
              "width": 0.5
             },
             "pattern": {
              "fillmode": "overlay",
              "size": 10,
              "solidity": 0.2
             }
            },
            "type": "bar"
           }
          ],
          "barpolar": [
           {
            "marker": {
             "line": {
              "color": "white",
              "width": 0.5
             },
             "pattern": {
              "fillmode": "overlay",
              "size": 10,
              "solidity": 0.2
             }
            },
            "type": "barpolar"
           }
          ],
          "carpet": [
           {
            "aaxis": {
             "endlinecolor": "#2a3f5f",
             "gridcolor": "#C8D4E3",
             "linecolor": "#C8D4E3",
             "minorgridcolor": "#C8D4E3",
             "startlinecolor": "#2a3f5f"
            },
            "baxis": {
             "endlinecolor": "#2a3f5f",
             "gridcolor": "#C8D4E3",
             "linecolor": "#C8D4E3",
             "minorgridcolor": "#C8D4E3",
             "startlinecolor": "#2a3f5f"
            },
            "type": "carpet"
           }
          ],
          "choropleth": [
           {
            "colorbar": {
             "outlinewidth": 0,
             "ticks": ""
            },
            "type": "choropleth"
           }
          ],
          "contour": [
           {
            "colorbar": {
             "outlinewidth": 0,
             "ticks": ""
            },
            "colorscale": [
             [
              0,
              "#0d0887"
             ],
             [
              0.1111111111111111,
              "#46039f"
             ],
             [
              0.2222222222222222,
              "#7201a8"
             ],
             [
              0.3333333333333333,
              "#9c179e"
             ],
             [
              0.4444444444444444,
              "#bd3786"
             ],
             [
              0.5555555555555556,
              "#d8576b"
             ],
             [
              0.6666666666666666,
              "#ed7953"
             ],
             [
              0.7777777777777778,
              "#fb9f3a"
             ],
             [
              0.8888888888888888,
              "#fdca26"
             ],
             [
              1,
              "#f0f921"
             ]
            ],
            "type": "contour"
           }
          ],
          "contourcarpet": [
           {
            "colorbar": {
             "outlinewidth": 0,
             "ticks": ""
            },
            "type": "contourcarpet"
           }
          ],
          "heatmap": [
           {
            "colorbar": {
             "outlinewidth": 0,
             "ticks": ""
            },
            "colorscale": [
             [
              0,
              "#0d0887"
             ],
             [
              0.1111111111111111,
              "#46039f"
             ],
             [
              0.2222222222222222,
              "#7201a8"
             ],
             [
              0.3333333333333333,
              "#9c179e"
             ],
             [
              0.4444444444444444,
              "#bd3786"
             ],
             [
              0.5555555555555556,
              "#d8576b"
             ],
             [
              0.6666666666666666,
              "#ed7953"
             ],
             [
              0.7777777777777778,
              "#fb9f3a"
             ],
             [
              0.8888888888888888,
              "#fdca26"
             ],
             [
              1,
              "#f0f921"
             ]
            ],
            "type": "heatmap"
           }
          ],
          "heatmapgl": [
           {
            "colorbar": {
             "outlinewidth": 0,
             "ticks": ""
            },
            "colorscale": [
             [
              0,
              "#0d0887"
             ],
             [
              0.1111111111111111,
              "#46039f"
             ],
             [
              0.2222222222222222,
              "#7201a8"
             ],
             [
              0.3333333333333333,
              "#9c179e"
             ],
             [
              0.4444444444444444,
              "#bd3786"
             ],
             [
              0.5555555555555556,
              "#d8576b"
             ],
             [
              0.6666666666666666,
              "#ed7953"
             ],
             [
              0.7777777777777778,
              "#fb9f3a"
             ],
             [
              0.8888888888888888,
              "#fdca26"
             ],
             [
              1,
              "#f0f921"
             ]
            ],
            "type": "heatmapgl"
           }
          ],
          "histogram": [
           {
            "marker": {
             "pattern": {
              "fillmode": "overlay",
              "size": 10,
              "solidity": 0.2
             }
            },
            "type": "histogram"
           }
          ],
          "histogram2d": [
           {
            "colorbar": {
             "outlinewidth": 0,
             "ticks": ""
            },
            "colorscale": [
             [
              0,
              "#0d0887"
             ],
             [
              0.1111111111111111,
              "#46039f"
             ],
             [
              0.2222222222222222,
              "#7201a8"
             ],
             [
              0.3333333333333333,
              "#9c179e"
             ],
             [
              0.4444444444444444,
              "#bd3786"
             ],
             [
              0.5555555555555556,
              "#d8576b"
             ],
             [
              0.6666666666666666,
              "#ed7953"
             ],
             [
              0.7777777777777778,
              "#fb9f3a"
             ],
             [
              0.8888888888888888,
              "#fdca26"
             ],
             [
              1,
              "#f0f921"
             ]
            ],
            "type": "histogram2d"
           }
          ],
          "histogram2dcontour": [
           {
            "colorbar": {
             "outlinewidth": 0,
             "ticks": ""
            },
            "colorscale": [
             [
              0,
              "#0d0887"
             ],
             [
              0.1111111111111111,
              "#46039f"
             ],
             [
              0.2222222222222222,
              "#7201a8"
             ],
             [
              0.3333333333333333,
              "#9c179e"
             ],
             [
              0.4444444444444444,
              "#bd3786"
             ],
             [
              0.5555555555555556,
              "#d8576b"
             ],
             [
              0.6666666666666666,
              "#ed7953"
             ],
             [
              0.7777777777777778,
              "#fb9f3a"
             ],
             [
              0.8888888888888888,
              "#fdca26"
             ],
             [
              1,
              "#f0f921"
             ]
            ],
            "type": "histogram2dcontour"
           }
          ],
          "mesh3d": [
           {
            "colorbar": {
             "outlinewidth": 0,
             "ticks": ""
            },
            "type": "mesh3d"
           }
          ],
          "parcoords": [
           {
            "line": {
             "colorbar": {
              "outlinewidth": 0,
              "ticks": ""
             }
            },
            "type": "parcoords"
           }
          ],
          "pie": [
           {
            "automargin": true,
            "type": "pie"
           }
          ],
          "scatter": [
           {
            "fillpattern": {
             "fillmode": "overlay",
             "size": 10,
             "solidity": 0.2
            },
            "type": "scatter"
           }
          ],
          "scatter3d": [
           {
            "line": {
             "colorbar": {
              "outlinewidth": 0,
              "ticks": ""
             }
            },
            "marker": {
             "colorbar": {
              "outlinewidth": 0,
              "ticks": ""
             }
            },
            "type": "scatter3d"
           }
          ],
          "scattercarpet": [
           {
            "marker": {
             "colorbar": {
              "outlinewidth": 0,
              "ticks": ""
             }
            },
            "type": "scattercarpet"
           }
          ],
          "scattergeo": [
           {
            "marker": {
             "colorbar": {
              "outlinewidth": 0,
              "ticks": ""
             }
            },
            "type": "scattergeo"
           }
          ],
          "scattergl": [
           {
            "marker": {
             "colorbar": {
              "outlinewidth": 0,
              "ticks": ""
             }
            },
            "type": "scattergl"
           }
          ],
          "scattermapbox": [
           {
            "marker": {
             "colorbar": {
              "outlinewidth": 0,
              "ticks": ""
             }
            },
            "type": "scattermapbox"
           }
          ],
          "scatterpolar": [
           {
            "marker": {
             "colorbar": {
              "outlinewidth": 0,
              "ticks": ""
             }
            },
            "type": "scatterpolar"
           }
          ],
          "scatterpolargl": [
           {
            "marker": {
             "colorbar": {
              "outlinewidth": 0,
              "ticks": ""
             }
            },
            "type": "scatterpolargl"
           }
          ],
          "scatterternary": [
           {
            "marker": {
             "colorbar": {
              "outlinewidth": 0,
              "ticks": ""
             }
            },
            "type": "scatterternary"
           }
          ],
          "surface": [
           {
            "colorbar": {
             "outlinewidth": 0,
             "ticks": ""
            },
            "colorscale": [
             [
              0,
              "#0d0887"
             ],
             [
              0.1111111111111111,
              "#46039f"
             ],
             [
              0.2222222222222222,
              "#7201a8"
             ],
             [
              0.3333333333333333,
              "#9c179e"
             ],
             [
              0.4444444444444444,
              "#bd3786"
             ],
             [
              0.5555555555555556,
              "#d8576b"
             ],
             [
              0.6666666666666666,
              "#ed7953"
             ],
             [
              0.7777777777777778,
              "#fb9f3a"
             ],
             [
              0.8888888888888888,
              "#fdca26"
             ],
             [
              1,
              "#f0f921"
             ]
            ],
            "type": "surface"
           }
          ],
          "table": [
           {
            "cells": {
             "fill": {
              "color": "#EBF0F8"
             },
             "line": {
              "color": "white"
             }
            },
            "header": {
             "fill": {
              "color": "#C8D4E3"
             },
             "line": {
              "color": "white"
             }
            },
            "type": "table"
           }
          ]
         },
         "layout": {
          "annotationdefaults": {
           "arrowcolor": "#2a3f5f",
           "arrowhead": 0,
           "arrowwidth": 1
          },
          "autotypenumbers": "strict",
          "coloraxis": {
           "colorbar": {
            "outlinewidth": 0,
            "ticks": ""
           }
          },
          "colorscale": {
           "diverging": [
            [
             0,
             "#8e0152"
            ],
            [
             0.1,
             "#c51b7d"
            ],
            [
             0.2,
             "#de77ae"
            ],
            [
             0.3,
             "#f1b6da"
            ],
            [
             0.4,
             "#fde0ef"
            ],
            [
             0.5,
             "#f7f7f7"
            ],
            [
             0.6,
             "#e6f5d0"
            ],
            [
             0.7,
             "#b8e186"
            ],
            [
             0.8,
             "#7fbc41"
            ],
            [
             0.9,
             "#4d9221"
            ],
            [
             1,
             "#276419"
            ]
           ],
           "sequential": [
            [
             0,
             "#0d0887"
            ],
            [
             0.1111111111111111,
             "#46039f"
            ],
            [
             0.2222222222222222,
             "#7201a8"
            ],
            [
             0.3333333333333333,
             "#9c179e"
            ],
            [
             0.4444444444444444,
             "#bd3786"
            ],
            [
             0.5555555555555556,
             "#d8576b"
            ],
            [
             0.6666666666666666,
             "#ed7953"
            ],
            [
             0.7777777777777778,
             "#fb9f3a"
            ],
            [
             0.8888888888888888,
             "#fdca26"
            ],
            [
             1,
             "#f0f921"
            ]
           ],
           "sequentialminus": [
            [
             0,
             "#0d0887"
            ],
            [
             0.1111111111111111,
             "#46039f"
            ],
            [
             0.2222222222222222,
             "#7201a8"
            ],
            [
             0.3333333333333333,
             "#9c179e"
            ],
            [
             0.4444444444444444,
             "#bd3786"
            ],
            [
             0.5555555555555556,
             "#d8576b"
            ],
            [
             0.6666666666666666,
             "#ed7953"
            ],
            [
             0.7777777777777778,
             "#fb9f3a"
            ],
            [
             0.8888888888888888,
             "#fdca26"
            ],
            [
             1,
             "#f0f921"
            ]
           ]
          },
          "colorway": [
           "#636efa",
           "#EF553B",
           "#00cc96",
           "#ab63fa",
           "#FFA15A",
           "#19d3f3",
           "#FF6692",
           "#B6E880",
           "#FF97FF",
           "#FECB52"
          ],
          "font": {
           "color": "#2a3f5f"
          },
          "geo": {
           "bgcolor": "white",
           "lakecolor": "white",
           "landcolor": "white",
           "showlakes": true,
           "showland": true,
           "subunitcolor": "#C8D4E3"
          },
          "hoverlabel": {
           "align": "left"
          },
          "hovermode": "closest",
          "mapbox": {
           "style": "light"
          },
          "paper_bgcolor": "white",
          "plot_bgcolor": "white",
          "polar": {
           "angularaxis": {
            "gridcolor": "#EBF0F8",
            "linecolor": "#EBF0F8",
            "ticks": ""
           },
           "bgcolor": "white",
           "radialaxis": {
            "gridcolor": "#EBF0F8",
            "linecolor": "#EBF0F8",
            "ticks": ""
           }
          },
          "scene": {
           "xaxis": {
            "backgroundcolor": "white",
            "gridcolor": "#DFE8F3",
            "gridwidth": 2,
            "linecolor": "#EBF0F8",
            "showbackground": true,
            "ticks": "",
            "zerolinecolor": "#EBF0F8"
           },
           "yaxis": {
            "backgroundcolor": "white",
            "gridcolor": "#DFE8F3",
            "gridwidth": 2,
            "linecolor": "#EBF0F8",
            "showbackground": true,
            "ticks": "",
            "zerolinecolor": "#EBF0F8"
           },
           "zaxis": {
            "backgroundcolor": "white",
            "gridcolor": "#DFE8F3",
            "gridwidth": 2,
            "linecolor": "#EBF0F8",
            "showbackground": true,
            "ticks": "",
            "zerolinecolor": "#EBF0F8"
           }
          },
          "shapedefaults": {
           "line": {
            "color": "#2a3f5f"
           }
          },
          "ternary": {
           "aaxis": {
            "gridcolor": "#DFE8F3",
            "linecolor": "#A2B1C6",
            "ticks": ""
           },
           "baxis": {
            "gridcolor": "#DFE8F3",
            "linecolor": "#A2B1C6",
            "ticks": ""
           },
           "bgcolor": "white",
           "caxis": {
            "gridcolor": "#DFE8F3",
            "linecolor": "#A2B1C6",
            "ticks": ""
           }
          },
          "title": {
           "x": 0.05
          },
          "xaxis": {
           "automargin": true,
           "gridcolor": "#EBF0F8",
           "linecolor": "#EBF0F8",
           "ticks": "",
           "title": {
            "standoff": 15
           },
           "zerolinecolor": "#EBF0F8",
           "zerolinewidth": 2
          },
          "yaxis": {
           "automargin": true,
           "gridcolor": "#EBF0F8",
           "linecolor": "#EBF0F8",
           "ticks": "",
           "title": {
            "standoff": 15
           },
           "zerolinecolor": "#EBF0F8",
           "zerolinewidth": 2
          }
         }
        },
        "title": {
         "text": " "
        },
        "width": 1000,
        "xaxis": {
         "anchor": "y",
         "domain": [
          0,
          0.94
         ],
         "title": {
          "text": "Time"
         }
        },
        "yaxis": {
         "anchor": "x",
         "domain": [
          0,
          1
         ],
         "title": {
          "text": "TMIN"
         }
        },
        "yaxis2": {
         "anchor": "x",
         "overlaying": "y",
         "side": "right"
        }
       }
      }
     },
     "metadata": {},
     "output_type": "display_data"
    }
   ],
   "source": [
    "dict_plot = [{'data' : st_data, 'var' : 'TMIN', 'ax' : 1, 'label' : 'TMIN'}]\n",
    "fig = plot_timeseries_interactive(dict_plot, trendline=True, figsize = (25, 12))\n"
   ]
  },
  {
   "cell_type": "markdown",
   "metadata": {},
   "source": [
    "### Maximum temperature"
   ]
  },
  {
   "cell_type": "code",
   "execution_count": 18,
   "metadata": {},
   "outputs": [
    {
     "data": {
      "application/vnd.plotly.v1+json": {
       "config": {
        "plotlyServerURL": "https://plot.ly"
       },
       "data": [
        {
         "line": {
          "color": "#636EFA"
         },
         "name": "TMAX",
         "type": "scatter",
         "x": [
          "1951-12-31T00:00:00",
          "1952-12-31T00:00:00",
          "1953-12-31T00:00:00",
          "1954-12-31T00:00:00",
          "1955-12-31T00:00:00",
          "1956-12-31T00:00:00",
          "1957-12-31T00:00:00",
          "1958-12-31T00:00:00",
          "1959-12-31T00:00:00",
          "1960-12-31T00:00:00",
          "1961-12-31T00:00:00",
          "1962-12-31T00:00:00",
          "1963-12-31T00:00:00",
          "1964-12-31T00:00:00",
          "1965-12-31T00:00:00",
          "1966-12-31T00:00:00",
          "1967-12-31T00:00:00",
          "1968-12-31T00:00:00",
          "1969-12-31T00:00:00",
          "1970-12-31T00:00:00",
          "1971-12-31T00:00:00",
          "1972-12-31T00:00:00",
          "1973-12-31T00:00:00",
          "1974-12-31T00:00:00",
          "1975-12-31T00:00:00",
          "1976-12-31T00:00:00",
          "1977-12-31T00:00:00",
          "1978-12-31T00:00:00",
          "1979-12-31T00:00:00",
          "1980-12-31T00:00:00",
          "1981-12-31T00:00:00",
          "1982-12-31T00:00:00",
          "1983-12-31T00:00:00",
          "1984-12-31T00:00:00",
          "1985-12-31T00:00:00",
          "1986-12-31T00:00:00",
          "1987-12-31T00:00:00",
          "1988-12-31T00:00:00",
          "1989-12-31T00:00:00",
          "1990-12-31T00:00:00",
          "1991-12-31T00:00:00",
          "1992-12-31T00:00:00",
          "1993-12-31T00:00:00",
          "1994-12-31T00:00:00",
          "1995-12-31T00:00:00",
          "1996-12-31T00:00:00",
          "1997-12-31T00:00:00",
          "1998-12-31T00:00:00",
          "1999-12-31T00:00:00",
          "2000-12-31T00:00:00",
          "2001-12-31T00:00:00",
          "2002-12-31T00:00:00",
          "2003-12-31T00:00:00",
          "2004-12-31T00:00:00",
          "2005-12-31T00:00:00",
          "2006-12-31T00:00:00",
          "2007-12-31T00:00:00",
          "2008-12-31T00:00:00",
          "2009-12-31T00:00:00",
          "2010-12-31T00:00:00",
          "2011-12-31T00:00:00",
          "2012-12-31T00:00:00",
          "2013-12-31T00:00:00",
          "2014-12-31T00:00:00",
          "2015-12-31T00:00:00",
          "2016-12-31T00:00:00",
          "2017-12-31T00:00:00",
          "2018-12-31T00:00:00",
          "2019-12-31T00:00:00",
          "2020-12-31T00:00:00",
          "2021-12-31T00:00:00",
          "2022-12-31T00:00:00",
          "2023-12-31T00:00:00",
          "2024-12-31T00:00:00",
          "2025-12-31T00:00:00"
         ],
         "xaxis": "x",
         "y": [
          30.92445652173913,
          30.90464480874317,
          31.03972602739726,
          31.08438356164384,
          30.74191780821918,
          30.536065573770493,
          30.84931506849315,
          31.03835616438356,
          30.56931506849315,
          30.87650273224044,
          30.393150684931506,
          30.564109589041095,
          30.734246575342464,
          30.584699453551913,
          30.18849315068493,
          30.68931506849315,
          30.74328767123288,
          31.079508196721314,
          30.866027397260275,
          31.135616438356163,
          30.954520547945204,
          30.98415300546448,
          31.329315068493152,
          31.096164383561646,
          30.976438356164383,
          30.945901639344264,
          31.1213698630137,
          30.939178082191784,
          31.042191780821916,
          31.09153005464481,
          31.025753424657534,
          30.774794520547943,
          31.099452054794522,
          31.099180327868854,
          30.943835616438356,
          31.265753424657536,
          31.357260273972603,
          31.441803278688525,
          31.389589041095892,
          31.317808219178083,
          30.926301369863015,
          30.977322404371588,
          31.037808219178086,
          31.145205479452056,
          31.464383561643835,
          31.450273224043713,
          31.478356164383563,
          32.10383561643835,
          31.63917808219178,
          31.73989071038251,
          31.717260273972602,
          31.867397260273975,
          31.526575342465755,
          31.731147540983606,
          31.60821917808219,
          31.65945205479452,
          31.84904109589041,
          30.94289617486339,
          30.816712328767125,
          31.2013698630137,
          30.678356164383562,
          30.89071038251366,
          31.28219178082192,
          31.072054794520547,
          31.574794520547943,
          31.61284153005464,
          31.378630136986303,
          31.483439490445857,
          30.873333333333335,
          29.885036496350367,
          28.61841359773371,
          29.917465753424658,
          30.079787234042552,
          30.157943925233646,
          30.170588235294115
         ],
         "yaxis": "y"
        },
        {
         "line": {
          "color": "black",
          "dash": "dot"
         },
         "mode": "lines",
         "name": "Trend (rate = 0.001/year) - Not Significant (p > 0.05)",
         "showlegend": true,
         "type": "scatter",
         "x": [
          "1951-12-31T00:00:00",
          "1952-12-31T00:00:00",
          "1953-12-31T00:00:00",
          "1954-12-31T00:00:00",
          "1955-12-31T00:00:00",
          "1956-12-31T00:00:00",
          "1957-12-31T00:00:00",
          "1958-12-31T00:00:00",
          "1959-12-31T00:00:00",
          "1960-12-31T00:00:00",
          "1961-12-31T00:00:00",
          "1962-12-31T00:00:00",
          "1963-12-31T00:00:00",
          "1964-12-31T00:00:00",
          "1965-12-31T00:00:00",
          "1966-12-31T00:00:00",
          "1967-12-31T00:00:00",
          "1968-12-31T00:00:00",
          "1969-12-31T00:00:00",
          "1970-12-31T00:00:00",
          "1971-12-31T00:00:00",
          "1972-12-31T00:00:00",
          "1973-12-31T00:00:00",
          "1974-12-31T00:00:00",
          "1975-12-31T00:00:00",
          "1976-12-31T00:00:00",
          "1977-12-31T00:00:00",
          "1978-12-31T00:00:00",
          "1979-12-31T00:00:00",
          "1980-12-31T00:00:00",
          "1981-12-31T00:00:00",
          "1982-12-31T00:00:00",
          "1983-12-31T00:00:00",
          "1984-12-31T00:00:00",
          "1985-12-31T00:00:00",
          "1986-12-31T00:00:00",
          "1987-12-31T00:00:00",
          "1988-12-31T00:00:00",
          "1989-12-31T00:00:00",
          "1990-12-31T00:00:00",
          "1991-12-31T00:00:00",
          "1992-12-31T00:00:00",
          "1993-12-31T00:00:00",
          "1994-12-31T00:00:00",
          "1995-12-31T00:00:00",
          "1996-12-31T00:00:00",
          "1997-12-31T00:00:00",
          "1998-12-31T00:00:00",
          "1999-12-31T00:00:00",
          "2000-12-31T00:00:00",
          "2001-12-31T00:00:00",
          "2002-12-31T00:00:00",
          "2003-12-31T00:00:00",
          "2004-12-31T00:00:00",
          "2005-12-31T00:00:00",
          "2006-12-31T00:00:00",
          "2007-12-31T00:00:00",
          "2008-12-31T00:00:00",
          "2009-12-31T00:00:00",
          "2010-12-31T00:00:00",
          "2011-12-31T00:00:00",
          "2012-12-31T00:00:00",
          "2013-12-31T00:00:00",
          "2014-12-31T00:00:00",
          "2015-12-31T00:00:00",
          "2016-12-31T00:00:00",
          "2017-12-31T00:00:00",
          "2018-12-31T00:00:00",
          "2019-12-31T00:00:00",
          "2020-12-31T00:00:00",
          "2021-12-31T00:00:00",
          "2022-12-31T00:00:00",
          "2023-12-31T00:00:00",
          "2024-12-31T00:00:00",
          "2025-12-31T00:00:00"
         ],
         "xaxis": "x",
         "y": [
          30.975689674172234,
          30.976816499025947,
          30.977940245123232,
          30.979063991220517,
          30.980187737317802,
          30.98131456217152,
          30.982438308268804,
          30.98356205436609,
          30.984685800463375,
          30.985812625317088,
          30.986936371414373,
          30.988060117511658,
          30.989183863608943,
          30.99031068846266,
          30.991434434559945,
          30.99255818065723,
          30.993681926754515,
          30.99480875160823,
          30.995932497705514,
          30.9970562438028,
          30.998179989900084,
          30.9993068147538,
          31.000430560851086,
          31.00155430694837,
          31.002678053045656,
          31.00380487789937,
          31.004928623996655,
          31.00605237009394,
          31.007176116191225,
          31.008302941044942,
          31.009426687142227,
          31.010550433239512,
          31.011674179336797,
          31.01280100419051,
          31.013924750287796,
          31.01504849638508,
          31.016172242482366,
          31.017299067336083,
          31.018422813433368,
          31.019546559530653,
          31.020670305627938,
          31.02179713048165,
          31.022920876578937,
          31.02404462267622,
          31.025168368773507,
          31.026295193627224,
          31.02741893972451,
          31.028542685821794,
          31.02966643191908,
          31.030793256772792,
          31.031917002870077,
          31.033040748967363,
          31.034164495064648,
          31.035291319918365,
          31.03641506601565,
          31.037538812112935,
          31.03866255821022,
          31.039789383063933,
          31.04091312916122,
          31.042036875258503,
          31.04316062135579,
          31.044287446209506,
          31.04541119230679,
          31.046534938404076,
          31.04765868450136,
          31.048785509355074,
          31.04990925545236,
          31.051033001549644,
          31.05215674764693,
          31.053283572500646,
          31.05440731859793,
          31.055531064695217,
          31.0566548107925,
          31.057781635646215,
          31.0589053817435
         ],
         "yaxis": "y"
        }
       ],
       "layout": {
        "height": 480,
        "legend": {
         "font": {
          "size": 12
         },
         "orientation": "h",
         "x": 0.5,
         "xanchor": "center",
         "y": 1.1,
         "yanchor": "bottom"
        },
        "template": {
         "data": {
          "bar": [
           {
            "error_x": {
             "color": "#2a3f5f"
            },
            "error_y": {
             "color": "#2a3f5f"
            },
            "marker": {
             "line": {
              "color": "white",
              "width": 0.5
             },
             "pattern": {
              "fillmode": "overlay",
              "size": 10,
              "solidity": 0.2
             }
            },
            "type": "bar"
           }
          ],
          "barpolar": [
           {
            "marker": {
             "line": {
              "color": "white",
              "width": 0.5
             },
             "pattern": {
              "fillmode": "overlay",
              "size": 10,
              "solidity": 0.2
             }
            },
            "type": "barpolar"
           }
          ],
          "carpet": [
           {
            "aaxis": {
             "endlinecolor": "#2a3f5f",
             "gridcolor": "#C8D4E3",
             "linecolor": "#C8D4E3",
             "minorgridcolor": "#C8D4E3",
             "startlinecolor": "#2a3f5f"
            },
            "baxis": {
             "endlinecolor": "#2a3f5f",
             "gridcolor": "#C8D4E3",
             "linecolor": "#C8D4E3",
             "minorgridcolor": "#C8D4E3",
             "startlinecolor": "#2a3f5f"
            },
            "type": "carpet"
           }
          ],
          "choropleth": [
           {
            "colorbar": {
             "outlinewidth": 0,
             "ticks": ""
            },
            "type": "choropleth"
           }
          ],
          "contour": [
           {
            "colorbar": {
             "outlinewidth": 0,
             "ticks": ""
            },
            "colorscale": [
             [
              0,
              "#0d0887"
             ],
             [
              0.1111111111111111,
              "#46039f"
             ],
             [
              0.2222222222222222,
              "#7201a8"
             ],
             [
              0.3333333333333333,
              "#9c179e"
             ],
             [
              0.4444444444444444,
              "#bd3786"
             ],
             [
              0.5555555555555556,
              "#d8576b"
             ],
             [
              0.6666666666666666,
              "#ed7953"
             ],
             [
              0.7777777777777778,
              "#fb9f3a"
             ],
             [
              0.8888888888888888,
              "#fdca26"
             ],
             [
              1,
              "#f0f921"
             ]
            ],
            "type": "contour"
           }
          ],
          "contourcarpet": [
           {
            "colorbar": {
             "outlinewidth": 0,
             "ticks": ""
            },
            "type": "contourcarpet"
           }
          ],
          "heatmap": [
           {
            "colorbar": {
             "outlinewidth": 0,
             "ticks": ""
            },
            "colorscale": [
             [
              0,
              "#0d0887"
             ],
             [
              0.1111111111111111,
              "#46039f"
             ],
             [
              0.2222222222222222,
              "#7201a8"
             ],
             [
              0.3333333333333333,
              "#9c179e"
             ],
             [
              0.4444444444444444,
              "#bd3786"
             ],
             [
              0.5555555555555556,
              "#d8576b"
             ],
             [
              0.6666666666666666,
              "#ed7953"
             ],
             [
              0.7777777777777778,
              "#fb9f3a"
             ],
             [
              0.8888888888888888,
              "#fdca26"
             ],
             [
              1,
              "#f0f921"
             ]
            ],
            "type": "heatmap"
           }
          ],
          "heatmapgl": [
           {
            "colorbar": {
             "outlinewidth": 0,
             "ticks": ""
            },
            "colorscale": [
             [
              0,
              "#0d0887"
             ],
             [
              0.1111111111111111,
              "#46039f"
             ],
             [
              0.2222222222222222,
              "#7201a8"
             ],
             [
              0.3333333333333333,
              "#9c179e"
             ],
             [
              0.4444444444444444,
              "#bd3786"
             ],
             [
              0.5555555555555556,
              "#d8576b"
             ],
             [
              0.6666666666666666,
              "#ed7953"
             ],
             [
              0.7777777777777778,
              "#fb9f3a"
             ],
             [
              0.8888888888888888,
              "#fdca26"
             ],
             [
              1,
              "#f0f921"
             ]
            ],
            "type": "heatmapgl"
           }
          ],
          "histogram": [
           {
            "marker": {
             "pattern": {
              "fillmode": "overlay",
              "size": 10,
              "solidity": 0.2
             }
            },
            "type": "histogram"
           }
          ],
          "histogram2d": [
           {
            "colorbar": {
             "outlinewidth": 0,
             "ticks": ""
            },
            "colorscale": [
             [
              0,
              "#0d0887"
             ],
             [
              0.1111111111111111,
              "#46039f"
             ],
             [
              0.2222222222222222,
              "#7201a8"
             ],
             [
              0.3333333333333333,
              "#9c179e"
             ],
             [
              0.4444444444444444,
              "#bd3786"
             ],
             [
              0.5555555555555556,
              "#d8576b"
             ],
             [
              0.6666666666666666,
              "#ed7953"
             ],
             [
              0.7777777777777778,
              "#fb9f3a"
             ],
             [
              0.8888888888888888,
              "#fdca26"
             ],
             [
              1,
              "#f0f921"
             ]
            ],
            "type": "histogram2d"
           }
          ],
          "histogram2dcontour": [
           {
            "colorbar": {
             "outlinewidth": 0,
             "ticks": ""
            },
            "colorscale": [
             [
              0,
              "#0d0887"
             ],
             [
              0.1111111111111111,
              "#46039f"
             ],
             [
              0.2222222222222222,
              "#7201a8"
             ],
             [
              0.3333333333333333,
              "#9c179e"
             ],
             [
              0.4444444444444444,
              "#bd3786"
             ],
             [
              0.5555555555555556,
              "#d8576b"
             ],
             [
              0.6666666666666666,
              "#ed7953"
             ],
             [
              0.7777777777777778,
              "#fb9f3a"
             ],
             [
              0.8888888888888888,
              "#fdca26"
             ],
             [
              1,
              "#f0f921"
             ]
            ],
            "type": "histogram2dcontour"
           }
          ],
          "mesh3d": [
           {
            "colorbar": {
             "outlinewidth": 0,
             "ticks": ""
            },
            "type": "mesh3d"
           }
          ],
          "parcoords": [
           {
            "line": {
             "colorbar": {
              "outlinewidth": 0,
              "ticks": ""
             }
            },
            "type": "parcoords"
           }
          ],
          "pie": [
           {
            "automargin": true,
            "type": "pie"
           }
          ],
          "scatter": [
           {
            "fillpattern": {
             "fillmode": "overlay",
             "size": 10,
             "solidity": 0.2
            },
            "type": "scatter"
           }
          ],
          "scatter3d": [
           {
            "line": {
             "colorbar": {
              "outlinewidth": 0,
              "ticks": ""
             }
            },
            "marker": {
             "colorbar": {
              "outlinewidth": 0,
              "ticks": ""
             }
            },
            "type": "scatter3d"
           }
          ],
          "scattercarpet": [
           {
            "marker": {
             "colorbar": {
              "outlinewidth": 0,
              "ticks": ""
             }
            },
            "type": "scattercarpet"
           }
          ],
          "scattergeo": [
           {
            "marker": {
             "colorbar": {
              "outlinewidth": 0,
              "ticks": ""
             }
            },
            "type": "scattergeo"
           }
          ],
          "scattergl": [
           {
            "marker": {
             "colorbar": {
              "outlinewidth": 0,
              "ticks": ""
             }
            },
            "type": "scattergl"
           }
          ],
          "scattermapbox": [
           {
            "marker": {
             "colorbar": {
              "outlinewidth": 0,
              "ticks": ""
             }
            },
            "type": "scattermapbox"
           }
          ],
          "scatterpolar": [
           {
            "marker": {
             "colorbar": {
              "outlinewidth": 0,
              "ticks": ""
             }
            },
            "type": "scatterpolar"
           }
          ],
          "scatterpolargl": [
           {
            "marker": {
             "colorbar": {
              "outlinewidth": 0,
              "ticks": ""
             }
            },
            "type": "scatterpolargl"
           }
          ],
          "scatterternary": [
           {
            "marker": {
             "colorbar": {
              "outlinewidth": 0,
              "ticks": ""
             }
            },
            "type": "scatterternary"
           }
          ],
          "surface": [
           {
            "colorbar": {
             "outlinewidth": 0,
             "ticks": ""
            },
            "colorscale": [
             [
              0,
              "#0d0887"
             ],
             [
              0.1111111111111111,
              "#46039f"
             ],
             [
              0.2222222222222222,
              "#7201a8"
             ],
             [
              0.3333333333333333,
              "#9c179e"
             ],
             [
              0.4444444444444444,
              "#bd3786"
             ],
             [
              0.5555555555555556,
              "#d8576b"
             ],
             [
              0.6666666666666666,
              "#ed7953"
             ],
             [
              0.7777777777777778,
              "#fb9f3a"
             ],
             [
              0.8888888888888888,
              "#fdca26"
             ],
             [
              1,
              "#f0f921"
             ]
            ],
            "type": "surface"
           }
          ],
          "table": [
           {
            "cells": {
             "fill": {
              "color": "#EBF0F8"
             },
             "line": {
              "color": "white"
             }
            },
            "header": {
             "fill": {
              "color": "#C8D4E3"
             },
             "line": {
              "color": "white"
             }
            },
            "type": "table"
           }
          ]
         },
         "layout": {
          "annotationdefaults": {
           "arrowcolor": "#2a3f5f",
           "arrowhead": 0,
           "arrowwidth": 1
          },
          "autotypenumbers": "strict",
          "coloraxis": {
           "colorbar": {
            "outlinewidth": 0,
            "ticks": ""
           }
          },
          "colorscale": {
           "diverging": [
            [
             0,
             "#8e0152"
            ],
            [
             0.1,
             "#c51b7d"
            ],
            [
             0.2,
             "#de77ae"
            ],
            [
             0.3,
             "#f1b6da"
            ],
            [
             0.4,
             "#fde0ef"
            ],
            [
             0.5,
             "#f7f7f7"
            ],
            [
             0.6,
             "#e6f5d0"
            ],
            [
             0.7,
             "#b8e186"
            ],
            [
             0.8,
             "#7fbc41"
            ],
            [
             0.9,
             "#4d9221"
            ],
            [
             1,
             "#276419"
            ]
           ],
           "sequential": [
            [
             0,
             "#0d0887"
            ],
            [
             0.1111111111111111,
             "#46039f"
            ],
            [
             0.2222222222222222,
             "#7201a8"
            ],
            [
             0.3333333333333333,
             "#9c179e"
            ],
            [
             0.4444444444444444,
             "#bd3786"
            ],
            [
             0.5555555555555556,
             "#d8576b"
            ],
            [
             0.6666666666666666,
             "#ed7953"
            ],
            [
             0.7777777777777778,
             "#fb9f3a"
            ],
            [
             0.8888888888888888,
             "#fdca26"
            ],
            [
             1,
             "#f0f921"
            ]
           ],
           "sequentialminus": [
            [
             0,
             "#0d0887"
            ],
            [
             0.1111111111111111,
             "#46039f"
            ],
            [
             0.2222222222222222,
             "#7201a8"
            ],
            [
             0.3333333333333333,
             "#9c179e"
            ],
            [
             0.4444444444444444,
             "#bd3786"
            ],
            [
             0.5555555555555556,
             "#d8576b"
            ],
            [
             0.6666666666666666,
             "#ed7953"
            ],
            [
             0.7777777777777778,
             "#fb9f3a"
            ],
            [
             0.8888888888888888,
             "#fdca26"
            ],
            [
             1,
             "#f0f921"
            ]
           ]
          },
          "colorway": [
           "#636efa",
           "#EF553B",
           "#00cc96",
           "#ab63fa",
           "#FFA15A",
           "#19d3f3",
           "#FF6692",
           "#B6E880",
           "#FF97FF",
           "#FECB52"
          ],
          "font": {
           "color": "#2a3f5f"
          },
          "geo": {
           "bgcolor": "white",
           "lakecolor": "white",
           "landcolor": "white",
           "showlakes": true,
           "showland": true,
           "subunitcolor": "#C8D4E3"
          },
          "hoverlabel": {
           "align": "left"
          },
          "hovermode": "closest",
          "mapbox": {
           "style": "light"
          },
          "paper_bgcolor": "white",
          "plot_bgcolor": "white",
          "polar": {
           "angularaxis": {
            "gridcolor": "#EBF0F8",
            "linecolor": "#EBF0F8",
            "ticks": ""
           },
           "bgcolor": "white",
           "radialaxis": {
            "gridcolor": "#EBF0F8",
            "linecolor": "#EBF0F8",
            "ticks": ""
           }
          },
          "scene": {
           "xaxis": {
            "backgroundcolor": "white",
            "gridcolor": "#DFE8F3",
            "gridwidth": 2,
            "linecolor": "#EBF0F8",
            "showbackground": true,
            "ticks": "",
            "zerolinecolor": "#EBF0F8"
           },
           "yaxis": {
            "backgroundcolor": "white",
            "gridcolor": "#DFE8F3",
            "gridwidth": 2,
            "linecolor": "#EBF0F8",
            "showbackground": true,
            "ticks": "",
            "zerolinecolor": "#EBF0F8"
           },
           "zaxis": {
            "backgroundcolor": "white",
            "gridcolor": "#DFE8F3",
            "gridwidth": 2,
            "linecolor": "#EBF0F8",
            "showbackground": true,
            "ticks": "",
            "zerolinecolor": "#EBF0F8"
           }
          },
          "shapedefaults": {
           "line": {
            "color": "#2a3f5f"
           }
          },
          "ternary": {
           "aaxis": {
            "gridcolor": "#DFE8F3",
            "linecolor": "#A2B1C6",
            "ticks": ""
           },
           "baxis": {
            "gridcolor": "#DFE8F3",
            "linecolor": "#A2B1C6",
            "ticks": ""
           },
           "bgcolor": "white",
           "caxis": {
            "gridcolor": "#DFE8F3",
            "linecolor": "#A2B1C6",
            "ticks": ""
           }
          },
          "title": {
           "x": 0.05
          },
          "xaxis": {
           "automargin": true,
           "gridcolor": "#EBF0F8",
           "linecolor": "#EBF0F8",
           "ticks": "",
           "title": {
            "standoff": 15
           },
           "zerolinecolor": "#EBF0F8",
           "zerolinewidth": 2
          },
          "yaxis": {
           "automargin": true,
           "gridcolor": "#EBF0F8",
           "linecolor": "#EBF0F8",
           "ticks": "",
           "title": {
            "standoff": 15
           },
           "zerolinecolor": "#EBF0F8",
           "zerolinewidth": 2
          }
         }
        },
        "title": {
         "text": " "
        },
        "width": 1000,
        "xaxis": {
         "anchor": "y",
         "domain": [
          0,
          0.94
         ],
         "title": {
          "text": "Time"
         }
        },
        "yaxis": {
         "anchor": "x",
         "domain": [
          0,
          1
         ],
         "title": {
          "text": "TMAX"
         }
        },
        "yaxis2": {
         "anchor": "x",
         "overlaying": "y",
         "side": "right"
        }
       }
      }
     },
     "metadata": {},
     "output_type": "display_data"
    }
   ],
   "source": [
    "dict_plot = [{'data' : st_data, 'var' : 'TMAX', 'ax' : 1, 'label' : 'TMAX'}]\n",
    "fig = plot_timeseries_interactive(dict_plot, trendline=True, figsize = (25, 12))\n"
   ]
  },
  {
   "cell_type": "code",
   "execution_count": 19,
   "metadata": {},
   "outputs": [],
   "source": [
    "dict_plot = [{'data' : st_data, 'var' : 'TMIN', 'ax' : 1, 'label' : 'TMIN'},\n",
    "        {'data' : st_data, 'var' : 'TMAX', 'ax' : 2, 'label' : 'TMAX'},\n",
    "        # {'data' : st_data, 'var' : 'diff', 'ax' : 1, 'label' : 'Difference TMAX - TMIN'}\n",
    "        ]"
   ]
  },
  {
   "cell_type": "code",
   "execution_count": 20,
   "metadata": {},
   "outputs": [
    {
     "data": {
      "application/vnd.plotly.v1+json": {
       "config": {
        "plotlyServerURL": "https://plot.ly"
       },
       "data": [
        {
         "line": {
          "color": "#636EFA"
         },
         "name": "TMIN",
         "type": "scatter",
         "x": [
          "1951-12-31T00:00:00",
          "1952-12-31T00:00:00",
          "1953-12-31T00:00:00",
          "1954-12-31T00:00:00",
          "1955-12-31T00:00:00",
          "1956-12-31T00:00:00",
          "1957-12-31T00:00:00",
          "1958-12-31T00:00:00",
          "1959-12-31T00:00:00",
          "1960-12-31T00:00:00",
          "1961-12-31T00:00:00",
          "1962-12-31T00:00:00",
          "1963-12-31T00:00:00",
          "1964-12-31T00:00:00",
          "1965-12-31T00:00:00",
          "1966-12-31T00:00:00",
          "1967-12-31T00:00:00",
          "1968-12-31T00:00:00",
          "1969-12-31T00:00:00",
          "1970-12-31T00:00:00",
          "1971-12-31T00:00:00",
          "1972-12-31T00:00:00",
          "1973-12-31T00:00:00",
          "1974-12-31T00:00:00",
          "1975-12-31T00:00:00",
          "1976-12-31T00:00:00",
          "1977-12-31T00:00:00",
          "1978-12-31T00:00:00",
          "1979-12-31T00:00:00",
          "1980-12-31T00:00:00",
          "1981-12-31T00:00:00",
          "1982-12-31T00:00:00",
          "1983-12-31T00:00:00",
          "1984-12-31T00:00:00",
          "1985-12-31T00:00:00",
          "1986-12-31T00:00:00",
          "1987-12-31T00:00:00",
          "1988-12-31T00:00:00",
          "1989-12-31T00:00:00",
          "1990-12-31T00:00:00",
          "1991-12-31T00:00:00",
          "1992-12-31T00:00:00",
          "1993-12-31T00:00:00",
          "1994-12-31T00:00:00",
          "1995-12-31T00:00:00",
          "1996-12-31T00:00:00",
          "1997-12-31T00:00:00",
          "1998-12-31T00:00:00",
          "1999-12-31T00:00:00",
          "2000-12-31T00:00:00",
          "2001-12-31T00:00:00",
          "2002-12-31T00:00:00",
          "2003-12-31T00:00:00",
          "2004-12-31T00:00:00",
          "2005-12-31T00:00:00",
          "2006-12-31T00:00:00",
          "2007-12-31T00:00:00",
          "2008-12-31T00:00:00",
          "2009-12-31T00:00:00",
          "2010-12-31T00:00:00",
          "2011-12-31T00:00:00",
          "2012-12-31T00:00:00",
          "2013-12-31T00:00:00",
          "2014-12-31T00:00:00",
          "2015-12-31T00:00:00",
          "2016-12-31T00:00:00",
          "2017-12-31T00:00:00",
          "2018-12-31T00:00:00",
          "2019-12-31T00:00:00",
          "2020-12-31T00:00:00",
          "2021-12-31T00:00:00",
          "2022-12-31T00:00:00",
          "2023-12-31T00:00:00",
          "2024-12-31T00:00:00",
          "2025-12-31T00:00:00"
         ],
         "xaxis": "x",
         "y": [
          24.150543478260868,
          23.837978142076505,
          24.08876712328767,
          25.000547945205476,
          23.75698630136986,
          23.867486338797814,
          24.234246575342464,
          24.435616438356163,
          24.11698630136986,
          24.275683060109287,
          24.148219178082194,
          24.225205479452057,
          24.275342465753425,
          24.13606557377049,
          24.07780821917808,
          24.222465753424654,
          24.27972602739726,
          24.329234972677597,
          24.39945205479452,
          24.522465753424658,
          24.212876712328768,
          24.241256830601092,
          24.312328767123287,
          24.18712328767123,
          24.021369863013696,
          24.355464480874318,
          24.521643835616437,
          24.128493150684932,
          24.038904109589044,
          24.04207650273224,
          23.999452054794517,
          24.378082191780823,
          24.25041095890411,
          24.0775956284153,
          23.903013698630136,
          24.33479452054795,
          24.33808219178082,
          24.387704918032785,
          24.36794520547945,
          24.541917808219175,
          24.25095890410959,
          24.01775956284153,
          24.072328767123288,
          24.224657534246575,
          24.051232876712326,
          24.156830601092896,
          24.195068493150686,
          24.094246575342464,
          24.03917808219178,
          23.87295081967213,
          24.736164383561647,
          24.945479452054794,
          24.75260273972603,
          25.112021857923498,
          24.638904109589042,
          24.84109589041096,
          24.81287671232877,
          24.537431693989074,
          24.51945205479452,
          24.277260273972605,
          24.64876712328767,
          24.840710382513663,
          24.726301369863016,
          24.997260273972604,
          25.00986301369863,
          25.08415300546448,
          25,
          25.222292993630575,
          24.5,
          25.13175182481752,
          24.745042492917847,
          24.541780821917808,
          25.518439716312056,
          25.84361370716511,
          25.64117647058824
         ],
         "yaxis": "y"
        },
        {
         "line": {
          "color": "black"
         },
         "mode": "lines",
         "name": "Trend (rate = 0.013/year) - Significant (p < 0.05)",
         "showlegend": true,
         "type": "scatter",
         "x": [
          "1951-12-31T00:00:00",
          "1952-12-31T00:00:00",
          "1953-12-31T00:00:00",
          "1954-12-31T00:00:00",
          "1955-12-31T00:00:00",
          "1956-12-31T00:00:00",
          "1957-12-31T00:00:00",
          "1958-12-31T00:00:00",
          "1959-12-31T00:00:00",
          "1960-12-31T00:00:00",
          "1961-12-31T00:00:00",
          "1962-12-31T00:00:00",
          "1963-12-31T00:00:00",
          "1964-12-31T00:00:00",
          "1965-12-31T00:00:00",
          "1966-12-31T00:00:00",
          "1967-12-31T00:00:00",
          "1968-12-31T00:00:00",
          "1969-12-31T00:00:00",
          "1970-12-31T00:00:00",
          "1971-12-31T00:00:00",
          "1972-12-31T00:00:00",
          "1973-12-31T00:00:00",
          "1974-12-31T00:00:00",
          "1975-12-31T00:00:00",
          "1976-12-31T00:00:00",
          "1977-12-31T00:00:00",
          "1978-12-31T00:00:00",
          "1979-12-31T00:00:00",
          "1980-12-31T00:00:00",
          "1981-12-31T00:00:00",
          "1982-12-31T00:00:00",
          "1983-12-31T00:00:00",
          "1984-12-31T00:00:00",
          "1985-12-31T00:00:00",
          "1986-12-31T00:00:00",
          "1987-12-31T00:00:00",
          "1988-12-31T00:00:00",
          "1989-12-31T00:00:00",
          "1990-12-31T00:00:00",
          "1991-12-31T00:00:00",
          "1992-12-31T00:00:00",
          "1993-12-31T00:00:00",
          "1994-12-31T00:00:00",
          "1995-12-31T00:00:00",
          "1996-12-31T00:00:00",
          "1997-12-31T00:00:00",
          "1998-12-31T00:00:00",
          "1999-12-31T00:00:00",
          "2000-12-31T00:00:00",
          "2001-12-31T00:00:00",
          "2002-12-31T00:00:00",
          "2003-12-31T00:00:00",
          "2004-12-31T00:00:00",
          "2005-12-31T00:00:00",
          "2006-12-31T00:00:00",
          "2007-12-31T00:00:00",
          "2008-12-31T00:00:00",
          "2009-12-31T00:00:00",
          "2010-12-31T00:00:00",
          "2011-12-31T00:00:00",
          "2012-12-31T00:00:00",
          "2013-12-31T00:00:00",
          "2014-12-31T00:00:00",
          "2015-12-31T00:00:00",
          "2016-12-31T00:00:00",
          "2017-12-31T00:00:00",
          "2018-12-31T00:00:00",
          "2019-12-31T00:00:00",
          "2020-12-31T00:00:00",
          "2021-12-31T00:00:00",
          "2022-12-31T00:00:00",
          "2023-12-31T00:00:00",
          "2024-12-31T00:00:00",
          "2025-12-31T00:00:00"
         ],
         "xaxis": "x",
         "y": [
          23.948655731913668,
          23.961825357438038,
          23.97495900037901,
          23.98809264331998,
          24.001226286260952,
          24.01439591178532,
          24.027529554726293,
          24.040663197667264,
          24.053796840608232,
          24.066966466132605,
          24.080100109073577,
          24.093233752014548,
          24.106367394955516,
          24.11953702047989,
          24.13267066342086,
          24.14580430636183,
          24.1589379493028,
          24.172107574827173,
          24.185241217768144,
          24.198374860709112,
          24.211508503650084,
          24.224678129174457,
          24.237811772115425,
          24.250945415056396,
          24.264079057997368,
          24.27724868352174,
          24.29038232646271,
          24.30351596940368,
          24.31664961234465,
          24.32981923786902,
          24.342952880809992,
          24.356086523750964,
          24.369220166691935,
          24.382389792216305,
          24.395523435157276,
          24.408657078098248,
          24.42179072103922,
          24.43496034656359,
          24.44809398950456,
          24.46122763244553,
          24.474361275386503,
          24.487530900910873,
          24.500664543851844,
          24.513798186792815,
          24.526931829733787,
          24.540101455258156,
          24.553235098199128,
          24.5663687411401,
          24.57950238408107,
          24.59267200960544,
          24.60580565254641,
          24.618939295487383,
          24.632072938428355,
          24.645242563952724,
          24.658376206893696,
          24.671509849834667,
          24.68464349277564,
          24.697813118300008,
          24.71094676124098,
          24.72408040418195,
          24.737214047122922,
          24.750383672647292,
          24.763517315588263,
          24.776650958529235,
          24.789784601470206,
          24.802954226994576,
          24.816087869935547,
          24.82922151287652,
          24.842355155817486,
          24.85552478134186,
          24.86865842428283,
          24.881792067223802,
          24.89492571016477,
          24.908095335689143,
          24.921228978630115
         ],
         "yaxis": "y"
        },
        {
         "line": {
          "color": "#EF553B"
         },
         "name": "TMAX",
         "type": "scatter",
         "x": [
          "1951-12-31T00:00:00",
          "1952-12-31T00:00:00",
          "1953-12-31T00:00:00",
          "1954-12-31T00:00:00",
          "1955-12-31T00:00:00",
          "1956-12-31T00:00:00",
          "1957-12-31T00:00:00",
          "1958-12-31T00:00:00",
          "1959-12-31T00:00:00",
          "1960-12-31T00:00:00",
          "1961-12-31T00:00:00",
          "1962-12-31T00:00:00",
          "1963-12-31T00:00:00",
          "1964-12-31T00:00:00",
          "1965-12-31T00:00:00",
          "1966-12-31T00:00:00",
          "1967-12-31T00:00:00",
          "1968-12-31T00:00:00",
          "1969-12-31T00:00:00",
          "1970-12-31T00:00:00",
          "1971-12-31T00:00:00",
          "1972-12-31T00:00:00",
          "1973-12-31T00:00:00",
          "1974-12-31T00:00:00",
          "1975-12-31T00:00:00",
          "1976-12-31T00:00:00",
          "1977-12-31T00:00:00",
          "1978-12-31T00:00:00",
          "1979-12-31T00:00:00",
          "1980-12-31T00:00:00",
          "1981-12-31T00:00:00",
          "1982-12-31T00:00:00",
          "1983-12-31T00:00:00",
          "1984-12-31T00:00:00",
          "1985-12-31T00:00:00",
          "1986-12-31T00:00:00",
          "1987-12-31T00:00:00",
          "1988-12-31T00:00:00",
          "1989-12-31T00:00:00",
          "1990-12-31T00:00:00",
          "1991-12-31T00:00:00",
          "1992-12-31T00:00:00",
          "1993-12-31T00:00:00",
          "1994-12-31T00:00:00",
          "1995-12-31T00:00:00",
          "1996-12-31T00:00:00",
          "1997-12-31T00:00:00",
          "1998-12-31T00:00:00",
          "1999-12-31T00:00:00",
          "2000-12-31T00:00:00",
          "2001-12-31T00:00:00",
          "2002-12-31T00:00:00",
          "2003-12-31T00:00:00",
          "2004-12-31T00:00:00",
          "2005-12-31T00:00:00",
          "2006-12-31T00:00:00",
          "2007-12-31T00:00:00",
          "2008-12-31T00:00:00",
          "2009-12-31T00:00:00",
          "2010-12-31T00:00:00",
          "2011-12-31T00:00:00",
          "2012-12-31T00:00:00",
          "2013-12-31T00:00:00",
          "2014-12-31T00:00:00",
          "2015-12-31T00:00:00",
          "2016-12-31T00:00:00",
          "2017-12-31T00:00:00",
          "2018-12-31T00:00:00",
          "2019-12-31T00:00:00",
          "2020-12-31T00:00:00",
          "2021-12-31T00:00:00",
          "2022-12-31T00:00:00",
          "2023-12-31T00:00:00",
          "2024-12-31T00:00:00",
          "2025-12-31T00:00:00"
         ],
         "xaxis": "x",
         "y": [
          30.92445652173913,
          30.90464480874317,
          31.03972602739726,
          31.08438356164384,
          30.74191780821918,
          30.536065573770493,
          30.84931506849315,
          31.03835616438356,
          30.56931506849315,
          30.87650273224044,
          30.393150684931506,
          30.564109589041095,
          30.734246575342464,
          30.584699453551913,
          30.18849315068493,
          30.68931506849315,
          30.74328767123288,
          31.079508196721314,
          30.866027397260275,
          31.135616438356163,
          30.954520547945204,
          30.98415300546448,
          31.329315068493152,
          31.096164383561646,
          30.976438356164383,
          30.945901639344264,
          31.1213698630137,
          30.939178082191784,
          31.042191780821916,
          31.09153005464481,
          31.025753424657534,
          30.774794520547943,
          31.099452054794522,
          31.099180327868854,
          30.943835616438356,
          31.265753424657536,
          31.357260273972603,
          31.441803278688525,
          31.389589041095892,
          31.317808219178083,
          30.926301369863015,
          30.977322404371588,
          31.037808219178086,
          31.145205479452056,
          31.464383561643835,
          31.450273224043713,
          31.478356164383563,
          32.10383561643835,
          31.63917808219178,
          31.73989071038251,
          31.717260273972602,
          31.867397260273975,
          31.526575342465755,
          31.731147540983606,
          31.60821917808219,
          31.65945205479452,
          31.84904109589041,
          30.94289617486339,
          30.816712328767125,
          31.2013698630137,
          30.678356164383562,
          30.89071038251366,
          31.28219178082192,
          31.072054794520547,
          31.574794520547943,
          31.61284153005464,
          31.378630136986303,
          31.483439490445857,
          30.873333333333335,
          29.885036496350367,
          28.61841359773371,
          29.917465753424658,
          30.079787234042552,
          30.157943925233646,
          30.170588235294115
         ],
         "yaxis": "y2"
        },
        {
         "line": {
          "color": "black",
          "dash": "dot"
         },
         "mode": "lines",
         "name": "Trend (rate = 0.001/year) - Not Significant (p > 0.05)",
         "showlegend": true,
         "type": "scatter",
         "x": [
          "1951-12-31T00:00:00",
          "1952-12-31T00:00:00",
          "1953-12-31T00:00:00",
          "1954-12-31T00:00:00",
          "1955-12-31T00:00:00",
          "1956-12-31T00:00:00",
          "1957-12-31T00:00:00",
          "1958-12-31T00:00:00",
          "1959-12-31T00:00:00",
          "1960-12-31T00:00:00",
          "1961-12-31T00:00:00",
          "1962-12-31T00:00:00",
          "1963-12-31T00:00:00",
          "1964-12-31T00:00:00",
          "1965-12-31T00:00:00",
          "1966-12-31T00:00:00",
          "1967-12-31T00:00:00",
          "1968-12-31T00:00:00",
          "1969-12-31T00:00:00",
          "1970-12-31T00:00:00",
          "1971-12-31T00:00:00",
          "1972-12-31T00:00:00",
          "1973-12-31T00:00:00",
          "1974-12-31T00:00:00",
          "1975-12-31T00:00:00",
          "1976-12-31T00:00:00",
          "1977-12-31T00:00:00",
          "1978-12-31T00:00:00",
          "1979-12-31T00:00:00",
          "1980-12-31T00:00:00",
          "1981-12-31T00:00:00",
          "1982-12-31T00:00:00",
          "1983-12-31T00:00:00",
          "1984-12-31T00:00:00",
          "1985-12-31T00:00:00",
          "1986-12-31T00:00:00",
          "1987-12-31T00:00:00",
          "1988-12-31T00:00:00",
          "1989-12-31T00:00:00",
          "1990-12-31T00:00:00",
          "1991-12-31T00:00:00",
          "1992-12-31T00:00:00",
          "1993-12-31T00:00:00",
          "1994-12-31T00:00:00",
          "1995-12-31T00:00:00",
          "1996-12-31T00:00:00",
          "1997-12-31T00:00:00",
          "1998-12-31T00:00:00",
          "1999-12-31T00:00:00",
          "2000-12-31T00:00:00",
          "2001-12-31T00:00:00",
          "2002-12-31T00:00:00",
          "2003-12-31T00:00:00",
          "2004-12-31T00:00:00",
          "2005-12-31T00:00:00",
          "2006-12-31T00:00:00",
          "2007-12-31T00:00:00",
          "2008-12-31T00:00:00",
          "2009-12-31T00:00:00",
          "2010-12-31T00:00:00",
          "2011-12-31T00:00:00",
          "2012-12-31T00:00:00",
          "2013-12-31T00:00:00",
          "2014-12-31T00:00:00",
          "2015-12-31T00:00:00",
          "2016-12-31T00:00:00",
          "2017-12-31T00:00:00",
          "2018-12-31T00:00:00",
          "2019-12-31T00:00:00",
          "2020-12-31T00:00:00",
          "2021-12-31T00:00:00",
          "2022-12-31T00:00:00",
          "2023-12-31T00:00:00",
          "2024-12-31T00:00:00",
          "2025-12-31T00:00:00"
         ],
         "xaxis": "x",
         "y": [
          30.975689674172234,
          30.976816499025947,
          30.977940245123232,
          30.979063991220517,
          30.980187737317802,
          30.98131456217152,
          30.982438308268804,
          30.98356205436609,
          30.984685800463375,
          30.985812625317088,
          30.986936371414373,
          30.988060117511658,
          30.989183863608943,
          30.99031068846266,
          30.991434434559945,
          30.99255818065723,
          30.993681926754515,
          30.99480875160823,
          30.995932497705514,
          30.9970562438028,
          30.998179989900084,
          30.9993068147538,
          31.000430560851086,
          31.00155430694837,
          31.002678053045656,
          31.00380487789937,
          31.004928623996655,
          31.00605237009394,
          31.007176116191225,
          31.008302941044942,
          31.009426687142227,
          31.010550433239512,
          31.011674179336797,
          31.01280100419051,
          31.013924750287796,
          31.01504849638508,
          31.016172242482366,
          31.017299067336083,
          31.018422813433368,
          31.019546559530653,
          31.020670305627938,
          31.02179713048165,
          31.022920876578937,
          31.02404462267622,
          31.025168368773507,
          31.026295193627224,
          31.02741893972451,
          31.028542685821794,
          31.02966643191908,
          31.030793256772792,
          31.031917002870077,
          31.033040748967363,
          31.034164495064648,
          31.035291319918365,
          31.03641506601565,
          31.037538812112935,
          31.03866255821022,
          31.039789383063933,
          31.04091312916122,
          31.042036875258503,
          31.04316062135579,
          31.044287446209506,
          31.04541119230679,
          31.046534938404076,
          31.04765868450136,
          31.048785509355074,
          31.04990925545236,
          31.051033001549644,
          31.05215674764693,
          31.053283572500646,
          31.05440731859793,
          31.055531064695217,
          31.0566548107925,
          31.057781635646215,
          31.0589053817435
         ],
         "yaxis": "y2"
        }
       ],
       "layout": {
        "height": 440,
        "legend": {
         "font": {
          "size": 12
         },
         "orientation": "h",
         "x": 0.5,
         "xanchor": "center",
         "y": 1.1,
         "yanchor": "bottom"
        },
        "template": {
         "data": {
          "bar": [
           {
            "error_x": {
             "color": "#2a3f5f"
            },
            "error_y": {
             "color": "#2a3f5f"
            },
            "marker": {
             "line": {
              "color": "white",
              "width": 0.5
             },
             "pattern": {
              "fillmode": "overlay",
              "size": 10,
              "solidity": 0.2
             }
            },
            "type": "bar"
           }
          ],
          "barpolar": [
           {
            "marker": {
             "line": {
              "color": "white",
              "width": 0.5
             },
             "pattern": {
              "fillmode": "overlay",
              "size": 10,
              "solidity": 0.2
             }
            },
            "type": "barpolar"
           }
          ],
          "carpet": [
           {
            "aaxis": {
             "endlinecolor": "#2a3f5f",
             "gridcolor": "#C8D4E3",
             "linecolor": "#C8D4E3",
             "minorgridcolor": "#C8D4E3",
             "startlinecolor": "#2a3f5f"
            },
            "baxis": {
             "endlinecolor": "#2a3f5f",
             "gridcolor": "#C8D4E3",
             "linecolor": "#C8D4E3",
             "minorgridcolor": "#C8D4E3",
             "startlinecolor": "#2a3f5f"
            },
            "type": "carpet"
           }
          ],
          "choropleth": [
           {
            "colorbar": {
             "outlinewidth": 0,
             "ticks": ""
            },
            "type": "choropleth"
           }
          ],
          "contour": [
           {
            "colorbar": {
             "outlinewidth": 0,
             "ticks": ""
            },
            "colorscale": [
             [
              0,
              "#0d0887"
             ],
             [
              0.1111111111111111,
              "#46039f"
             ],
             [
              0.2222222222222222,
              "#7201a8"
             ],
             [
              0.3333333333333333,
              "#9c179e"
             ],
             [
              0.4444444444444444,
              "#bd3786"
             ],
             [
              0.5555555555555556,
              "#d8576b"
             ],
             [
              0.6666666666666666,
              "#ed7953"
             ],
             [
              0.7777777777777778,
              "#fb9f3a"
             ],
             [
              0.8888888888888888,
              "#fdca26"
             ],
             [
              1,
              "#f0f921"
             ]
            ],
            "type": "contour"
           }
          ],
          "contourcarpet": [
           {
            "colorbar": {
             "outlinewidth": 0,
             "ticks": ""
            },
            "type": "contourcarpet"
           }
          ],
          "heatmap": [
           {
            "colorbar": {
             "outlinewidth": 0,
             "ticks": ""
            },
            "colorscale": [
             [
              0,
              "#0d0887"
             ],
             [
              0.1111111111111111,
              "#46039f"
             ],
             [
              0.2222222222222222,
              "#7201a8"
             ],
             [
              0.3333333333333333,
              "#9c179e"
             ],
             [
              0.4444444444444444,
              "#bd3786"
             ],
             [
              0.5555555555555556,
              "#d8576b"
             ],
             [
              0.6666666666666666,
              "#ed7953"
             ],
             [
              0.7777777777777778,
              "#fb9f3a"
             ],
             [
              0.8888888888888888,
              "#fdca26"
             ],
             [
              1,
              "#f0f921"
             ]
            ],
            "type": "heatmap"
           }
          ],
          "heatmapgl": [
           {
            "colorbar": {
             "outlinewidth": 0,
             "ticks": ""
            },
            "colorscale": [
             [
              0,
              "#0d0887"
             ],
             [
              0.1111111111111111,
              "#46039f"
             ],
             [
              0.2222222222222222,
              "#7201a8"
             ],
             [
              0.3333333333333333,
              "#9c179e"
             ],
             [
              0.4444444444444444,
              "#bd3786"
             ],
             [
              0.5555555555555556,
              "#d8576b"
             ],
             [
              0.6666666666666666,
              "#ed7953"
             ],
             [
              0.7777777777777778,
              "#fb9f3a"
             ],
             [
              0.8888888888888888,
              "#fdca26"
             ],
             [
              1,
              "#f0f921"
             ]
            ],
            "type": "heatmapgl"
           }
          ],
          "histogram": [
           {
            "marker": {
             "pattern": {
              "fillmode": "overlay",
              "size": 10,
              "solidity": 0.2
             }
            },
            "type": "histogram"
           }
          ],
          "histogram2d": [
           {
            "colorbar": {
             "outlinewidth": 0,
             "ticks": ""
            },
            "colorscale": [
             [
              0,
              "#0d0887"
             ],
             [
              0.1111111111111111,
              "#46039f"
             ],
             [
              0.2222222222222222,
              "#7201a8"
             ],
             [
              0.3333333333333333,
              "#9c179e"
             ],
             [
              0.4444444444444444,
              "#bd3786"
             ],
             [
              0.5555555555555556,
              "#d8576b"
             ],
             [
              0.6666666666666666,
              "#ed7953"
             ],
             [
              0.7777777777777778,
              "#fb9f3a"
             ],
             [
              0.8888888888888888,
              "#fdca26"
             ],
             [
              1,
              "#f0f921"
             ]
            ],
            "type": "histogram2d"
           }
          ],
          "histogram2dcontour": [
           {
            "colorbar": {
             "outlinewidth": 0,
             "ticks": ""
            },
            "colorscale": [
             [
              0,
              "#0d0887"
             ],
             [
              0.1111111111111111,
              "#46039f"
             ],
             [
              0.2222222222222222,
              "#7201a8"
             ],
             [
              0.3333333333333333,
              "#9c179e"
             ],
             [
              0.4444444444444444,
              "#bd3786"
             ],
             [
              0.5555555555555556,
              "#d8576b"
             ],
             [
              0.6666666666666666,
              "#ed7953"
             ],
             [
              0.7777777777777778,
              "#fb9f3a"
             ],
             [
              0.8888888888888888,
              "#fdca26"
             ],
             [
              1,
              "#f0f921"
             ]
            ],
            "type": "histogram2dcontour"
           }
          ],
          "mesh3d": [
           {
            "colorbar": {
             "outlinewidth": 0,
             "ticks": ""
            },
            "type": "mesh3d"
           }
          ],
          "parcoords": [
           {
            "line": {
             "colorbar": {
              "outlinewidth": 0,
              "ticks": ""
             }
            },
            "type": "parcoords"
           }
          ],
          "pie": [
           {
            "automargin": true,
            "type": "pie"
           }
          ],
          "scatter": [
           {
            "fillpattern": {
             "fillmode": "overlay",
             "size": 10,
             "solidity": 0.2
            },
            "type": "scatter"
           }
          ],
          "scatter3d": [
           {
            "line": {
             "colorbar": {
              "outlinewidth": 0,
              "ticks": ""
             }
            },
            "marker": {
             "colorbar": {
              "outlinewidth": 0,
              "ticks": ""
             }
            },
            "type": "scatter3d"
           }
          ],
          "scattercarpet": [
           {
            "marker": {
             "colorbar": {
              "outlinewidth": 0,
              "ticks": ""
             }
            },
            "type": "scattercarpet"
           }
          ],
          "scattergeo": [
           {
            "marker": {
             "colorbar": {
              "outlinewidth": 0,
              "ticks": ""
             }
            },
            "type": "scattergeo"
           }
          ],
          "scattergl": [
           {
            "marker": {
             "colorbar": {
              "outlinewidth": 0,
              "ticks": ""
             }
            },
            "type": "scattergl"
           }
          ],
          "scattermapbox": [
           {
            "marker": {
             "colorbar": {
              "outlinewidth": 0,
              "ticks": ""
             }
            },
            "type": "scattermapbox"
           }
          ],
          "scatterpolar": [
           {
            "marker": {
             "colorbar": {
              "outlinewidth": 0,
              "ticks": ""
             }
            },
            "type": "scatterpolar"
           }
          ],
          "scatterpolargl": [
           {
            "marker": {
             "colorbar": {
              "outlinewidth": 0,
              "ticks": ""
             }
            },
            "type": "scatterpolargl"
           }
          ],
          "scatterternary": [
           {
            "marker": {
             "colorbar": {
              "outlinewidth": 0,
              "ticks": ""
             }
            },
            "type": "scatterternary"
           }
          ],
          "surface": [
           {
            "colorbar": {
             "outlinewidth": 0,
             "ticks": ""
            },
            "colorscale": [
             [
              0,
              "#0d0887"
             ],
             [
              0.1111111111111111,
              "#46039f"
             ],
             [
              0.2222222222222222,
              "#7201a8"
             ],
             [
              0.3333333333333333,
              "#9c179e"
             ],
             [
              0.4444444444444444,
              "#bd3786"
             ],
             [
              0.5555555555555556,
              "#d8576b"
             ],
             [
              0.6666666666666666,
              "#ed7953"
             ],
             [
              0.7777777777777778,
              "#fb9f3a"
             ],
             [
              0.8888888888888888,
              "#fdca26"
             ],
             [
              1,
              "#f0f921"
             ]
            ],
            "type": "surface"
           }
          ],
          "table": [
           {
            "cells": {
             "fill": {
              "color": "#EBF0F8"
             },
             "line": {
              "color": "white"
             }
            },
            "header": {
             "fill": {
              "color": "#C8D4E3"
             },
             "line": {
              "color": "white"
             }
            },
            "type": "table"
           }
          ]
         },
         "layout": {
          "annotationdefaults": {
           "arrowcolor": "#2a3f5f",
           "arrowhead": 0,
           "arrowwidth": 1
          },
          "autotypenumbers": "strict",
          "coloraxis": {
           "colorbar": {
            "outlinewidth": 0,
            "ticks": ""
           }
          },
          "colorscale": {
           "diverging": [
            [
             0,
             "#8e0152"
            ],
            [
             0.1,
             "#c51b7d"
            ],
            [
             0.2,
             "#de77ae"
            ],
            [
             0.3,
             "#f1b6da"
            ],
            [
             0.4,
             "#fde0ef"
            ],
            [
             0.5,
             "#f7f7f7"
            ],
            [
             0.6,
             "#e6f5d0"
            ],
            [
             0.7,
             "#b8e186"
            ],
            [
             0.8,
             "#7fbc41"
            ],
            [
             0.9,
             "#4d9221"
            ],
            [
             1,
             "#276419"
            ]
           ],
           "sequential": [
            [
             0,
             "#0d0887"
            ],
            [
             0.1111111111111111,
             "#46039f"
            ],
            [
             0.2222222222222222,
             "#7201a8"
            ],
            [
             0.3333333333333333,
             "#9c179e"
            ],
            [
             0.4444444444444444,
             "#bd3786"
            ],
            [
             0.5555555555555556,
             "#d8576b"
            ],
            [
             0.6666666666666666,
             "#ed7953"
            ],
            [
             0.7777777777777778,
             "#fb9f3a"
            ],
            [
             0.8888888888888888,
             "#fdca26"
            ],
            [
             1,
             "#f0f921"
            ]
           ],
           "sequentialminus": [
            [
             0,
             "#0d0887"
            ],
            [
             0.1111111111111111,
             "#46039f"
            ],
            [
             0.2222222222222222,
             "#7201a8"
            ],
            [
             0.3333333333333333,
             "#9c179e"
            ],
            [
             0.4444444444444444,
             "#bd3786"
            ],
            [
             0.5555555555555556,
             "#d8576b"
            ],
            [
             0.6666666666666666,
             "#ed7953"
            ],
            [
             0.7777777777777778,
             "#fb9f3a"
            ],
            [
             0.8888888888888888,
             "#fdca26"
            ],
            [
             1,
             "#f0f921"
            ]
           ]
          },
          "colorway": [
           "#636efa",
           "#EF553B",
           "#00cc96",
           "#ab63fa",
           "#FFA15A",
           "#19d3f3",
           "#FF6692",
           "#B6E880",
           "#FF97FF",
           "#FECB52"
          ],
          "font": {
           "color": "#2a3f5f"
          },
          "geo": {
           "bgcolor": "white",
           "lakecolor": "white",
           "landcolor": "white",
           "showlakes": true,
           "showland": true,
           "subunitcolor": "#C8D4E3"
          },
          "hoverlabel": {
           "align": "left"
          },
          "hovermode": "closest",
          "mapbox": {
           "style": "light"
          },
          "paper_bgcolor": "white",
          "plot_bgcolor": "white",
          "polar": {
           "angularaxis": {
            "gridcolor": "#EBF0F8",
            "linecolor": "#EBF0F8",
            "ticks": ""
           },
           "bgcolor": "white",
           "radialaxis": {
            "gridcolor": "#EBF0F8",
            "linecolor": "#EBF0F8",
            "ticks": ""
           }
          },
          "scene": {
           "xaxis": {
            "backgroundcolor": "white",
            "gridcolor": "#DFE8F3",
            "gridwidth": 2,
            "linecolor": "#EBF0F8",
            "showbackground": true,
            "ticks": "",
            "zerolinecolor": "#EBF0F8"
           },
           "yaxis": {
            "backgroundcolor": "white",
            "gridcolor": "#DFE8F3",
            "gridwidth": 2,
            "linecolor": "#EBF0F8",
            "showbackground": true,
            "ticks": "",
            "zerolinecolor": "#EBF0F8"
           },
           "zaxis": {
            "backgroundcolor": "white",
            "gridcolor": "#DFE8F3",
            "gridwidth": 2,
            "linecolor": "#EBF0F8",
            "showbackground": true,
            "ticks": "",
            "zerolinecolor": "#EBF0F8"
           }
          },
          "shapedefaults": {
           "line": {
            "color": "#2a3f5f"
           }
          },
          "ternary": {
           "aaxis": {
            "gridcolor": "#DFE8F3",
            "linecolor": "#A2B1C6",
            "ticks": ""
           },
           "baxis": {
            "gridcolor": "#DFE8F3",
            "linecolor": "#A2B1C6",
            "ticks": ""
           },
           "bgcolor": "white",
           "caxis": {
            "gridcolor": "#DFE8F3",
            "linecolor": "#A2B1C6",
            "ticks": ""
           }
          },
          "title": {
           "x": 0.05
          },
          "xaxis": {
           "automargin": true,
           "gridcolor": "#EBF0F8",
           "linecolor": "#EBF0F8",
           "ticks": "",
           "title": {
            "standoff": 15
           },
           "zerolinecolor": "#EBF0F8",
           "zerolinewidth": 2
          },
          "yaxis": {
           "automargin": true,
           "gridcolor": "#EBF0F8",
           "linecolor": "#EBF0F8",
           "ticks": "",
           "title": {
            "standoff": 15
           },
           "zerolinecolor": "#EBF0F8",
           "zerolinewidth": 2
          }
         }
        },
        "title": {
         "text": " "
        },
        "width": 960,
        "xaxis": {
         "anchor": "y",
         "domain": [
          0,
          0.94
         ],
         "title": {
          "text": "Time"
         }
        },
        "yaxis": {
         "anchor": "x",
         "domain": [
          0,
          1
         ],
         "title": {
          "text": "TMIN"
         }
        },
        "yaxis2": {
         "anchor": "x",
         "overlaying": "y",
         "side": "right",
         "title": {
          "text": "TMAX"
         }
        }
       }
      }
     },
     "metadata": {},
     "output_type": "display_data"
    }
   ],
   "source": [
    "fig = plot_timeseries_interactive(dict_plot, trendline=True, figsize = (24, 11))\n"
   ]
  },
  {
   "cell_type": "code",
   "execution_count": 21,
   "metadata": {},
   "outputs": [
    {
     "data": {
      "image/png": "[encoded data removed]"
     },
     "metadata": {},
     "output_type": "display_data"
    }
   ],
   "source": [
    "from ind_setup.tables import plot_df_table\n",
    "\n",
    "var = 'TMIN'\n",
    "df = get_data_metrics(st_data, var, )\n",
    "fig = plot_df_table(df.T, figsize = (300, 400))"
   ]
  },
  {
   "cell_type": "code",
   "execution_count": 22,
   "metadata": {},
   "outputs": [
    {
     "data": {
      "image/png": "[encoded data removed]"
     },
     "metadata": {},
     "output_type": "display_data"
    }
   ],
   "source": [
    "from ind_setup.tables import plot_df_table\n",
    "\n",
    "var = 'TMAX'\n",
    "df = get_data_metrics(st_data, var, )\n",
    "fig = plot_df_table(df.T, figsize = (300, 400))"
   ]
  },
  {
   "cell_type": "markdown",
   "metadata": {},
   "source": [
    "### Difference temperature"
   ]
  },
  {
   "cell_type": "code",
   "execution_count": 23,
   "metadata": {},
   "outputs": [
    {
     "data": {
      "application/vnd.plotly.v1+json": {
       "config": {
        "plotlyServerURL": "https://plot.ly"
       },
       "data": [
        {
         "line": {
          "color": "#636EFA"
         },
         "name": "Difference TMAX - TMIN",
         "type": "scatter",
         "x": [
          "1951-12-31T00:00:00",
          "1952-12-31T00:00:00",
          "1953-12-31T00:00:00",
          "1954-12-31T00:00:00",
          "1955-12-31T00:00:00",
          "1956-12-31T00:00:00",
          "1957-12-31T00:00:00",
          "1958-12-31T00:00:00",
          "1959-12-31T00:00:00",
          "1960-12-31T00:00:00",
          "1961-12-31T00:00:00",
          "1962-12-31T00:00:00",
          "1963-12-31T00:00:00",
          "1964-12-31T00:00:00",
          "1965-12-31T00:00:00",
          "1966-12-31T00:00:00",
          "1967-12-31T00:00:00",
          "1968-12-31T00:00:00",
          "1969-12-31T00:00:00",
          "1970-12-31T00:00:00",
          "1971-12-31T00:00:00",
          "1972-12-31T00:00:00",
          "1973-12-31T00:00:00",
          "1974-12-31T00:00:00",
          "1975-12-31T00:00:00",
          "1976-12-31T00:00:00",
          "1977-12-31T00:00:00",
          "1978-12-31T00:00:00",
          "1979-12-31T00:00:00",
          "1980-12-31T00:00:00",
          "1981-12-31T00:00:00",
          "1982-12-31T00:00:00",
          "1983-12-31T00:00:00",
          "1984-12-31T00:00:00",
          "1985-12-31T00:00:00",
          "1986-12-31T00:00:00",
          "1987-12-31T00:00:00",
          "1988-12-31T00:00:00",
          "1989-12-31T00:00:00",
          "1990-12-31T00:00:00",
          "1991-12-31T00:00:00",
          "1992-12-31T00:00:00",
          "1993-12-31T00:00:00",
          "1994-12-31T00:00:00",
          "1995-12-31T00:00:00",
          "1996-12-31T00:00:00",
          "1997-12-31T00:00:00",
          "1998-12-31T00:00:00",
          "1999-12-31T00:00:00",
          "2000-12-31T00:00:00",
          "2001-12-31T00:00:00",
          "2002-12-31T00:00:00",
          "2003-12-31T00:00:00",
          "2004-12-31T00:00:00",
          "2005-12-31T00:00:00",
          "2006-12-31T00:00:00",
          "2007-12-31T00:00:00",
          "2008-12-31T00:00:00",
          "2009-12-31T00:00:00",
          "2010-12-31T00:00:00",
          "2011-12-31T00:00:00",
          "2012-12-31T00:00:00",
          "2013-12-31T00:00:00",
          "2014-12-31T00:00:00",
          "2015-12-31T00:00:00",
          "2016-12-31T00:00:00",
          "2017-12-31T00:00:00",
          "2018-12-31T00:00:00",
          "2019-12-31T00:00:00",
          "2020-12-31T00:00:00",
          "2021-12-31T00:00:00",
          "2022-12-31T00:00:00",
          "2023-12-31T00:00:00",
          "2024-12-31T00:00:00",
          "2025-12-31T00:00:00"
         ],
         "xaxis": "x",
         "y": [
          6.773913043478262,
          7.066666666666668,
          6.95095890410959,
          6.083835616438357,
          6.984931506849317,
          6.668579234972678,
          6.6150684931506865,
          6.602739726027399,
          6.452328767123289,
          6.600819672131149,
          6.2449315068493165,
          6.338904109589042,
          6.458904109589042,
          6.448633879781421,
          6.110684931506849,
          6.466849315068495,
          6.463561643835617,
          6.750273224043717,
          6.466575342465754,
          6.613150684931509,
          6.741643835616439,
          6.7428961748633895,
          7.0169863013698635,
          6.909041095890411,
          6.955068493150686,
          6.590437158469946,
          6.599726027397262,
          6.8106849315068505,
          7.0032876712328775,
          7.04945355191257,
          7.026301369863015,
          6.396712328767124,
          6.849041095890413,
          7.021584699453554,
          7.040821917808221,
          6.930958904109591,
          7.019178082191782,
          7.054098360655738,
          7.02164383561644,
          6.775890410958905,
          6.675342465753426,
          6.959562841530055,
          6.965479452054796,
          6.920547945205481,
          7.413150684931507,
          7.29344262295082,
          7.283287671232877,
          8.009589041095891,
          7.6,
          7.866939890710383,
          6.981095890410959,
          6.921917808219178,
          6.773972602739726,
          6.619125683060109,
          6.9693150684931515,
          6.8183561643835615,
          7.036164383561643,
          6.405464480874318,
          6.297260273972604,
          6.924109589041096,
          6.029589041095891,
          6.050000000000001,
          6.555890410958904,
          6.074794520547946,
          6.564931506849316,
          6.528688524590164,
          6.3786301369863025,
          6.261146496815287,
          6.373333333333334,
          4.753284671532846,
          3.873371104815864,
          5.375684931506849,
          4.561347517730496,
          4.314330218068536,
          4.529411764705882
         ],
         "yaxis": "y"
        },
        {
         "line": {
          "color": "black"
         },
         "mode": "lines",
         "name": "Trend (rate = -0.012/year) - Significant (p < 0.05)",
         "showlegend": true,
         "type": "scatter",
         "x": [
          "1951-12-31T00:00:00",
          "1952-12-31T00:00:00",
          "1953-12-31T00:00:00",
          "1954-12-31T00:00:00",
          "1955-12-31T00:00:00",
          "1956-12-31T00:00:00",
          "1957-12-31T00:00:00",
          "1958-12-31T00:00:00",
          "1959-12-31T00:00:00",
          "1960-12-31T00:00:00",
          "1961-12-31T00:00:00",
          "1962-12-31T00:00:00",
          "1963-12-31T00:00:00",
          "1964-12-31T00:00:00",
          "1965-12-31T00:00:00",
          "1966-12-31T00:00:00",
          "1967-12-31T00:00:00",
          "1968-12-31T00:00:00",
          "1969-12-31T00:00:00",
          "1970-12-31T00:00:00",
          "1971-12-31T00:00:00",
          "1972-12-31T00:00:00",
          "1973-12-31T00:00:00",
          "1974-12-31T00:00:00",
          "1975-12-31T00:00:00",
          "1976-12-31T00:00:00",
          "1977-12-31T00:00:00",
          "1978-12-31T00:00:00",
          "1979-12-31T00:00:00",
          "1980-12-31T00:00:00",
          "1981-12-31T00:00:00",
          "1982-12-31T00:00:00",
          "1983-12-31T00:00:00",
          "1984-12-31T00:00:00",
          "1985-12-31T00:00:00",
          "1986-12-31T00:00:00",
          "1987-12-31T00:00:00",
          "1988-12-31T00:00:00",
          "1989-12-31T00:00:00",
          "1990-12-31T00:00:00",
          "1991-12-31T00:00:00",
          "1992-12-31T00:00:00",
          "1993-12-31T00:00:00",
          "1994-12-31T00:00:00",
          "1995-12-31T00:00:00",
          "1996-12-31T00:00:00",
          "1997-12-31T00:00:00",
          "1998-12-31T00:00:00",
          "1999-12-31T00:00:00",
          "2000-12-31T00:00:00",
          "2001-12-31T00:00:00",
          "2002-12-31T00:00:00",
          "2003-12-31T00:00:00",
          "2004-12-31T00:00:00",
          "2005-12-31T00:00:00",
          "2006-12-31T00:00:00",
          "2007-12-31T00:00:00",
          "2008-12-31T00:00:00",
          "2009-12-31T00:00:00",
          "2010-12-31T00:00:00",
          "2011-12-31T00:00:00",
          "2012-12-31T00:00:00",
          "2013-12-31T00:00:00",
          "2014-12-31T00:00:00",
          "2015-12-31T00:00:00",
          "2016-12-31T00:00:00",
          "2017-12-31T00:00:00",
          "2018-12-31T00:00:00",
          "2019-12-31T00:00:00",
          "2020-12-31T00:00:00",
          "2021-12-31T00:00:00",
          "2022-12-31T00:00:00",
          "2023-12-31T00:00:00",
          "2024-12-31T00:00:00",
          "2025-12-31T00:00:00"
         ],
         "xaxis": "x",
         "y": [
          7.027033942258568,
          7.014991141587913,
          7.002981244744228,
          6.990971347900541,
          6.978961451056856,
          6.966918650386201,
          6.954908753542514,
          6.942898856698829,
          6.930888959855142,
          6.918846159184487,
          6.906836262340802,
          6.894826365497115,
          6.88281646865343,
          6.870773667982775,
          6.858763771139089,
          6.846753874295403,
          6.8347439774517165,
          6.822701176781062,
          6.810691279937376,
          6.79868138309369,
          6.786671486250004,
          6.774628685579349,
          6.762618788735663,
          6.750608891891977,
          6.738598995048291,
          6.726556194377636,
          6.71454629753395,
          6.702536400690264,
          6.690526503846578,
          6.678483703175924,
          6.666473806332237,
          6.654463909488551,
          6.6424540126448655,
          6.63041121197421,
          6.618401315130525,
          6.606391418286838,
          6.594381521443153,
          6.582338720772498,
          6.570328823928811,
          6.558318927085126,
          6.5463090302414395,
          6.534266229570784,
          6.522256332727099,
          6.5102464358834125,
          6.498236539039727,
          6.486193738369072,
          6.474183841525386,
          6.4621739446817,
          6.450164047838014,
          6.438121247167359,
          6.426111350323673,
          6.414101453479987,
          6.402091556636301,
          6.390048755965646,
          6.37803885912196,
          6.366028962278274,
          6.3540190654345885,
          6.341976264763933,
          6.329966367920247,
          6.317956471076561,
          6.305946574232875,
          6.293903773562221,
          6.281893876718534,
          6.269883979874848,
          6.2578740830311625,
          6.245831282360507,
          6.233821385516821,
          6.2218114886731355,
          6.20980159182945,
          6.197758791158795,
          6.185748894315108,
          6.173738997471423,
          6.161729100627737,
          6.149686299957081,
          6.137676403113396
         ],
         "yaxis": "y"
        }
       ],
       "layout": {
        "height": 480,
        "legend": {
         "font": {
          "size": 12
         },
         "orientation": "h",
         "x": 0.5,
         "xanchor": "center",
         "y": 1.1,
         "yanchor": "bottom"
        },
        "template": {
         "data": {
          "bar": [
           {
            "error_x": {
             "color": "#2a3f5f"
            },
            "error_y": {
             "color": "#2a3f5f"
            },
            "marker": {
             "line": {
              "color": "white",
              "width": 0.5
             },
             "pattern": {
              "fillmode": "overlay",
              "size": 10,
              "solidity": 0.2
             }
            },
            "type": "bar"
           }
          ],
          "barpolar": [
           {
            "marker": {
             "line": {
              "color": "white",
              "width": 0.5
             },
             "pattern": {
              "fillmode": "overlay",
              "size": 10,
              "solidity": 0.2
             }
            },
            "type": "barpolar"
           }
          ],
          "carpet": [
           {
            "aaxis": {
             "endlinecolor": "#2a3f5f",
             "gridcolor": "#C8D4E3",
             "linecolor": "#C8D4E3",
             "minorgridcolor": "#C8D4E3",
             "startlinecolor": "#2a3f5f"
            },
            "baxis": {
             "endlinecolor": "#2a3f5f",
             "gridcolor": "#C8D4E3",
             "linecolor": "#C8D4E3",
             "minorgridcolor": "#C8D4E3",
             "startlinecolor": "#2a3f5f"
            },
            "type": "carpet"
           }
          ],
          "choropleth": [
           {
            "colorbar": {
             "outlinewidth": 0,
             "ticks": ""
            },
            "type": "choropleth"
           }
          ],
          "contour": [
           {
            "colorbar": {
             "outlinewidth": 0,
             "ticks": ""
            },
            "colorscale": [
             [
              0,
              "#0d0887"
             ],
             [
              0.1111111111111111,
              "#46039f"
             ],
             [
              0.2222222222222222,
              "#7201a8"
             ],
             [
              0.3333333333333333,
              "#9c179e"
             ],
             [
              0.4444444444444444,
              "#bd3786"
             ],
             [
              0.5555555555555556,
              "#d8576b"
             ],
             [
              0.6666666666666666,
              "#ed7953"
             ],
             [
              0.7777777777777778,
              "#fb9f3a"
             ],
             [
              0.8888888888888888,
              "#fdca26"
             ],
             [
              1,
              "#f0f921"
             ]
            ],
            "type": "contour"
           }
          ],
          "contourcarpet": [
           {
            "colorbar": {
             "outlinewidth": 0,
             "ticks": ""
            },
            "type": "contourcarpet"
           }
          ],
          "heatmap": [
           {
            "colorbar": {
             "outlinewidth": 0,
             "ticks": ""
            },
            "colorscale": [
             [
              0,
              "#0d0887"
             ],
             [
              0.1111111111111111,
              "#46039f"
             ],
             [
              0.2222222222222222,
              "#7201a8"
             ],
             [
              0.3333333333333333,
              "#9c179e"
             ],
             [
              0.4444444444444444,
              "#bd3786"
             ],
             [
              0.5555555555555556,
              "#d8576b"
             ],
             [
              0.6666666666666666,
              "#ed7953"
             ],
             [
              0.7777777777777778,
              "#fb9f3a"
             ],
             [
              0.8888888888888888,
              "#fdca26"
             ],
             [
              1,
              "#f0f921"
             ]
            ],
            "type": "heatmap"
           }
          ],
          "heatmapgl": [
           {
            "colorbar": {
             "outlinewidth": 0,
             "ticks": ""
            },
            "colorscale": [
             [
              0,
              "#0d0887"
             ],
             [
              0.1111111111111111,
              "#46039f"
             ],
             [
              0.2222222222222222,
              "#7201a8"
             ],
             [
              0.3333333333333333,
              "#9c179e"
             ],
             [
              0.4444444444444444,
              "#bd3786"
             ],
             [
              0.5555555555555556,
              "#d8576b"
             ],
             [
              0.6666666666666666,
              "#ed7953"
             ],
             [
              0.7777777777777778,
              "#fb9f3a"
             ],
             [
              0.8888888888888888,
              "#fdca26"
             ],
             [
              1,
              "#f0f921"
             ]
            ],
            "type": "heatmapgl"
           }
          ],
          "histogram": [
           {
            "marker": {
             "pattern": {
              "fillmode": "overlay",
              "size": 10,
              "solidity": 0.2
             }
            },
            "type": "histogram"
           }
          ],
          "histogram2d": [
           {
            "colorbar": {
             "outlinewidth": 0,
             "ticks": ""
            },
            "colorscale": [
             [
              0,
              "#0d0887"
             ],
             [
              0.1111111111111111,
              "#46039f"
             ],
             [
              0.2222222222222222,
              "#7201a8"
             ],
             [
              0.3333333333333333,
              "#9c179e"
             ],
             [
              0.4444444444444444,
              "#bd3786"
             ],
             [
              0.5555555555555556,
              "#d8576b"
             ],
             [
              0.6666666666666666,
              "#ed7953"
             ],
             [
              0.7777777777777778,
              "#fb9f3a"
             ],
             [
              0.8888888888888888,
              "#fdca26"
             ],
             [
              1,
              "#f0f921"
             ]
            ],
            "type": "histogram2d"
           }
          ],
          "histogram2dcontour": [
           {
            "colorbar": {
             "outlinewidth": 0,
             "ticks": ""
            },
            "colorscale": [
             [
              0,
              "#0d0887"
             ],
             [
              0.1111111111111111,
              "#46039f"
             ],
             [
              0.2222222222222222,
              "#7201a8"
             ],
             [
              0.3333333333333333,
              "#9c179e"
             ],
             [
              0.4444444444444444,
              "#bd3786"
             ],
             [
              0.5555555555555556,
              "#d8576b"
             ],
             [
              0.6666666666666666,
              "#ed7953"
             ],
             [
              0.7777777777777778,
              "#fb9f3a"
             ],
             [
              0.8888888888888888,
              "#fdca26"
             ],
             [
              1,
              "#f0f921"
             ]
            ],
            "type": "histogram2dcontour"
           }
          ],
          "mesh3d": [
           {
            "colorbar": {
             "outlinewidth": 0,
             "ticks": ""
            },
            "type": "mesh3d"
           }
          ],
          "parcoords": [
           {
            "line": {
             "colorbar": {
              "outlinewidth": 0,
              "ticks": ""
             }
            },
            "type": "parcoords"
           }
          ],
          "pie": [
           {
            "automargin": true,
            "type": "pie"
           }
          ],
          "scatter": [
           {
            "fillpattern": {
             "fillmode": "overlay",
             "size": 10,
             "solidity": 0.2
            },
            "type": "scatter"
           }
          ],
          "scatter3d": [
           {
            "line": {
             "colorbar": {
              "outlinewidth": 0,
              "ticks": ""
             }
            },
            "marker": {
             "colorbar": {
              "outlinewidth": 0,
              "ticks": ""
             }
            },
            "type": "scatter3d"
           }
          ],
          "scattercarpet": [
           {
            "marker": {
             "colorbar": {
              "outlinewidth": 0,
              "ticks": ""
             }
            },
            "type": "scattercarpet"
           }
          ],
          "scattergeo": [
           {
            "marker": {
             "colorbar": {
              "outlinewidth": 0,
              "ticks": ""
             }
            },
            "type": "scattergeo"
           }
          ],
          "scattergl": [
           {
            "marker": {
             "colorbar": {
              "outlinewidth": 0,
              "ticks": ""
             }
            },
            "type": "scattergl"
           }
          ],
          "scattermapbox": [
           {
            "marker": {
             "colorbar": {
              "outlinewidth": 0,
              "ticks": ""
             }
            },
            "type": "scattermapbox"
           }
          ],
          "scatterpolar": [
           {
            "marker": {
             "colorbar": {
              "outlinewidth": 0,
              "ticks": ""
             }
            },
            "type": "scatterpolar"
           }
          ],
          "scatterpolargl": [
           {
            "marker": {
             "colorbar": {
              "outlinewidth": 0,
              "ticks": ""
             }
            },
            "type": "scatterpolargl"
           }
          ],
          "scatterternary": [
           {
            "marker": {
             "colorbar": {
              "outlinewidth": 0,
              "ticks": ""
             }
            },
            "type": "scatterternary"
           }
          ],
          "surface": [
           {
            "colorbar": {
             "outlinewidth": 0,
             "ticks": ""
            },
            "colorscale": [
             [
              0,
              "#0d0887"
             ],
             [
              0.1111111111111111,
              "#46039f"
             ],
             [
              0.2222222222222222,
              "#7201a8"
             ],
             [
              0.3333333333333333,
              "#9c179e"
             ],
             [
              0.4444444444444444,
              "#bd3786"
             ],
             [
              0.5555555555555556,
              "#d8576b"
             ],
             [
              0.6666666666666666,
              "#ed7953"
             ],
             [
              0.7777777777777778,
              "#fb9f3a"
             ],
             [
              0.8888888888888888,
              "#fdca26"
             ],
             [
              1,
              "#f0f921"
             ]
            ],
            "type": "surface"
           }
          ],
          "table": [
           {
            "cells": {
             "fill": {
              "color": "#EBF0F8"
             },
             "line": {
              "color": "white"
             }
            },
            "header": {
             "fill": {
              "color": "#C8D4E3"
             },
             "line": {
              "color": "white"
             }
            },
            "type": "table"
           }
          ]
         },
         "layout": {
          "annotationdefaults": {
           "arrowcolor": "#2a3f5f",
           "arrowhead": 0,
           "arrowwidth": 1
          },
          "autotypenumbers": "strict",
          "coloraxis": {
           "colorbar": {
            "outlinewidth": 0,
            "ticks": ""
           }
          },
          "colorscale": {
           "diverging": [
            [
             0,
             "#8e0152"
            ],
            [
             0.1,
             "#c51b7d"
            ],
            [
             0.2,
             "#de77ae"
            ],
            [
             0.3,
             "#f1b6da"
            ],
            [
             0.4,
             "#fde0ef"
            ],
            [
             0.5,
             "#f7f7f7"
            ],
            [
             0.6,
             "#e6f5d0"
            ],
            [
             0.7,
             "#b8e186"
            ],
            [
             0.8,
             "#7fbc41"
            ],
            [
             0.9,
             "#4d9221"
            ],
            [
             1,
             "#276419"
            ]
           ],
           "sequential": [
            [
             0,
             "#0d0887"
            ],
            [
             0.1111111111111111,
             "#46039f"
            ],
            [
             0.2222222222222222,
             "#7201a8"
            ],
            [
             0.3333333333333333,
             "#9c179e"
            ],
            [
             0.4444444444444444,
             "#bd3786"
            ],
            [
             0.5555555555555556,
             "#d8576b"
            ],
            [
             0.6666666666666666,
             "#ed7953"
            ],
            [
             0.7777777777777778,
             "#fb9f3a"
            ],
            [
             0.8888888888888888,
             "#fdca26"
            ],
            [
             1,
             "#f0f921"
            ]
           ],
           "sequentialminus": [
            [
             0,
             "#0d0887"
            ],
            [
             0.1111111111111111,
             "#46039f"
            ],
            [
             0.2222222222222222,
             "#7201a8"
            ],
            [
             0.3333333333333333,
             "#9c179e"
            ],
            [
             0.4444444444444444,
             "#bd3786"
            ],
            [
             0.5555555555555556,
             "#d8576b"
            ],
            [
             0.6666666666666666,
             "#ed7953"
            ],
            [
             0.7777777777777778,
             "#fb9f3a"
            ],
            [
             0.8888888888888888,
             "#fdca26"
            ],
            [
             1,
             "#f0f921"
            ]
           ]
          },
          "colorway": [
           "#636efa",
           "#EF553B",
           "#00cc96",
           "#ab63fa",
           "#FFA15A",
           "#19d3f3",
           "#FF6692",
           "#B6E880",
           "#FF97FF",
           "#FECB52"
          ],
          "font": {
           "color": "#2a3f5f"
          },
          "geo": {
           "bgcolor": "white",
           "lakecolor": "white",
           "landcolor": "white",
           "showlakes": true,
           "showland": true,
           "subunitcolor": "#C8D4E3"
          },
          "hoverlabel": {
           "align": "left"
          },
          "hovermode": "closest",
          "mapbox": {
           "style": "light"
          },
          "paper_bgcolor": "white",
          "plot_bgcolor": "white",
          "polar": {
           "angularaxis": {
            "gridcolor": "#EBF0F8",
            "linecolor": "#EBF0F8",
            "ticks": ""
           },
           "bgcolor": "white",
           "radialaxis": {
            "gridcolor": "#EBF0F8",
            "linecolor": "#EBF0F8",
            "ticks": ""
           }
          },
          "scene": {
           "xaxis": {
            "backgroundcolor": "white",
            "gridcolor": "#DFE8F3",
            "gridwidth": 2,
            "linecolor": "#EBF0F8",
            "showbackground": true,
            "ticks": "",
            "zerolinecolor": "#EBF0F8"
           },
           "yaxis": {
            "backgroundcolor": "white",
            "gridcolor": "#DFE8F3",
            "gridwidth": 2,
            "linecolor": "#EBF0F8",
            "showbackground": true,
            "ticks": "",
            "zerolinecolor": "#EBF0F8"
           },
           "zaxis": {
            "backgroundcolor": "white",
            "gridcolor": "#DFE8F3",
            "gridwidth": 2,
            "linecolor": "#EBF0F8",
            "showbackground": true,
            "ticks": "",
            "zerolinecolor": "#EBF0F8"
           }
          },
          "shapedefaults": {
           "line": {
            "color": "#2a3f5f"
           }
          },
          "ternary": {
           "aaxis": {
            "gridcolor": "#DFE8F3",
            "linecolor": "#A2B1C6",
            "ticks": ""
           },
           "baxis": {
            "gridcolor": "#DFE8F3",
            "linecolor": "#A2B1C6",
            "ticks": ""
           },
           "bgcolor": "white",
           "caxis": {
            "gridcolor": "#DFE8F3",
            "linecolor": "#A2B1C6",
            "ticks": ""
           }
          },
          "title": {
           "x": 0.05
          },
          "xaxis": {
           "automargin": true,
           "gridcolor": "#EBF0F8",
           "linecolor": "#EBF0F8",
           "ticks": "",
           "title": {
            "standoff": 15
           },
           "zerolinecolor": "#EBF0F8",
           "zerolinewidth": 2
          },
          "yaxis": {
           "automargin": true,
           "gridcolor": "#EBF0F8",
           "linecolor": "#EBF0F8",
           "ticks": "",
           "title": {
            "standoff": 15
           },
           "zerolinecolor": "#EBF0F8",
           "zerolinewidth": 2
          }
         }
        },
        "title": {
         "text": " "
        },
        "width": 1000,
        "xaxis": {
         "anchor": "y",
         "domain": [
          0,
          0.94
         ],
         "title": {
          "text": "Time"
         }
        },
        "yaxis": {
         "anchor": "x",
         "domain": [
          0,
          1
         ],
         "title": {
          "text": "diff"
         }
        },
        "yaxis2": {
         "anchor": "x",
         "overlaying": "y",
         "side": "right"
        }
       }
      }
     },
     "metadata": {},
     "output_type": "display_data"
    }
   ],
   "source": [
    "dict_plot = [{'data' : st_data, 'var' : 'diff', 'ax' : 1, 'label' : 'Difference TMAX - TMIN'}]\n",
    "fig = plot_timeseries_interactive(dict_plot, trendline=True, figsize = (25, 12))\n"
   ]
  },
  {
   "cell_type": "code",
   "execution_count": 24,
   "metadata": {},
   "outputs": [
    {
     "data": {
      "image/png": "[encoded data removed]"
     },
     "metadata": {},
     "output_type": "display_data"
    }
   ],
   "source": [
    "from ind_setup.tables import plot_df_table\n",
    "\n",
    "var = 'diff'\n",
    "df = get_data_metrics(st_data, var, )\n",
    "fig = plot_df_table(df.T, figsize = (300, 400))"
   ]
  },
  {
   "cell_type": "code",
   "execution_count": null,
   "metadata": {},
   "outputs": [],
   "source": []
  },
  {
   "cell_type": "code",
   "execution_count": null,
   "metadata": {},
   "outputs": [],
   "source": []
  },
  {
   "cell_type": "code",
   "execution_count": null,
   "metadata": {},
   "outputs": [],
   "source": []
  }
 ],
 "metadata": {
  "kernelspec": {
   "display_name": "cc_indicators",
   "language": "python",
   "name": "python3"
  },
  "language_info": {
   "codemirror_mode": {
    "name": "ipython",
    "version": 3
   },
   "file_extension": ".py",
   "mimetype": "text/x-python",
   "name": "python",
   "nbconvert_exporter": "python",
   "pygments_lexer": "ipython3",
   "version": "3.12.0"
  }
 },
 "nbformat": 4,
 "nbformat_minor": 2
}
