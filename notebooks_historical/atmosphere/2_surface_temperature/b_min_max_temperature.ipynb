{
 "cells": [
  {
   "cell_type": "markdown",
   "metadata": {},
   "source": [
    "# Local Maximum and Minimum Surface Temperature\n",
    " \n",
    "```{glue:figure} trend_fig_max_min\n",
    ":scale: 50%\n",
    ":align: right\n",
    "```"
   ]
  },
  {
   "cell_type": "markdown",
   "metadata": {},
   "source": [
    "## Setup\n",
    "\n",
    "First, we need to import all the necessary libraries. Some of them are specifically developed to handle the download and plotting of the data and are hosted at the [indicators set-up repository](https://github.com/lauracagigal/indicators_setup) in GitHub"
   ]
  },
  {
   "cell_type": "code",
   "execution_count": 1,
   "metadata": {
    "tags": [
     "hide-input"
    ]
   },
   "outputs": [],
   "source": [
    "import warnings\n",
    "warnings.filterwarnings(\"ignore\")"
   ]
  },
  {
   "cell_type": "code",
   "execution_count": 2,
   "metadata": {
    "tags": [
     "hide-input"
    ]
   },
   "outputs": [],
   "source": [
    "import os.path as op\n",
    "import sys\n",
    "import contextlib\n",
    "\n",
    "import numpy as np\n",
    "import pandas as pd\n",
    "import matplotlib.pyplot as plt\n",
    "\n",
    "from myst_nb import glue \n",
    "\n",
    "sys.path.append(\"../../../../indicators_setup\")\n",
    "from ind_setup.plotting_int import plot_timeseries_interactive, fig_int_to_glue\n",
    "from ind_setup.plotting import plot_bar_probs, fontsize\n",
    "from ind_setup.tables import get_data_metrics, plot_df_table\n",
    "\n",
    "sys.path.append(\"../../../functions\")\n",
    "from data_downloaders import GHCN"
   ]
  },
  {
   "cell_type": "markdown",
   "metadata": {},
   "source": [
    "## Define location and variables of interest"
   ]
  },
  {
   "cell_type": "code",
   "execution_count": 3,
   "metadata": {},
   "outputs": [],
   "source": [
    "country = 'Palau'\n",
    "vars_interest = ['TMIN', 'TMAX']"
   ]
  },
  {
   "cell_type": "markdown",
   "metadata": {},
   "source": [
    "## Get Data"
   ]
  },
  {
   "cell_type": "code",
   "execution_count": 4,
   "metadata": {},
   "outputs": [],
   "source": [
    "update_data = False\n",
    "path_data = \"../../../data\"\n",
    "path_figs = \"../../../matrix_cc/figures\""
   ]
  },
  {
   "cell_type": "markdown",
   "metadata": {},
   "source": [
    "## Observations from Koror Station"
   ]
  },
  {
   "cell_type": "markdown",
   "metadata": {},
   "source": [
    "https://www.ncei.noaa.gov/data/global-historical-climatology-network-daily/doc/GHCND_documentation.pdf"
   ]
  },
  {
   "cell_type": "markdown",
   "metadata": {},
   "source": [
    "The data used for this analysis comes from the GHCN (Global Historical Climatology Network)-Daily database. <br>\n",
    "This a database that addresses the critical need for historical daily temperature, precipitation, and snow records over global land areas. GHCN-Daily is a\n",
    "composite of climate records from numerous sources that were merged and then subjected to a suite of\n",
    "quality assurance reviews. The archive includes over 40 meteorological elements including temperature daily maximum/minimum, temperature at observation time,\n",
    "precipitation and more."
   ]
  },
  {
   "cell_type": "code",
   "execution_count": 5,
   "metadata": {
    "tags": [
     "hide",
     "hide-input"
    ]
   },
   "outputs": [],
   "source": [
    "if update_data:\n",
    "    df_country = GHCN.get_country_code(country)\n",
    "    print(f'The GHCN code for {country} is {df_country[\"Code\"].values[0]}')\n",
    "\n",
    "    df_stations = GHCN.download_stations_info()\n",
    "    df_country_stations = df_stations[df_stations['ID'].str.startswith(df_country.Code.values[0])]\n",
    "    print(f'There are {df_country_stations.shape[0]} stations in {country}')"
   ]
  },
  {
   "cell_type": "code",
   "execution_count": 6,
   "metadata": {
    "tags": [
     "hide",
     "hide-input"
    ]
   },
   "outputs": [],
   "source": [
    "if update_data:\n",
    "    GHCND_dir = 'https://www.ncei.noaa.gov/data/global-historical-climatology-network-daily/access/'\n",
    "    id = 'PSW00040309' # Koror Station\n",
    "    dict_min = GHCN.extract_dict_data_var(GHCND_dir, 'TMIN', df_country_stations.loc[df_country_stations['ID'] == id])[0][0]\n",
    "    dict_max = GHCN.extract_dict_data_var(GHCND_dir, 'TMAX', df_country_stations.loc[df_country_stations['ID'] == id])[0][0]\n",
    "    st_data = pd.concat([dict_min['data'], (dict_max['data'])], axis=1).dropna()\n",
    "    st_data['diff'] = st_data['TMAX'] - st_data['TMIN']\n",
    "    st_data['TMEAN'] = (st_data['TMAX'] + st_data['TMIN'])/2\n",
    "    st_data.to_pickle(op.join(path_data, 'GHCN_surface_temperature.pkl'))\n",
    "else:\n",
    "    st_data = pd.read_pickle(op.join(path_data, 'GHCN_surface_temperature.pkl'))"
   ]
  },
  {
   "cell_type": "code",
   "execution_count": 7,
   "metadata": {},
   "outputs": [
    {
     "data": {
      "application/papermill.record/text/plain": "75"
     },
     "metadata": {
      "scrapbook": {
       "mime_prefix": "application/papermill.record/",
       "name": "n_years"
      }
     },
     "output_type": "display_data"
    },
    {
     "data": {
      "application/papermill.record/text/plain": "1951"
     },
     "metadata": {
      "scrapbook": {
       "mime_prefix": "application/papermill.record/",
       "name": "start_year"
      }
     },
     "output_type": "display_data"
    },
    {
     "data": {
      "application/papermill.record/text/plain": "2025"
     },
     "metadata": {
      "scrapbook": {
       "mime_prefix": "application/papermill.record/",
       "name": "end_year"
      }
     },
     "output_type": "display_data"
    }
   ],
   "source": [
    "st_data = st_data.resample('Y').mean()\n",
    "glue(\"n_years\", len(np.unique(st_data.index.year)), display=False)\n",
    "glue(\"start_year\", st_data.dropna().index[0].year, display=False)\n",
    "glue(\"end_year\", st_data.dropna().index[-1].year, display=False)"
   ]
  },
  {
   "cell_type": "markdown",
   "metadata": {},
   "source": [
    "## Plotting"
   ]
  },
  {
   "cell_type": "markdown",
   "metadata": {},
   "source": [
    "At this piece of code we will plot the Mean annual temperature over time and its associated trend"
   ]
  },
  {
   "cell_type": "markdown",
   "metadata": {},
   "source": [
    "The following plot represent the average minimum and maximum temperature over time"
   ]
  },
  {
   "cell_type": "markdown",
   "metadata": {},
   "source": [
    "### Minimum Temperatures"
   ]
  },
  {
   "cell_type": "code",
   "execution_count": 8,
   "metadata": {},
   "outputs": [],
   "source": [
    "dict_plot = [{'data' : st_data, 'var' : 'TMIN', 'ax' : 1, 'label' : 'TMIN'},\n",
    "        ]"
   ]
  },
  {
   "cell_type": "code",
   "execution_count": 9,
   "metadata": {},
   "outputs": [
    {
     "data": {
      "application/vnd.plotly.v1+json": {
       "config": {
        "plotlyServerURL": "https://plot.ly"
       },
       "data": [
        {
         "line": {
          "color": "#636EFA"
         },
         "name": "TMIN",
         "type": "scatter",
         "x": [
          "1951-12-31T00:00:00",
          "1952-12-31T00:00:00",
          "1953-12-31T00:00:00",
          "1954-12-31T00:00:00",
          "1955-12-31T00:00:00",
          "1956-12-31T00:00:00",
          "1957-12-31T00:00:00",
          "1958-12-31T00:00:00",
          "1959-12-31T00:00:00",
          "1960-12-31T00:00:00",
          "1961-12-31T00:00:00",
          "1962-12-31T00:00:00",
          "1963-12-31T00:00:00",
          "1964-12-31T00:00:00",
          "1965-12-31T00:00:00",
          "1966-12-31T00:00:00",
          "1967-12-31T00:00:00",
          "1968-12-31T00:00:00",
          "1969-12-31T00:00:00",
          "1970-12-31T00:00:00",
          "1971-12-31T00:00:00",
          "1972-12-31T00:00:00",
          "1973-12-31T00:00:00",
          "1974-12-31T00:00:00",
          "1975-12-31T00:00:00",
          "1976-12-31T00:00:00",
          "1977-12-31T00:00:00",
          "1978-12-31T00:00:00",
          "1979-12-31T00:00:00",
          "1980-12-31T00:00:00",
          "1981-12-31T00:00:00",
          "1982-12-31T00:00:00",
          "1983-12-31T00:00:00",
          "1984-12-31T00:00:00",
          "1985-12-31T00:00:00",
          "1986-12-31T00:00:00",
          "1987-12-31T00:00:00",
          "1988-12-31T00:00:00",
          "1989-12-31T00:00:00",
          "1990-12-31T00:00:00",
          "1991-12-31T00:00:00",
          "1992-12-31T00:00:00",
          "1993-12-31T00:00:00",
          "1994-12-31T00:00:00",
          "1995-12-31T00:00:00",
          "1996-12-31T00:00:00",
          "1997-12-31T00:00:00",
          "1998-12-31T00:00:00",
          "1999-12-31T00:00:00",
          "2000-12-31T00:00:00",
          "2001-12-31T00:00:00",
          "2002-12-31T00:00:00",
          "2003-12-31T00:00:00",
          "2004-12-31T00:00:00",
          "2005-12-31T00:00:00",
          "2006-12-31T00:00:00",
          "2007-12-31T00:00:00",
          "2008-12-31T00:00:00",
          "2009-12-31T00:00:00",
          "2010-12-31T00:00:00",
          "2011-12-31T00:00:00",
          "2012-12-31T00:00:00",
          "2013-12-31T00:00:00",
          "2014-12-31T00:00:00",
          "2015-12-31T00:00:00",
          "2016-12-31T00:00:00",
          "2017-12-31T00:00:00",
          "2018-12-31T00:00:00",
          "2019-12-31T00:00:00",
          "2020-12-31T00:00:00",
          "2021-12-31T00:00:00",
          "2022-12-31T00:00:00",
          "2023-12-31T00:00:00",
          "2024-12-31T00:00:00",
          "2025-12-31T00:00:00"
         ],
         "xaxis": "x",
         "y": [
          24.150543478260868,
          23.837978142076505,
          24.08876712328767,
          25.000547945205476,
          23.75698630136986,
          23.867486338797814,
          24.234246575342464,
          24.435616438356163,
          24.11698630136986,
          24.275683060109287,
          24.148219178082194,
          24.225205479452057,
          24.275342465753425,
          24.13606557377049,
          24.07780821917808,
          24.222465753424654,
          24.27972602739726,
          24.329234972677597,
          24.39945205479452,
          24.522465753424658,
          24.212876712328768,
          24.241256830601092,
          24.312328767123287,
          24.18712328767123,
          24.021369863013696,
          24.355464480874318,
          24.521643835616437,
          24.128493150684932,
          24.038904109589044,
          24.04207650273224,
          23.999452054794517,
          24.378082191780823,
          24.25041095890411,
          24.0775956284153,
          23.903013698630136,
          24.33479452054795,
          24.33808219178082,
          24.387704918032785,
          24.36794520547945,
          24.541917808219175,
          24.25095890410959,
          24.01775956284153,
          24.072328767123288,
          24.224657534246575,
          24.051232876712326,
          24.156830601092896,
          24.195068493150686,
          24.094246575342464,
          24.03917808219178,
          23.87295081967213,
          24.736164383561647,
          24.945479452054794,
          24.75260273972603,
          25.112021857923498,
          24.638904109589042,
          24.84109589041096,
          24.81287671232877,
          24.537431693989074,
          24.51945205479452,
          24.277260273972605,
          24.64876712328767,
          24.840710382513663,
          24.726301369863016,
          24.997260273972604,
          25.00986301369863,
          25.08415300546448,
          25,
          25.222292993630575,
          24.5,
          25.13175182481752,
          24.745042492917847,
          24.541780821917808,
          25.518439716312056,
          25.84361370716511,
          25.64117647058824
         ],
         "yaxis": "y"
        },
        {
         "line": {
          "color": "black"
         },
         "mode": "lines",
         "name": "Trend (rate = 0.013/year) - Significant (p < 0.05)",
         "showlegend": true,
         "type": "scatter",
         "x": [
          "1951-12-31T00:00:00",
          "1952-12-31T00:00:00",
          "1953-12-31T00:00:00",
          "1954-12-31T00:00:00",
          "1955-12-31T00:00:00",
          "1956-12-31T00:00:00",
          "1957-12-31T00:00:00",
          "1958-12-31T00:00:00",
          "1959-12-31T00:00:00",
          "1960-12-31T00:00:00",
          "1961-12-31T00:00:00",
          "1962-12-31T00:00:00",
          "1963-12-31T00:00:00",
          "1964-12-31T00:00:00",
          "1965-12-31T00:00:00",
          "1966-12-31T00:00:00",
          "1967-12-31T00:00:00",
          "1968-12-31T00:00:00",
          "1969-12-31T00:00:00",
          "1970-12-31T00:00:00",
          "1971-12-31T00:00:00",
          "1972-12-31T00:00:00",
          "1973-12-31T00:00:00",
          "1974-12-31T00:00:00",
          "1975-12-31T00:00:00",
          "1976-12-31T00:00:00",
          "1977-12-31T00:00:00",
          "1978-12-31T00:00:00",
          "1979-12-31T00:00:00",
          "1980-12-31T00:00:00",
          "1981-12-31T00:00:00",
          "1982-12-31T00:00:00",
          "1983-12-31T00:00:00",
          "1984-12-31T00:00:00",
          "1985-12-31T00:00:00",
          "1986-12-31T00:00:00",
          "1987-12-31T00:00:00",
          "1988-12-31T00:00:00",
          "1989-12-31T00:00:00",
          "1990-12-31T00:00:00",
          "1991-12-31T00:00:00",
          "1992-12-31T00:00:00",
          "1993-12-31T00:00:00",
          "1994-12-31T00:00:00",
          "1995-12-31T00:00:00",
          "1996-12-31T00:00:00",
          "1997-12-31T00:00:00",
          "1998-12-31T00:00:00",
          "1999-12-31T00:00:00",
          "2000-12-31T00:00:00",
          "2001-12-31T00:00:00",
          "2002-12-31T00:00:00",
          "2003-12-31T00:00:00",
          "2004-12-31T00:00:00",
          "2005-12-31T00:00:00",
          "2006-12-31T00:00:00",
          "2007-12-31T00:00:00",
          "2008-12-31T00:00:00",
          "2009-12-31T00:00:00",
          "2010-12-31T00:00:00",
          "2011-12-31T00:00:00",
          "2012-12-31T00:00:00",
          "2013-12-31T00:00:00",
          "2014-12-31T00:00:00",
          "2015-12-31T00:00:00",
          "2016-12-31T00:00:00",
          "2017-12-31T00:00:00",
          "2018-12-31T00:00:00",
          "2019-12-31T00:00:00",
          "2020-12-31T00:00:00",
          "2021-12-31T00:00:00",
          "2022-12-31T00:00:00",
          "2023-12-31T00:00:00",
          "2024-12-31T00:00:00",
          "2025-12-31T00:00:00"
         ],
         "xaxis": "x",
         "y": [
          23.948655731913668,
          23.961825357438038,
          23.97495900037901,
          23.98809264331998,
          24.001226286260952,
          24.01439591178532,
          24.027529554726293,
          24.040663197667264,
          24.053796840608232,
          24.066966466132605,
          24.080100109073577,
          24.093233752014548,
          24.106367394955516,
          24.11953702047989,
          24.13267066342086,
          24.14580430636183,
          24.1589379493028,
          24.172107574827173,
          24.185241217768144,
          24.198374860709112,
          24.211508503650084,
          24.224678129174457,
          24.237811772115425,
          24.250945415056396,
          24.264079057997368,
          24.27724868352174,
          24.29038232646271,
          24.30351596940368,
          24.31664961234465,
          24.32981923786902,
          24.342952880809992,
          24.356086523750964,
          24.369220166691935,
          24.382389792216305,
          24.395523435157276,
          24.408657078098248,
          24.42179072103922,
          24.43496034656359,
          24.44809398950456,
          24.46122763244553,
          24.474361275386503,
          24.487530900910873,
          24.500664543851844,
          24.513798186792815,
          24.526931829733787,
          24.540101455258156,
          24.553235098199128,
          24.5663687411401,
          24.57950238408107,
          24.59267200960544,
          24.60580565254641,
          24.618939295487383,
          24.632072938428355,
          24.645242563952724,
          24.658376206893696,
          24.671509849834667,
          24.68464349277564,
          24.697813118300008,
          24.71094676124098,
          24.72408040418195,
          24.737214047122922,
          24.750383672647292,
          24.763517315588263,
          24.776650958529235,
          24.789784601470206,
          24.802954226994576,
          24.816087869935547,
          24.82922151287652,
          24.842355155817486,
          24.85552478134186,
          24.86865842428283,
          24.881792067223802,
          24.89492571016477,
          24.908095335689143,
          24.921228978630115
         ],
         "yaxis": "y"
        }
       ],
       "layout": {
        "height": 440,
        "legend": {
         "font": {
          "size": 12
         },
         "orientation": "h",
         "x": 0.5,
         "xanchor": "center",
         "y": 1.1,
         "yanchor": "bottom"
        },
        "template": {
         "data": {
          "bar": [
           {
            "error_x": {
             "color": "#2a3f5f"
            },
            "error_y": {
             "color": "#2a3f5f"
            },
            "marker": {
             "line": {
              "color": "white",
              "width": 0.5
             },
             "pattern": {
              "fillmode": "overlay",
              "size": 10,
              "solidity": 0.2
             }
            },
            "type": "bar"
           }
          ],
          "barpolar": [
           {
            "marker": {
             "line": {
              "color": "white",
              "width": 0.5
             },
             "pattern": {
              "fillmode": "overlay",
              "size": 10,
              "solidity": 0.2
             }
            },
            "type": "barpolar"
           }
          ],
          "carpet": [
           {
            "aaxis": {
             "endlinecolor": "#2a3f5f",
             "gridcolor": "#C8D4E3",
             "linecolor": "#C8D4E3",
             "minorgridcolor": "#C8D4E3",
             "startlinecolor": "#2a3f5f"
            },
            "baxis": {
             "endlinecolor": "#2a3f5f",
             "gridcolor": "#C8D4E3",
             "linecolor": "#C8D4E3",
             "minorgridcolor": "#C8D4E3",
             "startlinecolor": "#2a3f5f"
            },
            "type": "carpet"
           }
          ],
          "choropleth": [
           {
            "colorbar": {
             "outlinewidth": 0,
             "ticks": ""
            },
            "type": "choropleth"
           }
          ],
          "contour": [
           {
            "colorbar": {
             "outlinewidth": 0,
             "ticks": ""
            },
            "colorscale": [
             [
              0,
              "#0d0887"
             ],
             [
              0.1111111111111111,
              "#46039f"
             ],
             [
              0.2222222222222222,
              "#7201a8"
             ],
             [
              0.3333333333333333,
              "#9c179e"
             ],
             [
              0.4444444444444444,
              "#bd3786"
             ],
             [
              0.5555555555555556,
              "#d8576b"
             ],
             [
              0.6666666666666666,
              "#ed7953"
             ],
             [
              0.7777777777777778,
              "#fb9f3a"
             ],
             [
              0.8888888888888888,
              "#fdca26"
             ],
             [
              1,
              "#f0f921"
             ]
            ],
            "type": "contour"
           }
          ],
          "contourcarpet": [
           {
            "colorbar": {
             "outlinewidth": 0,
             "ticks": ""
            },
            "type": "contourcarpet"
           }
          ],
          "heatmap": [
           {
            "colorbar": {
             "outlinewidth": 0,
             "ticks": ""
            },
            "colorscale": [
             [
              0,
              "#0d0887"
             ],
             [
              0.1111111111111111,
              "#46039f"
             ],
             [
              0.2222222222222222,
              "#7201a8"
             ],
             [
              0.3333333333333333,
              "#9c179e"
             ],
             [
              0.4444444444444444,
              "#bd3786"
             ],
             [
              0.5555555555555556,
              "#d8576b"
             ],
             [
              0.6666666666666666,
              "#ed7953"
             ],
             [
              0.7777777777777778,
              "#fb9f3a"
             ],
             [
              0.8888888888888888,
              "#fdca26"
             ],
             [
              1,
              "#f0f921"
             ]
            ],
            "type": "heatmap"
           }
          ],
          "heatmapgl": [
           {
            "colorbar": {
             "outlinewidth": 0,
             "ticks": ""
            },
            "colorscale": [
             [
              0,
              "#0d0887"
             ],
             [
              0.1111111111111111,
              "#46039f"
             ],
             [
              0.2222222222222222,
              "#7201a8"
             ],
             [
              0.3333333333333333,
              "#9c179e"
             ],
             [
              0.4444444444444444,
              "#bd3786"
             ],
             [
              0.5555555555555556,
              "#d8576b"
             ],
             [
              0.6666666666666666,
              "#ed7953"
             ],
             [
              0.7777777777777778,
              "#fb9f3a"
             ],
             [
              0.8888888888888888,
              "#fdca26"
             ],
             [
              1,
              "#f0f921"
             ]
            ],
            "type": "heatmapgl"
           }
          ],
          "histogram": [
           {
            "marker": {
             "pattern": {
              "fillmode": "overlay",
              "size": 10,
              "solidity": 0.2
             }
            },
            "type": "histogram"
           }
          ],
          "histogram2d": [
           {
            "colorbar": {
             "outlinewidth": 0,
             "ticks": ""
            },
            "colorscale": [
             [
              0,
              "#0d0887"
             ],
             [
              0.1111111111111111,
              "#46039f"
             ],
             [
              0.2222222222222222,
              "#7201a8"
             ],
             [
              0.3333333333333333,
              "#9c179e"
             ],
             [
              0.4444444444444444,
              "#bd3786"
             ],
             [
              0.5555555555555556,
              "#d8576b"
             ],
             [
              0.6666666666666666,
              "#ed7953"
             ],
             [
              0.7777777777777778,
              "#fb9f3a"
             ],
             [
              0.8888888888888888,
              "#fdca26"
             ],
             [
              1,
              "#f0f921"
             ]
            ],
            "type": "histogram2d"
           }
          ],
          "histogram2dcontour": [
           {
            "colorbar": {
             "outlinewidth": 0,
             "ticks": ""
            },
            "colorscale": [
             [
              0,
              "#0d0887"
             ],
             [
              0.1111111111111111,
              "#46039f"
             ],
             [
              0.2222222222222222,
              "#7201a8"
             ],
             [
              0.3333333333333333,
              "#9c179e"
             ],
             [
              0.4444444444444444,
              "#bd3786"
             ],
             [
              0.5555555555555556,
              "#d8576b"
             ],
             [
              0.6666666666666666,
              "#ed7953"
             ],
             [
              0.7777777777777778,
              "#fb9f3a"
             ],
             [
              0.8888888888888888,
              "#fdca26"
             ],
             [
              1,
              "#f0f921"
             ]
            ],
            "type": "histogram2dcontour"
           }
          ],
          "mesh3d": [
           {
            "colorbar": {
             "outlinewidth": 0,
             "ticks": ""
            },
            "type": "mesh3d"
           }
          ],
          "parcoords": [
           {
            "line": {
             "colorbar": {
              "outlinewidth": 0,
              "ticks": ""
             }
            },
            "type": "parcoords"
           }
          ],
          "pie": [
           {
            "automargin": true,
            "type": "pie"
           }
          ],
          "scatter": [
           {
            "fillpattern": {
             "fillmode": "overlay",
             "size": 10,
             "solidity": 0.2
            },
            "type": "scatter"
           }
          ],
          "scatter3d": [
           {
            "line": {
             "colorbar": {
              "outlinewidth": 0,
              "ticks": ""
             }
            },
            "marker": {
             "colorbar": {
              "outlinewidth": 0,
              "ticks": ""
             }
            },
            "type": "scatter3d"
           }
          ],
          "scattercarpet": [
           {
            "marker": {
             "colorbar": {
              "outlinewidth": 0,
              "ticks": ""
             }
            },
            "type": "scattercarpet"
           }
          ],
          "scattergeo": [
           {
            "marker": {
             "colorbar": {
              "outlinewidth": 0,
              "ticks": ""
             }
            },
            "type": "scattergeo"
           }
          ],
          "scattergl": [
           {
            "marker": {
             "colorbar": {
              "outlinewidth": 0,
              "ticks": ""
             }
            },
            "type": "scattergl"
           }
          ],
          "scattermapbox": [
           {
            "marker": {
             "colorbar": {
              "outlinewidth": 0,
              "ticks": ""
             }
            },
            "type": "scattermapbox"
           }
          ],
          "scatterpolar": [
           {
            "marker": {
             "colorbar": {
              "outlinewidth": 0,
              "ticks": ""
             }
            },
            "type": "scatterpolar"
           }
          ],
          "scatterpolargl": [
           {
            "marker": {
             "colorbar": {
              "outlinewidth": 0,
              "ticks": ""
             }
            },
            "type": "scatterpolargl"
           }
          ],
          "scatterternary": [
           {
            "marker": {
             "colorbar": {
              "outlinewidth": 0,
              "ticks": ""
             }
            },
            "type": "scatterternary"
           }
          ],
          "surface": [
           {
            "colorbar": {
             "outlinewidth": 0,
             "ticks": ""
            },
            "colorscale": [
             [
              0,
              "#0d0887"
             ],
             [
              0.1111111111111111,
              "#46039f"
             ],
             [
              0.2222222222222222,
              "#7201a8"
             ],
             [
              0.3333333333333333,
              "#9c179e"
             ],
             [
              0.4444444444444444,
              "#bd3786"
             ],
             [
              0.5555555555555556,
              "#d8576b"
             ],
             [
              0.6666666666666666,
              "#ed7953"
             ],
             [
              0.7777777777777778,
              "#fb9f3a"
             ],
             [
              0.8888888888888888,
              "#fdca26"
             ],
             [
              1,
              "#f0f921"
             ]
            ],
            "type": "surface"
           }
          ],
          "table": [
           {
            "cells": {
             "fill": {
              "color": "#EBF0F8"
             },
             "line": {
              "color": "white"
             }
            },
            "header": {
             "fill": {
              "color": "#C8D4E3"
             },
             "line": {
              "color": "white"
             }
            },
            "type": "table"
           }
          ]
         },
         "layout": {
          "annotationdefaults": {
           "arrowcolor": "#2a3f5f",
           "arrowhead": 0,
           "arrowwidth": 1
          },
          "autotypenumbers": "strict",
          "coloraxis": {
           "colorbar": {
            "outlinewidth": 0,
            "ticks": ""
           }
          },
          "colorscale": {
           "diverging": [
            [
             0,
             "#8e0152"
            ],
            [
             0.1,
             "#c51b7d"
            ],
            [
             0.2,
             "#de77ae"
            ],
            [
             0.3,
             "#f1b6da"
            ],
            [
             0.4,
             "#fde0ef"
            ],
            [
             0.5,
             "#f7f7f7"
            ],
            [
             0.6,
             "#e6f5d0"
            ],
            [
             0.7,
             "#b8e186"
            ],
            [
             0.8,
             "#7fbc41"
            ],
            [
             0.9,
             "#4d9221"
            ],
            [
             1,
             "#276419"
            ]
           ],
           "sequential": [
            [
             0,
             "#0d0887"
            ],
            [
             0.1111111111111111,
             "#46039f"
            ],
            [
             0.2222222222222222,
             "#7201a8"
            ],
            [
             0.3333333333333333,
             "#9c179e"
            ],
            [
             0.4444444444444444,
             "#bd3786"
            ],
            [
             0.5555555555555556,
             "#d8576b"
            ],
            [
             0.6666666666666666,
             "#ed7953"
            ],
            [
             0.7777777777777778,
             "#fb9f3a"
            ],
            [
             0.8888888888888888,
             "#fdca26"
            ],
            [
             1,
             "#f0f921"
            ]
           ],
           "sequentialminus": [
            [
             0,
             "#0d0887"
            ],
            [
             0.1111111111111111,
             "#46039f"
            ],
            [
             0.2222222222222222,
             "#7201a8"
            ],
            [
             0.3333333333333333,
             "#9c179e"
            ],
            [
             0.4444444444444444,
             "#bd3786"
            ],
            [
             0.5555555555555556,
             "#d8576b"
            ],
            [
             0.6666666666666666,
             "#ed7953"
            ],
            [
             0.7777777777777778,
             "#fb9f3a"
            ],
            [
             0.8888888888888888,
             "#fdca26"
            ],
            [
             1,
             "#f0f921"
            ]
           ]
          },
          "colorway": [
           "#636efa",
           "#EF553B",
           "#00cc96",
           "#ab63fa",
           "#FFA15A",
           "#19d3f3",
           "#FF6692",
           "#B6E880",
           "#FF97FF",
           "#FECB52"
          ],
          "font": {
           "color": "#2a3f5f"
          },
          "geo": {
           "bgcolor": "white",
           "lakecolor": "white",
           "landcolor": "white",
           "showlakes": true,
           "showland": true,
           "subunitcolor": "#C8D4E3"
          },
          "hoverlabel": {
           "align": "left"
          },
          "hovermode": "closest",
          "mapbox": {
           "style": "light"
          },
          "paper_bgcolor": "white",
          "plot_bgcolor": "white",
          "polar": {
           "angularaxis": {
            "gridcolor": "#EBF0F8",
            "linecolor": "#EBF0F8",
            "ticks": ""
           },
           "bgcolor": "white",
           "radialaxis": {
            "gridcolor": "#EBF0F8",
            "linecolor": "#EBF0F8",
            "ticks": ""
           }
          },
          "scene": {
           "xaxis": {
            "backgroundcolor": "white",
            "gridcolor": "#DFE8F3",
            "gridwidth": 2,
            "linecolor": "#EBF0F8",
            "showbackground": true,
            "ticks": "",
            "zerolinecolor": "#EBF0F8"
           },
           "yaxis": {
            "backgroundcolor": "white",
            "gridcolor": "#DFE8F3",
            "gridwidth": 2,
            "linecolor": "#EBF0F8",
            "showbackground": true,
            "ticks": "",
            "zerolinecolor": "#EBF0F8"
           },
           "zaxis": {
            "backgroundcolor": "white",
            "gridcolor": "#DFE8F3",
            "gridwidth": 2,
            "linecolor": "#EBF0F8",
            "showbackground": true,
            "ticks": "",
            "zerolinecolor": "#EBF0F8"
           }
          },
          "shapedefaults": {
           "line": {
            "color": "#2a3f5f"
           }
          },
          "ternary": {
           "aaxis": {
            "gridcolor": "#DFE8F3",
            "linecolor": "#A2B1C6",
            "ticks": ""
           },
           "baxis": {
            "gridcolor": "#DFE8F3",
            "linecolor": "#A2B1C6",
            "ticks": ""
           },
           "bgcolor": "white",
           "caxis": {
            "gridcolor": "#DFE8F3",
            "linecolor": "#A2B1C6",
            "ticks": ""
           }
          },
          "title": {
           "x": 0.05
          },
          "xaxis": {
           "automargin": true,
           "gridcolor": "#EBF0F8",
           "linecolor": "#EBF0F8",
           "ticks": "",
           "title": {
            "standoff": 15
           },
           "zerolinecolor": "#EBF0F8",
           "zerolinewidth": 2
          },
          "yaxis": {
           "automargin": true,
           "gridcolor": "#EBF0F8",
           "linecolor": "#EBF0F8",
           "ticks": "",
           "title": {
            "standoff": 15
           },
           "zerolinecolor": "#EBF0F8",
           "zerolinewidth": 2
          }
         }
        },
        "title": {
         "text": " "
        },
        "width": 960,
        "xaxis": {
         "anchor": "y",
         "domain": [
          0,
          0.94
         ],
         "title": {
          "text": "Time"
         }
        },
        "yaxis": {
         "anchor": "x",
         "domain": [
          0,
          1
         ],
         "title": {
          "text": "TMIN"
         }
        },
        "yaxis2": {
         "anchor": "x",
         "overlaying": "y",
         "side": "right"
        }
       }
      }
     },
     "metadata": {},
     "output_type": "display_data"
    }
   ],
   "source": [
    "fig, TRENDS = plot_timeseries_interactive(dict_plot, trendline=True, figsize = (24, 11), return_trend = True)\n",
    "fig.write_html(op.join(path_figs, 'F3_ST_min.html'), include_plotlyjs=\"cdn\")"
   ]
  },
  {
   "cell_type": "markdown",
   "metadata": {},
   "source": [
    "### Maximum Temperatures"
   ]
  },
  {
   "cell_type": "code",
   "execution_count": 10,
   "metadata": {},
   "outputs": [],
   "source": [
    "dict_plot = [{'data' : st_data, 'var' : 'TMAX', 'ax' : 2, 'label' : 'TMAX'},\n",
    "        ]"
   ]
  },
  {
   "cell_type": "code",
   "execution_count": 11,
   "metadata": {},
   "outputs": [
    {
     "data": {
      "application/vnd.plotly.v1+json": {
       "config": {
        "plotlyServerURL": "https://plot.ly"
       },
       "data": [
        {
         "line": {
          "color": "#636EFA"
         },
         "name": "TMAX",
         "type": "scatter",
         "x": [
          "1951-12-31T00:00:00",
          "1952-12-31T00:00:00",
          "1953-12-31T00:00:00",
          "1954-12-31T00:00:00",
          "1955-12-31T00:00:00",
          "1956-12-31T00:00:00",
          "1957-12-31T00:00:00",
          "1958-12-31T00:00:00",
          "1959-12-31T00:00:00",
          "1960-12-31T00:00:00",
          "1961-12-31T00:00:00",
          "1962-12-31T00:00:00",
          "1963-12-31T00:00:00",
          "1964-12-31T00:00:00",
          "1965-12-31T00:00:00",
          "1966-12-31T00:00:00",
          "1967-12-31T00:00:00",
          "1968-12-31T00:00:00",
          "1969-12-31T00:00:00",
          "1970-12-31T00:00:00",
          "1971-12-31T00:00:00",
          "1972-12-31T00:00:00",
          "1973-12-31T00:00:00",
          "1974-12-31T00:00:00",
          "1975-12-31T00:00:00",
          "1976-12-31T00:00:00",
          "1977-12-31T00:00:00",
          "1978-12-31T00:00:00",
          "1979-12-31T00:00:00",
          "1980-12-31T00:00:00",
          "1981-12-31T00:00:00",
          "1982-12-31T00:00:00",
          "1983-12-31T00:00:00",
          "1984-12-31T00:00:00",
          "1985-12-31T00:00:00",
          "1986-12-31T00:00:00",
          "1987-12-31T00:00:00",
          "1988-12-31T00:00:00",
          "1989-12-31T00:00:00",
          "1990-12-31T00:00:00",
          "1991-12-31T00:00:00",
          "1992-12-31T00:00:00",
          "1993-12-31T00:00:00",
          "1994-12-31T00:00:00",
          "1995-12-31T00:00:00",
          "1996-12-31T00:00:00",
          "1997-12-31T00:00:00",
          "1998-12-31T00:00:00",
          "1999-12-31T00:00:00",
          "2000-12-31T00:00:00",
          "2001-12-31T00:00:00",
          "2002-12-31T00:00:00",
          "2003-12-31T00:00:00",
          "2004-12-31T00:00:00",
          "2005-12-31T00:00:00",
          "2006-12-31T00:00:00",
          "2007-12-31T00:00:00",
          "2008-12-31T00:00:00",
          "2009-12-31T00:00:00",
          "2010-12-31T00:00:00",
          "2011-12-31T00:00:00",
          "2012-12-31T00:00:00",
          "2013-12-31T00:00:00",
          "2014-12-31T00:00:00",
          "2015-12-31T00:00:00",
          "2016-12-31T00:00:00",
          "2017-12-31T00:00:00",
          "2018-12-31T00:00:00",
          "2019-12-31T00:00:00",
          "2020-12-31T00:00:00",
          "2021-12-31T00:00:00",
          "2022-12-31T00:00:00",
          "2023-12-31T00:00:00",
          "2024-12-31T00:00:00",
          "2025-12-31T00:00:00"
         ],
         "xaxis": "x",
         "y": [
          30.92445652173913,
          30.90464480874317,
          31.03972602739726,
          31.08438356164384,
          30.74191780821918,
          30.536065573770493,
          30.84931506849315,
          31.03835616438356,
          30.56931506849315,
          30.87650273224044,
          30.393150684931506,
          30.564109589041095,
          30.734246575342464,
          30.584699453551913,
          30.18849315068493,
          30.68931506849315,
          30.74328767123288,
          31.079508196721314,
          30.866027397260275,
          31.135616438356163,
          30.954520547945204,
          30.98415300546448,
          31.329315068493152,
          31.096164383561646,
          30.976438356164383,
          30.945901639344264,
          31.1213698630137,
          30.939178082191784,
          31.042191780821916,
          31.09153005464481,
          31.025753424657534,
          30.774794520547943,
          31.099452054794522,
          31.099180327868854,
          30.943835616438356,
          31.265753424657536,
          31.357260273972603,
          31.441803278688525,
          31.389589041095892,
          31.317808219178083,
          30.926301369863015,
          30.977322404371588,
          31.037808219178086,
          31.145205479452056,
          31.464383561643835,
          31.450273224043713,
          31.478356164383563,
          32.10383561643835,
          31.63917808219178,
          31.73989071038251,
          31.717260273972602,
          31.867397260273975,
          31.526575342465755,
          31.731147540983606,
          31.60821917808219,
          31.65945205479452,
          31.84904109589041,
          30.94289617486339,
          30.816712328767125,
          31.2013698630137,
          30.678356164383562,
          30.89071038251366,
          31.28219178082192,
          31.072054794520547,
          31.574794520547943,
          31.61284153005464,
          31.378630136986303,
          31.483439490445857,
          30.873333333333335,
          29.885036496350367,
          28.61841359773371,
          29.917465753424658,
          30.079787234042552,
          30.157943925233646,
          30.170588235294115
         ],
         "yaxis": "y2"
        },
        {
         "line": {
          "color": "black",
          "dash": "dot"
         },
         "mode": "lines",
         "name": "Trend (rate = 0.001/year) - Not Significant (p > 0.05)",
         "showlegend": true,
         "type": "scatter",
         "x": [
          "1951-12-31T00:00:00",
          "1952-12-31T00:00:00",
          "1953-12-31T00:00:00",
          "1954-12-31T00:00:00",
          "1955-12-31T00:00:00",
          "1956-12-31T00:00:00",
          "1957-12-31T00:00:00",
          "1958-12-31T00:00:00",
          "1959-12-31T00:00:00",
          "1960-12-31T00:00:00",
          "1961-12-31T00:00:00",
          "1962-12-31T00:00:00",
          "1963-12-31T00:00:00",
          "1964-12-31T00:00:00",
          "1965-12-31T00:00:00",
          "1966-12-31T00:00:00",
          "1967-12-31T00:00:00",
          "1968-12-31T00:00:00",
          "1969-12-31T00:00:00",
          "1970-12-31T00:00:00",
          "1971-12-31T00:00:00",
          "1972-12-31T00:00:00",
          "1973-12-31T00:00:00",
          "1974-12-31T00:00:00",
          "1975-12-31T00:00:00",
          "1976-12-31T00:00:00",
          "1977-12-31T00:00:00",
          "1978-12-31T00:00:00",
          "1979-12-31T00:00:00",
          "1980-12-31T00:00:00",
          "1981-12-31T00:00:00",
          "1982-12-31T00:00:00",
          "1983-12-31T00:00:00",
          "1984-12-31T00:00:00",
          "1985-12-31T00:00:00",
          "1986-12-31T00:00:00",
          "1987-12-31T00:00:00",
          "1988-12-31T00:00:00",
          "1989-12-31T00:00:00",
          "1990-12-31T00:00:00",
          "1991-12-31T00:00:00",
          "1992-12-31T00:00:00",
          "1993-12-31T00:00:00",
          "1994-12-31T00:00:00",
          "1995-12-31T00:00:00",
          "1996-12-31T00:00:00",
          "1997-12-31T00:00:00",
          "1998-12-31T00:00:00",
          "1999-12-31T00:00:00",
          "2000-12-31T00:00:00",
          "2001-12-31T00:00:00",
          "2002-12-31T00:00:00",
          "2003-12-31T00:00:00",
          "2004-12-31T00:00:00",
          "2005-12-31T00:00:00",
          "2006-12-31T00:00:00",
          "2007-12-31T00:00:00",
          "2008-12-31T00:00:00",
          "2009-12-31T00:00:00",
          "2010-12-31T00:00:00",
          "2011-12-31T00:00:00",
          "2012-12-31T00:00:00",
          "2013-12-31T00:00:00",
          "2014-12-31T00:00:00",
          "2015-12-31T00:00:00",
          "2016-12-31T00:00:00",
          "2017-12-31T00:00:00",
          "2018-12-31T00:00:00",
          "2019-12-31T00:00:00",
          "2020-12-31T00:00:00",
          "2021-12-31T00:00:00",
          "2022-12-31T00:00:00",
          "2023-12-31T00:00:00",
          "2024-12-31T00:00:00",
          "2025-12-31T00:00:00"
         ],
         "xaxis": "x",
         "y": [
          30.975689674172234,
          30.976816499025947,
          30.977940245123232,
          30.979063991220517,
          30.980187737317802,
          30.98131456217152,
          30.982438308268804,
          30.98356205436609,
          30.984685800463375,
          30.985812625317088,
          30.986936371414373,
          30.988060117511658,
          30.989183863608943,
          30.99031068846266,
          30.991434434559945,
          30.99255818065723,
          30.993681926754515,
          30.99480875160823,
          30.995932497705514,
          30.9970562438028,
          30.998179989900084,
          30.9993068147538,
          31.000430560851086,
          31.00155430694837,
          31.002678053045656,
          31.00380487789937,
          31.004928623996655,
          31.00605237009394,
          31.007176116191225,
          31.008302941044942,
          31.009426687142227,
          31.010550433239512,
          31.011674179336797,
          31.01280100419051,
          31.013924750287796,
          31.01504849638508,
          31.016172242482366,
          31.017299067336083,
          31.018422813433368,
          31.019546559530653,
          31.020670305627938,
          31.02179713048165,
          31.022920876578937,
          31.02404462267622,
          31.025168368773507,
          31.026295193627224,
          31.02741893972451,
          31.028542685821794,
          31.02966643191908,
          31.030793256772792,
          31.031917002870077,
          31.033040748967363,
          31.034164495064648,
          31.035291319918365,
          31.03641506601565,
          31.037538812112935,
          31.03866255821022,
          31.039789383063933,
          31.04091312916122,
          31.042036875258503,
          31.04316062135579,
          31.044287446209506,
          31.04541119230679,
          31.046534938404076,
          31.04765868450136,
          31.048785509355074,
          31.04990925545236,
          31.051033001549644,
          31.05215674764693,
          31.053283572500646,
          31.05440731859793,
          31.055531064695217,
          31.0566548107925,
          31.057781635646215,
          31.0589053817435
         ],
         "yaxis": "y2"
        }
       ],
       "layout": {
        "height": 440,
        "legend": {
         "font": {
          "size": 12
         },
         "orientation": "h",
         "x": 0.5,
         "xanchor": "center",
         "y": 1.1,
         "yanchor": "bottom"
        },
        "template": {
         "data": {
          "bar": [
           {
            "error_x": {
             "color": "#2a3f5f"
            },
            "error_y": {
             "color": "#2a3f5f"
            },
            "marker": {
             "line": {
              "color": "white",
              "width": 0.5
             },
             "pattern": {
              "fillmode": "overlay",
              "size": 10,
              "solidity": 0.2
             }
            },
            "type": "bar"
           }
          ],
          "barpolar": [
           {
            "marker": {
             "line": {
              "color": "white",
              "width": 0.5
             },
             "pattern": {
              "fillmode": "overlay",
              "size": 10,
              "solidity": 0.2
             }
            },
            "type": "barpolar"
           }
          ],
          "carpet": [
           {
            "aaxis": {
             "endlinecolor": "#2a3f5f",
             "gridcolor": "#C8D4E3",
             "linecolor": "#C8D4E3",
             "minorgridcolor": "#C8D4E3",
             "startlinecolor": "#2a3f5f"
            },
            "baxis": {
             "endlinecolor": "#2a3f5f",
             "gridcolor": "#C8D4E3",
             "linecolor": "#C8D4E3",
             "minorgridcolor": "#C8D4E3",
             "startlinecolor": "#2a3f5f"
            },
            "type": "carpet"
           }
          ],
          "choropleth": [
           {
            "colorbar": {
             "outlinewidth": 0,
             "ticks": ""
            },
            "type": "choropleth"
           }
          ],
          "contour": [
           {
            "colorbar": {
             "outlinewidth": 0,
             "ticks": ""
            },
            "colorscale": [
             [
              0,
              "#0d0887"
             ],
             [
              0.1111111111111111,
              "#46039f"
             ],
             [
              0.2222222222222222,
              "#7201a8"
             ],
             [
              0.3333333333333333,
              "#9c179e"
             ],
             [
              0.4444444444444444,
              "#bd3786"
             ],
             [
              0.5555555555555556,
              "#d8576b"
             ],
             [
              0.6666666666666666,
              "#ed7953"
             ],
             [
              0.7777777777777778,
              "#fb9f3a"
             ],
             [
              0.8888888888888888,
              "#fdca26"
             ],
             [
              1,
              "#f0f921"
             ]
            ],
            "type": "contour"
           }
          ],
          "contourcarpet": [
           {
            "colorbar": {
             "outlinewidth": 0,
             "ticks": ""
            },
            "type": "contourcarpet"
           }
          ],
          "heatmap": [
           {
            "colorbar": {
             "outlinewidth": 0,
             "ticks": ""
            },
            "colorscale": [
             [
              0,
              "#0d0887"
             ],
             [
              0.1111111111111111,
              "#46039f"
             ],
             [
              0.2222222222222222,
              "#7201a8"
             ],
             [
              0.3333333333333333,
              "#9c179e"
             ],
             [
              0.4444444444444444,
              "#bd3786"
             ],
             [
              0.5555555555555556,
              "#d8576b"
             ],
             [
              0.6666666666666666,
              "#ed7953"
             ],
             [
              0.7777777777777778,
              "#fb9f3a"
             ],
             [
              0.8888888888888888,
              "#fdca26"
             ],
             [
              1,
              "#f0f921"
             ]
            ],
            "type": "heatmap"
           }
          ],
          "heatmapgl": [
           {
            "colorbar": {
             "outlinewidth": 0,
             "ticks": ""
            },
            "colorscale": [
             [
              0,
              "#0d0887"
             ],
             [
              0.1111111111111111,
              "#46039f"
             ],
             [
              0.2222222222222222,
              "#7201a8"
             ],
             [
              0.3333333333333333,
              "#9c179e"
             ],
             [
              0.4444444444444444,
              "#bd3786"
             ],
             [
              0.5555555555555556,
              "#d8576b"
             ],
             [
              0.6666666666666666,
              "#ed7953"
             ],
             [
              0.7777777777777778,
              "#fb9f3a"
             ],
             [
              0.8888888888888888,
              "#fdca26"
             ],
             [
              1,
              "#f0f921"
             ]
            ],
            "type": "heatmapgl"
           }
          ],
          "histogram": [
           {
            "marker": {
             "pattern": {
              "fillmode": "overlay",
              "size": 10,
              "solidity": 0.2
             }
            },
            "type": "histogram"
           }
          ],
          "histogram2d": [
           {
            "colorbar": {
             "outlinewidth": 0,
             "ticks": ""
            },
            "colorscale": [
             [
              0,
              "#0d0887"
             ],
             [
              0.1111111111111111,
              "#46039f"
             ],
             [
              0.2222222222222222,
              "#7201a8"
             ],
             [
              0.3333333333333333,
              "#9c179e"
             ],
             [
              0.4444444444444444,
              "#bd3786"
             ],
             [
              0.5555555555555556,
              "#d8576b"
             ],
             [
              0.6666666666666666,
              "#ed7953"
             ],
             [
              0.7777777777777778,
              "#fb9f3a"
             ],
             [
              0.8888888888888888,
              "#fdca26"
             ],
             [
              1,
              "#f0f921"
             ]
            ],
            "type": "histogram2d"
           }
          ],
          "histogram2dcontour": [
           {
            "colorbar": {
             "outlinewidth": 0,
             "ticks": ""
            },
            "colorscale": [
             [
              0,
              "#0d0887"
             ],
             [
              0.1111111111111111,
              "#46039f"
             ],
             [
              0.2222222222222222,
              "#7201a8"
             ],
             [
              0.3333333333333333,
              "#9c179e"
             ],
             [
              0.4444444444444444,
              "#bd3786"
             ],
             [
              0.5555555555555556,
              "#d8576b"
             ],
             [
              0.6666666666666666,
              "#ed7953"
             ],
             [
              0.7777777777777778,
              "#fb9f3a"
             ],
             [
              0.8888888888888888,
              "#fdca26"
             ],
             [
              1,
              "#f0f921"
             ]
            ],
            "type": "histogram2dcontour"
           }
          ],
          "mesh3d": [
           {
            "colorbar": {
             "outlinewidth": 0,
             "ticks": ""
            },
            "type": "mesh3d"
           }
          ],
          "parcoords": [
           {
            "line": {
             "colorbar": {
              "outlinewidth": 0,
              "ticks": ""
             }
            },
            "type": "parcoords"
           }
          ],
          "pie": [
           {
            "automargin": true,
            "type": "pie"
           }
          ],
          "scatter": [
           {
            "fillpattern": {
             "fillmode": "overlay",
             "size": 10,
             "solidity": 0.2
            },
            "type": "scatter"
           }
          ],
          "scatter3d": [
           {
            "line": {
             "colorbar": {
              "outlinewidth": 0,
              "ticks": ""
             }
            },
            "marker": {
             "colorbar": {
              "outlinewidth": 0,
              "ticks": ""
             }
            },
            "type": "scatter3d"
           }
          ],
          "scattercarpet": [
           {
            "marker": {
             "colorbar": {
              "outlinewidth": 0,
              "ticks": ""
             }
            },
            "type": "scattercarpet"
           }
          ],
          "scattergeo": [
           {
            "marker": {
             "colorbar": {
              "outlinewidth": 0,
              "ticks": ""
             }
            },
            "type": "scattergeo"
           }
          ],
          "scattergl": [
           {
            "marker": {
             "colorbar": {
              "outlinewidth": 0,
              "ticks": ""
             }
            },
            "type": "scattergl"
           }
          ],
          "scattermapbox": [
           {
            "marker": {
             "colorbar": {
              "outlinewidth": 0,
              "ticks": ""
             }
            },
            "type": "scattermapbox"
           }
          ],
          "scatterpolar": [
           {
            "marker": {
             "colorbar": {
              "outlinewidth": 0,
              "ticks": ""
             }
            },
            "type": "scatterpolar"
           }
          ],
          "scatterpolargl": [
           {
            "marker": {
             "colorbar": {
              "outlinewidth": 0,
              "ticks": ""
             }
            },
            "type": "scatterpolargl"
           }
          ],
          "scatterternary": [
           {
            "marker": {
             "colorbar": {
              "outlinewidth": 0,
              "ticks": ""
             }
            },
            "type": "scatterternary"
           }
          ],
          "surface": [
           {
            "colorbar": {
             "outlinewidth": 0,
             "ticks": ""
            },
            "colorscale": [
             [
              0,
              "#0d0887"
             ],
             [
              0.1111111111111111,
              "#46039f"
             ],
             [
              0.2222222222222222,
              "#7201a8"
             ],
             [
              0.3333333333333333,
              "#9c179e"
             ],
             [
              0.4444444444444444,
              "#bd3786"
             ],
             [
              0.5555555555555556,
              "#d8576b"
             ],
             [
              0.6666666666666666,
              "#ed7953"
             ],
             [
              0.7777777777777778,
              "#fb9f3a"
             ],
             [
              0.8888888888888888,
              "#fdca26"
             ],
             [
              1,
              "#f0f921"
             ]
            ],
            "type": "surface"
           }
          ],
          "table": [
           {
            "cells": {
             "fill": {
              "color": "#EBF0F8"
             },
             "line": {
              "color": "white"
             }
            },
            "header": {
             "fill": {
              "color": "#C8D4E3"
             },
             "line": {
              "color": "white"
             }
            },
            "type": "table"
           }
          ]
         },
         "layout": {
          "annotationdefaults": {
           "arrowcolor": "#2a3f5f",
           "arrowhead": 0,
           "arrowwidth": 1
          },
          "autotypenumbers": "strict",
          "coloraxis": {
           "colorbar": {
            "outlinewidth": 0,
            "ticks": ""
           }
          },
          "colorscale": {
           "diverging": [
            [
             0,
             "#8e0152"
            ],
            [
             0.1,
             "#c51b7d"
            ],
            [
             0.2,
             "#de77ae"
            ],
            [
             0.3,
             "#f1b6da"
            ],
            [
             0.4,
             "#fde0ef"
            ],
            [
             0.5,
             "#f7f7f7"
            ],
            [
             0.6,
             "#e6f5d0"
            ],
            [
             0.7,
             "#b8e186"
            ],
            [
             0.8,
             "#7fbc41"
            ],
            [
             0.9,
             "#4d9221"
            ],
            [
             1,
             "#276419"
            ]
           ],
           "sequential": [
            [
             0,
             "#0d0887"
            ],
            [
             0.1111111111111111,
             "#46039f"
            ],
            [
             0.2222222222222222,
             "#7201a8"
            ],
            [
             0.3333333333333333,
             "#9c179e"
            ],
            [
             0.4444444444444444,
             "#bd3786"
            ],
            [
             0.5555555555555556,
             "#d8576b"
            ],
            [
             0.6666666666666666,
             "#ed7953"
            ],
            [
             0.7777777777777778,
             "#fb9f3a"
            ],
            [
             0.8888888888888888,
             "#fdca26"
            ],
            [
             1,
             "#f0f921"
            ]
           ],
           "sequentialminus": [
            [
             0,
             "#0d0887"
            ],
            [
             0.1111111111111111,
             "#46039f"
            ],
            [
             0.2222222222222222,
             "#7201a8"
            ],
            [
             0.3333333333333333,
             "#9c179e"
            ],
            [
             0.4444444444444444,
             "#bd3786"
            ],
            [
             0.5555555555555556,
             "#d8576b"
            ],
            [
             0.6666666666666666,
             "#ed7953"
            ],
            [
             0.7777777777777778,
             "#fb9f3a"
            ],
            [
             0.8888888888888888,
             "#fdca26"
            ],
            [
             1,
             "#f0f921"
            ]
           ]
          },
          "colorway": [
           "#636efa",
           "#EF553B",
           "#00cc96",
           "#ab63fa",
           "#FFA15A",
           "#19d3f3",
           "#FF6692",
           "#B6E880",
           "#FF97FF",
           "#FECB52"
          ],
          "font": {
           "color": "#2a3f5f"
          },
          "geo": {
           "bgcolor": "white",
           "lakecolor": "white",
           "landcolor": "white",
           "showlakes": true,
           "showland": true,
           "subunitcolor": "#C8D4E3"
          },
          "hoverlabel": {
           "align": "left"
          },
          "hovermode": "closest",
          "mapbox": {
           "style": "light"
          },
          "paper_bgcolor": "white",
          "plot_bgcolor": "white",
          "polar": {
           "angularaxis": {
            "gridcolor": "#EBF0F8",
            "linecolor": "#EBF0F8",
            "ticks": ""
           },
           "bgcolor": "white",
           "radialaxis": {
            "gridcolor": "#EBF0F8",
            "linecolor": "#EBF0F8",
            "ticks": ""
           }
          },
          "scene": {
           "xaxis": {
            "backgroundcolor": "white",
            "gridcolor": "#DFE8F3",
            "gridwidth": 2,
            "linecolor": "#EBF0F8",
            "showbackground": true,
            "ticks": "",
            "zerolinecolor": "#EBF0F8"
           },
           "yaxis": {
            "backgroundcolor": "white",
            "gridcolor": "#DFE8F3",
            "gridwidth": 2,
            "linecolor": "#EBF0F8",
            "showbackground": true,
            "ticks": "",
            "zerolinecolor": "#EBF0F8"
           },
           "zaxis": {
            "backgroundcolor": "white",
            "gridcolor": "#DFE8F3",
            "gridwidth": 2,
            "linecolor": "#EBF0F8",
            "showbackground": true,
            "ticks": "",
            "zerolinecolor": "#EBF0F8"
           }
          },
          "shapedefaults": {
           "line": {
            "color": "#2a3f5f"
           }
          },
          "ternary": {
           "aaxis": {
            "gridcolor": "#DFE8F3",
            "linecolor": "#A2B1C6",
            "ticks": ""
           },
           "baxis": {
            "gridcolor": "#DFE8F3",
            "linecolor": "#A2B1C6",
            "ticks": ""
           },
           "bgcolor": "white",
           "caxis": {
            "gridcolor": "#DFE8F3",
            "linecolor": "#A2B1C6",
            "ticks": ""
           }
          },
          "title": {
           "x": 0.05
          },
          "xaxis": {
           "automargin": true,
           "gridcolor": "#EBF0F8",
           "linecolor": "#EBF0F8",
           "ticks": "",
           "title": {
            "standoff": 15
           },
           "zerolinecolor": "#EBF0F8",
           "zerolinewidth": 2
          },
          "yaxis": {
           "automargin": true,
           "gridcolor": "#EBF0F8",
           "linecolor": "#EBF0F8",
           "ticks": "",
           "title": {
            "standoff": 15
           },
           "zerolinecolor": "#EBF0F8",
           "zerolinewidth": 2
          }
         }
        },
        "title": {
         "text": " "
        },
        "width": 960,
        "xaxis": {
         "anchor": "y",
         "domain": [
          0,
          0.94
         ],
         "title": {
          "text": "Time"
         }
        },
        "yaxis": {
         "anchor": "x",
         "domain": [
          0,
          1
         ]
        },
        "yaxis2": {
         "anchor": "x",
         "overlaying": "y",
         "side": "right",
         "title": {
          "text": "TMAX"
         }
        }
       }
      }
     },
     "metadata": {},
     "output_type": "display_data"
    }
   ],
   "source": [
    "fig, TRENDS = plot_timeseries_interactive(dict_plot, trendline=True, figsize = (24, 11), return_trend = True)\n",
    "fig.write_html(op.join(path_figs, 'F3_ST_max.html'), include_plotlyjs=\"cdn\")"
   ]
  },
  {
   "cell_type": "markdown",
   "metadata": {},
   "source": [
    "### Minimum and Maximum Temperatures"
   ]
  },
  {
   "cell_type": "code",
   "execution_count": 12,
   "metadata": {},
   "outputs": [],
   "source": [
    "dict_plot = [{'data' : st_data, 'var' : 'TMIN', 'ax' : 1, 'label' : 'TMIN'},\n",
    "        {'data' : st_data, 'var' : 'TMAX', 'ax' : 2, 'label' : 'TMAX'},\n",
    "        # {'data' : st_data, 'var' : 'diff', 'ax' : 1, 'label' : 'Difference TMAX - TMIN'}\n",
    "        ]"
   ]
  },
  {
   "cell_type": "code",
   "execution_count": 13,
   "metadata": {},
   "outputs": [
    {
     "data": {
      "application/vnd.plotly.v1+json": {
       "config": {
        "plotlyServerURL": "https://plot.ly"
       },
       "data": [
        {
         "line": {
          "color": "#636EFA"
         },
         "name": "TMIN",
         "type": "scatter",
         "x": [
          "1951-12-31T00:00:00",
          "1952-12-31T00:00:00",
          "1953-12-31T00:00:00",
          "1954-12-31T00:00:00",
          "1955-12-31T00:00:00",
          "1956-12-31T00:00:00",
          "1957-12-31T00:00:00",
          "1958-12-31T00:00:00",
          "1959-12-31T00:00:00",
          "1960-12-31T00:00:00",
          "1961-12-31T00:00:00",
          "1962-12-31T00:00:00",
          "1963-12-31T00:00:00",
          "1964-12-31T00:00:00",
          "1965-12-31T00:00:00",
          "1966-12-31T00:00:00",
          "1967-12-31T00:00:00",
          "1968-12-31T00:00:00",
          "1969-12-31T00:00:00",
          "1970-12-31T00:00:00",
          "1971-12-31T00:00:00",
          "1972-12-31T00:00:00",
          "1973-12-31T00:00:00",
          "1974-12-31T00:00:00",
          "1975-12-31T00:00:00",
          "1976-12-31T00:00:00",
          "1977-12-31T00:00:00",
          "1978-12-31T00:00:00",
          "1979-12-31T00:00:00",
          "1980-12-31T00:00:00",
          "1981-12-31T00:00:00",
          "1982-12-31T00:00:00",
          "1983-12-31T00:00:00",
          "1984-12-31T00:00:00",
          "1985-12-31T00:00:00",
          "1986-12-31T00:00:00",
          "1987-12-31T00:00:00",
          "1988-12-31T00:00:00",
          "1989-12-31T00:00:00",
          "1990-12-31T00:00:00",
          "1991-12-31T00:00:00",
          "1992-12-31T00:00:00",
          "1993-12-31T00:00:00",
          "1994-12-31T00:00:00",
          "1995-12-31T00:00:00",
          "1996-12-31T00:00:00",
          "1997-12-31T00:00:00",
          "1998-12-31T00:00:00",
          "1999-12-31T00:00:00",
          "2000-12-31T00:00:00",
          "2001-12-31T00:00:00",
          "2002-12-31T00:00:00",
          "2003-12-31T00:00:00",
          "2004-12-31T00:00:00",
          "2005-12-31T00:00:00",
          "2006-12-31T00:00:00",
          "2007-12-31T00:00:00",
          "2008-12-31T00:00:00",
          "2009-12-31T00:00:00",
          "2010-12-31T00:00:00",
          "2011-12-31T00:00:00",
          "2012-12-31T00:00:00",
          "2013-12-31T00:00:00",
          "2014-12-31T00:00:00",
          "2015-12-31T00:00:00",
          "2016-12-31T00:00:00",
          "2017-12-31T00:00:00",
          "2018-12-31T00:00:00",
          "2019-12-31T00:00:00",
          "2020-12-31T00:00:00",
          "2021-12-31T00:00:00",
          "2022-12-31T00:00:00",
          "2023-12-31T00:00:00",
          "2024-12-31T00:00:00",
          "2025-12-31T00:00:00"
         ],
         "xaxis": "x",
         "y": [
          24.150543478260868,
          23.837978142076505,
          24.08876712328767,
          25.000547945205476,
          23.75698630136986,
          23.867486338797814,
          24.234246575342464,
          24.435616438356163,
          24.11698630136986,
          24.275683060109287,
          24.148219178082194,
          24.225205479452057,
          24.275342465753425,
          24.13606557377049,
          24.07780821917808,
          24.222465753424654,
          24.27972602739726,
          24.329234972677597,
          24.39945205479452,
          24.522465753424658,
          24.212876712328768,
          24.241256830601092,
          24.312328767123287,
          24.18712328767123,
          24.021369863013696,
          24.355464480874318,
          24.521643835616437,
          24.128493150684932,
          24.038904109589044,
          24.04207650273224,
          23.999452054794517,
          24.378082191780823,
          24.25041095890411,
          24.0775956284153,
          23.903013698630136,
          24.33479452054795,
          24.33808219178082,
          24.387704918032785,
          24.36794520547945,
          24.541917808219175,
          24.25095890410959,
          24.01775956284153,
          24.072328767123288,
          24.224657534246575,
          24.051232876712326,
          24.156830601092896,
          24.195068493150686,
          24.094246575342464,
          24.03917808219178,
          23.87295081967213,
          24.736164383561647,
          24.945479452054794,
          24.75260273972603,
          25.112021857923498,
          24.638904109589042,
          24.84109589041096,
          24.81287671232877,
          24.537431693989074,
          24.51945205479452,
          24.277260273972605,
          24.64876712328767,
          24.840710382513663,
          24.726301369863016,
          24.997260273972604,
          25.00986301369863,
          25.08415300546448,
          25,
          25.222292993630575,
          24.5,
          25.13175182481752,
          24.745042492917847,
          24.541780821917808,
          25.518439716312056,
          25.84361370716511,
          25.64117647058824
         ],
         "yaxis": "y"
        },
        {
         "line": {
          "color": "black"
         },
         "mode": "lines",
         "name": "Trend (rate = 0.013/year) - Significant (p < 0.05)",
         "showlegend": true,
         "type": "scatter",
         "x": [
          "1951-12-31T00:00:00",
          "1952-12-31T00:00:00",
          "1953-12-31T00:00:00",
          "1954-12-31T00:00:00",
          "1955-12-31T00:00:00",
          "1956-12-31T00:00:00",
          "1957-12-31T00:00:00",
          "1958-12-31T00:00:00",
          "1959-12-31T00:00:00",
          "1960-12-31T00:00:00",
          "1961-12-31T00:00:00",
          "1962-12-31T00:00:00",
          "1963-12-31T00:00:00",
          "1964-12-31T00:00:00",
          "1965-12-31T00:00:00",
          "1966-12-31T00:00:00",
          "1967-12-31T00:00:00",
          "1968-12-31T00:00:00",
          "1969-12-31T00:00:00",
          "1970-12-31T00:00:00",
          "1971-12-31T00:00:00",
          "1972-12-31T00:00:00",
          "1973-12-31T00:00:00",
          "1974-12-31T00:00:00",
          "1975-12-31T00:00:00",
          "1976-12-31T00:00:00",
          "1977-12-31T00:00:00",
          "1978-12-31T00:00:00",
          "1979-12-31T00:00:00",
          "1980-12-31T00:00:00",
          "1981-12-31T00:00:00",
          "1982-12-31T00:00:00",
          "1983-12-31T00:00:00",
          "1984-12-31T00:00:00",
          "1985-12-31T00:00:00",
          "1986-12-31T00:00:00",
          "1987-12-31T00:00:00",
          "1988-12-31T00:00:00",
          "1989-12-31T00:00:00",
          "1990-12-31T00:00:00",
          "1991-12-31T00:00:00",
          "1992-12-31T00:00:00",
          "1993-12-31T00:00:00",
          "1994-12-31T00:00:00",
          "1995-12-31T00:00:00",
          "1996-12-31T00:00:00",
          "1997-12-31T00:00:00",
          "1998-12-31T00:00:00",
          "1999-12-31T00:00:00",
          "2000-12-31T00:00:00",
          "2001-12-31T00:00:00",
          "2002-12-31T00:00:00",
          "2003-12-31T00:00:00",
          "2004-12-31T00:00:00",
          "2005-12-31T00:00:00",
          "2006-12-31T00:00:00",
          "2007-12-31T00:00:00",
          "2008-12-31T00:00:00",
          "2009-12-31T00:00:00",
          "2010-12-31T00:00:00",
          "2011-12-31T00:00:00",
          "2012-12-31T00:00:00",
          "2013-12-31T00:00:00",
          "2014-12-31T00:00:00",
          "2015-12-31T00:00:00",
          "2016-12-31T00:00:00",
          "2017-12-31T00:00:00",
          "2018-12-31T00:00:00",
          "2019-12-31T00:00:00",
          "2020-12-31T00:00:00",
          "2021-12-31T00:00:00",
          "2022-12-31T00:00:00",
          "2023-12-31T00:00:00",
          "2024-12-31T00:00:00",
          "2025-12-31T00:00:00"
         ],
         "xaxis": "x",
         "y": [
          23.948655731913668,
          23.961825357438038,
          23.97495900037901,
          23.98809264331998,
          24.001226286260952,
          24.01439591178532,
          24.027529554726293,
          24.040663197667264,
          24.053796840608232,
          24.066966466132605,
          24.080100109073577,
          24.093233752014548,
          24.106367394955516,
          24.11953702047989,
          24.13267066342086,
          24.14580430636183,
          24.1589379493028,
          24.172107574827173,
          24.185241217768144,
          24.198374860709112,
          24.211508503650084,
          24.224678129174457,
          24.237811772115425,
          24.250945415056396,
          24.264079057997368,
          24.27724868352174,
          24.29038232646271,
          24.30351596940368,
          24.31664961234465,
          24.32981923786902,
          24.342952880809992,
          24.356086523750964,
          24.369220166691935,
          24.382389792216305,
          24.395523435157276,
          24.408657078098248,
          24.42179072103922,
          24.43496034656359,
          24.44809398950456,
          24.46122763244553,
          24.474361275386503,
          24.487530900910873,
          24.500664543851844,
          24.513798186792815,
          24.526931829733787,
          24.540101455258156,
          24.553235098199128,
          24.5663687411401,
          24.57950238408107,
          24.59267200960544,
          24.60580565254641,
          24.618939295487383,
          24.632072938428355,
          24.645242563952724,
          24.658376206893696,
          24.671509849834667,
          24.68464349277564,
          24.697813118300008,
          24.71094676124098,
          24.72408040418195,
          24.737214047122922,
          24.750383672647292,
          24.763517315588263,
          24.776650958529235,
          24.789784601470206,
          24.802954226994576,
          24.816087869935547,
          24.82922151287652,
          24.842355155817486,
          24.85552478134186,
          24.86865842428283,
          24.881792067223802,
          24.89492571016477,
          24.908095335689143,
          24.921228978630115
         ],
         "yaxis": "y"
        },
        {
         "line": {
          "color": "#EF553B"
         },
         "name": "TMAX",
         "type": "scatter",
         "x": [
          "1951-12-31T00:00:00",
          "1952-12-31T00:00:00",
          "1953-12-31T00:00:00",
          "1954-12-31T00:00:00",
          "1955-12-31T00:00:00",
          "1956-12-31T00:00:00",
          "1957-12-31T00:00:00",
          "1958-12-31T00:00:00",
          "1959-12-31T00:00:00",
          "1960-12-31T00:00:00",
          "1961-12-31T00:00:00",
          "1962-12-31T00:00:00",
          "1963-12-31T00:00:00",
          "1964-12-31T00:00:00",
          "1965-12-31T00:00:00",
          "1966-12-31T00:00:00",
          "1967-12-31T00:00:00",
          "1968-12-31T00:00:00",
          "1969-12-31T00:00:00",
          "1970-12-31T00:00:00",
          "1971-12-31T00:00:00",
          "1972-12-31T00:00:00",
          "1973-12-31T00:00:00",
          "1974-12-31T00:00:00",
          "1975-12-31T00:00:00",
          "1976-12-31T00:00:00",
          "1977-12-31T00:00:00",
          "1978-12-31T00:00:00",
          "1979-12-31T00:00:00",
          "1980-12-31T00:00:00",
          "1981-12-31T00:00:00",
          "1982-12-31T00:00:00",
          "1983-12-31T00:00:00",
          "1984-12-31T00:00:00",
          "1985-12-31T00:00:00",
          "1986-12-31T00:00:00",
          "1987-12-31T00:00:00",
          "1988-12-31T00:00:00",
          "1989-12-31T00:00:00",
          "1990-12-31T00:00:00",
          "1991-12-31T00:00:00",
          "1992-12-31T00:00:00",
          "1993-12-31T00:00:00",
          "1994-12-31T00:00:00",
          "1995-12-31T00:00:00",
          "1996-12-31T00:00:00",
          "1997-12-31T00:00:00",
          "1998-12-31T00:00:00",
          "1999-12-31T00:00:00",
          "2000-12-31T00:00:00",
          "2001-12-31T00:00:00",
          "2002-12-31T00:00:00",
          "2003-12-31T00:00:00",
          "2004-12-31T00:00:00",
          "2005-12-31T00:00:00",
          "2006-12-31T00:00:00",
          "2007-12-31T00:00:00",
          "2008-12-31T00:00:00",
          "2009-12-31T00:00:00",
          "2010-12-31T00:00:00",
          "2011-12-31T00:00:00",
          "2012-12-31T00:00:00",
          "2013-12-31T00:00:00",
          "2014-12-31T00:00:00",
          "2015-12-31T00:00:00",
          "2016-12-31T00:00:00",
          "2017-12-31T00:00:00",
          "2018-12-31T00:00:00",
          "2019-12-31T00:00:00",
          "2020-12-31T00:00:00",
          "2021-12-31T00:00:00",
          "2022-12-31T00:00:00",
          "2023-12-31T00:00:00",
          "2024-12-31T00:00:00",
          "2025-12-31T00:00:00"
         ],
         "xaxis": "x",
         "y": [
          30.92445652173913,
          30.90464480874317,
          31.03972602739726,
          31.08438356164384,
          30.74191780821918,
          30.536065573770493,
          30.84931506849315,
          31.03835616438356,
          30.56931506849315,
          30.87650273224044,
          30.393150684931506,
          30.564109589041095,
          30.734246575342464,
          30.584699453551913,
          30.18849315068493,
          30.68931506849315,
          30.74328767123288,
          31.079508196721314,
          30.866027397260275,
          31.135616438356163,
          30.954520547945204,
          30.98415300546448,
          31.329315068493152,
          31.096164383561646,
          30.976438356164383,
          30.945901639344264,
          31.1213698630137,
          30.939178082191784,
          31.042191780821916,
          31.09153005464481,
          31.025753424657534,
          30.774794520547943,
          31.099452054794522,
          31.099180327868854,
          30.943835616438356,
          31.265753424657536,
          31.357260273972603,
          31.441803278688525,
          31.389589041095892,
          31.317808219178083,
          30.926301369863015,
          30.977322404371588,
          31.037808219178086,
          31.145205479452056,
          31.464383561643835,
          31.450273224043713,
          31.478356164383563,
          32.10383561643835,
          31.63917808219178,
          31.73989071038251,
          31.717260273972602,
          31.867397260273975,
          31.526575342465755,
          31.731147540983606,
          31.60821917808219,
          31.65945205479452,
          31.84904109589041,
          30.94289617486339,
          30.816712328767125,
          31.2013698630137,
          30.678356164383562,
          30.89071038251366,
          31.28219178082192,
          31.072054794520547,
          31.574794520547943,
          31.61284153005464,
          31.378630136986303,
          31.483439490445857,
          30.873333333333335,
          29.885036496350367,
          28.61841359773371,
          29.917465753424658,
          30.079787234042552,
          30.157943925233646,
          30.170588235294115
         ],
         "yaxis": "y2"
        },
        {
         "line": {
          "color": "black",
          "dash": "dot"
         },
         "mode": "lines",
         "name": "Trend (rate = 0.001/year) - Not Significant (p > 0.05)",
         "showlegend": true,
         "type": "scatter",
         "x": [
          "1951-12-31T00:00:00",
          "1952-12-31T00:00:00",
          "1953-12-31T00:00:00",
          "1954-12-31T00:00:00",
          "1955-12-31T00:00:00",
          "1956-12-31T00:00:00",
          "1957-12-31T00:00:00",
          "1958-12-31T00:00:00",
          "1959-12-31T00:00:00",
          "1960-12-31T00:00:00",
          "1961-12-31T00:00:00",
          "1962-12-31T00:00:00",
          "1963-12-31T00:00:00",
          "1964-12-31T00:00:00",
          "1965-12-31T00:00:00",
          "1966-12-31T00:00:00",
          "1967-12-31T00:00:00",
          "1968-12-31T00:00:00",
          "1969-12-31T00:00:00",
          "1970-12-31T00:00:00",
          "1971-12-31T00:00:00",
          "1972-12-31T00:00:00",
          "1973-12-31T00:00:00",
          "1974-12-31T00:00:00",
          "1975-12-31T00:00:00",
          "1976-12-31T00:00:00",
          "1977-12-31T00:00:00",
          "1978-12-31T00:00:00",
          "1979-12-31T00:00:00",
          "1980-12-31T00:00:00",
          "1981-12-31T00:00:00",
          "1982-12-31T00:00:00",
          "1983-12-31T00:00:00",
          "1984-12-31T00:00:00",
          "1985-12-31T00:00:00",
          "1986-12-31T00:00:00",
          "1987-12-31T00:00:00",
          "1988-12-31T00:00:00",
          "1989-12-31T00:00:00",
          "1990-12-31T00:00:00",
          "1991-12-31T00:00:00",
          "1992-12-31T00:00:00",
          "1993-12-31T00:00:00",
          "1994-12-31T00:00:00",
          "1995-12-31T00:00:00",
          "1996-12-31T00:00:00",
          "1997-12-31T00:00:00",
          "1998-12-31T00:00:00",
          "1999-12-31T00:00:00",
          "2000-12-31T00:00:00",
          "2001-12-31T00:00:00",
          "2002-12-31T00:00:00",
          "2003-12-31T00:00:00",
          "2004-12-31T00:00:00",
          "2005-12-31T00:00:00",
          "2006-12-31T00:00:00",
          "2007-12-31T00:00:00",
          "2008-12-31T00:00:00",
          "2009-12-31T00:00:00",
          "2010-12-31T00:00:00",
          "2011-12-31T00:00:00",
          "2012-12-31T00:00:00",
          "2013-12-31T00:00:00",
          "2014-12-31T00:00:00",
          "2015-12-31T00:00:00",
          "2016-12-31T00:00:00",
          "2017-12-31T00:00:00",
          "2018-12-31T00:00:00",
          "2019-12-31T00:00:00",
          "2020-12-31T00:00:00",
          "2021-12-31T00:00:00",
          "2022-12-31T00:00:00",
          "2023-12-31T00:00:00",
          "2024-12-31T00:00:00",
          "2025-12-31T00:00:00"
         ],
         "xaxis": "x",
         "y": [
          30.975689674172234,
          30.976816499025947,
          30.977940245123232,
          30.979063991220517,
          30.980187737317802,
          30.98131456217152,
          30.982438308268804,
          30.98356205436609,
          30.984685800463375,
          30.985812625317088,
          30.986936371414373,
          30.988060117511658,
          30.989183863608943,
          30.99031068846266,
          30.991434434559945,
          30.99255818065723,
          30.993681926754515,
          30.99480875160823,
          30.995932497705514,
          30.9970562438028,
          30.998179989900084,
          30.9993068147538,
          31.000430560851086,
          31.00155430694837,
          31.002678053045656,
          31.00380487789937,
          31.004928623996655,
          31.00605237009394,
          31.007176116191225,
          31.008302941044942,
          31.009426687142227,
          31.010550433239512,
          31.011674179336797,
          31.01280100419051,
          31.013924750287796,
          31.01504849638508,
          31.016172242482366,
          31.017299067336083,
          31.018422813433368,
          31.019546559530653,
          31.020670305627938,
          31.02179713048165,
          31.022920876578937,
          31.02404462267622,
          31.025168368773507,
          31.026295193627224,
          31.02741893972451,
          31.028542685821794,
          31.02966643191908,
          31.030793256772792,
          31.031917002870077,
          31.033040748967363,
          31.034164495064648,
          31.035291319918365,
          31.03641506601565,
          31.037538812112935,
          31.03866255821022,
          31.039789383063933,
          31.04091312916122,
          31.042036875258503,
          31.04316062135579,
          31.044287446209506,
          31.04541119230679,
          31.046534938404076,
          31.04765868450136,
          31.048785509355074,
          31.04990925545236,
          31.051033001549644,
          31.05215674764693,
          31.053283572500646,
          31.05440731859793,
          31.055531064695217,
          31.0566548107925,
          31.057781635646215,
          31.0589053817435
         ],
         "yaxis": "y2"
        }
       ],
       "layout": {
        "height": 440,
        "legend": {
         "font": {
          "size": 12
         },
         "orientation": "h",
         "x": 0.5,
         "xanchor": "center",
         "y": 1.1,
         "yanchor": "bottom"
        },
        "template": {
         "data": {
          "bar": [
           {
            "error_x": {
             "color": "#2a3f5f"
            },
            "error_y": {
             "color": "#2a3f5f"
            },
            "marker": {
             "line": {
              "color": "white",
              "width": 0.5
             },
             "pattern": {
              "fillmode": "overlay",
              "size": 10,
              "solidity": 0.2
             }
            },
            "type": "bar"
           }
          ],
          "barpolar": [
           {
            "marker": {
             "line": {
              "color": "white",
              "width": 0.5
             },
             "pattern": {
              "fillmode": "overlay",
              "size": 10,
              "solidity": 0.2
             }
            },
            "type": "barpolar"
           }
          ],
          "carpet": [
           {
            "aaxis": {
             "endlinecolor": "#2a3f5f",
             "gridcolor": "#C8D4E3",
             "linecolor": "#C8D4E3",
             "minorgridcolor": "#C8D4E3",
             "startlinecolor": "#2a3f5f"
            },
            "baxis": {
             "endlinecolor": "#2a3f5f",
             "gridcolor": "#C8D4E3",
             "linecolor": "#C8D4E3",
             "minorgridcolor": "#C8D4E3",
             "startlinecolor": "#2a3f5f"
            },
            "type": "carpet"
           }
          ],
          "choropleth": [
           {
            "colorbar": {
             "outlinewidth": 0,
             "ticks": ""
            },
            "type": "choropleth"
           }
          ],
          "contour": [
           {
            "colorbar": {
             "outlinewidth": 0,
             "ticks": ""
            },
            "colorscale": [
             [
              0,
              "#0d0887"
             ],
             [
              0.1111111111111111,
              "#46039f"
             ],
             [
              0.2222222222222222,
              "#7201a8"
             ],
             [
              0.3333333333333333,
              "#9c179e"
             ],
             [
              0.4444444444444444,
              "#bd3786"
             ],
             [
              0.5555555555555556,
              "#d8576b"
             ],
             [
              0.6666666666666666,
              "#ed7953"
             ],
             [
              0.7777777777777778,
              "#fb9f3a"
             ],
             [
              0.8888888888888888,
              "#fdca26"
             ],
             [
              1,
              "#f0f921"
             ]
            ],
            "type": "contour"
           }
          ],
          "contourcarpet": [
           {
            "colorbar": {
             "outlinewidth": 0,
             "ticks": ""
            },
            "type": "contourcarpet"
           }
          ],
          "heatmap": [
           {
            "colorbar": {
             "outlinewidth": 0,
             "ticks": ""
            },
            "colorscale": [
             [
              0,
              "#0d0887"
             ],
             [
              0.1111111111111111,
              "#46039f"
             ],
             [
              0.2222222222222222,
              "#7201a8"
             ],
             [
              0.3333333333333333,
              "#9c179e"
             ],
             [
              0.4444444444444444,
              "#bd3786"
             ],
             [
              0.5555555555555556,
              "#d8576b"
             ],
             [
              0.6666666666666666,
              "#ed7953"
             ],
             [
              0.7777777777777778,
              "#fb9f3a"
             ],
             [
              0.8888888888888888,
              "#fdca26"
             ],
             [
              1,
              "#f0f921"
             ]
            ],
            "type": "heatmap"
           }
          ],
          "heatmapgl": [
           {
            "colorbar": {
             "outlinewidth": 0,
             "ticks": ""
            },
            "colorscale": [
             [
              0,
              "#0d0887"
             ],
             [
              0.1111111111111111,
              "#46039f"
             ],
             [
              0.2222222222222222,
              "#7201a8"
             ],
             [
              0.3333333333333333,
              "#9c179e"
             ],
             [
              0.4444444444444444,
              "#bd3786"
             ],
             [
              0.5555555555555556,
              "#d8576b"
             ],
             [
              0.6666666666666666,
              "#ed7953"
             ],
             [
              0.7777777777777778,
              "#fb9f3a"
             ],
             [
              0.8888888888888888,
              "#fdca26"
             ],
             [
              1,
              "#f0f921"
             ]
            ],
            "type": "heatmapgl"
           }
          ],
          "histogram": [
           {
            "marker": {
             "pattern": {
              "fillmode": "overlay",
              "size": 10,
              "solidity": 0.2
             }
            },
            "type": "histogram"
           }
          ],
          "histogram2d": [
           {
            "colorbar": {
             "outlinewidth": 0,
             "ticks": ""
            },
            "colorscale": [
             [
              0,
              "#0d0887"
             ],
             [
              0.1111111111111111,
              "#46039f"
             ],
             [
              0.2222222222222222,
              "#7201a8"
             ],
             [
              0.3333333333333333,
              "#9c179e"
             ],
             [
              0.4444444444444444,
              "#bd3786"
             ],
             [
              0.5555555555555556,
              "#d8576b"
             ],
             [
              0.6666666666666666,
              "#ed7953"
             ],
             [
              0.7777777777777778,
              "#fb9f3a"
             ],
             [
              0.8888888888888888,
              "#fdca26"
             ],
             [
              1,
              "#f0f921"
             ]
            ],
            "type": "histogram2d"
           }
          ],
          "histogram2dcontour": [
           {
            "colorbar": {
             "outlinewidth": 0,
             "ticks": ""
            },
            "colorscale": [
             [
              0,
              "#0d0887"
             ],
             [
              0.1111111111111111,
              "#46039f"
             ],
             [
              0.2222222222222222,
              "#7201a8"
             ],
             [
              0.3333333333333333,
              "#9c179e"
             ],
             [
              0.4444444444444444,
              "#bd3786"
             ],
             [
              0.5555555555555556,
              "#d8576b"
             ],
             [
              0.6666666666666666,
              "#ed7953"
             ],
             [
              0.7777777777777778,
              "#fb9f3a"
             ],
             [
              0.8888888888888888,
              "#fdca26"
             ],
             [
              1,
              "#f0f921"
             ]
            ],
            "type": "histogram2dcontour"
           }
          ],
          "mesh3d": [
           {
            "colorbar": {
             "outlinewidth": 0,
             "ticks": ""
            },
            "type": "mesh3d"
           }
          ],
          "parcoords": [
           {
            "line": {
             "colorbar": {
              "outlinewidth": 0,
              "ticks": ""
             }
            },
            "type": "parcoords"
           }
          ],
          "pie": [
           {
            "automargin": true,
            "type": "pie"
           }
          ],
          "scatter": [
           {
            "fillpattern": {
             "fillmode": "overlay",
             "size": 10,
             "solidity": 0.2
            },
            "type": "scatter"
           }
          ],
          "scatter3d": [
           {
            "line": {
             "colorbar": {
              "outlinewidth": 0,
              "ticks": ""
             }
            },
            "marker": {
             "colorbar": {
              "outlinewidth": 0,
              "ticks": ""
             }
            },
            "type": "scatter3d"
           }
          ],
          "scattercarpet": [
           {
            "marker": {
             "colorbar": {
              "outlinewidth": 0,
              "ticks": ""
             }
            },
            "type": "scattercarpet"
           }
          ],
          "scattergeo": [
           {
            "marker": {
             "colorbar": {
              "outlinewidth": 0,
              "ticks": ""
             }
            },
            "type": "scattergeo"
           }
          ],
          "scattergl": [
           {
            "marker": {
             "colorbar": {
              "outlinewidth": 0,
              "ticks": ""
             }
            },
            "type": "scattergl"
           }
          ],
          "scattermapbox": [
           {
            "marker": {
             "colorbar": {
              "outlinewidth": 0,
              "ticks": ""
             }
            },
            "type": "scattermapbox"
           }
          ],
          "scatterpolar": [
           {
            "marker": {
             "colorbar": {
              "outlinewidth": 0,
              "ticks": ""
             }
            },
            "type": "scatterpolar"
           }
          ],
          "scatterpolargl": [
           {
            "marker": {
             "colorbar": {
              "outlinewidth": 0,
              "ticks": ""
             }
            },
            "type": "scatterpolargl"
           }
          ],
          "scatterternary": [
           {
            "marker": {
             "colorbar": {
              "outlinewidth": 0,
              "ticks": ""
             }
            },
            "type": "scatterternary"
           }
          ],
          "surface": [
           {
            "colorbar": {
             "outlinewidth": 0,
             "ticks": ""
            },
            "colorscale": [
             [
              0,
              "#0d0887"
             ],
             [
              0.1111111111111111,
              "#46039f"
             ],
             [
              0.2222222222222222,
              "#7201a8"
             ],
             [
              0.3333333333333333,
              "#9c179e"
             ],
             [
              0.4444444444444444,
              "#bd3786"
             ],
             [
              0.5555555555555556,
              "#d8576b"
             ],
             [
              0.6666666666666666,
              "#ed7953"
             ],
             [
              0.7777777777777778,
              "#fb9f3a"
             ],
             [
              0.8888888888888888,
              "#fdca26"
             ],
             [
              1,
              "#f0f921"
             ]
            ],
            "type": "surface"
           }
          ],
          "table": [
           {
            "cells": {
             "fill": {
              "color": "#EBF0F8"
             },
             "line": {
              "color": "white"
             }
            },
            "header": {
             "fill": {
              "color": "#C8D4E3"
             },
             "line": {
              "color": "white"
             }
            },
            "type": "table"
           }
          ]
         },
         "layout": {
          "annotationdefaults": {
           "arrowcolor": "#2a3f5f",
           "arrowhead": 0,
           "arrowwidth": 1
          },
          "autotypenumbers": "strict",
          "coloraxis": {
           "colorbar": {
            "outlinewidth": 0,
            "ticks": ""
           }
          },
          "colorscale": {
           "diverging": [
            [
             0,
             "#8e0152"
            ],
            [
             0.1,
             "#c51b7d"
            ],
            [
             0.2,
             "#de77ae"
            ],
            [
             0.3,
             "#f1b6da"
            ],
            [
             0.4,
             "#fde0ef"
            ],
            [
             0.5,
             "#f7f7f7"
            ],
            [
             0.6,
             "#e6f5d0"
            ],
            [
             0.7,
             "#b8e186"
            ],
            [
             0.8,
             "#7fbc41"
            ],
            [
             0.9,
             "#4d9221"
            ],
            [
             1,
             "#276419"
            ]
           ],
           "sequential": [
            [
             0,
             "#0d0887"
            ],
            [
             0.1111111111111111,
             "#46039f"
            ],
            [
             0.2222222222222222,
             "#7201a8"
            ],
            [
             0.3333333333333333,
             "#9c179e"
            ],
            [
             0.4444444444444444,
             "#bd3786"
            ],
            [
             0.5555555555555556,
             "#d8576b"
            ],
            [
             0.6666666666666666,
             "#ed7953"
            ],
            [
             0.7777777777777778,
             "#fb9f3a"
            ],
            [
             0.8888888888888888,
             "#fdca26"
            ],
            [
             1,
             "#f0f921"
            ]
           ],
           "sequentialminus": [
            [
             0,
             "#0d0887"
            ],
            [
             0.1111111111111111,
             "#46039f"
            ],
            [
             0.2222222222222222,
             "#7201a8"
            ],
            [
             0.3333333333333333,
             "#9c179e"
            ],
            [
             0.4444444444444444,
             "#bd3786"
            ],
            [
             0.5555555555555556,
             "#d8576b"
            ],
            [
             0.6666666666666666,
             "#ed7953"
            ],
            [
             0.7777777777777778,
             "#fb9f3a"
            ],
            [
             0.8888888888888888,
             "#fdca26"
            ],
            [
             1,
             "#f0f921"
            ]
           ]
          },
          "colorway": [
           "#636efa",
           "#EF553B",
           "#00cc96",
           "#ab63fa",
           "#FFA15A",
           "#19d3f3",
           "#FF6692",
           "#B6E880",
           "#FF97FF",
           "#FECB52"
          ],
          "font": {
           "color": "#2a3f5f"
          },
          "geo": {
           "bgcolor": "white",
           "lakecolor": "white",
           "landcolor": "white",
           "showlakes": true,
           "showland": true,
           "subunitcolor": "#C8D4E3"
          },
          "hoverlabel": {
           "align": "left"
          },
          "hovermode": "closest",
          "mapbox": {
           "style": "light"
          },
          "paper_bgcolor": "white",
          "plot_bgcolor": "white",
          "polar": {
           "angularaxis": {
            "gridcolor": "#EBF0F8",
            "linecolor": "#EBF0F8",
            "ticks": ""
           },
           "bgcolor": "white",
           "radialaxis": {
            "gridcolor": "#EBF0F8",
            "linecolor": "#EBF0F8",
            "ticks": ""
           }
          },
          "scene": {
           "xaxis": {
            "backgroundcolor": "white",
            "gridcolor": "#DFE8F3",
            "gridwidth": 2,
            "linecolor": "#EBF0F8",
            "showbackground": true,
            "ticks": "",
            "zerolinecolor": "#EBF0F8"
           },
           "yaxis": {
            "backgroundcolor": "white",
            "gridcolor": "#DFE8F3",
            "gridwidth": 2,
            "linecolor": "#EBF0F8",
            "showbackground": true,
            "ticks": "",
            "zerolinecolor": "#EBF0F8"
           },
           "zaxis": {
            "backgroundcolor": "white",
            "gridcolor": "#DFE8F3",
            "gridwidth": 2,
            "linecolor": "#EBF0F8",
            "showbackground": true,
            "ticks": "",
            "zerolinecolor": "#EBF0F8"
           }
          },
          "shapedefaults": {
           "line": {
            "color": "#2a3f5f"
           }
          },
          "ternary": {
           "aaxis": {
            "gridcolor": "#DFE8F3",
            "linecolor": "#A2B1C6",
            "ticks": ""
           },
           "baxis": {
            "gridcolor": "#DFE8F3",
            "linecolor": "#A2B1C6",
            "ticks": ""
           },
           "bgcolor": "white",
           "caxis": {
            "gridcolor": "#DFE8F3",
            "linecolor": "#A2B1C6",
            "ticks": ""
           }
          },
          "title": {
           "x": 0.05
          },
          "xaxis": {
           "automargin": true,
           "gridcolor": "#EBF0F8",
           "linecolor": "#EBF0F8",
           "ticks": "",
           "title": {
            "standoff": 15
           },
           "zerolinecolor": "#EBF0F8",
           "zerolinewidth": 2
          },
          "yaxis": {
           "automargin": true,
           "gridcolor": "#EBF0F8",
           "linecolor": "#EBF0F8",
           "ticks": "",
           "title": {
            "standoff": 15
           },
           "zerolinecolor": "#EBF0F8",
           "zerolinewidth": 2
          }
         }
        },
        "title": {
         "text": " "
        },
        "width": 960,
        "xaxis": {
         "anchor": "y",
         "domain": [
          0,
          0.94
         ],
         "title": {
          "text": "Time"
         }
        },
        "yaxis": {
         "anchor": "x",
         "domain": [
          0,
          1
         ],
         "title": {
          "text": "TMIN"
         }
        },
        "yaxis2": {
         "anchor": "x",
         "overlaying": "y",
         "side": "right",
         "title": {
          "text": "TMAX"
         }
        }
       }
      }
     },
     "metadata": {},
     "output_type": "display_data"
    },
    {
     "data": {
      "application/papermill.record/text/plain": "0.013"
     },
     "metadata": {
      "scrapbook": {
       "mime_prefix": "application/papermill.record/",
       "name": "trend_min"
      }
     },
     "output_type": "display_data"
    },
    {
     "data": {
      "application/papermill.record/text/plain": "0.001"
     },
     "metadata": {
      "scrapbook": {
       "mime_prefix": "application/papermill.record/",
       "name": "trend_max"
      }
     },
     "output_type": "display_data"
    },
    {
     "data": {
      "application/papermill.record/text/plain": "0.975"
     },
     "metadata": {
      "scrapbook": {
       "mime_prefix": "application/papermill.record/",
       "name": "change_min"
      }
     },
     "output_type": "display_data"
    },
    {
     "data": {
      "application/papermill.record/text/plain": "0.075"
     },
     "metadata": {
      "scrapbook": {
       "mime_prefix": "application/papermill.record/",
       "name": "change_max"
      }
     },
     "output_type": "display_data"
    },
    {
     "data": {
      "application/papermill.record/image/png": "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",
      "application/papermill.record/text/plain": "<PIL.PngImagePlugin.PngImageFile image mode=RGBA size=960x440>"
     },
     "metadata": {
      "scrapbook": {
       "mime_prefix": "application/papermill.record/",
       "name": "trend_fig_max_min"
      }
     },
     "output_type": "display_data"
    }
   ],
   "source": [
    "fig, TRENDS = plot_timeseries_interactive(dict_plot, trendline=True, figsize = (24, 11), return_trend = True)\n",
    "fig.write_html(op.join(path_figs, 'F3_ST_min_max.html'), include_plotlyjs=\"cdn\")\n",
    "\n",
    "glue(\"trend_min\", float(TRENDS[0]), display=False)\n",
    "glue(\"trend_max\", float(TRENDS[1]), display=False)\n",
    "\n",
    "glue(\"change_min\", float(TRENDS[0]*len(np.unique(st_data.index.year))), display=False)\n",
    "glue(\"change_max\", float(TRENDS[1]*len(np.unique(st_data.index.year))), display=False)\n",
    "\n",
    "glue(\"trend_fig_max_min\", fig_int_to_glue(fig), display=False)"
   ]
  },
  {
   "cell_type": "markdown",
   "metadata": {},
   "source": [
    "**Fig.** Annual maximum (red) and minimum (blue) temperature at Koror. The solid black line represents the trend, which is  statistically significant (p < 0.05).  The dashed black line represents a trend that is not statistically significant.  "
   ]
  },
  {
   "cell_type": "raw",
   "metadata": {},
   "source": [
    "```{glue:figure} trend_fig_max_min\n",
    ":name: \"trend_fig_ST\"\n",
    "\n",
    "Annual maximum (red) and minimum (blue) temperature at Koror. The solid black line represents the trend, which is  statistically significant (p < 0.05).  The dashed black line represents a trend that is not statistically significant.  \n",
    "\n",
    "```"
   ]
  },
  {
   "cell_type": "markdown",
   "metadata": {},
   "source": [
    "### Generate table\n",
    "The final step is to generate a table sumarizing different metrics of the data analyzed in the plots above"
   ]
  },
  {
   "cell_type": "code",
   "execution_count": 14,
   "metadata": {},
   "outputs": [
    {
     "data": {
      "image/png": "[encoded data removed]"
     },
     "metadata": {},
     "output_type": "display_data"
    }
   ],
   "source": [
    "var = 'TMIN'\n",
    "df = get_data_metrics(st_data, var, )\n",
    "fig = plot_df_table(df.T, figsize = (300, 400))"
   ]
  },
  {
   "cell_type": "code",
   "execution_count": 15,
   "metadata": {},
   "outputs": [
    {
     "data": {
      "image/png": "[encoded data removed]"
     },
     "metadata": {},
     "output_type": "display_data"
    }
   ],
   "source": [
    "var = 'TMAX'\n",
    "df = get_data_metrics(st_data, var, )\n",
    "fig = plot_df_table(df.T, figsize = (300, 400))"
   ]
  },
  {
   "cell_type": "markdown",
   "metadata": {},
   "source": [
    "## Difference temperature"
   ]
  },
  {
   "cell_type": "markdown",
   "metadata": {},
   "source": [
    "The following plot represents the avergae difference between the minimum and maximum temperature over time. The decreasing trend means that the daily variability is decreasing over time"
   ]
  },
  {
   "cell_type": "code",
   "execution_count": 16,
   "metadata": {},
   "outputs": [
    {
     "data": {
      "application/vnd.plotly.v1+json": {
       "config": {
        "plotlyServerURL": "https://plot.ly"
       },
       "data": [
        {
         "line": {
          "color": "#636EFA"
         },
         "name": "Difference TMAX - TMIN",
         "type": "scatter",
         "x": [
          "1951-12-31T00:00:00",
          "1952-12-31T00:00:00",
          "1953-12-31T00:00:00",
          "1954-12-31T00:00:00",
          "1955-12-31T00:00:00",
          "1956-12-31T00:00:00",
          "1957-12-31T00:00:00",
          "1958-12-31T00:00:00",
          "1959-12-31T00:00:00",
          "1960-12-31T00:00:00",
          "1961-12-31T00:00:00",
          "1962-12-31T00:00:00",
          "1963-12-31T00:00:00",
          "1964-12-31T00:00:00",
          "1965-12-31T00:00:00",
          "1966-12-31T00:00:00",
          "1967-12-31T00:00:00",
          "1968-12-31T00:00:00",
          "1969-12-31T00:00:00",
          "1970-12-31T00:00:00",
          "1971-12-31T00:00:00",
          "1972-12-31T00:00:00",
          "1973-12-31T00:00:00",
          "1974-12-31T00:00:00",
          "1975-12-31T00:00:00",
          "1976-12-31T00:00:00",
          "1977-12-31T00:00:00",
          "1978-12-31T00:00:00",
          "1979-12-31T00:00:00",
          "1980-12-31T00:00:00",
          "1981-12-31T00:00:00",
          "1982-12-31T00:00:00",
          "1983-12-31T00:00:00",
          "1984-12-31T00:00:00",
          "1985-12-31T00:00:00",
          "1986-12-31T00:00:00",
          "1987-12-31T00:00:00",
          "1988-12-31T00:00:00",
          "1989-12-31T00:00:00",
          "1990-12-31T00:00:00",
          "1991-12-31T00:00:00",
          "1992-12-31T00:00:00",
          "1993-12-31T00:00:00",
          "1994-12-31T00:00:00",
          "1995-12-31T00:00:00",
          "1996-12-31T00:00:00",
          "1997-12-31T00:00:00",
          "1998-12-31T00:00:00",
          "1999-12-31T00:00:00",
          "2000-12-31T00:00:00",
          "2001-12-31T00:00:00",
          "2002-12-31T00:00:00",
          "2003-12-31T00:00:00",
          "2004-12-31T00:00:00",
          "2005-12-31T00:00:00",
          "2006-12-31T00:00:00",
          "2007-12-31T00:00:00",
          "2008-12-31T00:00:00",
          "2009-12-31T00:00:00",
          "2010-12-31T00:00:00",
          "2011-12-31T00:00:00",
          "2012-12-31T00:00:00",
          "2013-12-31T00:00:00",
          "2014-12-31T00:00:00",
          "2015-12-31T00:00:00",
          "2016-12-31T00:00:00",
          "2017-12-31T00:00:00",
          "2018-12-31T00:00:00",
          "2019-12-31T00:00:00",
          "2020-12-31T00:00:00",
          "2021-12-31T00:00:00",
          "2022-12-31T00:00:00",
          "2023-12-31T00:00:00",
          "2024-12-31T00:00:00",
          "2025-12-31T00:00:00"
         ],
         "xaxis": "x",
         "y": [
          6.773913043478262,
          7.066666666666668,
          6.95095890410959,
          6.083835616438357,
          6.984931506849317,
          6.668579234972678,
          6.6150684931506865,
          6.602739726027399,
          6.452328767123289,
          6.600819672131149,
          6.2449315068493165,
          6.338904109589042,
          6.458904109589042,
          6.448633879781421,
          6.110684931506849,
          6.466849315068495,
          6.463561643835617,
          6.750273224043717,
          6.466575342465754,
          6.613150684931509,
          6.741643835616439,
          6.7428961748633895,
          7.0169863013698635,
          6.909041095890411,
          6.955068493150686,
          6.590437158469946,
          6.599726027397262,
          6.8106849315068505,
          7.0032876712328775,
          7.04945355191257,
          7.026301369863015,
          6.396712328767124,
          6.849041095890413,
          7.021584699453554,
          7.040821917808221,
          6.930958904109591,
          7.019178082191782,
          7.054098360655738,
          7.02164383561644,
          6.775890410958905,
          6.675342465753426,
          6.959562841530055,
          6.965479452054796,
          6.920547945205481,
          7.413150684931507,
          7.29344262295082,
          7.283287671232877,
          8.009589041095891,
          7.6,
          7.866939890710383,
          6.981095890410959,
          6.921917808219178,
          6.773972602739726,
          6.619125683060109,
          6.9693150684931515,
          6.8183561643835615,
          7.036164383561643,
          6.405464480874318,
          6.297260273972604,
          6.924109589041096,
          6.029589041095891,
          6.050000000000001,
          6.555890410958904,
          6.074794520547946,
          6.564931506849316,
          6.528688524590164,
          6.3786301369863025,
          6.261146496815287,
          6.373333333333334,
          4.753284671532846,
          3.873371104815864,
          5.375684931506849,
          4.561347517730496,
          4.314330218068536,
          4.529411764705882
         ],
         "yaxis": "y"
        },
        {
         "line": {
          "color": "black"
         },
         "mode": "lines",
         "name": "Trend (rate = -0.012/year) - Significant (p < 0.05)",
         "showlegend": true,
         "type": "scatter",
         "x": [
          "1951-12-31T00:00:00",
          "1952-12-31T00:00:00",
          "1953-12-31T00:00:00",
          "1954-12-31T00:00:00",
          "1955-12-31T00:00:00",
          "1956-12-31T00:00:00",
          "1957-12-31T00:00:00",
          "1958-12-31T00:00:00",
          "1959-12-31T00:00:00",
          "1960-12-31T00:00:00",
          "1961-12-31T00:00:00",
          "1962-12-31T00:00:00",
          "1963-12-31T00:00:00",
          "1964-12-31T00:00:00",
          "1965-12-31T00:00:00",
          "1966-12-31T00:00:00",
          "1967-12-31T00:00:00",
          "1968-12-31T00:00:00",
          "1969-12-31T00:00:00",
          "1970-12-31T00:00:00",
          "1971-12-31T00:00:00",
          "1972-12-31T00:00:00",
          "1973-12-31T00:00:00",
          "1974-12-31T00:00:00",
          "1975-12-31T00:00:00",
          "1976-12-31T00:00:00",
          "1977-12-31T00:00:00",
          "1978-12-31T00:00:00",
          "1979-12-31T00:00:00",
          "1980-12-31T00:00:00",
          "1981-12-31T00:00:00",
          "1982-12-31T00:00:00",
          "1983-12-31T00:00:00",
          "1984-12-31T00:00:00",
          "1985-12-31T00:00:00",
          "1986-12-31T00:00:00",
          "1987-12-31T00:00:00",
          "1988-12-31T00:00:00",
          "1989-12-31T00:00:00",
          "1990-12-31T00:00:00",
          "1991-12-31T00:00:00",
          "1992-12-31T00:00:00",
          "1993-12-31T00:00:00",
          "1994-12-31T00:00:00",
          "1995-12-31T00:00:00",
          "1996-12-31T00:00:00",
          "1997-12-31T00:00:00",
          "1998-12-31T00:00:00",
          "1999-12-31T00:00:00",
          "2000-12-31T00:00:00",
          "2001-12-31T00:00:00",
          "2002-12-31T00:00:00",
          "2003-12-31T00:00:00",
          "2004-12-31T00:00:00",
          "2005-12-31T00:00:00",
          "2006-12-31T00:00:00",
          "2007-12-31T00:00:00",
          "2008-12-31T00:00:00",
          "2009-12-31T00:00:00",
          "2010-12-31T00:00:00",
          "2011-12-31T00:00:00",
          "2012-12-31T00:00:00",
          "2013-12-31T00:00:00",
          "2014-12-31T00:00:00",
          "2015-12-31T00:00:00",
          "2016-12-31T00:00:00",
          "2017-12-31T00:00:00",
          "2018-12-31T00:00:00",
          "2019-12-31T00:00:00",
          "2020-12-31T00:00:00",
          "2021-12-31T00:00:00",
          "2022-12-31T00:00:00",
          "2023-12-31T00:00:00",
          "2024-12-31T00:00:00",
          "2025-12-31T00:00:00"
         ],
         "xaxis": "x",
         "y": [
          7.027033942258568,
          7.014991141587913,
          7.002981244744228,
          6.990971347900541,
          6.978961451056856,
          6.966918650386201,
          6.954908753542514,
          6.942898856698829,
          6.930888959855142,
          6.918846159184487,
          6.906836262340802,
          6.894826365497115,
          6.88281646865343,
          6.870773667982775,
          6.858763771139089,
          6.846753874295403,
          6.8347439774517165,
          6.822701176781062,
          6.810691279937376,
          6.79868138309369,
          6.786671486250004,
          6.774628685579349,
          6.762618788735663,
          6.750608891891977,
          6.738598995048291,
          6.726556194377636,
          6.71454629753395,
          6.702536400690264,
          6.690526503846578,
          6.678483703175924,
          6.666473806332237,
          6.654463909488551,
          6.6424540126448655,
          6.63041121197421,
          6.618401315130525,
          6.606391418286838,
          6.594381521443153,
          6.582338720772498,
          6.570328823928811,
          6.558318927085126,
          6.5463090302414395,
          6.534266229570784,
          6.522256332727099,
          6.5102464358834125,
          6.498236539039727,
          6.486193738369072,
          6.474183841525386,
          6.4621739446817,
          6.450164047838014,
          6.438121247167359,
          6.426111350323673,
          6.414101453479987,
          6.402091556636301,
          6.390048755965646,
          6.37803885912196,
          6.366028962278274,
          6.3540190654345885,
          6.341976264763933,
          6.329966367920247,
          6.317956471076561,
          6.305946574232875,
          6.293903773562221,
          6.281893876718534,
          6.269883979874848,
          6.2578740830311625,
          6.245831282360507,
          6.233821385516821,
          6.2218114886731355,
          6.20980159182945,
          6.197758791158795,
          6.185748894315108,
          6.173738997471423,
          6.161729100627737,
          6.149686299957081,
          6.137676403113396
         ],
         "yaxis": "y"
        }
       ],
       "layout": {
        "height": 480,
        "legend": {
         "font": {
          "size": 12
         },
         "orientation": "h",
         "x": 0.5,
         "xanchor": "center",
         "y": 1.1,
         "yanchor": "bottom"
        },
        "template": {
         "data": {
          "bar": [
           {
            "error_x": {
             "color": "#2a3f5f"
            },
            "error_y": {
             "color": "#2a3f5f"
            },
            "marker": {
             "line": {
              "color": "white",
              "width": 0.5
             },
             "pattern": {
              "fillmode": "overlay",
              "size": 10,
              "solidity": 0.2
             }
            },
            "type": "bar"
           }
          ],
          "barpolar": [
           {
            "marker": {
             "line": {
              "color": "white",
              "width": 0.5
             },
             "pattern": {
              "fillmode": "overlay",
              "size": 10,
              "solidity": 0.2
             }
            },
            "type": "barpolar"
           }
          ],
          "carpet": [
           {
            "aaxis": {
             "endlinecolor": "#2a3f5f",
             "gridcolor": "#C8D4E3",
             "linecolor": "#C8D4E3",
             "minorgridcolor": "#C8D4E3",
             "startlinecolor": "#2a3f5f"
            },
            "baxis": {
             "endlinecolor": "#2a3f5f",
             "gridcolor": "#C8D4E3",
             "linecolor": "#C8D4E3",
             "minorgridcolor": "#C8D4E3",
             "startlinecolor": "#2a3f5f"
            },
            "type": "carpet"
           }
          ],
          "choropleth": [
           {
            "colorbar": {
             "outlinewidth": 0,
             "ticks": ""
            },
            "type": "choropleth"
           }
          ],
          "contour": [
           {
            "colorbar": {
             "outlinewidth": 0,
             "ticks": ""
            },
            "colorscale": [
             [
              0,
              "#0d0887"
             ],
             [
              0.1111111111111111,
              "#46039f"
             ],
             [
              0.2222222222222222,
              "#7201a8"
             ],
             [
              0.3333333333333333,
              "#9c179e"
             ],
             [
              0.4444444444444444,
              "#bd3786"
             ],
             [
              0.5555555555555556,
              "#d8576b"
             ],
             [
              0.6666666666666666,
              "#ed7953"
             ],
             [
              0.7777777777777778,
              "#fb9f3a"
             ],
             [
              0.8888888888888888,
              "#fdca26"
             ],
             [
              1,
              "#f0f921"
             ]
            ],
            "type": "contour"
           }
          ],
          "contourcarpet": [
           {
            "colorbar": {
             "outlinewidth": 0,
             "ticks": ""
            },
            "type": "contourcarpet"
           }
          ],
          "heatmap": [
           {
            "colorbar": {
             "outlinewidth": 0,
             "ticks": ""
            },
            "colorscale": [
             [
              0,
              "#0d0887"
             ],
             [
              0.1111111111111111,
              "#46039f"
             ],
             [
              0.2222222222222222,
              "#7201a8"
             ],
             [
              0.3333333333333333,
              "#9c179e"
             ],
             [
              0.4444444444444444,
              "#bd3786"
             ],
             [
              0.5555555555555556,
              "#d8576b"
             ],
             [
              0.6666666666666666,
              "#ed7953"
             ],
             [
              0.7777777777777778,
              "#fb9f3a"
             ],
             [
              0.8888888888888888,
              "#fdca26"
             ],
             [
              1,
              "#f0f921"
             ]
            ],
            "type": "heatmap"
           }
          ],
          "heatmapgl": [
           {
            "colorbar": {
             "outlinewidth": 0,
             "ticks": ""
            },
            "colorscale": [
             [
              0,
              "#0d0887"
             ],
             [
              0.1111111111111111,
              "#46039f"
             ],
             [
              0.2222222222222222,
              "#7201a8"
             ],
             [
              0.3333333333333333,
              "#9c179e"
             ],
             [
              0.4444444444444444,
              "#bd3786"
             ],
             [
              0.5555555555555556,
              "#d8576b"
             ],
             [
              0.6666666666666666,
              "#ed7953"
             ],
             [
              0.7777777777777778,
              "#fb9f3a"
             ],
             [
              0.8888888888888888,
              "#fdca26"
             ],
             [
              1,
              "#f0f921"
             ]
            ],
            "type": "heatmapgl"
           }
          ],
          "histogram": [
           {
            "marker": {
             "pattern": {
              "fillmode": "overlay",
              "size": 10,
              "solidity": 0.2
             }
            },
            "type": "histogram"
           }
          ],
          "histogram2d": [
           {
            "colorbar": {
             "outlinewidth": 0,
             "ticks": ""
            },
            "colorscale": [
             [
              0,
              "#0d0887"
             ],
             [
              0.1111111111111111,
              "#46039f"
             ],
             [
              0.2222222222222222,
              "#7201a8"
             ],
             [
              0.3333333333333333,
              "#9c179e"
             ],
             [
              0.4444444444444444,
              "#bd3786"
             ],
             [
              0.5555555555555556,
              "#d8576b"
             ],
             [
              0.6666666666666666,
              "#ed7953"
             ],
             [
              0.7777777777777778,
              "#fb9f3a"
             ],
             [
              0.8888888888888888,
              "#fdca26"
             ],
             [
              1,
              "#f0f921"
             ]
            ],
            "type": "histogram2d"
           }
          ],
          "histogram2dcontour": [
           {
            "colorbar": {
             "outlinewidth": 0,
             "ticks": ""
            },
            "colorscale": [
             [
              0,
              "#0d0887"
             ],
             [
              0.1111111111111111,
              "#46039f"
             ],
             [
              0.2222222222222222,
              "#7201a8"
             ],
             [
              0.3333333333333333,
              "#9c179e"
             ],
             [
              0.4444444444444444,
              "#bd3786"
             ],
             [
              0.5555555555555556,
              "#d8576b"
             ],
             [
              0.6666666666666666,
              "#ed7953"
             ],
             [
              0.7777777777777778,
              "#fb9f3a"
             ],
             [
              0.8888888888888888,
              "#fdca26"
             ],
             [
              1,
              "#f0f921"
             ]
            ],
            "type": "histogram2dcontour"
           }
          ],
          "mesh3d": [
           {
            "colorbar": {
             "outlinewidth": 0,
             "ticks": ""
            },
            "type": "mesh3d"
           }
          ],
          "parcoords": [
           {
            "line": {
             "colorbar": {
              "outlinewidth": 0,
              "ticks": ""
             }
            },
            "type": "parcoords"
           }
          ],
          "pie": [
           {
            "automargin": true,
            "type": "pie"
           }
          ],
          "scatter": [
           {
            "fillpattern": {
             "fillmode": "overlay",
             "size": 10,
             "solidity": 0.2
            },
            "type": "scatter"
           }
          ],
          "scatter3d": [
           {
            "line": {
             "colorbar": {
              "outlinewidth": 0,
              "ticks": ""
             }
            },
            "marker": {
             "colorbar": {
              "outlinewidth": 0,
              "ticks": ""
             }
            },
            "type": "scatter3d"
           }
          ],
          "scattercarpet": [
           {
            "marker": {
             "colorbar": {
              "outlinewidth": 0,
              "ticks": ""
             }
            },
            "type": "scattercarpet"
           }
          ],
          "scattergeo": [
           {
            "marker": {
             "colorbar": {
              "outlinewidth": 0,
              "ticks": ""
             }
            },
            "type": "scattergeo"
           }
          ],
          "scattergl": [
           {
            "marker": {
             "colorbar": {
              "outlinewidth": 0,
              "ticks": ""
             }
            },
            "type": "scattergl"
           }
          ],
          "scattermapbox": [
           {
            "marker": {
             "colorbar": {
              "outlinewidth": 0,
              "ticks": ""
             }
            },
            "type": "scattermapbox"
           }
          ],
          "scatterpolar": [
           {
            "marker": {
             "colorbar": {
              "outlinewidth": 0,
              "ticks": ""
             }
            },
            "type": "scatterpolar"
           }
          ],
          "scatterpolargl": [
           {
            "marker": {
             "colorbar": {
              "outlinewidth": 0,
              "ticks": ""
             }
            },
            "type": "scatterpolargl"
           }
          ],
          "scatterternary": [
           {
            "marker": {
             "colorbar": {
              "outlinewidth": 0,
              "ticks": ""
             }
            },
            "type": "scatterternary"
           }
          ],
          "surface": [
           {
            "colorbar": {
             "outlinewidth": 0,
             "ticks": ""
            },
            "colorscale": [
             [
              0,
              "#0d0887"
             ],
             [
              0.1111111111111111,
              "#46039f"
             ],
             [
              0.2222222222222222,
              "#7201a8"
             ],
             [
              0.3333333333333333,
              "#9c179e"
             ],
             [
              0.4444444444444444,
              "#bd3786"
             ],
             [
              0.5555555555555556,
              "#d8576b"
             ],
             [
              0.6666666666666666,
              "#ed7953"
             ],
             [
              0.7777777777777778,
              "#fb9f3a"
             ],
             [
              0.8888888888888888,
              "#fdca26"
             ],
             [
              1,
              "#f0f921"
             ]
            ],
            "type": "surface"
           }
          ],
          "table": [
           {
            "cells": {
             "fill": {
              "color": "#EBF0F8"
             },
             "line": {
              "color": "white"
             }
            },
            "header": {
             "fill": {
              "color": "#C8D4E3"
             },
             "line": {
              "color": "white"
             }
            },
            "type": "table"
           }
          ]
         },
         "layout": {
          "annotationdefaults": {
           "arrowcolor": "#2a3f5f",
           "arrowhead": 0,
           "arrowwidth": 1
          },
          "autotypenumbers": "strict",
          "coloraxis": {
           "colorbar": {
            "outlinewidth": 0,
            "ticks": ""
           }
          },
          "colorscale": {
           "diverging": [
            [
             0,
             "#8e0152"
            ],
            [
             0.1,
             "#c51b7d"
            ],
            [
             0.2,
             "#de77ae"
            ],
            [
             0.3,
             "#f1b6da"
            ],
            [
             0.4,
             "#fde0ef"
            ],
            [
             0.5,
             "#f7f7f7"
            ],
            [
             0.6,
             "#e6f5d0"
            ],
            [
             0.7,
             "#b8e186"
            ],
            [
             0.8,
             "#7fbc41"
            ],
            [
             0.9,
             "#4d9221"
            ],
            [
             1,
             "#276419"
            ]
           ],
           "sequential": [
            [
             0,
             "#0d0887"
            ],
            [
             0.1111111111111111,
             "#46039f"
            ],
            [
             0.2222222222222222,
             "#7201a8"
            ],
            [
             0.3333333333333333,
             "#9c179e"
            ],
            [
             0.4444444444444444,
             "#bd3786"
            ],
            [
             0.5555555555555556,
             "#d8576b"
            ],
            [
             0.6666666666666666,
             "#ed7953"
            ],
            [
             0.7777777777777778,
             "#fb9f3a"
            ],
            [
             0.8888888888888888,
             "#fdca26"
            ],
            [
             1,
             "#f0f921"
            ]
           ],
           "sequentialminus": [
            [
             0,
             "#0d0887"
            ],
            [
             0.1111111111111111,
             "#46039f"
            ],
            [
             0.2222222222222222,
             "#7201a8"
            ],
            [
             0.3333333333333333,
             "#9c179e"
            ],
            [
             0.4444444444444444,
             "#bd3786"
            ],
            [
             0.5555555555555556,
             "#d8576b"
            ],
            [
             0.6666666666666666,
             "#ed7953"
            ],
            [
             0.7777777777777778,
             "#fb9f3a"
            ],
            [
             0.8888888888888888,
             "#fdca26"
            ],
            [
             1,
             "#f0f921"
            ]
           ]
          },
          "colorway": [
           "#636efa",
           "#EF553B",
           "#00cc96",
           "#ab63fa",
           "#FFA15A",
           "#19d3f3",
           "#FF6692",
           "#B6E880",
           "#FF97FF",
           "#FECB52"
          ],
          "font": {
           "color": "#2a3f5f"
          },
          "geo": {
           "bgcolor": "white",
           "lakecolor": "white",
           "landcolor": "white",
           "showlakes": true,
           "showland": true,
           "subunitcolor": "#C8D4E3"
          },
          "hoverlabel": {
           "align": "left"
          },
          "hovermode": "closest",
          "mapbox": {
           "style": "light"
          },
          "paper_bgcolor": "white",
          "plot_bgcolor": "white",
          "polar": {
           "angularaxis": {
            "gridcolor": "#EBF0F8",
            "linecolor": "#EBF0F8",
            "ticks": ""
           },
           "bgcolor": "white",
           "radialaxis": {
            "gridcolor": "#EBF0F8",
            "linecolor": "#EBF0F8",
            "ticks": ""
           }
          },
          "scene": {
           "xaxis": {
            "backgroundcolor": "white",
            "gridcolor": "#DFE8F3",
            "gridwidth": 2,
            "linecolor": "#EBF0F8",
            "showbackground": true,
            "ticks": "",
            "zerolinecolor": "#EBF0F8"
           },
           "yaxis": {
            "backgroundcolor": "white",
            "gridcolor": "#DFE8F3",
            "gridwidth": 2,
            "linecolor": "#EBF0F8",
            "showbackground": true,
            "ticks": "",
            "zerolinecolor": "#EBF0F8"
           },
           "zaxis": {
            "backgroundcolor": "white",
            "gridcolor": "#DFE8F3",
            "gridwidth": 2,
            "linecolor": "#EBF0F8",
            "showbackground": true,
            "ticks": "",
            "zerolinecolor": "#EBF0F8"
           }
          },
          "shapedefaults": {
           "line": {
            "color": "#2a3f5f"
           }
          },
          "ternary": {
           "aaxis": {
            "gridcolor": "#DFE8F3",
            "linecolor": "#A2B1C6",
            "ticks": ""
           },
           "baxis": {
            "gridcolor": "#DFE8F3",
            "linecolor": "#A2B1C6",
            "ticks": ""
           },
           "bgcolor": "white",
           "caxis": {
            "gridcolor": "#DFE8F3",
            "linecolor": "#A2B1C6",
            "ticks": ""
           }
          },
          "title": {
           "x": 0.05
          },
          "xaxis": {
           "automargin": true,
           "gridcolor": "#EBF0F8",
           "linecolor": "#EBF0F8",
           "ticks": "",
           "title": {
            "standoff": 15
           },
           "zerolinecolor": "#EBF0F8",
           "zerolinewidth": 2
          },
          "yaxis": {
           "automargin": true,
           "gridcolor": "#EBF0F8",
           "linecolor": "#EBF0F8",
           "ticks": "",
           "title": {
            "standoff": 15
           },
           "zerolinecolor": "#EBF0F8",
           "zerolinewidth": 2
          }
         }
        },
        "title": {
         "text": " "
        },
        "width": 1000,
        "xaxis": {
         "anchor": "y",
         "domain": [
          0,
          0.94
         ],
         "title": {
          "text": "Time"
         }
        },
        "yaxis": {
         "anchor": "x",
         "domain": [
          0,
          1
         ],
         "title": {
          "text": "diff"
         }
        },
        "yaxis2": {
         "anchor": "x",
         "overlaying": "y",
         "side": "right"
        }
       }
      }
     },
     "metadata": {},
     "output_type": "display_data"
    },
    {
     "data": {
      "application/papermill.record/text/plain": "-0.012"
     },
     "metadata": {
      "scrapbook": {
       "mime_prefix": "application/papermill.record/",
       "name": "trend_diff"
      }
     },
     "output_type": "display_data"
    }
   ],
   "source": [
    "dict_plot = [{'data' : st_data, 'var' : 'diff', 'ax' : 1, 'label' : 'Difference TMAX - TMIN'}]\n",
    "fig, trend = plot_timeseries_interactive(dict_plot, trendline=True, figsize = (25, 12), return_trend = True)\n",
    "glue(\"trend_diff\", float(trend[0]), display=False)\n"
   ]
  },
  {
   "cell_type": "markdown",
   "metadata": {},
   "source": [
    "**Fig.** Annual maximum of the difference of the maximum and minimum temperature within each day"
   ]
  },
  {
   "cell_type": "markdown",
   "metadata": {},
   "source": [
    "### Generate table\n",
    "The final step is to generate a table sumarizing different metrics of the data analyzed in the plots above"
   ]
  },
  {
   "cell_type": "code",
   "execution_count": 17,
   "metadata": {},
   "outputs": [
    {
     "data": {
      "image/png": "[encoded data removed]"
     },
     "metadata": {},
     "output_type": "display_data"
    }
   ],
   "source": [
    "\n",
    "var = 'diff'\n",
    "df = get_data_metrics(st_data, var, )\n",
    "fig = plot_df_table(df.T, figsize = (300, 400))"
   ]
  }
 ],
 "metadata": {
  "kernelspec": {
   "display_name": "cc_indicators_v2",
   "language": "python",
   "name": "python3"
  },
  "language_info": {
   "codemirror_mode": {
    "name": "ipython",
    "version": 3
   },
   "file_extension": ".py",
   "mimetype": "text/x-python",
   "name": "python",
   "nbconvert_exporter": "python",
   "pygments_lexer": "ipython3",
   "version": "3.12.0"
  }
 },
 "nbformat": 4,
 "nbformat_minor": 2
}
