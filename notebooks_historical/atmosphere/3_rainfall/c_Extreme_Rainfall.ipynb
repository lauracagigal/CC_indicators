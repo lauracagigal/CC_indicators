{
 "cells": [
  {
   "cell_type": "markdown",
   "metadata": {},
   "source": [
    "# Extreme Rainfall"
   ]
  },
  {
   "cell_type": "code",
   "execution_count": 1,
   "metadata": {
    "tags": [
     "hide",
     "hide-input"
    ]
   },
   "outputs": [],
   "source": [
    "import sys\n",
    "\n",
    "import os.path as op\n",
    "import numpy as np\n",
    "import pandas as pd\n",
    "\n",
    "sys.path.append(\"../../../../indicators_setup\")\n",
    "from ind_setup.plotting_int import plot_timeseries_interactive\n",
    "from ind_setup.plotting import plot_bar_probs\n",
    "from ind_setup.colors import get_df_col, plotting_style\n",
    "\n",
    "sys.path.append(\"../../../functions\")\n",
    "from data_downloaders import GHCN\n",
    "plotting_style()"
   ]
  },
  {
   "cell_type": "code",
   "execution_count": 2,
   "metadata": {},
   "outputs": [],
   "source": [
    "country = 'Palau'\n",
    "vars_interest = ['PRCP']"
   ]
  },
  {
   "cell_type": "markdown",
   "metadata": {},
   "source": [
    "## Get Data"
   ]
  },
  {
   "cell_type": "code",
   "execution_count": 3,
   "metadata": {},
   "outputs": [],
   "source": [
    "update_data = False\n",
    "path_data = \"../../../data\""
   ]
  },
  {
   "cell_type": "code",
   "execution_count": 4,
   "metadata": {
    "tags": [
     "hide",
     "hide-input"
    ]
   },
   "outputs": [],
   "source": [
    "if update_data:\n",
    "    df_country = GHCN.get_country_code(country)\n",
    "    print(f'The GHCN code for {country} is {df_country[\"Code\"].values[0]}')\n",
    "\n",
    "    df_stations = GHCN.download_stations_info()\n",
    "    df_country_stations = df_stations[df_stations['ID'].str.startswith(df_country.Code.values[0])]\n",
    "    print(f'There are {df_country_stations.shape[0]} stations in {country}')"
   ]
  },
  {
   "cell_type": "markdown",
   "metadata": {},
   "source": [
    "## Using Koror Station"
   ]
  },
  {
   "cell_type": "code",
   "execution_count": 5,
   "metadata": {
    "tags": [
     "hide",
     "hide-input"
    ]
   },
   "outputs": [],
   "source": [
    "if update_data:\n",
    "    GHCND_dir = 'https://www.ncei.noaa.gov/data/global-historical-climatology-network-daily/access/'\n",
    "    id = 'PSW00040309' # Koror Station\n",
    "    dict_prcp = GHCN.extract_dict_data_var(GHCND_dir, 'PRCP', df_country_stations.loc[df_country_stations['ID'] == id])[0]\n",
    "    data = dict_prcp[0]['data']#.dropna()\n",
    "    data.to_pickle(op.join(path_data, 'GHCN_precipitation.pkl'))\n",
    "else:\n",
    "    data = pd.read_pickle(op.join(path_data, 'GHCN_precipitation.pkl'))"
   ]
  },
  {
   "cell_type": "code",
   "execution_count": 6,
   "metadata": {},
   "outputs": [],
   "source": [
    "data = data.groupby(data.index.year).filter(lambda x: len(x) >= 300).dropna()"
   ]
  },
  {
   "cell_type": "code",
   "execution_count": 7,
   "metadata": {},
   "outputs": [],
   "source": [
    "datag = data.groupby(data.index.year).max()\n",
    "datag.index = pd.to_datetime(datag.index, format = '%Y')\n"
   ]
  },
  {
   "cell_type": "code",
   "execution_count": 8,
   "metadata": {},
   "outputs": [],
   "source": [
    "dict_plot = [{'data' : datag, 'var' : 'PRCP', 'ax' : 1, 'label':f'Annual Daily Maxima'},]"
   ]
  },
  {
   "cell_type": "code",
   "execution_count": 9,
   "metadata": {},
   "outputs": [
    {
     "data": {
      "application/vnd.plotly.v1+json": {
       "config": {
        "plotlyServerURL": "https://plot.ly"
       },
       "data": [
        {
         "line": {
          "color": "#636EFA"
         },
         "name": "Annual Daily Maxima",
         "type": "scatter",
         "x": [
          "1952-01-01T00:00:00",
          "1953-01-01T00:00:00",
          "1954-01-01T00:00:00",
          "1955-01-01T00:00:00",
          "1956-01-01T00:00:00",
          "1957-01-01T00:00:00",
          "1958-01-01T00:00:00",
          "1959-01-01T00:00:00",
          "1960-01-01T00:00:00",
          "1961-01-01T00:00:00",
          "1962-01-01T00:00:00",
          "1963-01-01T00:00:00",
          "1964-01-01T00:00:00",
          "1965-01-01T00:00:00",
          "1966-01-01T00:00:00",
          "1967-01-01T00:00:00",
          "1968-01-01T00:00:00",
          "1969-01-01T00:00:00",
          "1970-01-01T00:00:00",
          "1971-01-01T00:00:00",
          "1972-01-01T00:00:00",
          "1973-01-01T00:00:00",
          "1974-01-01T00:00:00",
          "1975-01-01T00:00:00",
          "1976-01-01T00:00:00",
          "1977-01-01T00:00:00",
          "1978-01-01T00:00:00",
          "1979-01-01T00:00:00",
          "1980-01-01T00:00:00",
          "1981-01-01T00:00:00",
          "1982-01-01T00:00:00",
          "1983-01-01T00:00:00",
          "1984-01-01T00:00:00",
          "1985-01-01T00:00:00",
          "1986-01-01T00:00:00",
          "1987-01-01T00:00:00",
          "1988-01-01T00:00:00",
          "1989-01-01T00:00:00",
          "1990-01-01T00:00:00",
          "1991-01-01T00:00:00",
          "1992-01-01T00:00:00",
          "1993-01-01T00:00:00",
          "1994-01-01T00:00:00",
          "1995-01-01T00:00:00",
          "1996-01-01T00:00:00",
          "1997-01-01T00:00:00",
          "1998-01-01T00:00:00",
          "1999-01-01T00:00:00",
          "2000-01-01T00:00:00",
          "2001-01-01T00:00:00",
          "2002-01-01T00:00:00",
          "2003-01-01T00:00:00",
          "2004-01-01T00:00:00",
          "2005-01-01T00:00:00",
          "2006-01-01T00:00:00",
          "2007-01-01T00:00:00",
          "2008-01-01T00:00:00",
          "2009-01-01T00:00:00",
          "2010-01-01T00:00:00",
          "2011-01-01T00:00:00",
          "2012-01-01T00:00:00",
          "2013-01-01T00:00:00",
          "2014-01-01T00:00:00",
          "2015-01-01T00:00:00",
          "2016-01-01T00:00:00",
          "2017-01-01T00:00:00",
          "2018-01-01T00:00:00",
          "2020-01-01T00:00:00",
          "2021-01-01T00:00:00",
          "2022-01-01T00:00:00",
          "2023-01-01T00:00:00",
          "2024-01-01T00:00:00"
         ],
         "xaxis": "x",
         "y": [
          126,
          156.7,
          127.8,
          194.3,
          137.9,
          157,
          208.3,
          175.5,
          124.7,
          107.7,
          208.5,
          114.6,
          121.4,
          121.9,
          135.4,
          131.1,
          99.8,
          105.4,
          100.6,
          201.2,
          147.8,
          114.8,
          348.5,
          173.5,
          305.8,
          105.4,
          157.5,
          296.4,
          200.7,
          192,
          195.6,
          79.8,
          81.5,
          136.9,
          136.4,
          146.6,
          156.5,
          134.4,
          203.5,
          350,
          84.3,
          76.2,
          119.1,
          168.7,
          101.3,
          135.6,
          114.8,
          179.3,
          143.3,
          180.6,
          145.8,
          124.7,
          202.9,
          191.8,
          186.2,
          101.6,
          97.3,
          115.1,
          80.8,
          254.3,
          72.9,
          88.1,
          159,
          117.6,
          85.6,
          126.7,
          176.8,
          115.6,
          168.4,
          207.3,
          186.4,
          162.1
         ],
         "yaxis": "y"
        },
        {
         "line": {
          "color": "black",
          "dash": "dot"
         },
         "mode": "lines",
         "name": "Trend (rate = -0.178/year) - Not Significant (p > 0.05)",
         "showlegend": true,
         "type": "scatter",
         "x": [
          "1952-01-01T00:00:00",
          "1953-01-01T00:00:00",
          "1954-01-01T00:00:00",
          "1955-01-01T00:00:00",
          "1956-01-01T00:00:00",
          "1957-01-01T00:00:00",
          "1958-01-01T00:00:00",
          "1959-01-01T00:00:00",
          "1960-01-01T00:00:00",
          "1961-01-01T00:00:00",
          "1962-01-01T00:00:00",
          "1963-01-01T00:00:00",
          "1964-01-01T00:00:00",
          "1965-01-01T00:00:00",
          "1966-01-01T00:00:00",
          "1967-01-01T00:00:00",
          "1968-01-01T00:00:00",
          "1969-01-01T00:00:00",
          "1970-01-01T00:00:00",
          "1971-01-01T00:00:00",
          "1972-01-01T00:00:00",
          "1973-01-01T00:00:00",
          "1974-01-01T00:00:00",
          "1975-01-01T00:00:00",
          "1976-01-01T00:00:00",
          "1977-01-01T00:00:00",
          "1978-01-01T00:00:00",
          "1979-01-01T00:00:00",
          "1980-01-01T00:00:00",
          "1981-01-01T00:00:00",
          "1982-01-01T00:00:00",
          "1983-01-01T00:00:00",
          "1984-01-01T00:00:00",
          "1985-01-01T00:00:00",
          "1986-01-01T00:00:00",
          "1987-01-01T00:00:00",
          "1988-01-01T00:00:00",
          "1989-01-01T00:00:00",
          "1990-01-01T00:00:00",
          "1991-01-01T00:00:00",
          "1992-01-01T00:00:00",
          "1993-01-01T00:00:00",
          "1994-01-01T00:00:00",
          "1995-01-01T00:00:00",
          "1996-01-01T00:00:00",
          "1997-01-01T00:00:00",
          "1998-01-01T00:00:00",
          "1999-01-01T00:00:00",
          "2000-01-01T00:00:00",
          "2001-01-01T00:00:00",
          "2002-01-01T00:00:00",
          "2003-01-01T00:00:00",
          "2004-01-01T00:00:00",
          "2005-01-01T00:00:00",
          "2006-01-01T00:00:00",
          "2007-01-01T00:00:00",
          "2008-01-01T00:00:00",
          "2009-01-01T00:00:00",
          "2010-01-01T00:00:00",
          "2011-01-01T00:00:00",
          "2012-01-01T00:00:00",
          "2013-01-01T00:00:00",
          "2014-01-01T00:00:00",
          "2015-01-01T00:00:00",
          "2016-01-01T00:00:00",
          "2017-01-01T00:00:00",
          "2018-01-01T00:00:00",
          "2020-01-01T00:00:00",
          "2021-01-01T00:00:00",
          "2022-01-01T00:00:00",
          "2023-01-01T00:00:00",
          "2024-01-01T00:00:00"
         ],
         "xaxis": "x",
         "y": [
          158.95312673641772,
          158.77509220717553,
          158.59754411107335,
          158.41999601497116,
          158.24244791886898,
          158.0644133896268,
          157.8868652935246,
          157.70931719742242,
          157.53176910132024,
          157.35373457207805,
          157.17618647597587,
          156.99863837987368,
          156.8210902837715,
          156.64305575452929,
          156.4655076584271,
          156.28795956232491,
          156.11041146622273,
          155.93237693698055,
          155.75482884087836,
          155.57728074477617,
          155.399732648674,
          155.2216981194318,
          155.04415002332962,
          154.86660192722744,
          154.68905383112525,
          154.51101930188304,
          154.33347120578085,
          154.15592310967867,
          153.97837501357648,
          153.8003404843343,
          153.6227923882321,
          153.44524429212993,
          153.26769619602774,
          153.08966166678556,
          152.91211357068337,
          152.7345654745812,
          152.557017378479,
          152.37898284923682,
          152.20143475313463,
          152.02388665703245,
          151.84633856093026,
          151.66830403168805,
          151.49075593558587,
          151.31320783948368,
          151.1356597433815,
          150.9576252141393,
          150.78007711803713,
          150.60252902193494,
          150.42498092583276,
          150.24694639659057,
          150.0693983004884,
          149.8918502043862,
          149.71430210828402,
          149.53626757904183,
          149.35871948293965,
          149.18117138683746,
          149.00362329073528,
          148.82558876149307,
          148.64804066539088,
          148.4704925692887,
          148.2929444731865,
          148.11490994394433,
          147.93736184784214,
          147.75981375173996,
          147.58226565563777,
          147.4042311263956,
          147.2266830302934,
          146.87158683808903,
          146.69355230884682,
          146.51600421274463,
          146.33845611664248,
          146.16090802054026
         ],
         "yaxis": "y"
        }
       ],
       "layout": {
        "height": 480,
        "legend": {
         "font": {
          "size": 12
         },
         "orientation": "h",
         "x": 0.5,
         "xanchor": "center",
         "y": 1.1,
         "yanchor": "bottom"
        },
        "template": {
         "data": {
          "bar": [
           {
            "error_x": {
             "color": "#2a3f5f"
            },
            "error_y": {
             "color": "#2a3f5f"
            },
            "marker": {
             "line": {
              "color": "white",
              "width": 0.5
             },
             "pattern": {
              "fillmode": "overlay",
              "size": 10,
              "solidity": 0.2
             }
            },
            "type": "bar"
           }
          ],
          "barpolar": [
           {
            "marker": {
             "line": {
              "color": "white",
              "width": 0.5
             },
             "pattern": {
              "fillmode": "overlay",
              "size": 10,
              "solidity": 0.2
             }
            },
            "type": "barpolar"
           }
          ],
          "carpet": [
           {
            "aaxis": {
             "endlinecolor": "#2a3f5f",
             "gridcolor": "#C8D4E3",
             "linecolor": "#C8D4E3",
             "minorgridcolor": "#C8D4E3",
             "startlinecolor": "#2a3f5f"
            },
            "baxis": {
             "endlinecolor": "#2a3f5f",
             "gridcolor": "#C8D4E3",
             "linecolor": "#C8D4E3",
             "minorgridcolor": "#C8D4E3",
             "startlinecolor": "#2a3f5f"
            },
            "type": "carpet"
           }
          ],
          "choropleth": [
           {
            "colorbar": {
             "outlinewidth": 0,
             "ticks": ""
            },
            "type": "choropleth"
           }
          ],
          "contour": [
           {
            "colorbar": {
             "outlinewidth": 0,
             "ticks": ""
            },
            "colorscale": [
             [
              0,
              "#0d0887"
             ],
             [
              0.1111111111111111,
              "#46039f"
             ],
             [
              0.2222222222222222,
              "#7201a8"
             ],
             [
              0.3333333333333333,
              "#9c179e"
             ],
             [
              0.4444444444444444,
              "#bd3786"
             ],
             [
              0.5555555555555556,
              "#d8576b"
             ],
             [
              0.6666666666666666,
              "#ed7953"
             ],
             [
              0.7777777777777778,
              "#fb9f3a"
             ],
             [
              0.8888888888888888,
              "#fdca26"
             ],
             [
              1,
              "#f0f921"
             ]
            ],
            "type": "contour"
           }
          ],
          "contourcarpet": [
           {
            "colorbar": {
             "outlinewidth": 0,
             "ticks": ""
            },
            "type": "contourcarpet"
           }
          ],
          "heatmap": [
           {
            "colorbar": {
             "outlinewidth": 0,
             "ticks": ""
            },
            "colorscale": [
             [
              0,
              "#0d0887"
             ],
             [
              0.1111111111111111,
              "#46039f"
             ],
             [
              0.2222222222222222,
              "#7201a8"
             ],
             [
              0.3333333333333333,
              "#9c179e"
             ],
             [
              0.4444444444444444,
              "#bd3786"
             ],
             [
              0.5555555555555556,
              "#d8576b"
             ],
             [
              0.6666666666666666,
              "#ed7953"
             ],
             [
              0.7777777777777778,
              "#fb9f3a"
             ],
             [
              0.8888888888888888,
              "#fdca26"
             ],
             [
              1,
              "#f0f921"
             ]
            ],
            "type": "heatmap"
           }
          ],
          "heatmapgl": [
           {
            "colorbar": {
             "outlinewidth": 0,
             "ticks": ""
            },
            "colorscale": [
             [
              0,
              "#0d0887"
             ],
             [
              0.1111111111111111,
              "#46039f"
             ],
             [
              0.2222222222222222,
              "#7201a8"
             ],
             [
              0.3333333333333333,
              "#9c179e"
             ],
             [
              0.4444444444444444,
              "#bd3786"
             ],
             [
              0.5555555555555556,
              "#d8576b"
             ],
             [
              0.6666666666666666,
              "#ed7953"
             ],
             [
              0.7777777777777778,
              "#fb9f3a"
             ],
             [
              0.8888888888888888,
              "#fdca26"
             ],
             [
              1,
              "#f0f921"
             ]
            ],
            "type": "heatmapgl"
           }
          ],
          "histogram": [
           {
            "marker": {
             "pattern": {
              "fillmode": "overlay",
              "size": 10,
              "solidity": 0.2
             }
            },
            "type": "histogram"
           }
          ],
          "histogram2d": [
           {
            "colorbar": {
             "outlinewidth": 0,
             "ticks": ""
            },
            "colorscale": [
             [
              0,
              "#0d0887"
             ],
             [
              0.1111111111111111,
              "#46039f"
             ],
             [
              0.2222222222222222,
              "#7201a8"
             ],
             [
              0.3333333333333333,
              "#9c179e"
             ],
             [
              0.4444444444444444,
              "#bd3786"
             ],
             [
              0.5555555555555556,
              "#d8576b"
             ],
             [
              0.6666666666666666,
              "#ed7953"
             ],
             [
              0.7777777777777778,
              "#fb9f3a"
             ],
             [
              0.8888888888888888,
              "#fdca26"
             ],
             [
              1,
              "#f0f921"
             ]
            ],
            "type": "histogram2d"
           }
          ],
          "histogram2dcontour": [
           {
            "colorbar": {
             "outlinewidth": 0,
             "ticks": ""
            },
            "colorscale": [
             [
              0,
              "#0d0887"
             ],
             [
              0.1111111111111111,
              "#46039f"
             ],
             [
              0.2222222222222222,
              "#7201a8"
             ],
             [
              0.3333333333333333,
              "#9c179e"
             ],
             [
              0.4444444444444444,
              "#bd3786"
             ],
             [
              0.5555555555555556,
              "#d8576b"
             ],
             [
              0.6666666666666666,
              "#ed7953"
             ],
             [
              0.7777777777777778,
              "#fb9f3a"
             ],
             [
              0.8888888888888888,
              "#fdca26"
             ],
             [
              1,
              "#f0f921"
             ]
            ],
            "type": "histogram2dcontour"
           }
          ],
          "mesh3d": [
           {
            "colorbar": {
             "outlinewidth": 0,
             "ticks": ""
            },
            "type": "mesh3d"
           }
          ],
          "parcoords": [
           {
            "line": {
             "colorbar": {
              "outlinewidth": 0,
              "ticks": ""
             }
            },
            "type": "parcoords"
           }
          ],
          "pie": [
           {
            "automargin": true,
            "type": "pie"
           }
          ],
          "scatter": [
           {
            "fillpattern": {
             "fillmode": "overlay",
             "size": 10,
             "solidity": 0.2
            },
            "type": "scatter"
           }
          ],
          "scatter3d": [
           {
            "line": {
             "colorbar": {
              "outlinewidth": 0,
              "ticks": ""
             }
            },
            "marker": {
             "colorbar": {
              "outlinewidth": 0,
              "ticks": ""
             }
            },
            "type": "scatter3d"
           }
          ],
          "scattercarpet": [
           {
            "marker": {
             "colorbar": {
              "outlinewidth": 0,
              "ticks": ""
             }
            },
            "type": "scattercarpet"
           }
          ],
          "scattergeo": [
           {
            "marker": {
             "colorbar": {
              "outlinewidth": 0,
              "ticks": ""
             }
            },
            "type": "scattergeo"
           }
          ],
          "scattergl": [
           {
            "marker": {
             "colorbar": {
              "outlinewidth": 0,
              "ticks": ""
             }
            },
            "type": "scattergl"
           }
          ],
          "scattermapbox": [
           {
            "marker": {
             "colorbar": {
              "outlinewidth": 0,
              "ticks": ""
             }
            },
            "type": "scattermapbox"
           }
          ],
          "scatterpolar": [
           {
            "marker": {
             "colorbar": {
              "outlinewidth": 0,
              "ticks": ""
             }
            },
            "type": "scatterpolar"
           }
          ],
          "scatterpolargl": [
           {
            "marker": {
             "colorbar": {
              "outlinewidth": 0,
              "ticks": ""
             }
            },
            "type": "scatterpolargl"
           }
          ],
          "scatterternary": [
           {
            "marker": {
             "colorbar": {
              "outlinewidth": 0,
              "ticks": ""
             }
            },
            "type": "scatterternary"
           }
          ],
          "surface": [
           {
            "colorbar": {
             "outlinewidth": 0,
             "ticks": ""
            },
            "colorscale": [
             [
              0,
              "#0d0887"
             ],
             [
              0.1111111111111111,
              "#46039f"
             ],
             [
              0.2222222222222222,
              "#7201a8"
             ],
             [
              0.3333333333333333,
              "#9c179e"
             ],
             [
              0.4444444444444444,
              "#bd3786"
             ],
             [
              0.5555555555555556,
              "#d8576b"
             ],
             [
              0.6666666666666666,
              "#ed7953"
             ],
             [
              0.7777777777777778,
              "#fb9f3a"
             ],
             [
              0.8888888888888888,
              "#fdca26"
             ],
             [
              1,
              "#f0f921"
             ]
            ],
            "type": "surface"
           }
          ],
          "table": [
           {
            "cells": {
             "fill": {
              "color": "#EBF0F8"
             },
             "line": {
              "color": "white"
             }
            },
            "header": {
             "fill": {
              "color": "#C8D4E3"
             },
             "line": {
              "color": "white"
             }
            },
            "type": "table"
           }
          ]
         },
         "layout": {
          "annotationdefaults": {
           "arrowcolor": "#2a3f5f",
           "arrowhead": 0,
           "arrowwidth": 1
          },
          "autotypenumbers": "strict",
          "coloraxis": {
           "colorbar": {
            "outlinewidth": 0,
            "ticks": ""
           }
          },
          "colorscale": {
           "diverging": [
            [
             0,
             "#8e0152"
            ],
            [
             0.1,
             "#c51b7d"
            ],
            [
             0.2,
             "#de77ae"
            ],
            [
             0.3,
             "#f1b6da"
            ],
            [
             0.4,
             "#fde0ef"
            ],
            [
             0.5,
             "#f7f7f7"
            ],
            [
             0.6,
             "#e6f5d0"
            ],
            [
             0.7,
             "#b8e186"
            ],
            [
             0.8,
             "#7fbc41"
            ],
            [
             0.9,
             "#4d9221"
            ],
            [
             1,
             "#276419"
            ]
           ],
           "sequential": [
            [
             0,
             "#0d0887"
            ],
            [
             0.1111111111111111,
             "#46039f"
            ],
            [
             0.2222222222222222,
             "#7201a8"
            ],
            [
             0.3333333333333333,
             "#9c179e"
            ],
            [
             0.4444444444444444,
             "#bd3786"
            ],
            [
             0.5555555555555556,
             "#d8576b"
            ],
            [
             0.6666666666666666,
             "#ed7953"
            ],
            [
             0.7777777777777778,
             "#fb9f3a"
            ],
            [
             0.8888888888888888,
             "#fdca26"
            ],
            [
             1,
             "#f0f921"
            ]
           ],
           "sequentialminus": [
            [
             0,
             "#0d0887"
            ],
            [
             0.1111111111111111,
             "#46039f"
            ],
            [
             0.2222222222222222,
             "#7201a8"
            ],
            [
             0.3333333333333333,
             "#9c179e"
            ],
            [
             0.4444444444444444,
             "#bd3786"
            ],
            [
             0.5555555555555556,
             "#d8576b"
            ],
            [
             0.6666666666666666,
             "#ed7953"
            ],
            [
             0.7777777777777778,
             "#fb9f3a"
            ],
            [
             0.8888888888888888,
             "#fdca26"
            ],
            [
             1,
             "#f0f921"
            ]
           ]
          },
          "colorway": [
           "#636efa",
           "#EF553B",
           "#00cc96",
           "#ab63fa",
           "#FFA15A",
           "#19d3f3",
           "#FF6692",
           "#B6E880",
           "#FF97FF",
           "#FECB52"
          ],
          "font": {
           "color": "#2a3f5f"
          },
          "geo": {
           "bgcolor": "white",
           "lakecolor": "white",
           "landcolor": "white",
           "showlakes": true,
           "showland": true,
           "subunitcolor": "#C8D4E3"
          },
          "hoverlabel": {
           "align": "left"
          },
          "hovermode": "closest",
          "mapbox": {
           "style": "light"
          },
          "paper_bgcolor": "white",
          "plot_bgcolor": "white",
          "polar": {
           "angularaxis": {
            "gridcolor": "#EBF0F8",
            "linecolor": "#EBF0F8",
            "ticks": ""
           },
           "bgcolor": "white",
           "radialaxis": {
            "gridcolor": "#EBF0F8",
            "linecolor": "#EBF0F8",
            "ticks": ""
           }
          },
          "scene": {
           "xaxis": {
            "backgroundcolor": "white",
            "gridcolor": "#DFE8F3",
            "gridwidth": 2,
            "linecolor": "#EBF0F8",
            "showbackground": true,
            "ticks": "",
            "zerolinecolor": "#EBF0F8"
           },
           "yaxis": {
            "backgroundcolor": "white",
            "gridcolor": "#DFE8F3",
            "gridwidth": 2,
            "linecolor": "#EBF0F8",
            "showbackground": true,
            "ticks": "",
            "zerolinecolor": "#EBF0F8"
           },
           "zaxis": {
            "backgroundcolor": "white",
            "gridcolor": "#DFE8F3",
            "gridwidth": 2,
            "linecolor": "#EBF0F8",
            "showbackground": true,
            "ticks": "",
            "zerolinecolor": "#EBF0F8"
           }
          },
          "shapedefaults": {
           "line": {
            "color": "#2a3f5f"
           }
          },
          "ternary": {
           "aaxis": {
            "gridcolor": "#DFE8F3",
            "linecolor": "#A2B1C6",
            "ticks": ""
           },
           "baxis": {
            "gridcolor": "#DFE8F3",
            "linecolor": "#A2B1C6",
            "ticks": ""
           },
           "bgcolor": "white",
           "caxis": {
            "gridcolor": "#DFE8F3",
            "linecolor": "#A2B1C6",
            "ticks": ""
           }
          },
          "title": {
           "x": 0.05
          },
          "xaxis": {
           "automargin": true,
           "gridcolor": "#EBF0F8",
           "linecolor": "#EBF0F8",
           "ticks": "",
           "title": {
            "standoff": 15
           },
           "zerolinecolor": "#EBF0F8",
           "zerolinewidth": 2
          },
          "yaxis": {
           "automargin": true,
           "gridcolor": "#EBF0F8",
           "linecolor": "#EBF0F8",
           "ticks": "",
           "title": {
            "standoff": 15
           },
           "zerolinecolor": "#EBF0F8",
           "zerolinewidth": 2
          }
         }
        },
        "title": {
         "text": " "
        },
        "width": 1000,
        "xaxis": {
         "anchor": "y",
         "domain": [
          0,
          0.94
         ],
         "title": {
          "text": "Time"
         }
        },
        "yaxis": {
         "anchor": "x",
         "domain": [
          0,
          1
         ],
         "title": {
          "text": "PRCP"
         }
        },
        "yaxis2": {
         "anchor": "x",
         "overlaying": "y",
         "side": "right"
        }
       }
      }
     },
     "metadata": {},
     "output_type": "display_data"
    }
   ],
   "source": [
    "plot_timeseries_interactive(dict_plot, trendline = True, figsize = (25, 12));"
   ]
  },
  {
   "cell_type": "code",
   "execution_count": 10,
   "metadata": {},
   "outputs": [
    {
     "data": {
      "text/plain": [
       "<Axes: ylabel='Maximum Daily precipitation'>"
      ]
     },
     "execution_count": 10,
     "metadata": {},
     "output_type": "execute_result"
    },
    {
     "data": {
      "image/png": "[encoded data removed]",
      "text/plain": [
       "<Figure size 1500x600 with 1 Axes>"
      ]
     },
     "metadata": {},
     "output_type": "display_data"
    }
   ],
   "source": [
    "plot_bar_probs(x = datag.index.year, y = datag.PRCP.values, trendline=True, figsize = (15, 6),\n",
    "                y_label = 'Maximum Daily precipitation')"
   ]
  },
  {
   "cell_type": "code",
   "execution_count": 11,
   "metadata": {},
   "outputs": [
    {
     "data": {
      "image/png": "[encoded data removed]",
      "text/plain": [
       "<Figure size 640x480 with 1 Axes>"
      ]
     },
     "metadata": {},
     "output_type": "display_data"
    }
   ],
   "source": [
    "from scipy.stats import genextreme\n",
    "import matplotlib.pyplot as plt\n",
    "# Fit the data to GEV distribution\n",
    "params = genextreme.fit(datag)\n",
    "\n",
    "# Plot the histogram\n",
    "plt.hist(datag, bins=10, density=True, alpha=0.5, label='Data', color = get_df_col()[1])\n",
    "\n",
    "# Generate the GEV distribution using the fitted parameters\n",
    "gev_dist = genextreme(*params)\n",
    "\n",
    "# Plot the GEV distribution\n",
    "x = np.linspace(datag.min(), datag.max(), 100)\n",
    "plt.plot(x, gev_dist.pdf(x), '-', color = get_df_col()[0], label='GEV Distribution')\n",
    "\n",
    "plt.xlabel('Annual Maximum Precipitation (mm)')\n",
    "plt.ylabel('Probability Density')\n",
    "plt.legend()\n",
    "plt.show()\n"
   ]
  },
  {
   "cell_type": "code",
   "execution_count": 12,
   "metadata": {},
   "outputs": [],
   "source": [
    "nsims = 1000\n",
    "years_sim = 100  # years of precipitation to simulate\n",
    "\n",
    "# use simulated GEVs\n",
    "var_sim = np.zeros([years_sim, nsims])*np.nan  # initialize output numpy array\n",
    "for sim in range(nsims):\n",
    "    \n",
    "    var_sim[:, sim] = gev_dist.rvs(size=years_sim)\n",
    "\n",
    "var_sim = var_sim.T \n",
    "time_sim = np.arange('1970-10-01', '{0}-10-01'.format(1970+years_sim), dtype='datetime64[Y]')\n",
    " "
   ]
  },
  {
   "cell_type": "code",
   "execution_count": 13,
   "metadata": {},
   "outputs": [],
   "source": [
    "# aux func for calculating rp time\n",
    "def t_rp(time_y):\n",
    "    ny = len(time_y)\n",
    "    return np.array([1/(1-(n/(ny+1))) for n in np.arange(1,ny+1)])\n",
    "\n",
    "# historical rp time and sorted annual maxima\n",
    "trp_hist = t_rp(np.unique(data.index.year))\n",
    "trp_hist_val = np.sort(data['PRCP'].groupby(data.index.year).max().values)\n",
    "\n",
    "# simulation rp time and sorted annual maxima\n",
    "trp_sim = t_rp(time_sim)\n",
    "trp_sim_val = np.sort(var_sim)\n",
    "\n",
    "# calculate simulation maxima percentiles\n",
    "p95 = np.percentile(trp_sim_val, 100-5/2.0, axis=0,)\n",
    "p50 = np.percentile(trp_sim_val, 50, axis=0,)\n",
    "p05 = np.percentile(trp_sim_val, 5/2.0, axis=0,)"
   ]
  },
  {
   "cell_type": "code",
   "execution_count": 14,
   "metadata": {},
   "outputs": [],
   "source": [
    "import plotly.graph_objects as go"
   ]
  },
  {
   "cell_type": "code",
   "execution_count": 15,
   "metadata": {},
   "outputs": [
    {
     "data": {
      "application/vnd.plotly.v1+json": {
       "config": {
        "plotlyServerURL": "https://plot.ly"
       },
       "data": [
        {
         "marker": {
          "color": "mediumturquoise"
         },
         "mode": "lines",
         "name": "P95",
         "type": "scatter",
         "x": [
          1.01,
          1.02020202020202,
          1.030612244897959,
          1.041237113402062,
          1.0520833333333335,
          1.063157894736842,
          1.074468085106383,
          1.086021505376344,
          1.0978260869565217,
          1.10989010989011,
          1.1222222222222222,
          1.1348314606741572,
          1.1477272727272727,
          1.160919540229885,
          1.1744186046511629,
          1.188235294117647,
          1.2023809523809523,
          1.2168674698795179,
          1.2317073170731707,
          1.2469135802469136,
          1.2625,
          1.2784810126582278,
          1.294871794871795,
          1.3116883116883116,
          1.3289473684210527,
          1.3466666666666667,
          1.364864864864865,
          1.3835616438356164,
          1.402777777777778,
          1.4225352112676057,
          1.442857142857143,
          1.463768115942029,
          1.4852941176470589,
          1.5074626865671643,
          1.5303030303030303,
          1.5538461538461539,
          1.578125,
          1.6031746031746033,
          1.6290322580645162,
          1.6557377049180328,
          1.6833333333333333,
          1.711864406779661,
          1.7413793103448274,
          1.7719298245614032,
          1.8035714285714284,
          1.8363636363636362,
          1.8703703703703702,
          1.9056603773584906,
          1.9423076923076923,
          1.9803921568627452,
          2.02,
          2.061224489795918,
          2.104166666666667,
          2.148936170212766,
          2.1956521739130435,
          2.244444444444445,
          2.295454545454545,
          2.3488372093023253,
          2.4047619047619047,
          2.4634146341463414,
          2.525,
          2.58974358974359,
          2.6578947368421053,
          2.72972972972973,
          2.805555555555556,
          2.885714285714286,
          2.9705882352941178,
          3.060606060606061,
          3.1562500000000004,
          3.2580645161290316,
          3.3666666666666663,
          3.482758620689655,
          3.6071428571428568,
          3.7407407407407405,
          3.8846153846153846,
          4.04,
          4.208333333333334,
          4.391304347826087,
          4.590909090909092,
          4.80952380952381,
          5.050000000000002,
          5.315789473684212,
          5.61111111111111,
          5.941176470588234,
          6.312499999999999,
          6.7333333333333325,
          7.2142857142857135,
          7.769230769230769,
          8.416666666666668,
          9.181818181818183,
          10.100000000000003,
          11.222222222222227,
          12.625000000000007,
          14.42857142857144,
          16.833333333333318,
          20.19999999999998,
          25.24999999999998,
          33.666666666666636,
          50.49999999999996,
          100.99999999999991
         ],
         "y": [
          81.04211161792226,
          84.72411676958461,
          88.60619509154168,
          90.91849124062871,
          93.13950041179197,
          94.93551675140073,
          97.32877900423941,
          99.2809146032605,
          100.75589043946327,
          102.49817793841582,
          103.95440805635278,
          105.15394101683202,
          106.39158572706177,
          107.59170344549615,
          109.39714342209275,
          110.39682063556161,
          111.84993082403241,
          112.96069118752828,
          114.17089552458793,
          115.14620777911598,
          116.42263133208314,
          118.02087904213097,
          119.30456785499878,
          120.27717620777909,
          121.63640090913749,
          122.88132181939021,
          124.36286517857273,
          125.10824487020008,
          126.35326819587807,
          127.63671046897076,
          128.92905960755564,
          129.87501612228624,
          130.62629490041255,
          131.7975466708881,
          132.82338456803174,
          133.63447646956055,
          134.9716432472381,
          136.27775389488164,
          137.63558470057262,
          138.60435367082349,
          139.87980104379156,
          141.37427463178275,
          142.67898562146144,
          143.90885243953255,
          145.0688885198661,
          145.9691614305291,
          147.57041902439894,
          149.24887949889256,
          150.014330246601,
          151.3881129252066,
          152.7808863407947,
          153.78107146172363,
          155.77043979393406,
          157.289186687729,
          158.44580659999974,
          160.6972164544065,
          161.70541597026752,
          163.1029380716458,
          164.5966634985053,
          166.17359862682713,
          167.65207423867236,
          169.10391892041855,
          170.36115525942486,
          172.92247188359008,
          174.08942911884466,
          176.2993505781536,
          177.9511622933844,
          180.30675612777685,
          182.01013027687756,
          183.59363170856133,
          186.08490409527667,
          188.4089790293575,
          191.30869103775257,
          193.3457571203257,
          195.94886966980377,
          199.46217091747187,
          201.91081266395938,
          205.54712527050518,
          208.31763890441258,
          211.34536118270765,
          214.33436113428047,
          216.70121661900956,
          220.6340075291013,
          224.28077112089457,
          228.93154276071863,
          234.86730443994873,
          238.38010989710602,
          244.6521188250794,
          251.63259184843534,
          259.29838508344824,
          267.47434741415117,
          276.2700800345738,
          281.81681696446395,
          295.7065204474708,
          311.3521364076609,
          327.28554536587325,
          352.99701706861237,
          386.27140967326284,
          446.3769065938764,
          620.6623551295932
         ]
        },
        {
         "fill": "tonexty",
         "fillcolor": "rgba(0, 181, 204, 0.10)",
         "marker": {
          "color": "mediumturquoise"
         },
         "mode": "lines",
         "name": "P05",
         "type": "scatter",
         "x": [
          1.01,
          1.02020202020202,
          1.030612244897959,
          1.041237113402062,
          1.0520833333333335,
          1.063157894736842,
          1.074468085106383,
          1.086021505376344,
          1.0978260869565217,
          1.10989010989011,
          1.1222222222222222,
          1.1348314606741572,
          1.1477272727272727,
          1.160919540229885,
          1.1744186046511629,
          1.188235294117647,
          1.2023809523809523,
          1.2168674698795179,
          1.2317073170731707,
          1.2469135802469136,
          1.2625,
          1.2784810126582278,
          1.294871794871795,
          1.3116883116883116,
          1.3289473684210527,
          1.3466666666666667,
          1.364864864864865,
          1.3835616438356164,
          1.402777777777778,
          1.4225352112676057,
          1.442857142857143,
          1.463768115942029,
          1.4852941176470589,
          1.5074626865671643,
          1.5303030303030303,
          1.5538461538461539,
          1.578125,
          1.6031746031746033,
          1.6290322580645162,
          1.6557377049180328,
          1.6833333333333333,
          1.711864406779661,
          1.7413793103448274,
          1.7719298245614032,
          1.8035714285714284,
          1.8363636363636362,
          1.8703703703703702,
          1.9056603773584906,
          1.9423076923076923,
          1.9803921568627452,
          2.02,
          2.061224489795918,
          2.104166666666667,
          2.148936170212766,
          2.1956521739130435,
          2.244444444444445,
          2.295454545454545,
          2.3488372093023253,
          2.4047619047619047,
          2.4634146341463414,
          2.525,
          2.58974358974359,
          2.6578947368421053,
          2.72972972972973,
          2.805555555555556,
          2.885714285714286,
          2.9705882352941178,
          3.060606060606061,
          3.1562500000000004,
          3.2580645161290316,
          3.3666666666666663,
          3.482758620689655,
          3.6071428571428568,
          3.7407407407407405,
          3.8846153846153846,
          4.04,
          4.208333333333334,
          4.391304347826087,
          4.590909090909092,
          4.80952380952381,
          5.050000000000002,
          5.315789473684212,
          5.61111111111111,
          5.941176470588234,
          6.312499999999999,
          6.7333333333333325,
          7.2142857142857135,
          7.769230769230769,
          8.416666666666668,
          9.181818181818183,
          10.100000000000003,
          11.222222222222227,
          12.625000000000007,
          14.42857142857144,
          16.833333333333318,
          20.19999999999998,
          25.24999999999998,
          33.666666666666636,
          50.49999999999996,
          100.99999999999991
         ],
         "y": [
          49.433567828634125,
          59.113792879587955,
          66.07168960763893,
          69.82680987232969,
          72.52582499420843,
          75.73786615678826,
          78.30097886538954,
          80.00737897129734,
          81.7692165070684,
          83.95298462249586,
          85.51434268280957,
          87.02026663098724,
          88.2925668619957,
          89.60164317219031,
          90.97157080526395,
          91.9556158236069,
          93.45658107114092,
          95.15626497954794,
          96.30887607400842,
          97.15007897978083,
          98.65837307326846,
          99.49462376456877,
          100.74005513081754,
          101.86205546457384,
          103.2594675628281,
          104.56574612245007,
          105.34329256699586,
          106.06879256029501,
          107.12236864036251,
          108.11463975196567,
          109.31214532548265,
          109.95487164026068,
          111.23569228453839,
          112.34751797408487,
          113.18341597035872,
          114.35775151883473,
          115.11913581540927,
          116.11485916164206,
          117.19020433417268,
          118.23707313408597,
          119.19478209637664,
          120.25703692895327,
          121.40141839723958,
          122.54056990386078,
          123.42853592826128,
          124.59016746667996,
          125.65712279324114,
          126.95293559502355,
          127.9630865283936,
          128.86547549299044,
          129.85147759063076,
          131.0045267327375,
          131.70241081714218,
          132.78301262227697,
          133.91538449657995,
          134.87846388296646,
          136.49352385582782,
          137.21505635902426,
          139.12461929395755,
          140.7202313905849,
          141.47194573272384,
          142.84144259328508,
          143.9134959212876,
          145.25690646846334,
          146.6904090039755,
          147.83543284208056,
          149.7302724803333,
          150.99211478581208,
          152.37250386291493,
          153.52617231419535,
          155.14117910091238,
          156.4175848584853,
          157.82228665062033,
          159.00735915591,
          161.0946582496401,
          162.60948475297909,
          165.18758714942172,
          166.44478009086257,
          169.0668746334525,
          170.47469430035235,
          173.15722424793088,
          174.10643047374543,
          176.09050607782774,
          178.4316385509218,
          180.44129024072112,
          183.5752036161166,
          185.10953443879438,
          189.0479221038781,
          192.45382444636243,
          196.09256958554315,
          198.85113627419094,
          204.4637672377067,
          207.7029953232229,
          212.2414271323416,
          216.85971364666915,
          225.59667718201814,
          233.3731168724209,
          240.9796220919056,
          258.1443624994353,
          280.52349553468935
         ]
        },
        {
         "marker": {
          "color": "black"
         },
         "mode": "lines",
         "name": "P50",
         "type": "scatter",
         "x": [
          1.01,
          1.02020202020202,
          1.030612244897959,
          1.041237113402062,
          1.0520833333333335,
          1.063157894736842,
          1.074468085106383,
          1.086021505376344,
          1.0978260869565217,
          1.10989010989011,
          1.1222222222222222,
          1.1348314606741572,
          1.1477272727272727,
          1.160919540229885,
          1.1744186046511629,
          1.188235294117647,
          1.2023809523809523,
          1.2168674698795179,
          1.2317073170731707,
          1.2469135802469136,
          1.2625,
          1.2784810126582278,
          1.294871794871795,
          1.3116883116883116,
          1.3289473684210527,
          1.3466666666666667,
          1.364864864864865,
          1.3835616438356164,
          1.402777777777778,
          1.4225352112676057,
          1.442857142857143,
          1.463768115942029,
          1.4852941176470589,
          1.5074626865671643,
          1.5303030303030303,
          1.5538461538461539,
          1.578125,
          1.6031746031746033,
          1.6290322580645162,
          1.6557377049180328,
          1.6833333333333333,
          1.711864406779661,
          1.7413793103448274,
          1.7719298245614032,
          1.8035714285714284,
          1.8363636363636362,
          1.8703703703703702,
          1.9056603773584906,
          1.9423076923076923,
          1.9803921568627452,
          2.02,
          2.061224489795918,
          2.104166666666667,
          2.148936170212766,
          2.1956521739130435,
          2.244444444444445,
          2.295454545454545,
          2.3488372093023253,
          2.4047619047619047,
          2.4634146341463414,
          2.525,
          2.58974358974359,
          2.6578947368421053,
          2.72972972972973,
          2.805555555555556,
          2.885714285714286,
          2.9705882352941178,
          3.060606060606061,
          3.1562500000000004,
          3.2580645161290316,
          3.3666666666666663,
          3.482758620689655,
          3.6071428571428568,
          3.7407407407407405,
          3.8846153846153846,
          4.04,
          4.208333333333334,
          4.391304347826087,
          4.590909090909092,
          4.80952380952381,
          5.050000000000002,
          5.315789473684212,
          5.61111111111111,
          5.941176470588234,
          6.312499999999999,
          6.7333333333333325,
          7.2142857142857135,
          7.769230769230769,
          8.416666666666668,
          9.181818181818183,
          10.100000000000003,
          11.222222222222227,
          12.625000000000007,
          14.42857142857144,
          16.833333333333318,
          20.19999999999998,
          25.24999999999998,
          33.666666666666636,
          50.49999999999996,
          100.99999999999991
         ],
         "y": [
          66.41040530692234,
          73.44486094403761,
          77.50856333211361,
          80.68156961119706,
          83.18287276527855,
          85.57525532364377,
          87.63228478375072,
          89.58593996361462,
          91.3042024473632,
          92.9098960318604,
          94.54750174022739,
          96.1518007146608,
          97.39170270563233,
          98.64417186529407,
          100.1397042858263,
          101.28176253650528,
          102.67636024829591,
          103.74183766198445,
          105.00328631773532,
          106.2644388844274,
          107.48964760552926,
          108.72448684715263,
          109.85714616216981,
          111.08042172559973,
          112.06466530616561,
          113.20127011055216,
          114.46260462293964,
          115.56409738126476,
          116.52307037420876,
          117.70645845921399,
          118.68773370565668,
          119.84505311362207,
          120.97569969494013,
          122.04499750372891,
          123.13017938815948,
          124.11726550798514,
          125.316636585108,
          126.28044863698756,
          127.36080300682804,
          128.4190841905485,
          129.50260863425007,
          130.66836157930447,
          131.66626424768938,
          132.8607900381732,
          133.90417248350556,
          134.93672291054455,
          136.0301455786871,
          137.16312784497666,
          138.38615787427,
          139.66982400365316,
          140.87351038701314,
          141.99800767130057,
          143.28663846126233,
          144.41835458027555,
          145.68522131231708,
          147.10099669098832,
          148.46180269341338,
          149.70099789293846,
          150.88830433240213,
          152.31652327939156,
          153.80557063687485,
          155.1837848464486,
          156.5379402081278,
          158.01884431552025,
          159.33040759783376,
          160.61940079533272,
          162.2723646800516,
          163.9319368453212,
          165.67229477369943,
          167.10075875440103,
          169.08083948970886,
          170.9085883098943,
          172.82354995903808,
          174.78593215172998,
          176.84794464692348,
          179.09624668185907,
          180.84520800356185,
          183.12758927539926,
          185.65878580711657,
          188.29061008279973,
          190.884145141813,
          193.43619820568978,
          196.48245789277436,
          199.21409254253803,
          202.4454051027978,
          205.6757518002392,
          209.4272532522419,
          213.24258052801596,
          217.55311881778476,
          222.61111511610267,
          227.7487592394507,
          234.13024491070922,
          240.48001180135628,
          247.73965708209252,
          257.55518897523973,
          268.3086256772747,
          284.2396763883063,
          301.5619098988943,
          328.58638945811106,
          383.8018939870807
         ]
        },
        {
         "marker": {
          "color": "red"
         },
         "mode": "markers",
         "name": "Hist",
         "type": "scatter",
         "x": [
          1.0138888888888888,
          1.028169014084507,
          1.0428571428571427,
          1.0579710144927537,
          1.0735294117647058,
          1.0895522388059702,
          1.106060606060606,
          1.123076923076923,
          1.140625,
          1.1587301587301586,
          1.1774193548387095,
          1.1967213114754098,
          1.2166666666666668,
          1.2372881355932204,
          1.2586206896551724,
          1.280701754385965,
          1.3035714285714286,
          1.3272727272727272,
          1.3518518518518516,
          1.3773584905660377,
          1.403846153846154,
          1.4313725490196079,
          1.4599999999999997,
          1.4897959183673468,
          1.5208333333333335,
          1.553191489361702,
          1.5869565217391302,
          1.6222222222222222,
          1.6590909090909092,
          1.697674418604651,
          1.738095238095238,
          1.7804878048780488,
          1.8250000000000002,
          1.8717948717948718,
          1.9210526315789471,
          1.9729729729729728,
          2.0277777777777777,
          2.0857142857142854,
          2.1470588235294117,
          2.212121212121212,
          2.28125,
          2.354838709677419,
          2.4333333333333336,
          2.5172413793103448,
          2.607142857142857,
          2.7037037037037033,
          2.807692307692308,
          2.9199999999999995,
          3.041666666666667,
          3.1739130434782603,
          3.3181818181818183,
          3.476190476190476,
          3.6500000000000004,
          3.8421052631578942,
          4.055555555555555,
          4.2941176470588225,
          4.5625,
          4.866666666666665,
          5.214285714285714,
          5.615384615384614,
          6.083333333333334,
          6.636363636363634,
          7.300000000000001,
          8.111111111111107,
          9.125,
          10.428571428571423,
          12.166666666666668,
          14.599999999999989,
          18.25,
          24.3333333333333,
          36.5,
          72.9999999999997
         ],
         "y": [
          72.9,
          76.2,
          79.8,
          80.8,
          81.5,
          84.3,
          85.6,
          88.1,
          97.3,
          99.8,
          100.6,
          101.3,
          101.6,
          105.4,
          105.4,
          107.7,
          114.6,
          114.8,
          114.8,
          115.1,
          115.6,
          117.6,
          119.1,
          121.4,
          121.9,
          124.7,
          124.7,
          126,
          126.7,
          127.8,
          131.1,
          134.4,
          135.4,
          135.6,
          136.4,
          136.9,
          137.9,
          143.3,
          145.8,
          146.6,
          147.8,
          156.5,
          156.7,
          157,
          157.5,
          159,
          162.1,
          168.4,
          168.7,
          173.5,
          175.5,
          176.8,
          179.3,
          180.6,
          186.2,
          186.4,
          191.8,
          192,
          194.3,
          195.6,
          200.7,
          201.2,
          202.9,
          203.5,
          207.3,
          208.3,
          208.5,
          254.3,
          296.4,
          305.8,
          348.5,
          350
         ]
        }
       ],
       "layout": {
        "height": 500,
        "template": {
         "data": {
          "bar": [
           {
            "error_x": {
             "color": "#2a3f5f"
            },
            "error_y": {
             "color": "#2a3f5f"
            },
            "marker": {
             "line": {
              "color": "#E5ECF6",
              "width": 0.5
             },
             "pattern": {
              "fillmode": "overlay",
              "size": 10,
              "solidity": 0.2
             }
            },
            "type": "bar"
           }
          ],
          "barpolar": [
           {
            "marker": {
             "line": {
              "color": "#E5ECF6",
              "width": 0.5
             },
             "pattern": {
              "fillmode": "overlay",
              "size": 10,
              "solidity": 0.2
             }
            },
            "type": "barpolar"
           }
          ],
          "carpet": [
           {
            "aaxis": {
             "endlinecolor": "#2a3f5f",
             "gridcolor": "white",
             "linecolor": "white",
             "minorgridcolor": "white",
             "startlinecolor": "#2a3f5f"
            },
            "baxis": {
             "endlinecolor": "#2a3f5f",
             "gridcolor": "white",
             "linecolor": "white",
             "minorgridcolor": "white",
             "startlinecolor": "#2a3f5f"
            },
            "type": "carpet"
           }
          ],
          "choropleth": [
           {
            "colorbar": {
             "outlinewidth": 0,
             "ticks": ""
            },
            "type": "choropleth"
           }
          ],
          "contour": [
           {
            "colorbar": {
             "outlinewidth": 0,
             "ticks": ""
            },
            "colorscale": [
             [
              0,
              "#0d0887"
             ],
             [
              0.1111111111111111,
              "#46039f"
             ],
             [
              0.2222222222222222,
              "#7201a8"
             ],
             [
              0.3333333333333333,
              "#9c179e"
             ],
             [
              0.4444444444444444,
              "#bd3786"
             ],
             [
              0.5555555555555556,
              "#d8576b"
             ],
             [
              0.6666666666666666,
              "#ed7953"
             ],
             [
              0.7777777777777778,
              "#fb9f3a"
             ],
             [
              0.8888888888888888,
              "#fdca26"
             ],
             [
              1,
              "#f0f921"
             ]
            ],
            "type": "contour"
           }
          ],
          "contourcarpet": [
           {
            "colorbar": {
             "outlinewidth": 0,
             "ticks": ""
            },
            "type": "contourcarpet"
           }
          ],
          "heatmap": [
           {
            "colorbar": {
             "outlinewidth": 0,
             "ticks": ""
            },
            "colorscale": [
             [
              0,
              "#0d0887"
             ],
             [
              0.1111111111111111,
              "#46039f"
             ],
             [
              0.2222222222222222,
              "#7201a8"
             ],
             [
              0.3333333333333333,
              "#9c179e"
             ],
             [
              0.4444444444444444,
              "#bd3786"
             ],
             [
              0.5555555555555556,
              "#d8576b"
             ],
             [
              0.6666666666666666,
              "#ed7953"
             ],
             [
              0.7777777777777778,
              "#fb9f3a"
             ],
             [
              0.8888888888888888,
              "#fdca26"
             ],
             [
              1,
              "#f0f921"
             ]
            ],
            "type": "heatmap"
           }
          ],
          "heatmapgl": [
           {
            "colorbar": {
             "outlinewidth": 0,
             "ticks": ""
            },
            "colorscale": [
             [
              0,
              "#0d0887"
             ],
             [
              0.1111111111111111,
              "#46039f"
             ],
             [
              0.2222222222222222,
              "#7201a8"
             ],
             [
              0.3333333333333333,
              "#9c179e"
             ],
             [
              0.4444444444444444,
              "#bd3786"
             ],
             [
              0.5555555555555556,
              "#d8576b"
             ],
             [
              0.6666666666666666,
              "#ed7953"
             ],
             [
              0.7777777777777778,
              "#fb9f3a"
             ],
             [
              0.8888888888888888,
              "#fdca26"
             ],
             [
              1,
              "#f0f921"
             ]
            ],
            "type": "heatmapgl"
           }
          ],
          "histogram": [
           {
            "marker": {
             "pattern": {
              "fillmode": "overlay",
              "size": 10,
              "solidity": 0.2
             }
            },
            "type": "histogram"
           }
          ],
          "histogram2d": [
           {
            "colorbar": {
             "outlinewidth": 0,
             "ticks": ""
            },
            "colorscale": [
             [
              0,
              "#0d0887"
             ],
             [
              0.1111111111111111,
              "#46039f"
             ],
             [
              0.2222222222222222,
              "#7201a8"
             ],
             [
              0.3333333333333333,
              "#9c179e"
             ],
             [
              0.4444444444444444,
              "#bd3786"
             ],
             [
              0.5555555555555556,
              "#d8576b"
             ],
             [
              0.6666666666666666,
              "#ed7953"
             ],
             [
              0.7777777777777778,
              "#fb9f3a"
             ],
             [
              0.8888888888888888,
              "#fdca26"
             ],
             [
              1,
              "#f0f921"
             ]
            ],
            "type": "histogram2d"
           }
          ],
          "histogram2dcontour": [
           {
            "colorbar": {
             "outlinewidth": 0,
             "ticks": ""
            },
            "colorscale": [
             [
              0,
              "#0d0887"
             ],
             [
              0.1111111111111111,
              "#46039f"
             ],
             [
              0.2222222222222222,
              "#7201a8"
             ],
             [
              0.3333333333333333,
              "#9c179e"
             ],
             [
              0.4444444444444444,
              "#bd3786"
             ],
             [
              0.5555555555555556,
              "#d8576b"
             ],
             [
              0.6666666666666666,
              "#ed7953"
             ],
             [
              0.7777777777777778,
              "#fb9f3a"
             ],
             [
              0.8888888888888888,
              "#fdca26"
             ],
             [
              1,
              "#f0f921"
             ]
            ],
            "type": "histogram2dcontour"
           }
          ],
          "mesh3d": [
           {
            "colorbar": {
             "outlinewidth": 0,
             "ticks": ""
            },
            "type": "mesh3d"
           }
          ],
          "parcoords": [
           {
            "line": {
             "colorbar": {
              "outlinewidth": 0,
              "ticks": ""
             }
            },
            "type": "parcoords"
           }
          ],
          "pie": [
           {
            "automargin": true,
            "type": "pie"
           }
          ],
          "scatter": [
           {
            "fillpattern": {
             "fillmode": "overlay",
             "size": 10,
             "solidity": 0.2
            },
            "type": "scatter"
           }
          ],
          "scatter3d": [
           {
            "line": {
             "colorbar": {
              "outlinewidth": 0,
              "ticks": ""
             }
            },
            "marker": {
             "colorbar": {
              "outlinewidth": 0,
              "ticks": ""
             }
            },
            "type": "scatter3d"
           }
          ],
          "scattercarpet": [
           {
            "marker": {
             "colorbar": {
              "outlinewidth": 0,
              "ticks": ""
             }
            },
            "type": "scattercarpet"
           }
          ],
          "scattergeo": [
           {
            "marker": {
             "colorbar": {
              "outlinewidth": 0,
              "ticks": ""
             }
            },
            "type": "scattergeo"
           }
          ],
          "scattergl": [
           {
            "marker": {
             "colorbar": {
              "outlinewidth": 0,
              "ticks": ""
             }
            },
            "type": "scattergl"
           }
          ],
          "scattermapbox": [
           {
            "marker": {
             "colorbar": {
              "outlinewidth": 0,
              "ticks": ""
             }
            },
            "type": "scattermapbox"
           }
          ],
          "scatterpolar": [
           {
            "marker": {
             "colorbar": {
              "outlinewidth": 0,
              "ticks": ""
             }
            },
            "type": "scatterpolar"
           }
          ],
          "scatterpolargl": [
           {
            "marker": {
             "colorbar": {
              "outlinewidth": 0,
              "ticks": ""
             }
            },
            "type": "scatterpolargl"
           }
          ],
          "scatterternary": [
           {
            "marker": {
             "colorbar": {
              "outlinewidth": 0,
              "ticks": ""
             }
            },
            "type": "scatterternary"
           }
          ],
          "surface": [
           {
            "colorbar": {
             "outlinewidth": 0,
             "ticks": ""
            },
            "colorscale": [
             [
              0,
              "#0d0887"
             ],
             [
              0.1111111111111111,
              "#46039f"
             ],
             [
              0.2222222222222222,
              "#7201a8"
             ],
             [
              0.3333333333333333,
              "#9c179e"
             ],
             [
              0.4444444444444444,
              "#bd3786"
             ],
             [
              0.5555555555555556,
              "#d8576b"
             ],
             [
              0.6666666666666666,
              "#ed7953"
             ],
             [
              0.7777777777777778,
              "#fb9f3a"
             ],
             [
              0.8888888888888888,
              "#fdca26"
             ],
             [
              1,
              "#f0f921"
             ]
            ],
            "type": "surface"
           }
          ],
          "table": [
           {
            "cells": {
             "fill": {
              "color": "#EBF0F8"
             },
             "line": {
              "color": "white"
             }
            },
            "header": {
             "fill": {
              "color": "#C8D4E3"
             },
             "line": {
              "color": "white"
             }
            },
            "type": "table"
           }
          ]
         },
         "layout": {
          "annotationdefaults": {
           "arrowcolor": "#2a3f5f",
           "arrowhead": 0,
           "arrowwidth": 1
          },
          "autotypenumbers": "strict",
          "coloraxis": {
           "colorbar": {
            "outlinewidth": 0,
            "ticks": ""
           }
          },
          "colorscale": {
           "diverging": [
            [
             0,
             "#8e0152"
            ],
            [
             0.1,
             "#c51b7d"
            ],
            [
             0.2,
             "#de77ae"
            ],
            [
             0.3,
             "#f1b6da"
            ],
            [
             0.4,
             "#fde0ef"
            ],
            [
             0.5,
             "#f7f7f7"
            ],
            [
             0.6,
             "#e6f5d0"
            ],
            [
             0.7,
             "#b8e186"
            ],
            [
             0.8,
             "#7fbc41"
            ],
            [
             0.9,
             "#4d9221"
            ],
            [
             1,
             "#276419"
            ]
           ],
           "sequential": [
            [
             0,
             "#0d0887"
            ],
            [
             0.1111111111111111,
             "#46039f"
            ],
            [
             0.2222222222222222,
             "#7201a8"
            ],
            [
             0.3333333333333333,
             "#9c179e"
            ],
            [
             0.4444444444444444,
             "#bd3786"
            ],
            [
             0.5555555555555556,
             "#d8576b"
            ],
            [
             0.6666666666666666,
             "#ed7953"
            ],
            [
             0.7777777777777778,
             "#fb9f3a"
            ],
            [
             0.8888888888888888,
             "#fdca26"
            ],
            [
             1,
             "#f0f921"
            ]
           ],
           "sequentialminus": [
            [
             0,
             "#0d0887"
            ],
            [
             0.1111111111111111,
             "#46039f"
            ],
            [
             0.2222222222222222,
             "#7201a8"
            ],
            [
             0.3333333333333333,
             "#9c179e"
            ],
            [
             0.4444444444444444,
             "#bd3786"
            ],
            [
             0.5555555555555556,
             "#d8576b"
            ],
            [
             0.6666666666666666,
             "#ed7953"
            ],
            [
             0.7777777777777778,
             "#fb9f3a"
            ],
            [
             0.8888888888888888,
             "#fdca26"
            ],
            [
             1,
             "#f0f921"
            ]
           ]
          },
          "colorway": [
           "#636efa",
           "#EF553B",
           "#00cc96",
           "#ab63fa",
           "#FFA15A",
           "#19d3f3",
           "#FF6692",
           "#B6E880",
           "#FF97FF",
           "#FECB52"
          ],
          "font": {
           "color": "#2a3f5f"
          },
          "geo": {
           "bgcolor": "white",
           "lakecolor": "white",
           "landcolor": "#E5ECF6",
           "showlakes": true,
           "showland": true,
           "subunitcolor": "white"
          },
          "hoverlabel": {
           "align": "left"
          },
          "hovermode": "closest",
          "mapbox": {
           "style": "light"
          },
          "paper_bgcolor": "white",
          "plot_bgcolor": "#E5ECF6",
          "polar": {
           "angularaxis": {
            "gridcolor": "white",
            "linecolor": "white",
            "ticks": ""
           },
           "bgcolor": "#E5ECF6",
           "radialaxis": {
            "gridcolor": "white",
            "linecolor": "white",
            "ticks": ""
           }
          },
          "scene": {
           "xaxis": {
            "backgroundcolor": "#E5ECF6",
            "gridcolor": "white",
            "gridwidth": 2,
            "linecolor": "white",
            "showbackground": true,
            "ticks": "",
            "zerolinecolor": "white"
           },
           "yaxis": {
            "backgroundcolor": "#E5ECF6",
            "gridcolor": "white",
            "gridwidth": 2,
            "linecolor": "white",
            "showbackground": true,
            "ticks": "",
            "zerolinecolor": "white"
           },
           "zaxis": {
            "backgroundcolor": "#E5ECF6",
            "gridcolor": "white",
            "gridwidth": 2,
            "linecolor": "white",
            "showbackground": true,
            "ticks": "",
            "zerolinecolor": "white"
           }
          },
          "shapedefaults": {
           "line": {
            "color": "#2a3f5f"
           }
          },
          "ternary": {
           "aaxis": {
            "gridcolor": "white",
            "linecolor": "white",
            "ticks": ""
           },
           "baxis": {
            "gridcolor": "white",
            "linecolor": "white",
            "ticks": ""
           },
           "bgcolor": "#E5ECF6",
           "caxis": {
            "gridcolor": "white",
            "linecolor": "white",
            "ticks": ""
           }
          },
          "title": {
           "x": 0.05
          },
          "xaxis": {
           "automargin": true,
           "gridcolor": "white",
           "linecolor": "white",
           "ticks": "",
           "title": {
            "standoff": 15
           },
           "zerolinecolor": "white",
           "zerolinewidth": 2
          },
          "yaxis": {
           "automargin": true,
           "gridcolor": "white",
           "linecolor": "white",
           "ticks": "",
           "title": {
            "standoff": 15
           },
           "zerolinecolor": "white",
           "zerolinewidth": 2
          }
         }
        },
        "title": {
         "text": "Annual Maxima"
        },
        "width": 800,
        "xaxis": {
         "title": {
          "text": "Return Period (years)"
         },
         "type": "log"
        },
        "yaxis": {
         "title": {
          "text": "Precipitation (mm/d)"
         }
        }
       }
      }
     },
     "metadata": {},
     "output_type": "display_data"
    }
   ],
   "source": [
    "fig = go.Figure()\n",
    "fig.add_trace(go.Scatter(x=trp_sim, y=p95, mode='lines', name='P95', marker_color='mediumturquoise'))\n",
    "fig.add_trace(go.Scatter(x=trp_sim, y=p05, mode='lines', name='P05', marker_color='mediumturquoise',  fill='tonexty', fillcolor='rgba(0, 181, 204, 0.10)'))\n",
    "fig.add_trace(go.Scatter(x=trp_sim, y=p50, mode='lines', name='P50', marker_color='black'))\n",
    "fig.add_trace(go.Scatter(x=trp_hist, y=trp_hist_val, mode='markers', name='Hist', marker_color='red'))\n",
    "\n",
    "\n",
    "fig.update_xaxes(type=\"log\")\n",
    "fig.update_layout(    \n",
    "    xaxis_title = \"Return Period (years)\",\n",
    "    yaxis_title = \"Precipitation (mm/d)\",\n",
    "    title = 'Annual Maxima',\n",
    "    width=800, height=500\n",
    ")\n",
    "fig.show()"
   ]
  },
  {
   "cell_type": "code",
   "execution_count": null,
   "metadata": {},
   "outputs": [],
   "source": []
  }
 ],
 "metadata": {
  "kernelspec": {
   "display_name": "cc_indicators",
   "language": "python",
   "name": "python3"
  },
  "language_info": {
   "codemirror_mode": {
    "name": "ipython",
    "version": 3
   },
   "file_extension": ".py",
   "mimetype": "text/x-python",
   "name": "python",
   "nbconvert_exporter": "python",
   "pygments_lexer": "ipython3",
   "version": "3.12.0"
  }
 },
 "nbformat": 4,
 "nbformat_minor": 2
}
