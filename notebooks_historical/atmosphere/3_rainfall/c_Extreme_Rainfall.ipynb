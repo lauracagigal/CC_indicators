{
 "cells": [
  {
   "cell_type": "markdown",
   "metadata": {},
   "source": [
    "# Extreme Rainfall"
   ]
  },
  {
   "cell_type": "code",
   "execution_count": 6,
   "metadata": {},
   "outputs": [],
   "source": [
    "import sys\n",
    "\n",
    "import os.path as op\n",
    "import numpy as np\n",
    "import pandas as pd\n",
    "\n",
    "sys.path.append(\"../../../../indicators_setup\")\n",
    "from ind_setup.plotting_int import plot_timeseries_interactive\n",
    "from ind_setup.plotting import plot_bar_probs\n",
    "from ind_setup.colors import get_df_col, plotting_style\n",
    "\n",
    "sys.path.append(\"../../../functions\")\n",
    "from data_downloaders import GHCN\n",
    "plotting_style()"
   ]
  },
  {
   "cell_type": "code",
   "execution_count": 7,
   "metadata": {},
   "outputs": [],
   "source": [
    "country = 'Palau'\n",
    "vars_interest = ['PRCP']"
   ]
  },
  {
   "cell_type": "markdown",
   "metadata": {},
   "source": [
    "## Get Data"
   ]
  },
  {
   "cell_type": "code",
   "execution_count": 8,
   "metadata": {},
   "outputs": [],
   "source": [
    "update_data = False\n",
    "path_data = \"../../../data\""
   ]
  },
  {
   "cell_type": "code",
   "execution_count": 9,
   "metadata": {},
   "outputs": [],
   "source": [
    "if update_data:\n",
    "    df_country = GHCN.get_country_code(country)\n",
    "    print(f'The GHCN code for {country} is {df_country[\"Code\"].values[0]}')\n",
    "\n",
    "    df_stations = GHCN.download_stations_info()\n",
    "    df_country_stations = df_stations[df_stations['ID'].str.startswith(df_country.Code.values[0])]\n",
    "    print(f'There are {df_country_stations.shape[0]} stations in {country}')"
   ]
  },
  {
   "cell_type": "markdown",
   "metadata": {},
   "source": [
    "## Using Koror Station"
   ]
  },
  {
   "cell_type": "code",
   "execution_count": 10,
   "metadata": {},
   "outputs": [],
   "source": [
    "if update_data:\n",
    "    GHCND_dir = 'https://www.ncei.noaa.gov/data/global-historical-climatology-network-daily/access/'\n",
    "    id = 'PSW00040309' # Koror Station\n",
    "    dict_prcp = GHCN.extract_dict_data_var(GHCND_dir, 'PRCP', df_country_stations.loc[df_country_stations['ID'] == id])[0]\n",
    "    data = dict_prcp[0]['data']#.dropna()\n",
    "    data.to_pickle(op.join(path_data, 'GHCN_precipitation.pkl'))\n",
    "else:\n",
    "    data = pd.read_pickle(op.join(path_data, 'GHCN_precipitation.pkl'))"
   ]
  },
  {
   "cell_type": "code",
   "execution_count": 11,
   "metadata": {},
   "outputs": [],
   "source": [
    "data = data.groupby(data.index.year).filter(lambda x: len(x) >= 300).dropna()"
   ]
  },
  {
   "cell_type": "code",
   "execution_count": 12,
   "metadata": {},
   "outputs": [],
   "source": [
    "datag = data.groupby(data.index.year).max()\n",
    "datag.index = pd.to_datetime(datag.index, format = '%Y')\n"
   ]
  },
  {
   "cell_type": "code",
   "execution_count": 13,
   "metadata": {},
   "outputs": [],
   "source": [
    "dict_plot = [{'data' : datag, 'var' : 'PRCP', 'ax' : 1, 'label':f'Annual Maxima'},]"
   ]
  },
  {
   "cell_type": "code",
   "execution_count": 14,
   "metadata": {},
   "outputs": [
    {
     "data": {
      "application/vnd.plotly.v1+json": {
       "config": {
        "plotlyServerURL": "https://plot.ly"
       },
       "data": [
        {
         "line": {
          "color": "#636EFA"
         },
         "name": "Annual Maxima",
         "type": "scatter",
         "x": [
          "1952-01-01T00:00:00",
          "1953-01-01T00:00:00",
          "1954-01-01T00:00:00",
          "1955-01-01T00:00:00",
          "1956-01-01T00:00:00",
          "1957-01-01T00:00:00",
          "1958-01-01T00:00:00",
          "1959-01-01T00:00:00",
          "1960-01-01T00:00:00",
          "1961-01-01T00:00:00",
          "1962-01-01T00:00:00",
          "1963-01-01T00:00:00",
          "1964-01-01T00:00:00",
          "1965-01-01T00:00:00",
          "1966-01-01T00:00:00",
          "1967-01-01T00:00:00",
          "1968-01-01T00:00:00",
          "1969-01-01T00:00:00",
          "1970-01-01T00:00:00",
          "1971-01-01T00:00:00",
          "1972-01-01T00:00:00",
          "1973-01-01T00:00:00",
          "1974-01-01T00:00:00",
          "1975-01-01T00:00:00",
          "1976-01-01T00:00:00",
          "1977-01-01T00:00:00",
          "1978-01-01T00:00:00",
          "1979-01-01T00:00:00",
          "1980-01-01T00:00:00",
          "1981-01-01T00:00:00",
          "1982-01-01T00:00:00",
          "1983-01-01T00:00:00",
          "1984-01-01T00:00:00",
          "1985-01-01T00:00:00",
          "1986-01-01T00:00:00",
          "1987-01-01T00:00:00",
          "1988-01-01T00:00:00",
          "1989-01-01T00:00:00",
          "1990-01-01T00:00:00",
          "1991-01-01T00:00:00",
          "1992-01-01T00:00:00",
          "1993-01-01T00:00:00",
          "1994-01-01T00:00:00",
          "1995-01-01T00:00:00",
          "1996-01-01T00:00:00",
          "1997-01-01T00:00:00",
          "1998-01-01T00:00:00",
          "1999-01-01T00:00:00",
          "2000-01-01T00:00:00",
          "2001-01-01T00:00:00",
          "2002-01-01T00:00:00",
          "2003-01-01T00:00:00",
          "2004-01-01T00:00:00",
          "2005-01-01T00:00:00",
          "2006-01-01T00:00:00",
          "2007-01-01T00:00:00",
          "2008-01-01T00:00:00",
          "2009-01-01T00:00:00",
          "2010-01-01T00:00:00",
          "2011-01-01T00:00:00",
          "2012-01-01T00:00:00",
          "2013-01-01T00:00:00",
          "2014-01-01T00:00:00",
          "2015-01-01T00:00:00",
          "2016-01-01T00:00:00",
          "2017-01-01T00:00:00",
          "2018-01-01T00:00:00",
          "2020-01-01T00:00:00",
          "2021-01-01T00:00:00",
          "2022-01-01T00:00:00",
          "2023-01-01T00:00:00",
          "2024-01-01T00:00:00"
         ],
         "xaxis": "x",
         "y": [
          126,
          156.7,
          127.8,
          194.3,
          137.9,
          157,
          208.3,
          175.5,
          124.7,
          107.7,
          208.5,
          114.6,
          121.4,
          121.9,
          135.4,
          131.1,
          99.8,
          105.4,
          100.6,
          201.2,
          147.8,
          114.8,
          348.5,
          173.5,
          305.8,
          105.4,
          157.5,
          296.4,
          200.7,
          192,
          195.6,
          79.8,
          81.5,
          136.9,
          136.4,
          146.6,
          156.5,
          134.4,
          203.5,
          350,
          84.3,
          76.2,
          119.1,
          168.7,
          101.3,
          135.6,
          114.8,
          179.3,
          143.3,
          180.6,
          145.8,
          124.7,
          202.9,
          191.8,
          186.2,
          101.6,
          97.3,
          115.1,
          80.8,
          254.3,
          72.9,
          88.1,
          159,
          117.6,
          85.6,
          126.7,
          176.8,
          115.6,
          168.4,
          207.3,
          186.4,
          162.1
         ],
         "yaxis": "y"
        },
        {
         "line": {
          "color": "black",
          "dash": "dot"
         },
         "mode": "lines",
         "name": "Trendline - Not Significant (p > 0.05)",
         "showlegend": true,
         "type": "scatter",
         "x": [
          "1952-01-01T00:00:00",
          "1953-01-01T00:00:00",
          "1954-01-01T00:00:00",
          "1955-01-01T00:00:00",
          "1956-01-01T00:00:00",
          "1957-01-01T00:00:00",
          "1958-01-01T00:00:00",
          "1959-01-01T00:00:00",
          "1960-01-01T00:00:00",
          "1961-01-01T00:00:00",
          "1962-01-01T00:00:00",
          "1963-01-01T00:00:00",
          "1964-01-01T00:00:00",
          "1965-01-01T00:00:00",
          "1966-01-01T00:00:00",
          "1967-01-01T00:00:00",
          "1968-01-01T00:00:00",
          "1969-01-01T00:00:00",
          "1970-01-01T00:00:00",
          "1971-01-01T00:00:00",
          "1972-01-01T00:00:00",
          "1973-01-01T00:00:00",
          "1974-01-01T00:00:00",
          "1975-01-01T00:00:00",
          "1976-01-01T00:00:00",
          "1977-01-01T00:00:00",
          "1978-01-01T00:00:00",
          "1979-01-01T00:00:00",
          "1980-01-01T00:00:00",
          "1981-01-01T00:00:00",
          "1982-01-01T00:00:00",
          "1983-01-01T00:00:00",
          "1984-01-01T00:00:00",
          "1985-01-01T00:00:00",
          "1986-01-01T00:00:00",
          "1987-01-01T00:00:00",
          "1988-01-01T00:00:00",
          "1989-01-01T00:00:00",
          "1990-01-01T00:00:00",
          "1991-01-01T00:00:00",
          "1992-01-01T00:00:00",
          "1993-01-01T00:00:00",
          "1994-01-01T00:00:00",
          "1995-01-01T00:00:00",
          "1996-01-01T00:00:00",
          "1997-01-01T00:00:00",
          "1998-01-01T00:00:00",
          "1999-01-01T00:00:00",
          "2000-01-01T00:00:00",
          "2001-01-01T00:00:00",
          "2002-01-01T00:00:00",
          "2003-01-01T00:00:00",
          "2004-01-01T00:00:00",
          "2005-01-01T00:00:00",
          "2006-01-01T00:00:00",
          "2007-01-01T00:00:00",
          "2008-01-01T00:00:00",
          "2009-01-01T00:00:00",
          "2010-01-01T00:00:00",
          "2011-01-01T00:00:00",
          "2012-01-01T00:00:00",
          "2013-01-01T00:00:00",
          "2014-01-01T00:00:00",
          "2015-01-01T00:00:00",
          "2016-01-01T00:00:00",
          "2017-01-01T00:00:00",
          "2018-01-01T00:00:00",
          "2020-01-01T00:00:00",
          "2021-01-01T00:00:00",
          "2022-01-01T00:00:00",
          "2023-01-01T00:00:00",
          "2024-01-01T00:00:00"
         ],
         "xaxis": "x",
         "y": [
          158.95312673641772,
          158.77509220717553,
          158.59754411107335,
          158.41999601497116,
          158.24244791886898,
          158.0644133896268,
          157.8868652935246,
          157.70931719742242,
          157.53176910132024,
          157.35373457207805,
          157.17618647597587,
          156.99863837987368,
          156.8210902837715,
          156.64305575452929,
          156.4655076584271,
          156.28795956232491,
          156.11041146622273,
          155.93237693698055,
          155.75482884087836,
          155.57728074477617,
          155.399732648674,
          155.2216981194318,
          155.04415002332962,
          154.86660192722744,
          154.68905383112525,
          154.51101930188304,
          154.33347120578085,
          154.15592310967867,
          153.97837501357648,
          153.8003404843343,
          153.6227923882321,
          153.44524429212993,
          153.26769619602774,
          153.08966166678556,
          152.91211357068337,
          152.7345654745812,
          152.557017378479,
          152.37898284923682,
          152.20143475313463,
          152.02388665703245,
          151.84633856093026,
          151.66830403168805,
          151.49075593558587,
          151.31320783948368,
          151.1356597433815,
          150.9576252141393,
          150.78007711803713,
          150.60252902193494,
          150.42498092583276,
          150.24694639659057,
          150.0693983004884,
          149.8918502043862,
          149.71430210828402,
          149.53626757904183,
          149.35871948293965,
          149.18117138683746,
          149.00362329073528,
          148.82558876149307,
          148.64804066539088,
          148.4704925692887,
          148.2929444731865,
          148.11490994394433,
          147.93736184784214,
          147.75981375173996,
          147.58226565563777,
          147.4042311263956,
          147.2266830302934,
          146.87158683808903,
          146.69355230884682,
          146.51600421274463,
          146.33845611664248,
          146.16090802054026
         ],
         "yaxis": "y"
        }
       ],
       "layout": {
        "height": 480,
        "legend": {
         "font": {
          "size": 12
         },
         "orientation": "h",
         "x": 0.5,
         "xanchor": "center",
         "y": 1.1,
         "yanchor": "bottom"
        },
        "template": {
         "data": {
          "bar": [
           {
            "error_x": {
             "color": "#2a3f5f"
            },
            "error_y": {
             "color": "#2a3f5f"
            },
            "marker": {
             "line": {
              "color": "white",
              "width": 0.5
             },
             "pattern": {
              "fillmode": "overlay",
              "size": 10,
              "solidity": 0.2
             }
            },
            "type": "bar"
           }
          ],
          "barpolar": [
           {
            "marker": {
             "line": {
              "color": "white",
              "width": 0.5
             },
             "pattern": {
              "fillmode": "overlay",
              "size": 10,
              "solidity": 0.2
             }
            },
            "type": "barpolar"
           }
          ],
          "carpet": [
           {
            "aaxis": {
             "endlinecolor": "#2a3f5f",
             "gridcolor": "#C8D4E3",
             "linecolor": "#C8D4E3",
             "minorgridcolor": "#C8D4E3",
             "startlinecolor": "#2a3f5f"
            },
            "baxis": {
             "endlinecolor": "#2a3f5f",
             "gridcolor": "#C8D4E3",
             "linecolor": "#C8D4E3",
             "minorgridcolor": "#C8D4E3",
             "startlinecolor": "#2a3f5f"
            },
            "type": "carpet"
           }
          ],
          "choropleth": [
           {
            "colorbar": {
             "outlinewidth": 0,
             "ticks": ""
            },
            "type": "choropleth"
           }
          ],
          "contour": [
           {
            "colorbar": {
             "outlinewidth": 0,
             "ticks": ""
            },
            "colorscale": [
             [
              0,
              "#0d0887"
             ],
             [
              0.1111111111111111,
              "#46039f"
             ],
             [
              0.2222222222222222,
              "#7201a8"
             ],
             [
              0.3333333333333333,
              "#9c179e"
             ],
             [
              0.4444444444444444,
              "#bd3786"
             ],
             [
              0.5555555555555556,
              "#d8576b"
             ],
             [
              0.6666666666666666,
              "#ed7953"
             ],
             [
              0.7777777777777778,
              "#fb9f3a"
             ],
             [
              0.8888888888888888,
              "#fdca26"
             ],
             [
              1,
              "#f0f921"
             ]
            ],
            "type": "contour"
           }
          ],
          "contourcarpet": [
           {
            "colorbar": {
             "outlinewidth": 0,
             "ticks": ""
            },
            "type": "contourcarpet"
           }
          ],
          "heatmap": [
           {
            "colorbar": {
             "outlinewidth": 0,
             "ticks": ""
            },
            "colorscale": [
             [
              0,
              "#0d0887"
             ],
             [
              0.1111111111111111,
              "#46039f"
             ],
             [
              0.2222222222222222,
              "#7201a8"
             ],
             [
              0.3333333333333333,
              "#9c179e"
             ],
             [
              0.4444444444444444,
              "#bd3786"
             ],
             [
              0.5555555555555556,
              "#d8576b"
             ],
             [
              0.6666666666666666,
              "#ed7953"
             ],
             [
              0.7777777777777778,
              "#fb9f3a"
             ],
             [
              0.8888888888888888,
              "#fdca26"
             ],
             [
              1,
              "#f0f921"
             ]
            ],
            "type": "heatmap"
           }
          ],
          "heatmapgl": [
           {
            "colorbar": {
             "outlinewidth": 0,
             "ticks": ""
            },
            "colorscale": [
             [
              0,
              "#0d0887"
             ],
             [
              0.1111111111111111,
              "#46039f"
             ],
             [
              0.2222222222222222,
              "#7201a8"
             ],
             [
              0.3333333333333333,
              "#9c179e"
             ],
             [
              0.4444444444444444,
              "#bd3786"
             ],
             [
              0.5555555555555556,
              "#d8576b"
             ],
             [
              0.6666666666666666,
              "#ed7953"
             ],
             [
              0.7777777777777778,
              "#fb9f3a"
             ],
             [
              0.8888888888888888,
              "#fdca26"
             ],
             [
              1,
              "#f0f921"
             ]
            ],
            "type": "heatmapgl"
           }
          ],
          "histogram": [
           {
            "marker": {
             "pattern": {
              "fillmode": "overlay",
              "size": 10,
              "solidity": 0.2
             }
            },
            "type": "histogram"
           }
          ],
          "histogram2d": [
           {
            "colorbar": {
             "outlinewidth": 0,
             "ticks": ""
            },
            "colorscale": [
             [
              0,
              "#0d0887"
             ],
             [
              0.1111111111111111,
              "#46039f"
             ],
             [
              0.2222222222222222,
              "#7201a8"
             ],
             [
              0.3333333333333333,
              "#9c179e"
             ],
             [
              0.4444444444444444,
              "#bd3786"
             ],
             [
              0.5555555555555556,
              "#d8576b"
             ],
             [
              0.6666666666666666,
              "#ed7953"
             ],
             [
              0.7777777777777778,
              "#fb9f3a"
             ],
             [
              0.8888888888888888,
              "#fdca26"
             ],
             [
              1,
              "#f0f921"
             ]
            ],
            "type": "histogram2d"
           }
          ],
          "histogram2dcontour": [
           {
            "colorbar": {
             "outlinewidth": 0,
             "ticks": ""
            },
            "colorscale": [
             [
              0,
              "#0d0887"
             ],
             [
              0.1111111111111111,
              "#46039f"
             ],
             [
              0.2222222222222222,
              "#7201a8"
             ],
             [
              0.3333333333333333,
              "#9c179e"
             ],
             [
              0.4444444444444444,
              "#bd3786"
             ],
             [
              0.5555555555555556,
              "#d8576b"
             ],
             [
              0.6666666666666666,
              "#ed7953"
             ],
             [
              0.7777777777777778,
              "#fb9f3a"
             ],
             [
              0.8888888888888888,
              "#fdca26"
             ],
             [
              1,
              "#f0f921"
             ]
            ],
            "type": "histogram2dcontour"
           }
          ],
          "mesh3d": [
           {
            "colorbar": {
             "outlinewidth": 0,
             "ticks": ""
            },
            "type": "mesh3d"
           }
          ],
          "parcoords": [
           {
            "line": {
             "colorbar": {
              "outlinewidth": 0,
              "ticks": ""
             }
            },
            "type": "parcoords"
           }
          ],
          "pie": [
           {
            "automargin": true,
            "type": "pie"
           }
          ],
          "scatter": [
           {
            "fillpattern": {
             "fillmode": "overlay",
             "size": 10,
             "solidity": 0.2
            },
            "type": "scatter"
           }
          ],
          "scatter3d": [
           {
            "line": {
             "colorbar": {
              "outlinewidth": 0,
              "ticks": ""
             }
            },
            "marker": {
             "colorbar": {
              "outlinewidth": 0,
              "ticks": ""
             }
            },
            "type": "scatter3d"
           }
          ],
          "scattercarpet": [
           {
            "marker": {
             "colorbar": {
              "outlinewidth": 0,
              "ticks": ""
             }
            },
            "type": "scattercarpet"
           }
          ],
          "scattergeo": [
           {
            "marker": {
             "colorbar": {
              "outlinewidth": 0,
              "ticks": ""
             }
            },
            "type": "scattergeo"
           }
          ],
          "scattergl": [
           {
            "marker": {
             "colorbar": {
              "outlinewidth": 0,
              "ticks": ""
             }
            },
            "type": "scattergl"
           }
          ],
          "scattermapbox": [
           {
            "marker": {
             "colorbar": {
              "outlinewidth": 0,
              "ticks": ""
             }
            },
            "type": "scattermapbox"
           }
          ],
          "scatterpolar": [
           {
            "marker": {
             "colorbar": {
              "outlinewidth": 0,
              "ticks": ""
             }
            },
            "type": "scatterpolar"
           }
          ],
          "scatterpolargl": [
           {
            "marker": {
             "colorbar": {
              "outlinewidth": 0,
              "ticks": ""
             }
            },
            "type": "scatterpolargl"
           }
          ],
          "scatterternary": [
           {
            "marker": {
             "colorbar": {
              "outlinewidth": 0,
              "ticks": ""
             }
            },
            "type": "scatterternary"
           }
          ],
          "surface": [
           {
            "colorbar": {
             "outlinewidth": 0,
             "ticks": ""
            },
            "colorscale": [
             [
              0,
              "#0d0887"
             ],
             [
              0.1111111111111111,
              "#46039f"
             ],
             [
              0.2222222222222222,
              "#7201a8"
             ],
             [
              0.3333333333333333,
              "#9c179e"
             ],
             [
              0.4444444444444444,
              "#bd3786"
             ],
             [
              0.5555555555555556,
              "#d8576b"
             ],
             [
              0.6666666666666666,
              "#ed7953"
             ],
             [
              0.7777777777777778,
              "#fb9f3a"
             ],
             [
              0.8888888888888888,
              "#fdca26"
             ],
             [
              1,
              "#f0f921"
             ]
            ],
            "type": "surface"
           }
          ],
          "table": [
           {
            "cells": {
             "fill": {
              "color": "#EBF0F8"
             },
             "line": {
              "color": "white"
             }
            },
            "header": {
             "fill": {
              "color": "#C8D4E3"
             },
             "line": {
              "color": "white"
             }
            },
            "type": "table"
           }
          ]
         },
         "layout": {
          "annotationdefaults": {
           "arrowcolor": "#2a3f5f",
           "arrowhead": 0,
           "arrowwidth": 1
          },
          "autotypenumbers": "strict",
          "coloraxis": {
           "colorbar": {
            "outlinewidth": 0,
            "ticks": ""
           }
          },
          "colorscale": {
           "diverging": [
            [
             0,
             "#8e0152"
            ],
            [
             0.1,
             "#c51b7d"
            ],
            [
             0.2,
             "#de77ae"
            ],
            [
             0.3,
             "#f1b6da"
            ],
            [
             0.4,
             "#fde0ef"
            ],
            [
             0.5,
             "#f7f7f7"
            ],
            [
             0.6,
             "#e6f5d0"
            ],
            [
             0.7,
             "#b8e186"
            ],
            [
             0.8,
             "#7fbc41"
            ],
            [
             0.9,
             "#4d9221"
            ],
            [
             1,
             "#276419"
            ]
           ],
           "sequential": [
            [
             0,
             "#0d0887"
            ],
            [
             0.1111111111111111,
             "#46039f"
            ],
            [
             0.2222222222222222,
             "#7201a8"
            ],
            [
             0.3333333333333333,
             "#9c179e"
            ],
            [
             0.4444444444444444,
             "#bd3786"
            ],
            [
             0.5555555555555556,
             "#d8576b"
            ],
            [
             0.6666666666666666,
             "#ed7953"
            ],
            [
             0.7777777777777778,
             "#fb9f3a"
            ],
            [
             0.8888888888888888,
             "#fdca26"
            ],
            [
             1,
             "#f0f921"
            ]
           ],
           "sequentialminus": [
            [
             0,
             "#0d0887"
            ],
            [
             0.1111111111111111,
             "#46039f"
            ],
            [
             0.2222222222222222,
             "#7201a8"
            ],
            [
             0.3333333333333333,
             "#9c179e"
            ],
            [
             0.4444444444444444,
             "#bd3786"
            ],
            [
             0.5555555555555556,
             "#d8576b"
            ],
            [
             0.6666666666666666,
             "#ed7953"
            ],
            [
             0.7777777777777778,
             "#fb9f3a"
            ],
            [
             0.8888888888888888,
             "#fdca26"
            ],
            [
             1,
             "#f0f921"
            ]
           ]
          },
          "colorway": [
           "#636efa",
           "#EF553B",
           "#00cc96",
           "#ab63fa",
           "#FFA15A",
           "#19d3f3",
           "#FF6692",
           "#B6E880",
           "#FF97FF",
           "#FECB52"
          ],
          "font": {
           "color": "#2a3f5f"
          },
          "geo": {
           "bgcolor": "white",
           "lakecolor": "white",
           "landcolor": "white",
           "showlakes": true,
           "showland": true,
           "subunitcolor": "#C8D4E3"
          },
          "hoverlabel": {
           "align": "left"
          },
          "hovermode": "closest",
          "mapbox": {
           "style": "light"
          },
          "paper_bgcolor": "white",
          "plot_bgcolor": "white",
          "polar": {
           "angularaxis": {
            "gridcolor": "#EBF0F8",
            "linecolor": "#EBF0F8",
            "ticks": ""
           },
           "bgcolor": "white",
           "radialaxis": {
            "gridcolor": "#EBF0F8",
            "linecolor": "#EBF0F8",
            "ticks": ""
           }
          },
          "scene": {
           "xaxis": {
            "backgroundcolor": "white",
            "gridcolor": "#DFE8F3",
            "gridwidth": 2,
            "linecolor": "#EBF0F8",
            "showbackground": true,
            "ticks": "",
            "zerolinecolor": "#EBF0F8"
           },
           "yaxis": {
            "backgroundcolor": "white",
            "gridcolor": "#DFE8F3",
            "gridwidth": 2,
            "linecolor": "#EBF0F8",
            "showbackground": true,
            "ticks": "",
            "zerolinecolor": "#EBF0F8"
           },
           "zaxis": {
            "backgroundcolor": "white",
            "gridcolor": "#DFE8F3",
            "gridwidth": 2,
            "linecolor": "#EBF0F8",
            "showbackground": true,
            "ticks": "",
            "zerolinecolor": "#EBF0F8"
           }
          },
          "shapedefaults": {
           "line": {
            "color": "#2a3f5f"
           }
          },
          "ternary": {
           "aaxis": {
            "gridcolor": "#DFE8F3",
            "linecolor": "#A2B1C6",
            "ticks": ""
           },
           "baxis": {
            "gridcolor": "#DFE8F3",
            "linecolor": "#A2B1C6",
            "ticks": ""
           },
           "bgcolor": "white",
           "caxis": {
            "gridcolor": "#DFE8F3",
            "linecolor": "#A2B1C6",
            "ticks": ""
           }
          },
          "title": {
           "x": 0.05
          },
          "xaxis": {
           "automargin": true,
           "gridcolor": "#EBF0F8",
           "linecolor": "#EBF0F8",
           "ticks": "",
           "title": {
            "standoff": 15
           },
           "zerolinecolor": "#EBF0F8",
           "zerolinewidth": 2
          },
          "yaxis": {
           "automargin": true,
           "gridcolor": "#EBF0F8",
           "linecolor": "#EBF0F8",
           "ticks": "",
           "title": {
            "standoff": 15
           },
           "zerolinecolor": "#EBF0F8",
           "zerolinewidth": 2
          }
         }
        },
        "title": {
         "text": " "
        },
        "width": 1000,
        "xaxis": {
         "anchor": "y",
         "domain": [
          0,
          0.94
         ],
         "title": {
          "text": "Time"
         }
        },
        "yaxis": {
         "anchor": "x",
         "domain": [
          0,
          1
         ],
         "title": {
          "text": "PRCP"
         }
        },
        "yaxis2": {
         "anchor": "x",
         "overlaying": "y",
         "side": "right"
        }
       }
      }
     },
     "metadata": {},
     "output_type": "display_data"
    }
   ],
   "source": [
    "plot_timeseries_interactive(dict_plot, trendline = True, figsize = (25, 12));"
   ]
  },
  {
   "cell_type": "code",
   "execution_count": 15,
   "metadata": {},
   "outputs": [
    {
     "data": {
      "text/plain": [
       "<Axes: ylabel='Maximum precipitation'>"
      ]
     },
     "execution_count": 15,
     "metadata": {},
     "output_type": "execute_result"
    },
    {
     "data": {
      "image/png": "[encoded data removed]",
      "text/plain": [
       "<Figure size 1500x600 with 1 Axes>"
      ]
     },
     "metadata": {},
     "output_type": "display_data"
    }
   ],
   "source": [
    "plot_bar_probs(x = datag.index.year, y = datag.PRCP.values, trendline=True, figsize = (15, 6),\n",
    "                y_label = 'Maximum precipitation')"
   ]
  },
  {
   "cell_type": "code",
   "execution_count": 16,
   "metadata": {},
   "outputs": [
    {
     "data": {
      "image/png": "[encoded data removed]",
      "text/plain": [
       "<Figure size 640x480 with 1 Axes>"
      ]
     },
     "metadata": {},
     "output_type": "display_data"
    }
   ],
   "source": [
    "from scipy.stats import genextreme\n",
    "import matplotlib.pyplot as plt\n",
    "# Fit the data to GEV distribution\n",
    "params = genextreme.fit(datag)\n",
    "\n",
    "# Plot the histogram\n",
    "plt.hist(datag, bins=10, density=True, alpha=0.5, label='Data', color = get_df_col()[1])\n",
    "\n",
    "# Generate the GEV distribution using the fitted parameters\n",
    "gev_dist = genextreme(*params)\n",
    "\n",
    "# Plot the GEV distribution\n",
    "x = np.linspace(datag.min(), datag.max(), 100)\n",
    "plt.plot(x, gev_dist.pdf(x), '-', color = get_df_col()[0], label='GEV Distribution')\n",
    "\n",
    "plt.xlabel('Annual Maximum Precipitation (mm)')\n",
    "plt.ylabel('Probability Density')\n",
    "plt.legend()\n",
    "plt.show()\n"
   ]
  },
  {
   "cell_type": "code",
   "execution_count": 17,
   "metadata": {},
   "outputs": [],
   "source": [
    "nsims = 1000\n",
    "years_sim = 100  # years of precipitation to simulate\n",
    "\n",
    "# use simulated GEVs\n",
    "var_sim = np.zeros([years_sim, nsims])*np.nan  # initialize output numpy array\n",
    "for sim in range(nsims):\n",
    "    \n",
    "    var_sim[:, sim] = gev_dist.rvs(size=years_sim)\n",
    "\n",
    "var_sim = var_sim.T \n",
    "time_sim = np.arange('1970-10-01', '{0}-10-01'.format(1970+years_sim), dtype='datetime64[Y]')\n",
    " "
   ]
  },
  {
   "cell_type": "code",
   "execution_count": 18,
   "metadata": {},
   "outputs": [],
   "source": [
    "# aux func for calculating rp time\n",
    "def t_rp(time_y):\n",
    "    ny = len(time_y)\n",
    "    return np.array([1/(1-(n/(ny+1))) for n in np.arange(1,ny+1)])\n",
    "\n",
    "# historical rp time and sorted annual maxima\n",
    "trp_hist = t_rp(np.unique(data.index.year))\n",
    "trp_hist_val = np.sort(data['PRCP'].groupby(data.index.year).max().values)\n",
    "\n",
    "# simulation rp time and sorted annual maxima\n",
    "trp_sim = t_rp(time_sim)\n",
    "trp_sim_val = np.sort(var_sim)\n",
    "\n",
    "# calculate simulation maxima percentiles\n",
    "p95 = np.percentile(trp_sim_val, 100-5/2.0, axis=0,)\n",
    "p50 = np.percentile(trp_sim_val, 50, axis=0,)\n",
    "p05 = np.percentile(trp_sim_val, 5/2.0, axis=0,)"
   ]
  },
  {
   "cell_type": "code",
   "execution_count": 19,
   "metadata": {},
   "outputs": [],
   "source": [
    "import plotly.graph_objects as go"
   ]
  },
  {
   "cell_type": "code",
   "execution_count": 20,
   "metadata": {},
   "outputs": [
    {
     "data": {
      "application/vnd.plotly.v1+json": {
       "config": {
        "plotlyServerURL": "https://plot.ly"
       },
       "data": [
        {
         "marker": {
          "color": "mediumturquoise"
         },
         "mode": "lines",
         "name": "P95",
         "type": "scatter",
         "x": [
          1.01,
          1.02020202020202,
          1.030612244897959,
          1.041237113402062,
          1.0520833333333335,
          1.063157894736842,
          1.074468085106383,
          1.086021505376344,
          1.0978260869565217,
          1.10989010989011,
          1.1222222222222222,
          1.1348314606741572,
          1.1477272727272727,
          1.160919540229885,
          1.1744186046511629,
          1.188235294117647,
          1.2023809523809523,
          1.2168674698795179,
          1.2317073170731707,
          1.2469135802469136,
          1.2625,
          1.2784810126582278,
          1.294871794871795,
          1.3116883116883116,
          1.3289473684210527,
          1.3466666666666667,
          1.364864864864865,
          1.3835616438356164,
          1.402777777777778,
          1.4225352112676057,
          1.442857142857143,
          1.463768115942029,
          1.4852941176470589,
          1.5074626865671643,
          1.5303030303030303,
          1.5538461538461539,
          1.578125,
          1.6031746031746033,
          1.6290322580645162,
          1.6557377049180328,
          1.6833333333333333,
          1.711864406779661,
          1.7413793103448274,
          1.7719298245614032,
          1.8035714285714284,
          1.8363636363636362,
          1.8703703703703702,
          1.9056603773584906,
          1.9423076923076923,
          1.9803921568627452,
          2.02,
          2.061224489795918,
          2.104166666666667,
          2.148936170212766,
          2.1956521739130435,
          2.244444444444445,
          2.295454545454545,
          2.3488372093023253,
          2.4047619047619047,
          2.4634146341463414,
          2.525,
          2.58974358974359,
          2.6578947368421053,
          2.72972972972973,
          2.805555555555556,
          2.885714285714286,
          2.9705882352941178,
          3.060606060606061,
          3.1562500000000004,
          3.2580645161290316,
          3.3666666666666663,
          3.482758620689655,
          3.6071428571428568,
          3.7407407407407405,
          3.8846153846153846,
          4.04,
          4.208333333333334,
          4.391304347826087,
          4.590909090909092,
          4.80952380952381,
          5.050000000000002,
          5.315789473684212,
          5.61111111111111,
          5.941176470588234,
          6.312499999999999,
          6.7333333333333325,
          7.2142857142857135,
          7.769230769230769,
          8.416666666666668,
          9.181818181818183,
          10.100000000000003,
          11.222222222222227,
          12.625000000000007,
          14.42857142857144,
          16.833333333333318,
          20.19999999999998,
          25.24999999999998,
          33.666666666666636,
          50.49999999999996,
          100.99999999999991
         ],
         "y": [
          81.19604240455818,
          85.3910511076862,
          88.62904934117178,
          91.63897966438724,
          93.5018051218582,
          95.54087882037422,
          97.02674089252749,
          98.99407420009383,
          101.08881251394094,
          101.96089736290072,
          103.87934228520294,
          105.50174782476837,
          106.35465090252468,
          108.0262282738734,
          109.70855234575366,
          111.08896505658247,
          112.34137381123423,
          114.08393391849494,
          115.0163929096509,
          115.78086114423381,
          117.14688657495722,
          118.23376011577902,
          119.67555652648105,
          120.7604538214986,
          121.9984308459522,
          122.82077562014823,
          124.23647991160425,
          125.15891574739643,
          126.70597168843376,
          127.93563844315554,
          129.36865348436666,
          129.9512673679911,
          130.9013140777892,
          131.83101261835185,
          133.64924728842567,
          134.18388797138635,
          135.7596171601838,
          136.4813441442937,
          137.7296200703555,
          139.2901910592795,
          140.54300067266774,
          141.62942789257923,
          142.52016350795168,
          143.67429807711036,
          145.20630950292977,
          146.15072240907566,
          147.86211953258552,
          148.98398491194996,
          150.33016454920624,
          151.3741264247595,
          152.42434294407067,
          153.99524984591434,
          155.81341235326124,
          157.34081069566002,
          159.1788640417439,
          159.84804473905464,
          161.25271008036518,
          163.0062473429285,
          164.3753299865516,
          165.38604648147842,
          167.89806390838132,
          169.83658285595249,
          171.18478697747855,
          173.22380486197386,
          175.5923386082641,
          177.0621464233243,
          179.3130573264243,
          180.60817176484468,
          182.6926033580947,
          184.80269175022406,
          186.64677507588465,
          189.10172273207758,
          190.8426831817144,
          193.99478747917473,
          196.50926887182177,
          199.20427404324337,
          201.50107674916535,
          203.7651733646368,
          206.47302403845606,
          209.1640685044241,
          211.9711784801087,
          216.83682622650255,
          220.57952023909752,
          223.9995122830434,
          229.25345077219492,
          233.65934441709248,
          238.8414513743877,
          244.3179535556339,
          250.70131966184087,
          256.6132404510666,
          265.8549704829911,
          272.5567257392144,
          282.09916291755945,
          292.6957262340406,
          307.23136894784074,
          324.96890057132015,
          348.36698328065364,
          391.47766366389794,
          462.4775091126682,
          650.8305695526964
         ]
        },
        {
         "fill": "tonexty",
         "fillcolor": "rgba(0, 181, 204, 0.10)",
         "marker": {
          "color": "mediumturquoise"
         },
         "mode": "lines",
         "name": "P05",
         "type": "scatter",
         "x": [
          1.01,
          1.02020202020202,
          1.030612244897959,
          1.041237113402062,
          1.0520833333333335,
          1.063157894736842,
          1.074468085106383,
          1.086021505376344,
          1.0978260869565217,
          1.10989010989011,
          1.1222222222222222,
          1.1348314606741572,
          1.1477272727272727,
          1.160919540229885,
          1.1744186046511629,
          1.188235294117647,
          1.2023809523809523,
          1.2168674698795179,
          1.2317073170731707,
          1.2469135802469136,
          1.2625,
          1.2784810126582278,
          1.294871794871795,
          1.3116883116883116,
          1.3289473684210527,
          1.3466666666666667,
          1.364864864864865,
          1.3835616438356164,
          1.402777777777778,
          1.4225352112676057,
          1.442857142857143,
          1.463768115942029,
          1.4852941176470589,
          1.5074626865671643,
          1.5303030303030303,
          1.5538461538461539,
          1.578125,
          1.6031746031746033,
          1.6290322580645162,
          1.6557377049180328,
          1.6833333333333333,
          1.711864406779661,
          1.7413793103448274,
          1.7719298245614032,
          1.8035714285714284,
          1.8363636363636362,
          1.8703703703703702,
          1.9056603773584906,
          1.9423076923076923,
          1.9803921568627452,
          2.02,
          2.061224489795918,
          2.104166666666667,
          2.148936170212766,
          2.1956521739130435,
          2.244444444444445,
          2.295454545454545,
          2.3488372093023253,
          2.4047619047619047,
          2.4634146341463414,
          2.525,
          2.58974358974359,
          2.6578947368421053,
          2.72972972972973,
          2.805555555555556,
          2.885714285714286,
          2.9705882352941178,
          3.060606060606061,
          3.1562500000000004,
          3.2580645161290316,
          3.3666666666666663,
          3.482758620689655,
          3.6071428571428568,
          3.7407407407407405,
          3.8846153846153846,
          4.04,
          4.208333333333334,
          4.391304347826087,
          4.590909090909092,
          4.80952380952381,
          5.050000000000002,
          5.315789473684212,
          5.61111111111111,
          5.941176470588234,
          6.312499999999999,
          6.7333333333333325,
          7.2142857142857135,
          7.769230769230769,
          8.416666666666668,
          9.181818181818183,
          10.100000000000003,
          11.222222222222227,
          12.625000000000007,
          14.42857142857144,
          16.833333333333318,
          20.19999999999998,
          25.24999999999998,
          33.666666666666636,
          50.49999999999996,
          100.99999999999991
         ],
         "y": [
          49.835513195997976,
          59.808688863559105,
          66.66771238214046,
          70.76569490328019,
          74.19976791990793,
          76.2591172708012,
          78.7563049454073,
          80.57346061441083,
          81.63345591827714,
          83.6637644364278,
          85.31767671395643,
          86.95954374935565,
          87.96369811110759,
          89.84574939098042,
          91.14983483968426,
          92.79548218490439,
          93.8541205362795,
          95.24477370881954,
          96.45947257274955,
          97.69712583533159,
          98.53021202801204,
          99.86113774150446,
          101.01743781561872,
          102.33584542196117,
          103.10843807169006,
          103.8362751804651,
          105.13742319302922,
          105.95932024246926,
          106.78860463485785,
          107.76967830149178,
          108.9443832784497,
          110.02881720202778,
          111.23222739502582,
          112.06513658279242,
          112.54361268941882,
          113.52957918957357,
          114.43630970047853,
          115.32796003499969,
          116.62781627509904,
          117.39588558182471,
          118.18723921217695,
          119.11013799537814,
          120.58682293777937,
          121.40830394317526,
          122.36947728263085,
          123.6198667610854,
          124.77807950808435,
          125.83168348370984,
          127.11919149907816,
          128.0951728980778,
          129.15928032335518,
          130.25940070139316,
          131.45084679094765,
          132.5961666824281,
          133.4918936316905,
          134.34062625382913,
          136.0406799469382,
          136.85565580947596,
          138.18575789788125,
          139.6165853202547,
          140.8509534214101,
          141.9134747599039,
          143.08020270461182,
          144.06843230040906,
          145.56781010977926,
          146.94345816686814,
          148.4489719935951,
          149.90355554663827,
          151.30537896711684,
          152.59935621600303,
          155.03661232052755,
          156.37539425129967,
          157.9023301944258,
          159.70309309510932,
          161.05392658187165,
          162.41051176591046,
          164.35600774066378,
          166.74072314052057,
          168.24130523395627,
          169.45928596523092,
          171.8914750167917,
          174.24310348055613,
          177.09859112981601,
          179.83436230202045,
          182.00947885026224,
          185.24799665740184,
          186.9802315086774,
          189.69676107652998,
          192.82073490479752,
          196.02057974040432,
          200.81330421196498,
          203.84071685197063,
          208.82619716280226,
          213.39307525807016,
          220.2887772827116,
          227.3448842624174,
          234.9941767417217,
          246.73314832534274,
          262.94824633505135,
          285.8255929827056
         ]
        },
        {
         "marker": {
          "color": "black"
         },
         "mode": "lines",
         "name": "P50",
         "type": "scatter",
         "x": [
          1.01,
          1.02020202020202,
          1.030612244897959,
          1.041237113402062,
          1.0520833333333335,
          1.063157894736842,
          1.074468085106383,
          1.086021505376344,
          1.0978260869565217,
          1.10989010989011,
          1.1222222222222222,
          1.1348314606741572,
          1.1477272727272727,
          1.160919540229885,
          1.1744186046511629,
          1.188235294117647,
          1.2023809523809523,
          1.2168674698795179,
          1.2317073170731707,
          1.2469135802469136,
          1.2625,
          1.2784810126582278,
          1.294871794871795,
          1.3116883116883116,
          1.3289473684210527,
          1.3466666666666667,
          1.364864864864865,
          1.3835616438356164,
          1.402777777777778,
          1.4225352112676057,
          1.442857142857143,
          1.463768115942029,
          1.4852941176470589,
          1.5074626865671643,
          1.5303030303030303,
          1.5538461538461539,
          1.578125,
          1.6031746031746033,
          1.6290322580645162,
          1.6557377049180328,
          1.6833333333333333,
          1.711864406779661,
          1.7413793103448274,
          1.7719298245614032,
          1.8035714285714284,
          1.8363636363636362,
          1.8703703703703702,
          1.9056603773584906,
          1.9423076923076923,
          1.9803921568627452,
          2.02,
          2.061224489795918,
          2.104166666666667,
          2.148936170212766,
          2.1956521739130435,
          2.244444444444445,
          2.295454545454545,
          2.3488372093023253,
          2.4047619047619047,
          2.4634146341463414,
          2.525,
          2.58974358974359,
          2.6578947368421053,
          2.72972972972973,
          2.805555555555556,
          2.885714285714286,
          2.9705882352941178,
          3.060606060606061,
          3.1562500000000004,
          3.2580645161290316,
          3.3666666666666663,
          3.482758620689655,
          3.6071428571428568,
          3.7407407407407405,
          3.8846153846153846,
          4.04,
          4.208333333333334,
          4.391304347826087,
          4.590909090909092,
          4.80952380952381,
          5.050000000000002,
          5.315789473684212,
          5.61111111111111,
          5.941176470588234,
          6.312499999999999,
          6.7333333333333325,
          7.2142857142857135,
          7.769230769230769,
          8.416666666666668,
          9.181818181818183,
          10.100000000000003,
          11.222222222222227,
          12.625000000000007,
          14.42857142857144,
          16.833333333333318,
          20.19999999999998,
          25.24999999999998,
          33.666666666666636,
          50.49999999999996,
          100.99999999999991
         ],
         "y": [
          67.10053800046903,
          73.52734767036002,
          77.6205541119521,
          80.5711617408235,
          83.30402144654997,
          85.55771770530578,
          87.37956409979431,
          89.36407542311744,
          91.02432035920867,
          92.77052800997882,
          94.3396502009486,
          95.84025171150799,
          97.31690980100291,
          98.84478121982451,
          100.05471302223205,
          101.39193889137724,
          102.68439119985928,
          103.90277959822667,
          105.10371775064797,
          106.25939672052621,
          107.43859151905261,
          108.67056839461704,
          109.69876109521512,
          110.74469342338696,
          112.00540736269673,
          113.04558116967858,
          114.18576617975143,
          115.19456711872397,
          116.24631937821643,
          117.4063454150878,
          118.53556689621941,
          119.6464579495375,
          120.78527086823462,
          121.75365308925967,
          122.78976229546106,
          123.82614399129005,
          124.98463328288527,
          126.13009477465997,
          127.10968749631965,
          128.10143892876562,
          129.12591248487604,
          130.3242996845577,
          131.4712009319912,
          132.65895745757186,
          133.719075323188,
          134.65190499068808,
          136.00667229934115,
          137.20228268281284,
          138.37821232384422,
          139.41865873029826,
          140.49388503711202,
          141.78001497187302,
          142.99564389499415,
          144.35298206736036,
          145.42120868854795,
          146.6847271428129,
          147.82424525606524,
          149.1722951642037,
          150.66288431300273,
          152.01346389704162,
          153.63882671138794,
          154.73233767454533,
          156.46737817578656,
          157.98480540946034,
          159.6026669609932,
          160.91779741560478,
          162.4693112843257,
          163.9542662056307,
          165.7012901007307,
          167.38753298287747,
          169.25641117443146,
          170.90122553367885,
          172.65943788712133,
          174.81652286139513,
          176.56616736251186,
          178.45979128386858,
          180.77282880224232,
          183.00988591002834,
          185.6543946681948,
          187.92011999100532,
          190.6321624964659,
          193.58207477773595,
          196.1613606212257,
          198.94921336575388,
          202.2527363751147,
          205.94935865074177,
          209.7961074006257,
          213.90588987244723,
          217.76812387968462,
          221.83363312504463,
          227.70456197026405,
          233.45123628660417,
          239.79183239830508,
          247.2829900441831,
          256.1263102992163,
          267.265139898411,
          280.6154895910332,
          298.92716508178466,
          327.94809906142734,
          379.57104704919414
         ]
        },
        {
         "marker": {
          "color": "red"
         },
         "mode": "markers",
         "name": "Hist",
         "type": "scatter",
         "x": [
          1.0138888888888888,
          1.028169014084507,
          1.0428571428571427,
          1.0579710144927537,
          1.0735294117647058,
          1.0895522388059702,
          1.106060606060606,
          1.123076923076923,
          1.140625,
          1.1587301587301586,
          1.1774193548387095,
          1.1967213114754098,
          1.2166666666666668,
          1.2372881355932204,
          1.2586206896551724,
          1.280701754385965,
          1.3035714285714286,
          1.3272727272727272,
          1.3518518518518516,
          1.3773584905660377,
          1.403846153846154,
          1.4313725490196079,
          1.4599999999999997,
          1.4897959183673468,
          1.5208333333333335,
          1.553191489361702,
          1.5869565217391302,
          1.6222222222222222,
          1.6590909090909092,
          1.697674418604651,
          1.738095238095238,
          1.7804878048780488,
          1.8250000000000002,
          1.8717948717948718,
          1.9210526315789471,
          1.9729729729729728,
          2.0277777777777777,
          2.0857142857142854,
          2.1470588235294117,
          2.212121212121212,
          2.28125,
          2.354838709677419,
          2.4333333333333336,
          2.5172413793103448,
          2.607142857142857,
          2.7037037037037033,
          2.807692307692308,
          2.9199999999999995,
          3.041666666666667,
          3.1739130434782603,
          3.3181818181818183,
          3.476190476190476,
          3.6500000000000004,
          3.8421052631578942,
          4.055555555555555,
          4.2941176470588225,
          4.5625,
          4.866666666666665,
          5.214285714285714,
          5.615384615384614,
          6.083333333333334,
          6.636363636363634,
          7.300000000000001,
          8.111111111111107,
          9.125,
          10.428571428571423,
          12.166666666666668,
          14.599999999999989,
          18.25,
          24.3333333333333,
          36.5,
          72.9999999999997
         ],
         "y": [
          72.9,
          76.2,
          79.8,
          80.8,
          81.5,
          84.3,
          85.6,
          88.1,
          97.3,
          99.8,
          100.6,
          101.3,
          101.6,
          105.4,
          105.4,
          107.7,
          114.6,
          114.8,
          114.8,
          115.1,
          115.6,
          117.6,
          119.1,
          121.4,
          121.9,
          124.7,
          124.7,
          126,
          126.7,
          127.8,
          131.1,
          134.4,
          135.4,
          135.6,
          136.4,
          136.9,
          137.9,
          143.3,
          145.8,
          146.6,
          147.8,
          156.5,
          156.7,
          157,
          157.5,
          159,
          162.1,
          168.4,
          168.7,
          173.5,
          175.5,
          176.8,
          179.3,
          180.6,
          186.2,
          186.4,
          191.8,
          192,
          194.3,
          195.6,
          200.7,
          201.2,
          202.9,
          203.5,
          207.3,
          208.3,
          208.5,
          254.3,
          296.4,
          305.8,
          348.5,
          350
         ]
        }
       ],
       "layout": {
        "height": 500,
        "template": {
         "data": {
          "bar": [
           {
            "error_x": {
             "color": "#2a3f5f"
            },
            "error_y": {
             "color": "#2a3f5f"
            },
            "marker": {
             "line": {
              "color": "#E5ECF6",
              "width": 0.5
             },
             "pattern": {
              "fillmode": "overlay",
              "size": 10,
              "solidity": 0.2
             }
            },
            "type": "bar"
           }
          ],
          "barpolar": [
           {
            "marker": {
             "line": {
              "color": "#E5ECF6",
              "width": 0.5
             },
             "pattern": {
              "fillmode": "overlay",
              "size": 10,
              "solidity": 0.2
             }
            },
            "type": "barpolar"
           }
          ],
          "carpet": [
           {
            "aaxis": {
             "endlinecolor": "#2a3f5f",
             "gridcolor": "white",
             "linecolor": "white",
             "minorgridcolor": "white",
             "startlinecolor": "#2a3f5f"
            },
            "baxis": {
             "endlinecolor": "#2a3f5f",
             "gridcolor": "white",
             "linecolor": "white",
             "minorgridcolor": "white",
             "startlinecolor": "#2a3f5f"
            },
            "type": "carpet"
           }
          ],
          "choropleth": [
           {
            "colorbar": {
             "outlinewidth": 0,
             "ticks": ""
            },
            "type": "choropleth"
           }
          ],
          "contour": [
           {
            "colorbar": {
             "outlinewidth": 0,
             "ticks": ""
            },
            "colorscale": [
             [
              0,
              "#0d0887"
             ],
             [
              0.1111111111111111,
              "#46039f"
             ],
             [
              0.2222222222222222,
              "#7201a8"
             ],
             [
              0.3333333333333333,
              "#9c179e"
             ],
             [
              0.4444444444444444,
              "#bd3786"
             ],
             [
              0.5555555555555556,
              "#d8576b"
             ],
             [
              0.6666666666666666,
              "#ed7953"
             ],
             [
              0.7777777777777778,
              "#fb9f3a"
             ],
             [
              0.8888888888888888,
              "#fdca26"
             ],
             [
              1,
              "#f0f921"
             ]
            ],
            "type": "contour"
           }
          ],
          "contourcarpet": [
           {
            "colorbar": {
             "outlinewidth": 0,
             "ticks": ""
            },
            "type": "contourcarpet"
           }
          ],
          "heatmap": [
           {
            "colorbar": {
             "outlinewidth": 0,
             "ticks": ""
            },
            "colorscale": [
             [
              0,
              "#0d0887"
             ],
             [
              0.1111111111111111,
              "#46039f"
             ],
             [
              0.2222222222222222,
              "#7201a8"
             ],
             [
              0.3333333333333333,
              "#9c179e"
             ],
             [
              0.4444444444444444,
              "#bd3786"
             ],
             [
              0.5555555555555556,
              "#d8576b"
             ],
             [
              0.6666666666666666,
              "#ed7953"
             ],
             [
              0.7777777777777778,
              "#fb9f3a"
             ],
             [
              0.8888888888888888,
              "#fdca26"
             ],
             [
              1,
              "#f0f921"
             ]
            ],
            "type": "heatmap"
           }
          ],
          "heatmapgl": [
           {
            "colorbar": {
             "outlinewidth": 0,
             "ticks": ""
            },
            "colorscale": [
             [
              0,
              "#0d0887"
             ],
             [
              0.1111111111111111,
              "#46039f"
             ],
             [
              0.2222222222222222,
              "#7201a8"
             ],
             [
              0.3333333333333333,
              "#9c179e"
             ],
             [
              0.4444444444444444,
              "#bd3786"
             ],
             [
              0.5555555555555556,
              "#d8576b"
             ],
             [
              0.6666666666666666,
              "#ed7953"
             ],
             [
              0.7777777777777778,
              "#fb9f3a"
             ],
             [
              0.8888888888888888,
              "#fdca26"
             ],
             [
              1,
              "#f0f921"
             ]
            ],
            "type": "heatmapgl"
           }
          ],
          "histogram": [
           {
            "marker": {
             "pattern": {
              "fillmode": "overlay",
              "size": 10,
              "solidity": 0.2
             }
            },
            "type": "histogram"
           }
          ],
          "histogram2d": [
           {
            "colorbar": {
             "outlinewidth": 0,
             "ticks": ""
            },
            "colorscale": [
             [
              0,
              "#0d0887"
             ],
             [
              0.1111111111111111,
              "#46039f"
             ],
             [
              0.2222222222222222,
              "#7201a8"
             ],
             [
              0.3333333333333333,
              "#9c179e"
             ],
             [
              0.4444444444444444,
              "#bd3786"
             ],
             [
              0.5555555555555556,
              "#d8576b"
             ],
             [
              0.6666666666666666,
              "#ed7953"
             ],
             [
              0.7777777777777778,
              "#fb9f3a"
             ],
             [
              0.8888888888888888,
              "#fdca26"
             ],
             [
              1,
              "#f0f921"
             ]
            ],
            "type": "histogram2d"
           }
          ],
          "histogram2dcontour": [
           {
            "colorbar": {
             "outlinewidth": 0,
             "ticks": ""
            },
            "colorscale": [
             [
              0,
              "#0d0887"
             ],
             [
              0.1111111111111111,
              "#46039f"
             ],
             [
              0.2222222222222222,
              "#7201a8"
             ],
             [
              0.3333333333333333,
              "#9c179e"
             ],
             [
              0.4444444444444444,
              "#bd3786"
             ],
             [
              0.5555555555555556,
              "#d8576b"
             ],
             [
              0.6666666666666666,
              "#ed7953"
             ],
             [
              0.7777777777777778,
              "#fb9f3a"
             ],
             [
              0.8888888888888888,
              "#fdca26"
             ],
             [
              1,
              "#f0f921"
             ]
            ],
            "type": "histogram2dcontour"
           }
          ],
          "mesh3d": [
           {
            "colorbar": {
             "outlinewidth": 0,
             "ticks": ""
            },
            "type": "mesh3d"
           }
          ],
          "parcoords": [
           {
            "line": {
             "colorbar": {
              "outlinewidth": 0,
              "ticks": ""
             }
            },
            "type": "parcoords"
           }
          ],
          "pie": [
           {
            "automargin": true,
            "type": "pie"
           }
          ],
          "scatter": [
           {
            "fillpattern": {
             "fillmode": "overlay",
             "size": 10,
             "solidity": 0.2
            },
            "type": "scatter"
           }
          ],
          "scatter3d": [
           {
            "line": {
             "colorbar": {
              "outlinewidth": 0,
              "ticks": ""
             }
            },
            "marker": {
             "colorbar": {
              "outlinewidth": 0,
              "ticks": ""
             }
            },
            "type": "scatter3d"
           }
          ],
          "scattercarpet": [
           {
            "marker": {
             "colorbar": {
              "outlinewidth": 0,
              "ticks": ""
             }
            },
            "type": "scattercarpet"
           }
          ],
          "scattergeo": [
           {
            "marker": {
             "colorbar": {
              "outlinewidth": 0,
              "ticks": ""
             }
            },
            "type": "scattergeo"
           }
          ],
          "scattergl": [
           {
            "marker": {
             "colorbar": {
              "outlinewidth": 0,
              "ticks": ""
             }
            },
            "type": "scattergl"
           }
          ],
          "scattermapbox": [
           {
            "marker": {
             "colorbar": {
              "outlinewidth": 0,
              "ticks": ""
             }
            },
            "type": "scattermapbox"
           }
          ],
          "scatterpolar": [
           {
            "marker": {
             "colorbar": {
              "outlinewidth": 0,
              "ticks": ""
             }
            },
            "type": "scatterpolar"
           }
          ],
          "scatterpolargl": [
           {
            "marker": {
             "colorbar": {
              "outlinewidth": 0,
              "ticks": ""
             }
            },
            "type": "scatterpolargl"
           }
          ],
          "scatterternary": [
           {
            "marker": {
             "colorbar": {
              "outlinewidth": 0,
              "ticks": ""
             }
            },
            "type": "scatterternary"
           }
          ],
          "surface": [
           {
            "colorbar": {
             "outlinewidth": 0,
             "ticks": ""
            },
            "colorscale": [
             [
              0,
              "#0d0887"
             ],
             [
              0.1111111111111111,
              "#46039f"
             ],
             [
              0.2222222222222222,
              "#7201a8"
             ],
             [
              0.3333333333333333,
              "#9c179e"
             ],
             [
              0.4444444444444444,
              "#bd3786"
             ],
             [
              0.5555555555555556,
              "#d8576b"
             ],
             [
              0.6666666666666666,
              "#ed7953"
             ],
             [
              0.7777777777777778,
              "#fb9f3a"
             ],
             [
              0.8888888888888888,
              "#fdca26"
             ],
             [
              1,
              "#f0f921"
             ]
            ],
            "type": "surface"
           }
          ],
          "table": [
           {
            "cells": {
             "fill": {
              "color": "#EBF0F8"
             },
             "line": {
              "color": "white"
             }
            },
            "header": {
             "fill": {
              "color": "#C8D4E3"
             },
             "line": {
              "color": "white"
             }
            },
            "type": "table"
           }
          ]
         },
         "layout": {
          "annotationdefaults": {
           "arrowcolor": "#2a3f5f",
           "arrowhead": 0,
           "arrowwidth": 1
          },
          "autotypenumbers": "strict",
          "coloraxis": {
           "colorbar": {
            "outlinewidth": 0,
            "ticks": ""
           }
          },
          "colorscale": {
           "diverging": [
            [
             0,
             "#8e0152"
            ],
            [
             0.1,
             "#c51b7d"
            ],
            [
             0.2,
             "#de77ae"
            ],
            [
             0.3,
             "#f1b6da"
            ],
            [
             0.4,
             "#fde0ef"
            ],
            [
             0.5,
             "#f7f7f7"
            ],
            [
             0.6,
             "#e6f5d0"
            ],
            [
             0.7,
             "#b8e186"
            ],
            [
             0.8,
             "#7fbc41"
            ],
            [
             0.9,
             "#4d9221"
            ],
            [
             1,
             "#276419"
            ]
           ],
           "sequential": [
            [
             0,
             "#0d0887"
            ],
            [
             0.1111111111111111,
             "#46039f"
            ],
            [
             0.2222222222222222,
             "#7201a8"
            ],
            [
             0.3333333333333333,
             "#9c179e"
            ],
            [
             0.4444444444444444,
             "#bd3786"
            ],
            [
             0.5555555555555556,
             "#d8576b"
            ],
            [
             0.6666666666666666,
             "#ed7953"
            ],
            [
             0.7777777777777778,
             "#fb9f3a"
            ],
            [
             0.8888888888888888,
             "#fdca26"
            ],
            [
             1,
             "#f0f921"
            ]
           ],
           "sequentialminus": [
            [
             0,
             "#0d0887"
            ],
            [
             0.1111111111111111,
             "#46039f"
            ],
            [
             0.2222222222222222,
             "#7201a8"
            ],
            [
             0.3333333333333333,
             "#9c179e"
            ],
            [
             0.4444444444444444,
             "#bd3786"
            ],
            [
             0.5555555555555556,
             "#d8576b"
            ],
            [
             0.6666666666666666,
             "#ed7953"
            ],
            [
             0.7777777777777778,
             "#fb9f3a"
            ],
            [
             0.8888888888888888,
             "#fdca26"
            ],
            [
             1,
             "#f0f921"
            ]
           ]
          },
          "colorway": [
           "#636efa",
           "#EF553B",
           "#00cc96",
           "#ab63fa",
           "#FFA15A",
           "#19d3f3",
           "#FF6692",
           "#B6E880",
           "#FF97FF",
           "#FECB52"
          ],
          "font": {
           "color": "#2a3f5f"
          },
          "geo": {
           "bgcolor": "white",
           "lakecolor": "white",
           "landcolor": "#E5ECF6",
           "showlakes": true,
           "showland": true,
           "subunitcolor": "white"
          },
          "hoverlabel": {
           "align": "left"
          },
          "hovermode": "closest",
          "mapbox": {
           "style": "light"
          },
          "paper_bgcolor": "white",
          "plot_bgcolor": "#E5ECF6",
          "polar": {
           "angularaxis": {
            "gridcolor": "white",
            "linecolor": "white",
            "ticks": ""
           },
           "bgcolor": "#E5ECF6",
           "radialaxis": {
            "gridcolor": "white",
            "linecolor": "white",
            "ticks": ""
           }
          },
          "scene": {
           "xaxis": {
            "backgroundcolor": "#E5ECF6",
            "gridcolor": "white",
            "gridwidth": 2,
            "linecolor": "white",
            "showbackground": true,
            "ticks": "",
            "zerolinecolor": "white"
           },
           "yaxis": {
            "backgroundcolor": "#E5ECF6",
            "gridcolor": "white",
            "gridwidth": 2,
            "linecolor": "white",
            "showbackground": true,
            "ticks": "",
            "zerolinecolor": "white"
           },
           "zaxis": {
            "backgroundcolor": "#E5ECF6",
            "gridcolor": "white",
            "gridwidth": 2,
            "linecolor": "white",
            "showbackground": true,
            "ticks": "",
            "zerolinecolor": "white"
           }
          },
          "shapedefaults": {
           "line": {
            "color": "#2a3f5f"
           }
          },
          "ternary": {
           "aaxis": {
            "gridcolor": "white",
            "linecolor": "white",
            "ticks": ""
           },
           "baxis": {
            "gridcolor": "white",
            "linecolor": "white",
            "ticks": ""
           },
           "bgcolor": "#E5ECF6",
           "caxis": {
            "gridcolor": "white",
            "linecolor": "white",
            "ticks": ""
           }
          },
          "title": {
           "x": 0.05
          },
          "xaxis": {
           "automargin": true,
           "gridcolor": "white",
           "linecolor": "white",
           "ticks": "",
           "title": {
            "standoff": 15
           },
           "zerolinecolor": "white",
           "zerolinewidth": 2
          },
          "yaxis": {
           "automargin": true,
           "gridcolor": "white",
           "linecolor": "white",
           "ticks": "",
           "title": {
            "standoff": 15
           },
           "zerolinecolor": "white",
           "zerolinewidth": 2
          }
         }
        },
        "title": {
         "text": "Annual Maxima"
        },
        "width": 800,
        "xaxis": {
         "title": {
          "text": "Return Period (years)"
         },
         "type": "log"
        },
        "yaxis": {
         "title": {
          "text": "Precipitation (mm/d)"
         }
        }
       }
      }
     },
     "metadata": {},
     "output_type": "display_data"
    }
   ],
   "source": [
    "fig = go.Figure()\n",
    "fig.add_trace(go.Scatter(x=trp_sim, y=p95, mode='lines', name='P95', marker_color='mediumturquoise'))\n",
    "fig.add_trace(go.Scatter(x=trp_sim, y=p05, mode='lines', name='P05', marker_color='mediumturquoise',  fill='tonexty', fillcolor='rgba(0, 181, 204, 0.10)'))\n",
    "fig.add_trace(go.Scatter(x=trp_sim, y=p50, mode='lines', name='P50', marker_color='black'))\n",
    "fig.add_trace(go.Scatter(x=trp_hist, y=trp_hist_val, mode='markers', name='Hist', marker_color='red'))\n",
    "\n",
    "\n",
    "fig.update_xaxes(type=\"log\")\n",
    "fig.update_layout(    \n",
    "    xaxis_title = \"Return Period (years)\",\n",
    "    yaxis_title = \"Precipitation (mm/d)\",\n",
    "    title = 'Annual Maxima',\n",
    "    width=800, height=500\n",
    ")\n",
    "fig.show()"
   ]
  },
  {
   "cell_type": "code",
   "execution_count": null,
   "metadata": {},
   "outputs": [],
   "source": []
  }
 ],
 "metadata": {
  "kernelspec": {
   "display_name": "cc_indicators",
   "language": "python",
   "name": "python3"
  },
  "language_info": {
   "codemirror_mode": {
    "name": "ipython",
    "version": 3
   },
   "file_extension": ".py",
   "mimetype": "text/x-python",
   "name": "python",
   "nbconvert_exporter": "python",
   "pygments_lexer": "ipython3",
   "version": "3.12.0"
  }
 },
 "nbformat": 4,
 "nbformat_minor": 2
}
